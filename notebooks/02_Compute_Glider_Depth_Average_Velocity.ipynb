{
 "cells": [
  {
   "cell_type": "markdown",
   "id": "e4e161f8",
   "metadata": {},
   "source": [
    "# Computation of Glider Depth Averaged Velocity\n",
    "\n",
    "jgradone@marine.rutgers.edu     01/11/2022    Initial\n",
    "\n",
    "This Jupyter Notebook is intended to compute depth averaged velocity per glider segment in a similar manner to Teledyne Webb Research's proprietary algorithm but by utilizing additional more accurate sensors.\n",
    "\n",
    "**The Depth Averaged Velocity Computed here uses:**<br>\n",
    "1) Pressure from the glider CTD <br>\n",
    "2) GPS from the glider <br>\n",
    "3) Pitch and heading from the Nortek AD2CP AHRS <br>\n",
    "\n",
    "*Details/comments on what the functions are actually doing in the source code*"
   ]
  },
  {
   "cell_type": "code",
   "execution_count": null,
   "id": "1fb248f0",
   "metadata": {},
   "outputs": [],
   "source": []
  },
  {
   "cell_type": "code",
   "execution_count": null,
   "id": "e3b44397",
   "metadata": {},
   "outputs": [],
   "source": []
  },
  {
   "cell_type": "code",
   "execution_count": null,
   "id": "76da2d0d",
   "metadata": {},
   "outputs": [],
   "source": []
  },
  {
   "cell_type": "code",
   "execution_count": null,
   "id": "1f0ed35c",
   "metadata": {},
   "outputs": [],
   "source": []
  },
  {
   "cell_type": "code",
   "execution_count": null,
   "id": "15fccb32",
   "metadata": {},
   "outputs": [],
   "source": []
  },
  {
   "cell_type": "code",
   "execution_count": null,
   "id": "31295cda",
   "metadata": {},
   "outputs": [],
   "source": []
  },
  {
   "cell_type": "code",
   "execution_count": null,
   "id": "46b5959a",
   "metadata": {},
   "outputs": [],
   "source": []
  }
 ],
 "metadata": {
  "kernelspec": {
   "display_name": "Python 3 (ipykernel)",
   "language": "python",
   "name": "python3"
  },
  "language_info": {
   "codemirror_mode": {
    "name": "ipython",
    "version": 3
   },
   "file_extension": ".py",
   "mimetype": "text/x-python",
   "name": "python",
   "nbconvert_exporter": "python",
   "pygments_lexer": "ipython3",
   "version": "3.8.12"
  }
 },
 "nbformat": 4,
 "nbformat_minor": 5
}
