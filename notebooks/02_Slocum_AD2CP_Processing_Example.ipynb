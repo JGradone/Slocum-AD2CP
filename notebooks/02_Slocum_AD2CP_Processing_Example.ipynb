{
 "cells": [
  {
   "cell_type": "markdown",
   "id": "8724034c-0985-48f1-a85f-b53aea1162b9",
   "metadata": {},
   "source": [
    "# Example of a full processing workflow for Slocum glider AD2CP data"
   ]
  },
  {
   "cell_type": "markdown",
   "id": "b2b639e5-b8f2-45b3-9c52-5a523a886f58",
   "metadata": {},
   "source": [
    "## Imports"
   ]
  },
  {
   "cell_type": "code",
   "execution_count": 1,
   "id": "b6fb309f-c9f3-4e8e-af7b-533898197819",
   "metadata": {},
   "outputs": [],
   "source": [
    "# Imports\n",
    "import numpy as np\n",
    "import pandas as pd\n",
    "import glob\n",
    "import datetime\n",
    "import xarray as xr\n",
    "import gsw\n",
    "import matplotlib.pyplot as plt\n",
    "from datetime import datetime\n",
    "import dask.array as da\n",
    "import slocum_ad2cp\n"
   ]
  },
  {
   "cell_type": "markdown",
   "id": "f6740a3e-82a8-42cf-83ce-d8b11c5d15b3",
   "metadata": {},
   "source": [
    "## Step 1: Load Glider Data"
   ]
  },
  {
   "cell_type": "code",
   "execution_count": 2,
   "id": "c14f5cc4-fbab-4183-b866-4b7b4f2ce594",
   "metadata": {},
   "outputs": [
    {
     "data": {
      "text/html": [
       "<div>\n",
       "<style scoped>\n",
       "    .dataframe tbody tr th:only-of-type {\n",
       "        vertical-align: middle;\n",
       "    }\n",
       "\n",
       "    .dataframe tbody tr th {\n",
       "        vertical-align: top;\n",
       "    }\n",
       "\n",
       "    .dataframe thead th {\n",
       "        text-align: right;\n",
       "    }\n",
       "</style>\n",
       "<table border=\"1\" class=\"dataframe\">\n",
       "  <thead>\n",
       "    <tr style=\"text-align: right;\">\n",
       "      <th></th>\n",
       "      <th>depth</th>\n",
       "      <th>latitude</th>\n",
       "      <th>longitude</th>\n",
       "      <th>time</th>\n",
       "      <th>source_file</th>\n",
       "      <th>m_water_vx</th>\n",
       "      <th>m_water_vy</th>\n",
       "      <th>m_heading</th>\n",
       "      <th>m_gps_mag_var</th>\n",
       "    </tr>\n",
       "  </thead>\n",
       "  <tbody>\n",
       "    <tr>\n",
       "      <th>0</th>\n",
       "      <td>0.000000</td>\n",
       "      <td>17.779262</td>\n",
       "      <td>-67.057948</td>\n",
       "      <td>2024-04-19 14:30:28+00:00</td>\n",
       "      <td>ru29-2024-109-2-0-dbd(06930000)</td>\n",
       "      <td>NaN</td>\n",
       "      <td>NaN</td>\n",
       "      <td>NaN</td>\n",
       "      <td>NaN</td>\n",
       "    </tr>\n",
       "    <tr>\n",
       "      <th>1</th>\n",
       "      <td>NaN</td>\n",
       "      <td>17.779262</td>\n",
       "      <td>-67.057948</td>\n",
       "      <td>2024-04-19 14:30:31+00:00</td>\n",
       "      <td>ru29-2024-109-2-0-dbd(06930000)</td>\n",
       "      <td>0.0</td>\n",
       "      <td>0.0</td>\n",
       "      <td>130.305985</td>\n",
       "      <td>12.40001</td>\n",
       "    </tr>\n",
       "    <tr>\n",
       "      <th>2</th>\n",
       "      <td>0.000000</td>\n",
       "      <td>17.779262</td>\n",
       "      <td>-67.057948</td>\n",
       "      <td>2024-04-19 14:30:32+00:00</td>\n",
       "      <td>ru29-2024-109-2-0-dbd(06930000)</td>\n",
       "      <td>NaN</td>\n",
       "      <td>NaN</td>\n",
       "      <td>NaN</td>\n",
       "      <td>NaN</td>\n",
       "    </tr>\n",
       "    <tr>\n",
       "      <th>3</th>\n",
       "      <td>NaN</td>\n",
       "      <td>17.779262</td>\n",
       "      <td>-67.057948</td>\n",
       "      <td>2024-04-19 14:31:29+00:00</td>\n",
       "      <td>ru29-2024-109-2-0-dbd(06930000)</td>\n",
       "      <td>0.0</td>\n",
       "      <td>0.0</td>\n",
       "      <td>130.305985</td>\n",
       "      <td>12.40001</td>\n",
       "    </tr>\n",
       "    <tr>\n",
       "      <th>4</th>\n",
       "      <td>NaN</td>\n",
       "      <td>17.779350</td>\n",
       "      <td>-67.057945</td>\n",
       "      <td>2024-04-19 14:31:49+00:00</td>\n",
       "      <td>ru29-2024-109-2-0-dbd(06930000)</td>\n",
       "      <td>NaN</td>\n",
       "      <td>NaN</td>\n",
       "      <td>NaN</td>\n",
       "      <td>NaN</td>\n",
       "    </tr>\n",
       "    <tr>\n",
       "      <th>...</th>\n",
       "      <td>...</td>\n",
       "      <td>...</td>\n",
       "      <td>...</td>\n",
       "      <td>...</td>\n",
       "      <td>...</td>\n",
       "      <td>...</td>\n",
       "      <td>...</td>\n",
       "      <td>...</td>\n",
       "      <td>...</td>\n",
       "    </tr>\n",
       "    <tr>\n",
       "      <th>7446400</th>\n",
       "      <td>0.099413</td>\n",
       "      <td>15.649022</td>\n",
       "      <td>-68.998793</td>\n",
       "      <td>2024-07-02 09:09:13+00:00</td>\n",
       "      <td>ru29-2024-182-1-9-dbd(07060009)</td>\n",
       "      <td>NaN</td>\n",
       "      <td>NaN</td>\n",
       "      <td>NaN</td>\n",
       "      <td>NaN</td>\n",
       "    </tr>\n",
       "    <tr>\n",
       "      <th>7446401</th>\n",
       "      <td>0.089471</td>\n",
       "      <td>15.649022</td>\n",
       "      <td>-68.998793</td>\n",
       "      <td>2024-07-02 09:09:15+00:00</td>\n",
       "      <td>ru29-2024-182-1-9-dbd(07060009)</td>\n",
       "      <td>NaN</td>\n",
       "      <td>NaN</td>\n",
       "      <td>NaN</td>\n",
       "      <td>NaN</td>\n",
       "    </tr>\n",
       "    <tr>\n",
       "      <th>7446402</th>\n",
       "      <td>-0.049706</td>\n",
       "      <td>15.649022</td>\n",
       "      <td>-68.998793</td>\n",
       "      <td>2024-07-02 09:09:17+00:00</td>\n",
       "      <td>ru29-2024-182-1-9-dbd(07060009)</td>\n",
       "      <td>NaN</td>\n",
       "      <td>NaN</td>\n",
       "      <td>NaN</td>\n",
       "      <td>NaN</td>\n",
       "    </tr>\n",
       "    <tr>\n",
       "      <th>7446403</th>\n",
       "      <td>-0.019883</td>\n",
       "      <td>15.649022</td>\n",
       "      <td>-68.998793</td>\n",
       "      <td>2024-07-02 09:09:19+00:00</td>\n",
       "      <td>ru29-2024-182-1-9-dbd(07060009)</td>\n",
       "      <td>NaN</td>\n",
       "      <td>NaN</td>\n",
       "      <td>NaN</td>\n",
       "      <td>NaN</td>\n",
       "    </tr>\n",
       "    <tr>\n",
       "      <th>7446404</th>\n",
       "      <td>0.099413</td>\n",
       "      <td>15.649022</td>\n",
       "      <td>-68.998793</td>\n",
       "      <td>2024-07-02 09:09:21+00:00</td>\n",
       "      <td>ru29-2024-182-1-9-dbd(07060009)</td>\n",
       "      <td>NaN</td>\n",
       "      <td>NaN</td>\n",
       "      <td>NaN</td>\n",
       "      <td>NaN</td>\n",
       "    </tr>\n",
       "  </tbody>\n",
       "</table>\n",
       "<p>7446405 rows × 9 columns</p>\n",
       "</div>"
      ],
      "text/plain": [
       "            depth   latitude  longitude                      time  \\\n",
       "0        0.000000  17.779262 -67.057948 2024-04-19 14:30:28+00:00   \n",
       "1             NaN  17.779262 -67.057948 2024-04-19 14:30:31+00:00   \n",
       "2        0.000000  17.779262 -67.057948 2024-04-19 14:30:32+00:00   \n",
       "3             NaN  17.779262 -67.057948 2024-04-19 14:31:29+00:00   \n",
       "4             NaN  17.779350 -67.057945 2024-04-19 14:31:49+00:00   \n",
       "...           ...        ...        ...                       ...   \n",
       "7446400  0.099413  15.649022 -68.998793 2024-07-02 09:09:13+00:00   \n",
       "7446401  0.089471  15.649022 -68.998793 2024-07-02 09:09:15+00:00   \n",
       "7446402 -0.049706  15.649022 -68.998793 2024-07-02 09:09:17+00:00   \n",
       "7446403 -0.019883  15.649022 -68.998793 2024-07-02 09:09:19+00:00   \n",
       "7446404  0.099413  15.649022 -68.998793 2024-07-02 09:09:21+00:00   \n",
       "\n",
       "                             source_file  m_water_vx  m_water_vy   m_heading  \\\n",
       "0        ru29-2024-109-2-0-dbd(06930000)         NaN         NaN         NaN   \n",
       "1        ru29-2024-109-2-0-dbd(06930000)         0.0         0.0  130.305985   \n",
       "2        ru29-2024-109-2-0-dbd(06930000)         NaN         NaN         NaN   \n",
       "3        ru29-2024-109-2-0-dbd(06930000)         0.0         0.0  130.305985   \n",
       "4        ru29-2024-109-2-0-dbd(06930000)         NaN         NaN         NaN   \n",
       "...                                  ...         ...         ...         ...   \n",
       "7446400  ru29-2024-182-1-9-dbd(07060009)         NaN         NaN         NaN   \n",
       "7446401  ru29-2024-182-1-9-dbd(07060009)         NaN         NaN         NaN   \n",
       "7446402  ru29-2024-182-1-9-dbd(07060009)         NaN         NaN         NaN   \n",
       "7446403  ru29-2024-182-1-9-dbd(07060009)         NaN         NaN         NaN   \n",
       "7446404  ru29-2024-182-1-9-dbd(07060009)         NaN         NaN         NaN   \n",
       "\n",
       "         m_gps_mag_var  \n",
       "0                  NaN  \n",
       "1             12.40001  \n",
       "2                  NaN  \n",
       "3             12.40001  \n",
       "4                  NaN  \n",
       "...                ...  \n",
       "7446400            NaN  \n",
       "7446401            NaN  \n",
       "7446402            NaN  \n",
       "7446403            NaN  \n",
       "7446404            NaN  \n",
       "\n",
       "[7446405 rows x 9 columns]"
      ]
     },
     "execution_count": 2,
     "metadata": {},
     "output_type": "execute_result"
    }
   ],
   "source": [
    "ds_id = 'ru29-20240419T1430-trajectory-raw-delayed'\n",
    "\n",
    "## Load flight data\n",
    "variables = ['depth', 'latitude', 'longitude', 'time','source_file', 'm_water_vx', 'm_water_vy', 'm_heading','m_gps_mag_var']\n",
    "gdf = slocum_ad2cp.get_erddap_dataset(ds_id, server='http://slocum-data.marine.rutgers.edu/erddap', variables = variables, filetype='dataframe')\n",
    "gdf.columns = variables\n",
    "\n",
    "## Great way to find start and end times!!\n",
    "start_times = gdf.groupby('source_file').first().time.values\n",
    "end_times   = gdf.groupby('source_file').last().time.values\n",
    "## Remove time zone for slicing ad2cp times\n",
    "start_times2 = pd.to_datetime(start_times).tz_localize(None)\n",
    "end_times2 = pd.to_datetime(end_times).tz_localize(None)\n",
    "gdf['time'] = pd.to_datetime(gdf.time)\n",
    "## Convert magnetic variation and heading to degrees\n",
    "gdf['m_gps_mag_var'] = np.rad2deg(gdf['m_gps_mag_var'].values)\n",
    "gdf['m_heading'] = np.rad2deg(gdf['m_heading'].values)\n",
    "## Correct heading for magnetic variation\n",
    "gdf['m_heading'] = gdf.m_heading-np.nanmean(gdf.m_gps_mag_var)\n",
    "\n",
    "gdf"
   ]
  },
  {
   "cell_type": "markdown",
   "id": "6dbcf2f5-cb0c-4939-bbf4-1eae9f571215",
   "metadata": {},
   "source": [
    "## Step 2: Load in AD2CP data frame\n",
    "\n",
    "To download test data (266 MB), from the main slocum_ad2cp directory do the following:<br>\n",
    "1) `curl -L \"https://rutgers.box.com/shared/static/597hp2xyqe4msp3xyx0t3fluueh3khtr\" -o raw_data.zip` <br><br>\n",
    "2) `unzip raw_data.zip`\n"
   ]
  },
  {
   "cell_type": "code",
   "execution_count": 3,
   "id": "fe8c5c16-d3aa-4b9e-8f68-ed0e43147157",
   "metadata": {},
   "outputs": [
    {
     "name": "stderr",
     "output_type": "stream",
     "text": [
      "/Users/joegradone/SynologyDrive/Drive/Rutgers/Research/code/GitHub/Slocum-AD2CP/src/slocum_ad2cp/make_dataset.py:857: FutureWarning: In a future version of xarray decode_timedelta will default to False rather than None. To silence this warning, set decode_timedelta to True, False, or a 'CFTimedeltaCoder' instance.\n",
      "  ds = xr.open_mfdataset(\n",
      "/Users/joegradone/SynologyDrive/Drive/Rutgers/Research/code/GitHub/Slocum-AD2CP/src/slocum_ad2cp/make_dataset.py:857: FutureWarning: In a future version of xarray decode_timedelta will default to False rather than None. To silence this warning, set decode_timedelta to True, False, or a 'CFTimedeltaCoder' instance.\n",
      "  ds = xr.open_mfdataset(\n",
      "/Users/joegradone/SynologyDrive/Drive/Rutgers/Research/code/GitHub/Slocum-AD2CP/src/slocum_ad2cp/make_dataset.py:857: FutureWarning: In a future version of xarray decode_timedelta will default to False rather than None. To silence this warning, set decode_timedelta to True, False, or a 'CFTimedeltaCoder' instance.\n",
      "  ds = xr.open_mfdataset(\n",
      "/Users/joegradone/SynologyDrive/Drive/Rutgers/Research/code/GitHub/Slocum-AD2CP/src/slocum_ad2cp/make_dataset.py:857: FutureWarning: In a future version of xarray decode_timedelta will default to False rather than None. To silence this warning, set decode_timedelta to True, False, or a 'CFTimedeltaCoder' instance.\n",
      "  ds = xr.open_mfdataset(\n",
      "/Users/joegradone/SynologyDrive/Drive/Rutgers/Research/code/GitHub/Slocum-AD2CP/src/slocum_ad2cp/make_dataset.py:857: FutureWarning: In a future version of xarray decode_timedelta will default to False rather than None. To silence this warning, set decode_timedelta to True, False, or a 'CFTimedeltaCoder' instance.\n",
      "  ds = xr.open_mfdataset(\n",
      "/Users/joegradone/SynologyDrive/Drive/Rutgers/Research/code/GitHub/Slocum-AD2CP/src/slocum_ad2cp/make_dataset.py:857: FutureWarning: In a future version of xarray decode_timedelta will default to False rather than None. To silence this warning, set decode_timedelta to True, False, or a 'CFTimedeltaCoder' instance.\n",
      "  ds = xr.open_mfdataset(\n",
      "/Users/joegradone/SynologyDrive/Drive/Rutgers/Research/code/GitHub/Slocum-AD2CP/src/slocum_ad2cp/make_dataset.py:857: FutureWarning: In a future version of xarray decode_timedelta will default to False rather than None. To silence this warning, set decode_timedelta to True, False, or a 'CFTimedeltaCoder' instance.\n",
      "  ds = xr.open_mfdataset(\n"
     ]
    },
    {
     "data": {
      "text/html": [
       "<div><svg style=\"position: absolute; width: 0; height: 0; overflow: hidden\">\n",
       "<defs>\n",
       "<symbol id=\"icon-database\" viewBox=\"0 0 32 32\">\n",
       "<path d=\"M16 0c-8.837 0-16 2.239-16 5v4c0 2.761 7.163 5 16 5s16-2.239 16-5v-4c0-2.761-7.163-5-16-5z\"></path>\n",
       "<path d=\"M16 17c-8.837 0-16-2.239-16-5v6c0 2.761 7.163 5 16 5s16-2.239 16-5v-6c0 2.761-7.163 5-16 5z\"></path>\n",
       "<path d=\"M16 26c-8.837 0-16-2.239-16-5v6c0 2.761 7.163 5 16 5s16-2.239 16-5v-6c0 2.761-7.163 5-16 5z\"></path>\n",
       "</symbol>\n",
       "<symbol id=\"icon-file-text2\" viewBox=\"0 0 32 32\">\n",
       "<path d=\"M28.681 7.159c-0.694-0.947-1.662-2.053-2.724-3.116s-2.169-2.030-3.116-2.724c-1.612-1.182-2.393-1.319-2.841-1.319h-15.5c-1.378 0-2.5 1.121-2.5 2.5v27c0 1.378 1.122 2.5 2.5 2.5h23c1.378 0 2.5-1.122 2.5-2.5v-19.5c0-0.448-0.137-1.23-1.319-2.841zM24.543 5.457c0.959 0.959 1.712 1.825 2.268 2.543h-4.811v-4.811c0.718 0.556 1.584 1.309 2.543 2.268zM28 29.5c0 0.271-0.229 0.5-0.5 0.5h-23c-0.271 0-0.5-0.229-0.5-0.5v-27c0-0.271 0.229-0.5 0.5-0.5 0 0 15.499-0 15.5 0v7c0 0.552 0.448 1 1 1h7v19.5z\"></path>\n",
       "<path d=\"M23 26h-14c-0.552 0-1-0.448-1-1s0.448-1 1-1h14c0.552 0 1 0.448 1 1s-0.448 1-1 1z\"></path>\n",
       "<path d=\"M23 22h-14c-0.552 0-1-0.448-1-1s0.448-1 1-1h14c0.552 0 1 0.448 1 1s-0.448 1-1 1z\"></path>\n",
       "<path d=\"M23 18h-14c-0.552 0-1-0.448-1-1s0.448-1 1-1h14c0.552 0 1 0.448 1 1s-0.448 1-1 1z\"></path>\n",
       "</symbol>\n",
       "</defs>\n",
       "</svg>\n",
       "<style>/* CSS stylesheet for displaying xarray objects in jupyterlab.\n",
       " *\n",
       " */\n",
       "\n",
       ":root {\n",
       "  --xr-font-color0: var(--jp-content-font-color0, rgba(0, 0, 0, 1));\n",
       "  --xr-font-color2: var(--jp-content-font-color2, rgba(0, 0, 0, 0.54));\n",
       "  --xr-font-color3: var(--jp-content-font-color3, rgba(0, 0, 0, 0.38));\n",
       "  --xr-border-color: var(--jp-border-color2, #e0e0e0);\n",
       "  --xr-disabled-color: var(--jp-layout-color3, #bdbdbd);\n",
       "  --xr-background-color: var(--jp-layout-color0, white);\n",
       "  --xr-background-color-row-even: var(--jp-layout-color1, white);\n",
       "  --xr-background-color-row-odd: var(--jp-layout-color2, #eeeeee);\n",
       "}\n",
       "\n",
       "html[theme=\"dark\"],\n",
       "html[data-theme=\"dark\"],\n",
       "body[data-theme=\"dark\"],\n",
       "body.vscode-dark {\n",
       "  --xr-font-color0: rgba(255, 255, 255, 1);\n",
       "  --xr-font-color2: rgba(255, 255, 255, 0.54);\n",
       "  --xr-font-color3: rgba(255, 255, 255, 0.38);\n",
       "  --xr-border-color: #1f1f1f;\n",
       "  --xr-disabled-color: #515151;\n",
       "  --xr-background-color: #111111;\n",
       "  --xr-background-color-row-even: #111111;\n",
       "  --xr-background-color-row-odd: #313131;\n",
       "}\n",
       "\n",
       ".xr-wrap {\n",
       "  display: block !important;\n",
       "  min-width: 300px;\n",
       "  max-width: 700px;\n",
       "}\n",
       "\n",
       ".xr-text-repr-fallback {\n",
       "  /* fallback to plain text repr when CSS is not injected (untrusted notebook) */\n",
       "  display: none;\n",
       "}\n",
       "\n",
       ".xr-header {\n",
       "  padding-top: 6px;\n",
       "  padding-bottom: 6px;\n",
       "  margin-bottom: 4px;\n",
       "  border-bottom: solid 1px var(--xr-border-color);\n",
       "}\n",
       "\n",
       ".xr-header > div,\n",
       ".xr-header > ul {\n",
       "  display: inline;\n",
       "  margin-top: 0;\n",
       "  margin-bottom: 0;\n",
       "}\n",
       "\n",
       ".xr-obj-type,\n",
       ".xr-array-name {\n",
       "  margin-left: 2px;\n",
       "  margin-right: 10px;\n",
       "}\n",
       "\n",
       ".xr-obj-type {\n",
       "  color: var(--xr-font-color2);\n",
       "}\n",
       "\n",
       ".xr-sections {\n",
       "  padding-left: 0 !important;\n",
       "  display: grid;\n",
       "  grid-template-columns: 150px auto auto 1fr 0 20px 0 20px;\n",
       "}\n",
       "\n",
       ".xr-section-item {\n",
       "  display: contents;\n",
       "}\n",
       "\n",
       ".xr-section-item input {\n",
       "  display: inline-block;\n",
       "  opacity: 0;\n",
       "  height: 0;\n",
       "}\n",
       "\n",
       ".xr-section-item input + label {\n",
       "  color: var(--xr-disabled-color);\n",
       "}\n",
       "\n",
       ".xr-section-item input:enabled + label {\n",
       "  cursor: pointer;\n",
       "  color: var(--xr-font-color2);\n",
       "}\n",
       "\n",
       ".xr-section-item input:focus + label {\n",
       "  border: 2px solid var(--xr-font-color0);\n",
       "}\n",
       "\n",
       ".xr-section-item input:enabled + label:hover {\n",
       "  color: var(--xr-font-color0);\n",
       "}\n",
       "\n",
       ".xr-section-summary {\n",
       "  grid-column: 1;\n",
       "  color: var(--xr-font-color2);\n",
       "  font-weight: 500;\n",
       "}\n",
       "\n",
       ".xr-section-summary > span {\n",
       "  display: inline-block;\n",
       "  padding-left: 0.5em;\n",
       "}\n",
       "\n",
       ".xr-section-summary-in:disabled + label {\n",
       "  color: var(--xr-font-color2);\n",
       "}\n",
       "\n",
       ".xr-section-summary-in + label:before {\n",
       "  display: inline-block;\n",
       "  content: \"►\";\n",
       "  font-size: 11px;\n",
       "  width: 15px;\n",
       "  text-align: center;\n",
       "}\n",
       "\n",
       ".xr-section-summary-in:disabled + label:before {\n",
       "  color: var(--xr-disabled-color);\n",
       "}\n",
       "\n",
       ".xr-section-summary-in:checked + label:before {\n",
       "  content: \"▼\";\n",
       "}\n",
       "\n",
       ".xr-section-summary-in:checked + label > span {\n",
       "  display: none;\n",
       "}\n",
       "\n",
       ".xr-section-summary,\n",
       ".xr-section-inline-details {\n",
       "  padding-top: 4px;\n",
       "  padding-bottom: 4px;\n",
       "}\n",
       "\n",
       ".xr-section-inline-details {\n",
       "  grid-column: 2 / -1;\n",
       "}\n",
       "\n",
       ".xr-section-details {\n",
       "  display: none;\n",
       "  grid-column: 1 / -1;\n",
       "  margin-bottom: 5px;\n",
       "}\n",
       "\n",
       ".xr-section-summary-in:checked ~ .xr-section-details {\n",
       "  display: contents;\n",
       "}\n",
       "\n",
       ".xr-array-wrap {\n",
       "  grid-column: 1 / -1;\n",
       "  display: grid;\n",
       "  grid-template-columns: 20px auto;\n",
       "}\n",
       "\n",
       ".xr-array-wrap > label {\n",
       "  grid-column: 1;\n",
       "  vertical-align: top;\n",
       "}\n",
       "\n",
       ".xr-preview {\n",
       "  color: var(--xr-font-color3);\n",
       "}\n",
       "\n",
       ".xr-array-preview,\n",
       ".xr-array-data {\n",
       "  padding: 0 5px !important;\n",
       "  grid-column: 2;\n",
       "}\n",
       "\n",
       ".xr-array-data,\n",
       ".xr-array-in:checked ~ .xr-array-preview {\n",
       "  display: none;\n",
       "}\n",
       "\n",
       ".xr-array-in:checked ~ .xr-array-data,\n",
       ".xr-array-preview {\n",
       "  display: inline-block;\n",
       "}\n",
       "\n",
       ".xr-dim-list {\n",
       "  display: inline-block !important;\n",
       "  list-style: none;\n",
       "  padding: 0 !important;\n",
       "  margin: 0;\n",
       "}\n",
       "\n",
       ".xr-dim-list li {\n",
       "  display: inline-block;\n",
       "  padding: 0;\n",
       "  margin: 0;\n",
       "}\n",
       "\n",
       ".xr-dim-list:before {\n",
       "  content: \"(\";\n",
       "}\n",
       "\n",
       ".xr-dim-list:after {\n",
       "  content: \")\";\n",
       "}\n",
       "\n",
       ".xr-dim-list li:not(:last-child):after {\n",
       "  content: \",\";\n",
       "  padding-right: 5px;\n",
       "}\n",
       "\n",
       ".xr-has-index {\n",
       "  font-weight: bold;\n",
       "}\n",
       "\n",
       ".xr-var-list,\n",
       ".xr-var-item {\n",
       "  display: contents;\n",
       "}\n",
       "\n",
       ".xr-var-item > div,\n",
       ".xr-var-item label,\n",
       ".xr-var-item > .xr-var-name span {\n",
       "  background-color: var(--xr-background-color-row-even);\n",
       "  margin-bottom: 0;\n",
       "}\n",
       "\n",
       ".xr-var-item > .xr-var-name:hover span {\n",
       "  padding-right: 5px;\n",
       "}\n",
       "\n",
       ".xr-var-list > li:nth-child(odd) > div,\n",
       ".xr-var-list > li:nth-child(odd) > label,\n",
       ".xr-var-list > li:nth-child(odd) > .xr-var-name span {\n",
       "  background-color: var(--xr-background-color-row-odd);\n",
       "}\n",
       "\n",
       ".xr-var-name {\n",
       "  grid-column: 1;\n",
       "}\n",
       "\n",
       ".xr-var-dims {\n",
       "  grid-column: 2;\n",
       "}\n",
       "\n",
       ".xr-var-dtype {\n",
       "  grid-column: 3;\n",
       "  text-align: right;\n",
       "  color: var(--xr-font-color2);\n",
       "}\n",
       "\n",
       ".xr-var-preview {\n",
       "  grid-column: 4;\n",
       "}\n",
       "\n",
       ".xr-index-preview {\n",
       "  grid-column: 2 / 5;\n",
       "  color: var(--xr-font-color2);\n",
       "}\n",
       "\n",
       ".xr-var-name,\n",
       ".xr-var-dims,\n",
       ".xr-var-dtype,\n",
       ".xr-preview,\n",
       ".xr-attrs dt {\n",
       "  white-space: nowrap;\n",
       "  overflow: hidden;\n",
       "  text-overflow: ellipsis;\n",
       "  padding-right: 10px;\n",
       "}\n",
       "\n",
       ".xr-var-name:hover,\n",
       ".xr-var-dims:hover,\n",
       ".xr-var-dtype:hover,\n",
       ".xr-attrs dt:hover {\n",
       "  overflow: visible;\n",
       "  width: auto;\n",
       "  z-index: 1;\n",
       "}\n",
       "\n",
       ".xr-var-attrs,\n",
       ".xr-var-data,\n",
       ".xr-index-data {\n",
       "  display: none;\n",
       "  background-color: var(--xr-background-color) !important;\n",
       "  padding-bottom: 5px !important;\n",
       "}\n",
       "\n",
       ".xr-var-attrs-in:checked ~ .xr-var-attrs,\n",
       ".xr-var-data-in:checked ~ .xr-var-data,\n",
       ".xr-index-data-in:checked ~ .xr-index-data {\n",
       "  display: block;\n",
       "}\n",
       "\n",
       ".xr-var-data > table {\n",
       "  float: right;\n",
       "}\n",
       "\n",
       ".xr-var-name span,\n",
       ".xr-var-data,\n",
       ".xr-index-name div,\n",
       ".xr-index-data,\n",
       ".xr-attrs {\n",
       "  padding-left: 25px !important;\n",
       "}\n",
       "\n",
       ".xr-attrs,\n",
       ".xr-var-attrs,\n",
       ".xr-var-data,\n",
       ".xr-index-data {\n",
       "  grid-column: 1 / -1;\n",
       "}\n",
       "\n",
       "dl.xr-attrs {\n",
       "  padding: 0;\n",
       "  margin: 0;\n",
       "  display: grid;\n",
       "  grid-template-columns: 125px auto;\n",
       "}\n",
       "\n",
       ".xr-attrs dt,\n",
       ".xr-attrs dd {\n",
       "  padding: 0;\n",
       "  margin: 0;\n",
       "  float: left;\n",
       "  padding-right: 10px;\n",
       "  width: auto;\n",
       "}\n",
       "\n",
       ".xr-attrs dt {\n",
       "  font-weight: normal;\n",
       "  grid-column: 1;\n",
       "}\n",
       "\n",
       ".xr-attrs dt:hover span {\n",
       "  display: inline-block;\n",
       "  background: var(--xr-background-color);\n",
       "  padding-right: 10px;\n",
       "}\n",
       "\n",
       ".xr-attrs dd {\n",
       "  grid-column: 2;\n",
       "  white-space: pre-wrap;\n",
       "  word-break: break-all;\n",
       "}\n",
       "\n",
       ".xr-icon-database,\n",
       ".xr-icon-file-text2,\n",
       ".xr-no-icon {\n",
       "  display: inline-block;\n",
       "  vertical-align: middle;\n",
       "  width: 1em;\n",
       "  height: 1.5em !important;\n",
       "  stroke-width: 0;\n",
       "  stroke: currentColor;\n",
       "  fill: currentColor;\n",
       "}\n",
       "</style><pre class='xr-text-repr-fallback'>&lt;xarray.Dataset&gt; Size: 1GB\n",
       "Dimensions:                    (time: 1152490, VelocityRange: 15,\n",
       "                                CorrelationRange: 15, AmplitudeRange: 15,\n",
       "                                Physicalbeam_dim: 4)\n",
       "Coordinates:\n",
       "  * time                       (time) datetime64[ns] 9MB 2024-04-19T14:32:13....\n",
       "  * VelocityRange              (VelocityRange) float32 60B 2.2 4.2 ... 28.2 30.2\n",
       "  * CorrelationRange           (CorrelationRange) float32 60B 2.2 4.2 ... 30.2\n",
       "  * AmplitudeRange             (AmplitudeRange) float32 60B 2.2 4.2 ... 30.2\n",
       "Dimensions without coordinates: Physicalbeam_dim\n",
       "Data variables: (12/43)\n",
       "    VelocityBeam1              (VelocityRange, time) float32 69MB dask.array&lt;chunksize=(15, 80990), meta=np.ndarray&gt;\n",
       "    VelocityBeam2              (VelocityRange, time) float32 69MB dask.array&lt;chunksize=(15, 80990), meta=np.ndarray&gt;\n",
       "    VelocityBeam3              (VelocityRange, time) float32 69MB dask.array&lt;chunksize=(15, 80990), meta=np.ndarray&gt;\n",
       "    VelocityBeam4              (VelocityRange, time) float32 69MB dask.array&lt;chunksize=(15, 80990), meta=np.ndarray&gt;\n",
       "    CorrelationBeam1           (CorrelationRange, time) float32 69MB dask.array&lt;chunksize=(15, 80990), meta=np.ndarray&gt;\n",
       "    CorrelationBeam2           (CorrelationRange, time) float32 69MB dask.array&lt;chunksize=(15, 80990), meta=np.ndarray&gt;\n",
       "    ...                         ...\n",
       "    EnsembleCount              (time) float64 9MB dask.array&lt;chunksize=(80990,), meta=np.ndarray&gt;\n",
       "    WaterTemperature           (time) float32 5MB dask.array&lt;chunksize=(80990,), meta=np.ndarray&gt;\n",
       "    Heading                    (time) float32 5MB dask.array&lt;chunksize=(80990,), meta=np.ndarray&gt;\n",
       "    Pitch                      (time) float32 5MB dask.array&lt;chunksize=(80990,), meta=np.ndarray&gt;\n",
       "    Roll                       (time) float32 5MB dask.array&lt;chunksize=(80990,), meta=np.ndarray&gt;\n",
       "    Depth                      (time) float64 9MB 0.85 0.9305 ... 0.8251 0.8928\n",
       "Attributes: (12/350)\n",
       "    instrumentOffsetTimeMatlab_description:       Offset from instrument time...\n",
       "    File_ins_runTime:                             442996000.0\n",
       "    File_ins_runTime_description:                 Length of time data was col...\n",
       "    File_ins_name:                                AD2CPRaw\n",
       "    File_ins_name_description:                    Name of instrument\n",
       "    File_ins_typeName:                            \n",
       "    ...                                           ...\n",
       "    instrumentOffsetTime:                         0.0\n",
       "    instrumentOffsetTime_description:             Offset from instrument time...\n",
       "    timeZoneOffset:                               0\n",
       "    timeZoneOffset_description:                   Offset of platform local ti...\n",
       "    instrumentOffsetTimeMatlab:                   0.0\n",
       "    exportRevision:                               4489</pre><div class='xr-wrap' style='display:none'><div class='xr-header'><div class='xr-obj-type'>xarray.Dataset</div></div><ul class='xr-sections'><li class='xr-section-item'><input id='section-829c7412-e4fe-49ec-8709-f9637480d9c3' class='xr-section-summary-in' type='checkbox' disabled ><label for='section-829c7412-e4fe-49ec-8709-f9637480d9c3' class='xr-section-summary'  title='Expand/collapse section'>Dimensions:</label><div class='xr-section-inline-details'><ul class='xr-dim-list'><li><span class='xr-has-index'>time</span>: 1152490</li><li><span class='xr-has-index'>VelocityRange</span>: 15</li><li><span class='xr-has-index'>CorrelationRange</span>: 15</li><li><span class='xr-has-index'>AmplitudeRange</span>: 15</li><li><span>Physicalbeam_dim</span>: 4</li></ul></div><div class='xr-section-details'></div></li><li class='xr-section-item'><input id='section-cc84c99b-bb17-478a-a786-9b6da48262bb' class='xr-section-summary-in' type='checkbox'  checked><label for='section-cc84c99b-bb17-478a-a786-9b6da48262bb' class='xr-section-summary' >Coordinates: <span>(4)</span></label><div class='xr-section-inline-details'></div><div class='xr-section-details'><ul class='xr-var-list'><li class='xr-var-item'><div class='xr-var-name'><span class='xr-has-index'>time</span></div><div class='xr-var-dims'>(time)</div><div class='xr-var-dtype'>datetime64[ns]</div><div class='xr-var-preview xr-preview'>2024-04-19T14:32:13.438299904 .....</div><input id='attrs-5314c6c4-435c-4c49-87b9-352499f200cf' class='xr-var-attrs-in' type='checkbox' ><label for='attrs-5314c6c4-435c-4c49-87b9-352499f200cf' title='Show/Hide attributes'><svg class='icon xr-icon-file-text2'><use xlink:href='#icon-file-text2'></use></svg></label><input id='data-804804e4-d02c-48b0-a931-59bc1d7a0a40' class='xr-var-data-in' type='checkbox'><label for='data-804804e4-d02c-48b0-a931-59bc1d7a0a40' title='Show/Hide data repr'><svg class='icon xr-icon-database'><use xlink:href='#icon-database'></use></svg></label><div class='xr-var-attrs'><dl class='xr-attrs'><dt><span>description :</span></dt><dd>time of measurement</dd></dl></div><div class='xr-var-data'><pre>array([&#x27;2024-04-19T14:32:13.438299904&#x27;, &#x27;2024-04-19T14:32:18.438299904&#x27;,\n",
       "       &#x27;2024-04-19T14:32:23.438400000&#x27;, ..., &#x27;2024-06-30T16:48:41.438299904&#x27;,\n",
       "       &#x27;2024-06-30T16:48:46.438400000&#x27;, &#x27;2024-06-30T16:48:51.438299904&#x27;],\n",
       "      dtype=&#x27;datetime64[ns]&#x27;)</pre></div></li><li class='xr-var-item'><div class='xr-var-name'><span class='xr-has-index'>VelocityRange</span></div><div class='xr-var-dims'>(VelocityRange)</div><div class='xr-var-dtype'>float32</div><div class='xr-var-preview xr-preview'>2.2 4.2 6.2 8.2 ... 26.2 28.2 30.2</div><input id='attrs-5d623ff1-c51b-4ad3-9060-56caff23195a' class='xr-var-attrs-in' type='checkbox' ><label for='attrs-5d623ff1-c51b-4ad3-9060-56caff23195a' title='Show/Hide attributes'><svg class='icon xr-icon-file-text2'><use xlink:href='#icon-file-text2'></use></svg></label><input id='data-43e8e5bd-4f5a-4181-a267-371d44c3353a' class='xr-var-data-in' type='checkbox'><label for='data-43e8e5bd-4f5a-4181-a267-371d44c3353a' title='Show/Hide data repr'><svg class='icon xr-icon-database'><use xlink:href='#icon-database'></use></svg></label><div class='xr-var-attrs'><dl class='xr-attrs'><dt><span>units :</span></dt><dd>m</dd><dt><span>description :</span></dt><dd></dd></dl></div><div class='xr-var-data'><pre>array([ 2.2,  4.2,  6.2,  8.2, 10.2, 12.2, 14.2, 16.2, 18.2, 20.2, 22.2, 24.2,\n",
       "       26.2, 28.2, 30.2], dtype=float32)</pre></div></li><li class='xr-var-item'><div class='xr-var-name'><span class='xr-has-index'>CorrelationRange</span></div><div class='xr-var-dims'>(CorrelationRange)</div><div class='xr-var-dtype'>float32</div><div class='xr-var-preview xr-preview'>2.2 4.2 6.2 8.2 ... 26.2 28.2 30.2</div><input id='attrs-f8e32eed-6de0-44c1-979f-7a368fbca6c0' class='xr-var-attrs-in' type='checkbox' ><label for='attrs-f8e32eed-6de0-44c1-979f-7a368fbca6c0' title='Show/Hide attributes'><svg class='icon xr-icon-file-text2'><use xlink:href='#icon-file-text2'></use></svg></label><input id='data-44207655-2d08-4289-a791-f796faf9df2a' class='xr-var-data-in' type='checkbox'><label for='data-44207655-2d08-4289-a791-f796faf9df2a' title='Show/Hide data repr'><svg class='icon xr-icon-database'><use xlink:href='#icon-database'></use></svg></label><div class='xr-var-attrs'><dl class='xr-attrs'><dt><span>units :</span></dt><dd>m</dd><dt><span>description :</span></dt><dd></dd></dl></div><div class='xr-var-data'><pre>array([ 2.2,  4.2,  6.2,  8.2, 10.2, 12.2, 14.2, 16.2, 18.2, 20.2, 22.2, 24.2,\n",
       "       26.2, 28.2, 30.2], dtype=float32)</pre></div></li><li class='xr-var-item'><div class='xr-var-name'><span class='xr-has-index'>AmplitudeRange</span></div><div class='xr-var-dims'>(AmplitudeRange)</div><div class='xr-var-dtype'>float32</div><div class='xr-var-preview xr-preview'>2.2 4.2 6.2 8.2 ... 26.2 28.2 30.2</div><input id='attrs-3922e0eb-bbde-4511-8eb8-da801afb03e5' class='xr-var-attrs-in' type='checkbox' ><label for='attrs-3922e0eb-bbde-4511-8eb8-da801afb03e5' title='Show/Hide attributes'><svg class='icon xr-icon-file-text2'><use xlink:href='#icon-file-text2'></use></svg></label><input id='data-e947825f-5c8b-4caa-bb83-4913de17cc6c' class='xr-var-data-in' type='checkbox'><label for='data-e947825f-5c8b-4caa-bb83-4913de17cc6c' title='Show/Hide data repr'><svg class='icon xr-icon-database'><use xlink:href='#icon-database'></use></svg></label><div class='xr-var-attrs'><dl class='xr-attrs'><dt><span>units :</span></dt><dd>m</dd><dt><span>description :</span></dt><dd></dd></dl></div><div class='xr-var-data'><pre>array([ 2.2,  4.2,  6.2,  8.2, 10.2, 12.2, 14.2, 16.2, 18.2, 20.2, 22.2, 24.2,\n",
       "       26.2, 28.2, 30.2], dtype=float32)</pre></div></li></ul></div></li><li class='xr-section-item'><input id='section-d272990b-bc84-4da9-9931-eb067b59fe11' class='xr-section-summary-in' type='checkbox'  ><label for='section-d272990b-bc84-4da9-9931-eb067b59fe11' class='xr-section-summary' >Data variables: <span>(43)</span></label><div class='xr-section-inline-details'></div><div class='xr-section-details'><ul class='xr-var-list'><li class='xr-var-item'><div class='xr-var-name'><span>VelocityBeam1</span></div><div class='xr-var-dims'>(VelocityRange, time)</div><div class='xr-var-dtype'>float32</div><div class='xr-var-preview xr-preview'>dask.array&lt;chunksize=(15, 80990), meta=np.ndarray&gt;</div><input id='attrs-f524ae08-431e-479d-a9a5-07b9fd9f3b52' class='xr-var-attrs-in' type='checkbox' ><label for='attrs-f524ae08-431e-479d-a9a5-07b9fd9f3b52' title='Show/Hide attributes'><svg class='icon xr-icon-file-text2'><use xlink:href='#icon-file-text2'></use></svg></label><input id='data-12ab5003-8c7a-40a9-9241-954737345dff' class='xr-var-data-in' type='checkbox'><label for='data-12ab5003-8c7a-40a9-9241-954737345dff' title='Show/Hide data repr'><svg class='icon xr-icon-database'><use xlink:href='#icon-database'></use></svg></label><div class='xr-var-attrs'><dl class='xr-attrs'><dt><span>units :</span></dt><dd>m/s</dd><dt><span>description :</span></dt><dd></dd></dl></div><div class='xr-var-data'>dask.array<transpose, shape=(15, 1152490), dtype=float32, chunksize=(15, 199536), chunktype=numpy.ndarray></div></li><li class='xr-var-item'><div class='xr-var-name'><span>VelocityBeam2</span></div><div class='xr-var-dims'>(VelocityRange, time)</div><div class='xr-var-dtype'>float32</div><div class='xr-var-preview xr-preview'>dask.array&lt;chunksize=(15, 80990), meta=np.ndarray&gt;</div><input id='attrs-9bbfb807-d3ed-434e-a708-7abc95d737ca' class='xr-var-attrs-in' type='checkbox' ><label for='attrs-9bbfb807-d3ed-434e-a708-7abc95d737ca' title='Show/Hide attributes'><svg class='icon xr-icon-file-text2'><use xlink:href='#icon-file-text2'></use></svg></label><input id='data-45120c5b-3de2-4afd-841a-f2b812225b6d' class='xr-var-data-in' type='checkbox'><label for='data-45120c5b-3de2-4afd-841a-f2b812225b6d' title='Show/Hide data repr'><svg class='icon xr-icon-database'><use xlink:href='#icon-database'></use></svg></label><div class='xr-var-attrs'><dl class='xr-attrs'><dt><span>units :</span></dt><dd>m/s</dd><dt><span>description :</span></dt><dd></dd></dl></div><div class='xr-var-data'>dask.array<transpose, shape=(15, 1152490), dtype=float32, chunksize=(15, 199536), chunktype=numpy.ndarray></div></li><li class='xr-var-item'><div class='xr-var-name'><span>VelocityBeam3</span></div><div class='xr-var-dims'>(VelocityRange, time)</div><div class='xr-var-dtype'>float32</div><div class='xr-var-preview xr-preview'>dask.array&lt;chunksize=(15, 80990), meta=np.ndarray&gt;</div><input id='attrs-2ee5f550-e3fd-4168-8242-16206793d0a4' class='xr-var-attrs-in' type='checkbox' ><label for='attrs-2ee5f550-e3fd-4168-8242-16206793d0a4' title='Show/Hide attributes'><svg class='icon xr-icon-file-text2'><use xlink:href='#icon-file-text2'></use></svg></label><input id='data-ae9e0418-ab30-46bb-b524-e801e052e60a' class='xr-var-data-in' type='checkbox'><label for='data-ae9e0418-ab30-46bb-b524-e801e052e60a' title='Show/Hide data repr'><svg class='icon xr-icon-database'><use xlink:href='#icon-database'></use></svg></label><div class='xr-var-attrs'><dl class='xr-attrs'><dt><span>units :</span></dt><dd>m/s</dd><dt><span>description :</span></dt><dd></dd></dl></div><div class='xr-var-data'>dask.array<transpose, shape=(15, 1152490), dtype=float32, chunksize=(15, 199536), chunktype=numpy.ndarray></div></li><li class='xr-var-item'><div class='xr-var-name'><span>VelocityBeam4</span></div><div class='xr-var-dims'>(VelocityRange, time)</div><div class='xr-var-dtype'>float32</div><div class='xr-var-preview xr-preview'>dask.array&lt;chunksize=(15, 80990), meta=np.ndarray&gt;</div><input id='attrs-5b046f01-ecb8-496d-af4e-7535c11d36cc' class='xr-var-attrs-in' type='checkbox' ><label for='attrs-5b046f01-ecb8-496d-af4e-7535c11d36cc' title='Show/Hide attributes'><svg class='icon xr-icon-file-text2'><use xlink:href='#icon-file-text2'></use></svg></label><input id='data-b410eda1-f737-4c59-af37-195ca317495f' class='xr-var-data-in' type='checkbox'><label for='data-b410eda1-f737-4c59-af37-195ca317495f' title='Show/Hide data repr'><svg class='icon xr-icon-database'><use xlink:href='#icon-database'></use></svg></label><div class='xr-var-attrs'><dl class='xr-attrs'><dt><span>units :</span></dt><dd>m/s</dd><dt><span>description :</span></dt><dd></dd></dl></div><div class='xr-var-data'>dask.array<transpose, shape=(15, 1152490), dtype=float32, chunksize=(15, 199536), chunktype=numpy.ndarray></div></li><li class='xr-var-item'><div class='xr-var-name'><span>CorrelationBeam1</span></div><div class='xr-var-dims'>(CorrelationRange, time)</div><div class='xr-var-dtype'>float32</div><div class='xr-var-preview xr-preview'>dask.array&lt;chunksize=(15, 80990), meta=np.ndarray&gt;</div><input id='attrs-5e4a7762-9e0b-40d8-aafc-56efaf2e1e53' class='xr-var-attrs-in' type='checkbox' ><label for='attrs-5e4a7762-9e0b-40d8-aafc-56efaf2e1e53' title='Show/Hide attributes'><svg class='icon xr-icon-file-text2'><use xlink:href='#icon-file-text2'></use></svg></label><input id='data-67defd70-6417-44c4-b86c-0334718d1ee8' class='xr-var-data-in' type='checkbox'><label for='data-67defd70-6417-44c4-b86c-0334718d1ee8' title='Show/Hide data repr'><svg class='icon xr-icon-database'><use xlink:href='#icon-database'></use></svg></label><div class='xr-var-attrs'><dl class='xr-attrs'><dt><span>units :</span></dt><dd>%</dd><dt><span>description :</span></dt><dd>Percent (100 = full scale)</dd></dl></div><div class='xr-var-data'>dask.array<transpose, shape=(15, 1152490), dtype=float32, chunksize=(15, 199536), chunktype=numpy.ndarray></div></li><li class='xr-var-item'><div class='xr-var-name'><span>CorrelationBeam2</span></div><div class='xr-var-dims'>(CorrelationRange, time)</div><div class='xr-var-dtype'>float32</div><div class='xr-var-preview xr-preview'>dask.array&lt;chunksize=(15, 80990), meta=np.ndarray&gt;</div><input id='attrs-7ba206dc-8111-45ce-bde8-70ca29c67219' class='xr-var-attrs-in' type='checkbox' ><label for='attrs-7ba206dc-8111-45ce-bde8-70ca29c67219' title='Show/Hide attributes'><svg class='icon xr-icon-file-text2'><use xlink:href='#icon-file-text2'></use></svg></label><input id='data-2ef83a45-88e7-4798-9f05-494f04f6357f' class='xr-var-data-in' type='checkbox'><label for='data-2ef83a45-88e7-4798-9f05-494f04f6357f' title='Show/Hide data repr'><svg class='icon xr-icon-database'><use xlink:href='#icon-database'></use></svg></label><div class='xr-var-attrs'><dl class='xr-attrs'><dt><span>units :</span></dt><dd>%</dd><dt><span>description :</span></dt><dd>Percent (100 = full scale)</dd></dl></div><div class='xr-var-data'>dask.array<transpose, shape=(15, 1152490), dtype=float32, chunksize=(15, 199536), chunktype=numpy.ndarray></div></li><li class='xr-var-item'><div class='xr-var-name'><span>CorrelationBeam3</span></div><div class='xr-var-dims'>(CorrelationRange, time)</div><div class='xr-var-dtype'>float32</div><div class='xr-var-preview xr-preview'>dask.array&lt;chunksize=(15, 80990), meta=np.ndarray&gt;</div><input id='attrs-c83d9c5f-08ec-4cf2-bfed-804966f5f29e' class='xr-var-attrs-in' type='checkbox' ><label for='attrs-c83d9c5f-08ec-4cf2-bfed-804966f5f29e' title='Show/Hide attributes'><svg class='icon xr-icon-file-text2'><use xlink:href='#icon-file-text2'></use></svg></label><input id='data-802b8291-1702-4ccc-977b-91eb88b946db' class='xr-var-data-in' type='checkbox'><label for='data-802b8291-1702-4ccc-977b-91eb88b946db' title='Show/Hide data repr'><svg class='icon xr-icon-database'><use xlink:href='#icon-database'></use></svg></label><div class='xr-var-attrs'><dl class='xr-attrs'><dt><span>units :</span></dt><dd>%</dd><dt><span>description :</span></dt><dd>Percent (100 = full scale)</dd></dl></div><div class='xr-var-data'>dask.array<transpose, shape=(15, 1152490), dtype=float32, chunksize=(15, 199536), chunktype=numpy.ndarray></div></li><li class='xr-var-item'><div class='xr-var-name'><span>CorrelationBeam4</span></div><div class='xr-var-dims'>(CorrelationRange, time)</div><div class='xr-var-dtype'>float32</div><div class='xr-var-preview xr-preview'>dask.array&lt;chunksize=(15, 80990), meta=np.ndarray&gt;</div><input id='attrs-e0cc11d1-60cd-4877-b224-f4ce2f22b6b8' class='xr-var-attrs-in' type='checkbox' ><label for='attrs-e0cc11d1-60cd-4877-b224-f4ce2f22b6b8' title='Show/Hide attributes'><svg class='icon xr-icon-file-text2'><use xlink:href='#icon-file-text2'></use></svg></label><input id='data-645862c4-0a56-4502-9f44-b3469c44a099' class='xr-var-data-in' type='checkbox'><label for='data-645862c4-0a56-4502-9f44-b3469c44a099' title='Show/Hide data repr'><svg class='icon xr-icon-database'><use xlink:href='#icon-database'></use></svg></label><div class='xr-var-attrs'><dl class='xr-attrs'><dt><span>units :</span></dt><dd>%</dd><dt><span>description :</span></dt><dd>Percent (100 = full scale)</dd></dl></div><div class='xr-var-data'>dask.array<transpose, shape=(15, 1152490), dtype=float32, chunksize=(15, 199536), chunktype=numpy.ndarray></div></li><li class='xr-var-item'><div class='xr-var-name'><span>AmplitudeBeam1</span></div><div class='xr-var-dims'>(AmplitudeRange, time)</div><div class='xr-var-dtype'>float32</div><div class='xr-var-preview xr-preview'>dask.array&lt;chunksize=(15, 80990), meta=np.ndarray&gt;</div><input id='attrs-c75d38ad-d20f-4aa2-b1a3-82ee23ba4eee' class='xr-var-attrs-in' type='checkbox' ><label for='attrs-c75d38ad-d20f-4aa2-b1a3-82ee23ba4eee' title='Show/Hide attributes'><svg class='icon xr-icon-file-text2'><use xlink:href='#icon-file-text2'></use></svg></label><input id='data-b543fbf5-34c9-4864-8b85-d2392964dcc2' class='xr-var-data-in' type='checkbox'><label for='data-b543fbf5-34c9-4864-8b85-d2392964dcc2' title='Show/Hide data repr'><svg class='icon xr-icon-database'><use xlink:href='#icon-database'></use></svg></label><div class='xr-var-attrs'><dl class='xr-attrs'><dt><span>units :</span></dt><dd>dB</dd><dt><span>description :</span></dt><dd></dd></dl></div><div class='xr-var-data'>dask.array<transpose, shape=(15, 1152490), dtype=float32, chunksize=(15, 199536), chunktype=numpy.ndarray></div></li><li class='xr-var-item'><div class='xr-var-name'><span>AmplitudeBeam2</span></div><div class='xr-var-dims'>(AmplitudeRange, time)</div><div class='xr-var-dtype'>float32</div><div class='xr-var-preview xr-preview'>dask.array&lt;chunksize=(15, 80990), meta=np.ndarray&gt;</div><input id='attrs-cfb460a6-8ed1-40f1-8a3d-14d1768a302c' class='xr-var-attrs-in' type='checkbox' ><label for='attrs-cfb460a6-8ed1-40f1-8a3d-14d1768a302c' title='Show/Hide attributes'><svg class='icon xr-icon-file-text2'><use xlink:href='#icon-file-text2'></use></svg></label><input id='data-51c18949-c136-4e90-87b5-f08219da62ca' class='xr-var-data-in' type='checkbox'><label for='data-51c18949-c136-4e90-87b5-f08219da62ca' title='Show/Hide data repr'><svg class='icon xr-icon-database'><use xlink:href='#icon-database'></use></svg></label><div class='xr-var-attrs'><dl class='xr-attrs'><dt><span>units :</span></dt><dd>dB</dd><dt><span>description :</span></dt><dd></dd></dl></div><div class='xr-var-data'>dask.array<transpose, shape=(15, 1152490), dtype=float32, chunksize=(15, 199536), chunktype=numpy.ndarray></div></li><li class='xr-var-item'><div class='xr-var-name'><span>AmplitudeBeam3</span></div><div class='xr-var-dims'>(AmplitudeRange, time)</div><div class='xr-var-dtype'>float32</div><div class='xr-var-preview xr-preview'>dask.array&lt;chunksize=(15, 80990), meta=np.ndarray&gt;</div><input id='attrs-548450fa-f8b0-4b73-aa48-09e15cf7e4c2' class='xr-var-attrs-in' type='checkbox' ><label for='attrs-548450fa-f8b0-4b73-aa48-09e15cf7e4c2' title='Show/Hide attributes'><svg class='icon xr-icon-file-text2'><use xlink:href='#icon-file-text2'></use></svg></label><input id='data-9e75cfe9-393a-4f3f-a18b-1440051a05cd' class='xr-var-data-in' type='checkbox'><label for='data-9e75cfe9-393a-4f3f-a18b-1440051a05cd' title='Show/Hide data repr'><svg class='icon xr-icon-database'><use xlink:href='#icon-database'></use></svg></label><div class='xr-var-attrs'><dl class='xr-attrs'><dt><span>units :</span></dt><dd>dB</dd><dt><span>description :</span></dt><dd></dd></dl></div><div class='xr-var-data'>dask.array<transpose, shape=(15, 1152490), dtype=float32, chunksize=(15, 199536), chunktype=numpy.ndarray></div></li><li class='xr-var-item'><div class='xr-var-name'><span>AmplitudeBeam4</span></div><div class='xr-var-dims'>(AmplitudeRange, time)</div><div class='xr-var-dtype'>float32</div><div class='xr-var-preview xr-preview'>dask.array&lt;chunksize=(15, 80990), meta=np.ndarray&gt;</div><input id='attrs-71e680c9-d459-4346-a970-f65b91ed97c2' class='xr-var-attrs-in' type='checkbox' ><label for='attrs-71e680c9-d459-4346-a970-f65b91ed97c2' title='Show/Hide attributes'><svg class='icon xr-icon-file-text2'><use xlink:href='#icon-file-text2'></use></svg></label><input id='data-528c35ef-3016-4264-a183-b13740bb4031' class='xr-var-data-in' type='checkbox'><label for='data-528c35ef-3016-4264-a183-b13740bb4031' title='Show/Hide data repr'><svg class='icon xr-icon-database'><use xlink:href='#icon-database'></use></svg></label><div class='xr-var-attrs'><dl class='xr-attrs'><dt><span>units :</span></dt><dd>dB</dd><dt><span>description :</span></dt><dd></dd></dl></div><div class='xr-var-data'>dask.array<transpose, shape=(15, 1152490), dtype=float32, chunksize=(15, 199536), chunktype=numpy.ndarray></div></li><li class='xr-var-item'><div class='xr-var-name'><span>TimeStamp</span></div><div class='xr-var-dims'>(time)</div><div class='xr-var-dtype'>float64</div><div class='xr-var-preview xr-preview'>dask.array&lt;chunksize=(80990,), meta=np.ndarray&gt;</div><input id='attrs-81ac4818-0824-4644-9932-cea0274725ea' class='xr-var-attrs-in' type='checkbox' ><label for='attrs-81ac4818-0824-4644-9932-cea0274725ea' title='Show/Hide attributes'><svg class='icon xr-icon-file-text2'><use xlink:href='#icon-file-text2'></use></svg></label><input id='data-40b83ce5-e258-4945-9207-21673a29e9db' class='xr-var-data-in' type='checkbox'><label for='data-40b83ce5-e258-4945-9207-21673a29e9db' title='Show/Hide data repr'><svg class='icon xr-icon-database'><use xlink:href='#icon-database'></use></svg></label><div class='xr-var-attrs'><dl class='xr-attrs'><dt><span>units :</span></dt><dd>s</dd><dt><span>description :</span></dt><dd>Instrument timestamp (UTC seconds since January 1, 1970)</dd></dl></div><div class='xr-var-data'>dask.array<getitem, shape=(1152490,), dtype=float64, chunksize=(199536,), chunktype=numpy.ndarray></div></li><li class='xr-var-item'><div class='xr-var-name'><span>MatlabTimeStamp</span></div><div class='xr-var-dims'>(time)</div><div class='xr-var-dtype'>timedelta64[ns]</div><div class='xr-var-preview xr-preview'>dask.array&lt;chunksize=(80990,), meta=np.ndarray&gt;</div><input id='attrs-f86d6def-2e80-4c78-8e25-d8b307a08b19' class='xr-var-attrs-in' type='checkbox' ><label for='attrs-f86d6def-2e80-4c78-8e25-d8b307a08b19' title='Show/Hide attributes'><svg class='icon xr-icon-file-text2'><use xlink:href='#icon-file-text2'></use></svg></label><input id='data-85d14de2-9384-46e9-a71b-57a81959a39e' class='xr-var-data-in' type='checkbox'><label for='data-85d14de2-9384-46e9-a71b-57a81959a39e' title='Show/Hide data repr'><svg class='icon xr-icon-database'><use xlink:href='#icon-database'></use></svg></label><div class='xr-var-attrs'><dl class='xr-attrs'><dt><span>description :</span></dt><dd>Instrument timestamp (Matlab serial date number)</dd></dl></div><div class='xr-var-data'>dask.array<getitem, shape=(1152490,), dtype=timedelta64[ns], chunksize=(199536,), chunktype=numpy.ndarray></div></li><li class='xr-var-item'><div class='xr-var-name'><span>SerialNumber</span></div><div class='xr-var-dims'>(time)</div><div class='xr-var-dtype'>float64</div><div class='xr-var-preview xr-preview'>dask.array&lt;chunksize=(80990,), meta=np.ndarray&gt;</div><input id='attrs-b807b684-fdb5-44c4-8660-248f9a188c78' class='xr-var-attrs-in' type='checkbox' ><label for='attrs-b807b684-fdb5-44c4-8660-248f9a188c78' title='Show/Hide attributes'><svg class='icon xr-icon-file-text2'><use xlink:href='#icon-file-text2'></use></svg></label><input id='data-208c5337-c66e-4474-92c8-056eb68e226e' class='xr-var-data-in' type='checkbox'><label for='data-208c5337-c66e-4474-92c8-056eb68e226e' title='Show/Hide data repr'><svg class='icon xr-icon-database'><use xlink:href='#icon-database'></use></svg></label><div class='xr-var-attrs'><dl class='xr-attrs'><dt><span>units :</span></dt><dd></dd><dt><span>description :</span></dt><dd>Instrument serial number</dd></dl></div><div class='xr-var-data'>dask.array<getitem, shape=(1152490,), dtype=float64, chunksize=(199536,), chunktype=numpy.ndarray></div></li><li class='xr-var-item'><div class='xr-var-name'><span>SpeedOfSound</span></div><div class='xr-var-dims'>(time)</div><div class='xr-var-dtype'>float32</div><div class='xr-var-preview xr-preview'>dask.array&lt;chunksize=(80990,), meta=np.ndarray&gt;</div><input id='attrs-98942e86-9854-403e-ae6e-204ebe3c5661' class='xr-var-attrs-in' type='checkbox' ><label for='attrs-98942e86-9854-403e-ae6e-204ebe3c5661' title='Show/Hide attributes'><svg class='icon xr-icon-file-text2'><use xlink:href='#icon-file-text2'></use></svg></label><input id='data-40a29125-d339-430e-bc0f-642d55f670e7' class='xr-var-data-in' type='checkbox'><label for='data-40a29125-d339-430e-bc0f-642d55f670e7' title='Show/Hide data repr'><svg class='icon xr-icon-database'><use xlink:href='#icon-database'></use></svg></label><div class='xr-var-attrs'><dl class='xr-attrs'><dt><span>units :</span></dt><dd>m/s</dd><dt><span>description :</span></dt><dd></dd></dl></div><div class='xr-var-data'>dask.array<getitem, shape=(1152490,), dtype=float32, chunksize=(199536,), chunktype=numpy.ndarray></div></li><li class='xr-var-item'><div class='xr-var-name'><span>Error</span></div><div class='xr-var-dims'>(time)</div><div class='xr-var-dtype'>float32</div><div class='xr-var-preview xr-preview'>dask.array&lt;chunksize=(80990,), meta=np.ndarray&gt;</div><input id='attrs-5c20c273-f903-40d3-adbc-e76d271e4ba6' class='xr-var-attrs-in' type='checkbox' ><label for='attrs-5c20c273-f903-40d3-adbc-e76d271e4ba6' title='Show/Hide attributes'><svg class='icon xr-icon-file-text2'><use xlink:href='#icon-file-text2'></use></svg></label><input id='data-0715ae81-ec88-4ec2-8bdb-a63531c47941' class='xr-var-data-in' type='checkbox'><label for='data-0715ae81-ec88-4ec2-8bdb-a63531c47941' title='Show/Hide data repr'><svg class='icon xr-icon-database'><use xlink:href='#icon-database'></use></svg></label><div class='xr-var-attrs'><dl class='xr-attrs'><dt><span>units :</span></dt><dd></dd><dt><span>description :</span></dt><dd></dd></dl></div><div class='xr-var-data'>dask.array<getitem, shape=(1152490,), dtype=float32, chunksize=(199536,), chunktype=numpy.ndarray></div></li><li class='xr-var-item'><div class='xr-var-name'><span>ExtendedStatus</span></div><div class='xr-var-dims'>(time)</div><div class='xr-var-dtype'>float32</div><div class='xr-var-preview xr-preview'>dask.array&lt;chunksize=(80990,), meta=np.ndarray&gt;</div><input id='attrs-c5a020e4-2be3-4a79-824d-688cc7d968cd' class='xr-var-attrs-in' type='checkbox' ><label for='attrs-c5a020e4-2be3-4a79-824d-688cc7d968cd' title='Show/Hide attributes'><svg class='icon xr-icon-file-text2'><use xlink:href='#icon-file-text2'></use></svg></label><input id='data-8fce6c86-a6f0-4d02-9def-cc27527378c4' class='xr-var-data-in' type='checkbox'><label for='data-8fce6c86-a6f0-4d02-9def-cc27527378c4' title='Show/Hide data repr'><svg class='icon xr-icon-database'><use xlink:href='#icon-database'></use></svg></label><div class='xr-var-attrs'><dl class='xr-attrs'><dt><span>units :</span></dt><dd></dd><dt><span>description :</span></dt><dd></dd></dl></div><div class='xr-var-data'>dask.array<getitem, shape=(1152490,), dtype=float32, chunksize=(199536,), chunktype=numpy.ndarray></div></li><li class='xr-var-item'><div class='xr-var-name'><span>Status</span></div><div class='xr-var-dims'>(time)</div><div class='xr-var-dtype'>float64</div><div class='xr-var-preview xr-preview'>dask.array&lt;chunksize=(80990,), meta=np.ndarray&gt;</div><input id='attrs-b0ec0af5-add1-4c4a-9b51-5e59ed164f67' class='xr-var-attrs-in' type='checkbox' ><label for='attrs-b0ec0af5-add1-4c4a-9b51-5e59ed164f67' title='Show/Hide attributes'><svg class='icon xr-icon-file-text2'><use xlink:href='#icon-file-text2'></use></svg></label><input id='data-dc6516f8-8182-425f-8aa7-453bcff299fc' class='xr-var-data-in' type='checkbox'><label for='data-dc6516f8-8182-425f-8aa7-453bcff299fc' title='Show/Hide data repr'><svg class='icon xr-icon-database'><use xlink:href='#icon-database'></use></svg></label><div class='xr-var-attrs'><dl class='xr-attrs'><dt><span>units :</span></dt><dd></dd><dt><span>description :</span></dt><dd></dd></dl></div><div class='xr-var-data'>dask.array<getitem, shape=(1152490,), dtype=float64, chunksize=(199536,), chunktype=numpy.ndarray></div></li><li class='xr-var-item'><div class='xr-var-name'><span>CellSize</span></div><div class='xr-var-dims'>(time)</div><div class='xr-var-dtype'>float32</div><div class='xr-var-preview xr-preview'>dask.array&lt;chunksize=(80990,), meta=np.ndarray&gt;</div><input id='attrs-68f1704f-82ef-4fef-a391-e5e30151739b' class='xr-var-attrs-in' type='checkbox' ><label for='attrs-68f1704f-82ef-4fef-a391-e5e30151739b' title='Show/Hide attributes'><svg class='icon xr-icon-file-text2'><use xlink:href='#icon-file-text2'></use></svg></label><input id='data-494deedb-c5df-4064-9916-67f73015ef40' class='xr-var-data-in' type='checkbox'><label for='data-494deedb-c5df-4064-9916-67f73015ef40' title='Show/Hide data repr'><svg class='icon xr-icon-database'><use xlink:href='#icon-database'></use></svg></label><div class='xr-var-attrs'><dl class='xr-attrs'><dt><span>units :</span></dt><dd>m</dd><dt><span>description :</span></dt><dd>Cell Size</dd></dl></div><div class='xr-var-data'>dask.array<getitem, shape=(1152490,), dtype=float32, chunksize=(199536,), chunktype=numpy.ndarray></div></li><li class='xr-var-item'><div class='xr-var-name'><span>NumberofCells</span></div><div class='xr-var-dims'>(time)</div><div class='xr-var-dtype'>float32</div><div class='xr-var-preview xr-preview'>dask.array&lt;chunksize=(80990,), meta=np.ndarray&gt;</div><input id='attrs-beb0ba48-5a8c-4150-a8ed-d06b385f53c6' class='xr-var-attrs-in' type='checkbox' ><label for='attrs-beb0ba48-5a8c-4150-a8ed-d06b385f53c6' title='Show/Hide attributes'><svg class='icon xr-icon-file-text2'><use xlink:href='#icon-file-text2'></use></svg></label><input id='data-a72022a2-62d5-428d-a93b-59d927c8e125' class='xr-var-data-in' type='checkbox'><label for='data-a72022a2-62d5-428d-a93b-59d927c8e125' title='Show/Hide data repr'><svg class='icon xr-icon-database'><use xlink:href='#icon-database'></use></svg></label><div class='xr-var-attrs'><dl class='xr-attrs'><dt><span>units :</span></dt><dd></dd><dt><span>description :</span></dt><dd>Number of cells</dd></dl></div><div class='xr-var-data'>dask.array<getitem, shape=(1152490,), dtype=float32, chunksize=(199536,), chunktype=numpy.ndarray></div></li><li class='xr-var-item'><div class='xr-var-name'><span>Blanking</span></div><div class='xr-var-dims'>(time)</div><div class='xr-var-dtype'>float64</div><div class='xr-var-preview xr-preview'>dask.array&lt;chunksize=(80990,), meta=np.ndarray&gt;</div><input id='attrs-19e569b0-e5de-4a0b-b4c8-16caeb2f6ec7' class='xr-var-attrs-in' type='checkbox' ><label for='attrs-19e569b0-e5de-4a0b-b4c8-16caeb2f6ec7' title='Show/Hide attributes'><svg class='icon xr-icon-file-text2'><use xlink:href='#icon-file-text2'></use></svg></label><input id='data-d66abd28-c5bb-4368-aba7-e4eb3debceaa' class='xr-var-data-in' type='checkbox'><label for='data-d66abd28-c5bb-4368-aba7-e4eb3debceaa' title='Show/Hide data repr'><svg class='icon xr-icon-database'><use xlink:href='#icon-database'></use></svg></label><div class='xr-var-attrs'><dl class='xr-attrs'><dt><span>units :</span></dt><dd>m</dd><dt><span>description :</span></dt><dd>Blanking</dd></dl></div><div class='xr-var-data'>dask.array<getitem, shape=(1152490,), dtype=float64, chunksize=(199536,), chunktype=numpy.ndarray></div></li><li class='xr-var-item'><div class='xr-var-name'><span>NominalCorrelation</span></div><div class='xr-var-dims'>(time)</div><div class='xr-var-dtype'>float32</div><div class='xr-var-preview xr-preview'>dask.array&lt;chunksize=(80990,), meta=np.ndarray&gt;</div><input id='attrs-0d812288-9c39-41eb-8cd9-6d65dafd401c' class='xr-var-attrs-in' type='checkbox' ><label for='attrs-0d812288-9c39-41eb-8cd9-6d65dafd401c' title='Show/Hide attributes'><svg class='icon xr-icon-file-text2'><use xlink:href='#icon-file-text2'></use></svg></label><input id='data-79b05190-a440-42d1-8e8e-da9e95b2380d' class='xr-var-data-in' type='checkbox'><label for='data-79b05190-a440-42d1-8e8e-da9e95b2380d' title='Show/Hide data repr'><svg class='icon xr-icon-database'><use xlink:href='#icon-database'></use></svg></label><div class='xr-var-attrs'><dl class='xr-attrs'><dt><span>units :</span></dt><dd>%</dd><dt><span>description :</span></dt><dd>Nominal Correlation</dd></dl></div><div class='xr-var-data'>dask.array<getitem, shape=(1152490,), dtype=float32, chunksize=(199536,), chunktype=numpy.ndarray></div></li><li class='xr-var-item'><div class='xr-var-name'><span>Battery</span></div><div class='xr-var-dims'>(time)</div><div class='xr-var-dtype'>float32</div><div class='xr-var-preview xr-preview'>dask.array&lt;chunksize=(80990,), meta=np.ndarray&gt;</div><input id='attrs-7a604076-6319-4808-956a-c5201cdb6f2b' class='xr-var-attrs-in' type='checkbox' ><label for='attrs-7a604076-6319-4808-956a-c5201cdb6f2b' title='Show/Hide attributes'><svg class='icon xr-icon-file-text2'><use xlink:href='#icon-file-text2'></use></svg></label><input id='data-ba9b8eb2-f9b6-4fe3-85c3-8387a35d15a6' class='xr-var-data-in' type='checkbox'><label for='data-ba9b8eb2-f9b6-4fe3-85c3-8387a35d15a6' title='Show/Hide data repr'><svg class='icon xr-icon-database'><use xlink:href='#icon-database'></use></svg></label><div class='xr-var-attrs'><dl class='xr-attrs'><dt><span>units :</span></dt><dd>V</dd><dt><span>description :</span></dt><dd>Battery status</dd></dl></div><div class='xr-var-data'>dask.array<getitem, shape=(1152490,), dtype=float32, chunksize=(199536,), chunktype=numpy.ndarray></div></li><li class='xr-var-item'><div class='xr-var-name'><span>MagnetometerX</span></div><div class='xr-var-dims'>(time)</div><div class='xr-var-dtype'>float32</div><div class='xr-var-preview xr-preview'>dask.array&lt;chunksize=(80990,), meta=np.ndarray&gt;</div><input id='attrs-65adb59d-34fd-4da0-8c28-9135fff9eade' class='xr-var-attrs-in' type='checkbox' ><label for='attrs-65adb59d-34fd-4da0-8c28-9135fff9eade' title='Show/Hide attributes'><svg class='icon xr-icon-file-text2'><use xlink:href='#icon-file-text2'></use></svg></label><input id='data-939c3ae6-aef9-4e29-945e-b49c546f6bb2' class='xr-var-data-in' type='checkbox'><label for='data-939c3ae6-aef9-4e29-945e-b49c546f6bb2' title='Show/Hide data repr'><svg class='icon xr-icon-database'><use xlink:href='#icon-database'></use></svg></label><div class='xr-var-attrs'><dl class='xr-attrs'><dt><span>units :</span></dt><dd></dd><dt><span>description :</span></dt><dd>Magnetometer reading in last measurement interval</dd></dl></div><div class='xr-var-data'>dask.array<getitem, shape=(1152490,), dtype=float32, chunksize=(199536,), chunktype=numpy.ndarray></div></li><li class='xr-var-item'><div class='xr-var-name'><span>MagnetometerY</span></div><div class='xr-var-dims'>(time)</div><div class='xr-var-dtype'>float32</div><div class='xr-var-preview xr-preview'>dask.array&lt;chunksize=(80990,), meta=np.ndarray&gt;</div><input id='attrs-b3bc5f2e-5eb0-4222-aef7-90f280d96f64' class='xr-var-attrs-in' type='checkbox' ><label for='attrs-b3bc5f2e-5eb0-4222-aef7-90f280d96f64' title='Show/Hide attributes'><svg class='icon xr-icon-file-text2'><use xlink:href='#icon-file-text2'></use></svg></label><input id='data-21e5b7ff-ce33-4c7f-83f2-d73e061da2c2' class='xr-var-data-in' type='checkbox'><label for='data-21e5b7ff-ce33-4c7f-83f2-d73e061da2c2' title='Show/Hide data repr'><svg class='icon xr-icon-database'><use xlink:href='#icon-database'></use></svg></label><div class='xr-var-attrs'><dl class='xr-attrs'><dt><span>units :</span></dt><dd></dd><dt><span>description :</span></dt><dd>Magnetometer reading in last measurement interval</dd></dl></div><div class='xr-var-data'>dask.array<getitem, shape=(1152490,), dtype=float32, chunksize=(199536,), chunktype=numpy.ndarray></div></li><li class='xr-var-item'><div class='xr-var-name'><span>MagnetometerZ</span></div><div class='xr-var-dims'>(time)</div><div class='xr-var-dtype'>float32</div><div class='xr-var-preview xr-preview'>dask.array&lt;chunksize=(80990,), meta=np.ndarray&gt;</div><input id='attrs-35c209ba-6970-4427-b5db-714cb0485ad9' class='xr-var-attrs-in' type='checkbox' ><label for='attrs-35c209ba-6970-4427-b5db-714cb0485ad9' title='Show/Hide attributes'><svg class='icon xr-icon-file-text2'><use xlink:href='#icon-file-text2'></use></svg></label><input id='data-1ab7f37f-42b9-4bd5-af24-9c57219405fa' class='xr-var-data-in' type='checkbox'><label for='data-1ab7f37f-42b9-4bd5-af24-9c57219405fa' title='Show/Hide data repr'><svg class='icon xr-icon-database'><use xlink:href='#icon-database'></use></svg></label><div class='xr-var-attrs'><dl class='xr-attrs'><dt><span>units :</span></dt><dd></dd><dt><span>description :</span></dt><dd>Magnetometer reading in last measurement interval</dd></dl></div><div class='xr-var-data'>dask.array<getitem, shape=(1152490,), dtype=float32, chunksize=(199536,), chunktype=numpy.ndarray></div></li><li class='xr-var-item'><div class='xr-var-name'><span>AccelerometerX</span></div><div class='xr-var-dims'>(time)</div><div class='xr-var-dtype'>float32</div><div class='xr-var-preview xr-preview'>dask.array&lt;chunksize=(80990,), meta=np.ndarray&gt;</div><input id='attrs-fd625660-fe8d-45c2-aa7d-e5d461a16208' class='xr-var-attrs-in' type='checkbox' ><label for='attrs-fd625660-fe8d-45c2-aa7d-e5d461a16208' title='Show/Hide attributes'><svg class='icon xr-icon-file-text2'><use xlink:href='#icon-file-text2'></use></svg></label><input id='data-ff0b305d-1a22-485c-8f52-87e3b7ae9101' class='xr-var-data-in' type='checkbox'><label for='data-ff0b305d-1a22-485c-8f52-87e3b7ae9101' title='Show/Hide data repr'><svg class='icon xr-icon-database'><use xlink:href='#icon-database'></use></svg></label><div class='xr-var-attrs'><dl class='xr-attrs'><dt><span>units :</span></dt><dd>g</dd><dt><span>description :</span></dt><dd>Accelerometer reading in last measurement interval</dd></dl></div><div class='xr-var-data'>dask.array<getitem, shape=(1152490,), dtype=float32, chunksize=(199536,), chunktype=numpy.ndarray></div></li><li class='xr-var-item'><div class='xr-var-name'><span>AccelerometerY</span></div><div class='xr-var-dims'>(time)</div><div class='xr-var-dtype'>float32</div><div class='xr-var-preview xr-preview'>dask.array&lt;chunksize=(80990,), meta=np.ndarray&gt;</div><input id='attrs-c5cd4787-1f6b-47ef-9896-eab7b644c15d' class='xr-var-attrs-in' type='checkbox' ><label for='attrs-c5cd4787-1f6b-47ef-9896-eab7b644c15d' title='Show/Hide attributes'><svg class='icon xr-icon-file-text2'><use xlink:href='#icon-file-text2'></use></svg></label><input id='data-159a7688-a7e9-4d2e-8ef9-4627f9c2f584' class='xr-var-data-in' type='checkbox'><label for='data-159a7688-a7e9-4d2e-8ef9-4627f9c2f584' title='Show/Hide data repr'><svg class='icon xr-icon-database'><use xlink:href='#icon-database'></use></svg></label><div class='xr-var-attrs'><dl class='xr-attrs'><dt><span>units :</span></dt><dd>g</dd><dt><span>description :</span></dt><dd>Accelerometer reading in last measurement interval</dd></dl></div><div class='xr-var-data'>dask.array<getitem, shape=(1152490,), dtype=float32, chunksize=(199536,), chunktype=numpy.ndarray></div></li><li class='xr-var-item'><div class='xr-var-name'><span>AccelerometerZ</span></div><div class='xr-var-dims'>(time)</div><div class='xr-var-dtype'>float32</div><div class='xr-var-preview xr-preview'>dask.array&lt;chunksize=(80990,), meta=np.ndarray&gt;</div><input id='attrs-76fa2cae-1d0e-48c9-923b-d3f5a3f38a68' class='xr-var-attrs-in' type='checkbox' ><label for='attrs-76fa2cae-1d0e-48c9-923b-d3f5a3f38a68' title='Show/Hide attributes'><svg class='icon xr-icon-file-text2'><use xlink:href='#icon-file-text2'></use></svg></label><input id='data-d47401b1-da52-40f9-8190-000539ec379c' class='xr-var-data-in' type='checkbox'><label for='data-d47401b1-da52-40f9-8190-000539ec379c' title='Show/Hide data repr'><svg class='icon xr-icon-database'><use xlink:href='#icon-database'></use></svg></label><div class='xr-var-attrs'><dl class='xr-attrs'><dt><span>units :</span></dt><dd>g</dd><dt><span>description :</span></dt><dd>Accelerometer reading in last measurement interval</dd></dl></div><div class='xr-var-data'>dask.array<getitem, shape=(1152490,), dtype=float32, chunksize=(199536,), chunktype=numpy.ndarray></div></li><li class='xr-var-item'><div class='xr-var-name'><span>Ambiguity</span></div><div class='xr-var-dims'>(time)</div><div class='xr-var-dtype'>float32</div><div class='xr-var-preview xr-preview'>dask.array&lt;chunksize=(80990,), meta=np.ndarray&gt;</div><input id='attrs-9fd8e42a-1d96-423b-ad50-658ec4eee003' class='xr-var-attrs-in' type='checkbox' ><label for='attrs-9fd8e42a-1d96-423b-ad50-658ec4eee003' title='Show/Hide attributes'><svg class='icon xr-icon-file-text2'><use xlink:href='#icon-file-text2'></use></svg></label><input id='data-bdab84c0-d700-44db-b686-f9f014239c86' class='xr-var-data-in' type='checkbox'><label for='data-bdab84c0-d700-44db-b686-f9f014239c86' title='Show/Hide data repr'><svg class='icon xr-icon-database'><use xlink:href='#icon-database'></use></svg></label><div class='xr-var-attrs'><dl class='xr-attrs'><dt><span>units :</span></dt><dd>m/s</dd><dt><span>description :</span></dt><dd>Ambiguity velocity corrected for sound velocity</dd></dl></div><div class='xr-var-data'>dask.array<getitem, shape=(1152490,), dtype=float32, chunksize=(199536,), chunktype=numpy.ndarray></div></li><li class='xr-var-item'><div class='xr-var-name'><span>TransmitEnergy</span></div><div class='xr-var-dims'>(time)</div><div class='xr-var-dtype'>float32</div><div class='xr-var-preview xr-preview'>dask.array&lt;chunksize=(80990,), meta=np.ndarray&gt;</div><input id='attrs-12d4d8b4-2822-4b6f-98ca-9c43573e2c0c' class='xr-var-attrs-in' type='checkbox' ><label for='attrs-12d4d8b4-2822-4b6f-98ca-9c43573e2c0c' title='Show/Hide attributes'><svg class='icon xr-icon-file-text2'><use xlink:href='#icon-file-text2'></use></svg></label><input id='data-36fc99af-a84d-462f-bb57-7c1d4999d0e2' class='xr-var-data-in' type='checkbox'><label for='data-36fc99af-a84d-462f-bb57-7c1d4999d0e2' title='Show/Hide data repr'><svg class='icon xr-icon-database'><use xlink:href='#icon-database'></use></svg></label><div class='xr-var-attrs'><dl class='xr-attrs'><dt><span>units :</span></dt><dd></dd><dt><span>description :</span></dt><dd>Transmit Energy</dd></dl></div><div class='xr-var-data'>dask.array<getitem, shape=(1152490,), dtype=float32, chunksize=(199536,), chunktype=numpy.ndarray></div></li><li class='xr-var-item'><div class='xr-var-name'><span>PowerLevel</span></div><div class='xr-var-dims'>(time)</div><div class='xr-var-dtype'>float32</div><div class='xr-var-preview xr-preview'>dask.array&lt;chunksize=(80990,), meta=np.ndarray&gt;</div><input id='attrs-63db6335-fa94-44f1-992f-b2d654d5a515' class='xr-var-attrs-in' type='checkbox' ><label for='attrs-63db6335-fa94-44f1-992f-b2d654d5a515' title='Show/Hide attributes'><svg class='icon xr-icon-file-text2'><use xlink:href='#icon-file-text2'></use></svg></label><input id='data-d0dd06d7-aec5-4cc9-bd37-8a150168a9f5' class='xr-var-data-in' type='checkbox'><label for='data-d0dd06d7-aec5-4cc9-bd37-8a150168a9f5' title='Show/Hide data repr'><svg class='icon xr-icon-database'><use xlink:href='#icon-database'></use></svg></label><div class='xr-var-attrs'><dl class='xr-attrs'><dt><span>units :</span></dt><dd>dB</dd><dt><span>description :</span></dt><dd>Transmit Power Level</dd></dl></div><div class='xr-var-data'>dask.array<getitem, shape=(1152490,), dtype=float32, chunksize=(199536,), chunktype=numpy.ndarray></div></li><li class='xr-var-item'><div class='xr-var-name'><span>Physicalbeam</span></div><div class='xr-var-dims'>(Physicalbeam_dim, time)</div><div class='xr-var-dtype'>float32</div><div class='xr-var-preview xr-preview'>dask.array&lt;chunksize=(4, 80990), meta=np.ndarray&gt;</div><input id='attrs-5a342db8-6b8a-47ee-9495-7e1baed0fa4f' class='xr-var-attrs-in' type='checkbox' ><label for='attrs-5a342db8-6b8a-47ee-9495-7e1baed0fa4f' title='Show/Hide attributes'><svg class='icon xr-icon-file-text2'><use xlink:href='#icon-file-text2'></use></svg></label><input id='data-ab79a45f-2bd2-41a9-879d-96b02a81d971' class='xr-var-data-in' type='checkbox'><label for='data-ab79a45f-2bd2-41a9-879d-96b02a81d971' title='Show/Hide data repr'><svg class='icon xr-icon-database'><use xlink:href='#icon-database'></use></svg></label><div class='xr-var-attrs'><dl class='xr-attrs'><dt><span>units :</span></dt><dd></dd><dt><span>description :</span></dt><dd>Physical beam corresponding to each data set</dd></dl></div><div class='xr-var-data'>dask.array<transpose, shape=(4, 1152490), dtype=float32, chunksize=(4, 199536), chunktype=numpy.ndarray></div></li><li class='xr-var-item'><div class='xr-var-name'><span>MagnetometerTemperature</span></div><div class='xr-var-dims'>(time)</div><div class='xr-var-dtype'>float32</div><div class='xr-var-preview xr-preview'>dask.array&lt;chunksize=(80990,), meta=np.ndarray&gt;</div><input id='attrs-dcd2eb52-ce70-4050-822b-43da1e36ed0e' class='xr-var-attrs-in' type='checkbox' ><label for='attrs-dcd2eb52-ce70-4050-822b-43da1e36ed0e' title='Show/Hide attributes'><svg class='icon xr-icon-file-text2'><use xlink:href='#icon-file-text2'></use></svg></label><input id='data-0a5a1754-a291-4a1e-814b-fbcec8143976' class='xr-var-data-in' type='checkbox'><label for='data-0a5a1754-a291-4a1e-814b-fbcec8143976' title='Show/Hide data repr'><svg class='icon xr-icon-database'><use xlink:href='#icon-database'></use></svg></label><div class='xr-var-attrs'><dl class='xr-attrs'><dt><span>units :</span></dt><dd>---</dd><dt><span>description :</span></dt><dd>Uncalibrated temperature reading from the magnetometer</dd></dl></div><div class='xr-var-data'>dask.array<getitem, shape=(1152490,), dtype=float32, chunksize=(199536,), chunktype=numpy.ndarray></div></li><li class='xr-var-item'><div class='xr-var-name'><span>RTCTemperature</span></div><div class='xr-var-dims'>(time)</div><div class='xr-var-dtype'>float32</div><div class='xr-var-preview xr-preview'>dask.array&lt;chunksize=(80990,), meta=np.ndarray&gt;</div><input id='attrs-0e682ec1-cf62-4a2f-b391-96554f04bc31' class='xr-var-attrs-in' type='checkbox' ><label for='attrs-0e682ec1-cf62-4a2f-b391-96554f04bc31' title='Show/Hide attributes'><svg class='icon xr-icon-file-text2'><use xlink:href='#icon-file-text2'></use></svg></label><input id='data-45178c19-323e-4c8d-89c4-adc1d1b8537d' class='xr-var-data-in' type='checkbox'><label for='data-45178c19-323e-4c8d-89c4-adc1d1b8537d' title='Show/Hide data repr'><svg class='icon xr-icon-database'><use xlink:href='#icon-database'></use></svg></label><div class='xr-var-attrs'><dl class='xr-attrs'><dt><span>units :</span></dt><dd>C</dd><dt><span>description :</span></dt><dd>Real time clock temperature</dd></dl></div><div class='xr-var-data'>dask.array<getitem, shape=(1152490,), dtype=float32, chunksize=(199536,), chunktype=numpy.ndarray></div></li><li class='xr-var-item'><div class='xr-var-name'><span>PressureSensorTemperature</span></div><div class='xr-var-dims'>(time)</div><div class='xr-var-dtype'>float32</div><div class='xr-var-preview xr-preview'>dask.array&lt;chunksize=(80990,), meta=np.ndarray&gt;</div><input id='attrs-60848b95-7b21-4447-90ea-69426a4915de' class='xr-var-attrs-in' type='checkbox' ><label for='attrs-60848b95-7b21-4447-90ea-69426a4915de' title='Show/Hide attributes'><svg class='icon xr-icon-file-text2'><use xlink:href='#icon-file-text2'></use></svg></label><input id='data-d3195d68-d5ed-40c1-87be-c547cd83c755' class='xr-var-data-in' type='checkbox'><label for='data-d3195d68-d5ed-40c1-87be-c547cd83c755' title='Show/Hide data repr'><svg class='icon xr-icon-database'><use xlink:href='#icon-database'></use></svg></label><div class='xr-var-attrs'><dl class='xr-attrs'><dt><span>units :</span></dt><dd>C</dd><dt><span>description :</span></dt><dd>Pressure sensor temperature</dd></dl></div><div class='xr-var-data'>dask.array<getitem, shape=(1152490,), dtype=float32, chunksize=(199536,), chunktype=numpy.ndarray></div></li><li class='xr-var-item'><div class='xr-var-name'><span>EnsembleCount</span></div><div class='xr-var-dims'>(time)</div><div class='xr-var-dtype'>float64</div><div class='xr-var-preview xr-preview'>dask.array&lt;chunksize=(80990,), meta=np.ndarray&gt;</div><input id='attrs-d556bf0d-7814-4269-89e3-0a6adfcdb2d1' class='xr-var-attrs-in' type='checkbox' ><label for='attrs-d556bf0d-7814-4269-89e3-0a6adfcdb2d1' title='Show/Hide attributes'><svg class='icon xr-icon-file-text2'><use xlink:href='#icon-file-text2'></use></svg></label><input id='data-47a72bdd-86a4-4177-8508-6cd8eae28720' class='xr-var-data-in' type='checkbox'><label for='data-47a72bdd-86a4-4177-8508-6cd8eae28720' title='Show/Hide data repr'><svg class='icon xr-icon-database'><use xlink:href='#icon-database'></use></svg></label><div class='xr-var-attrs'><dl class='xr-attrs'><dt><span>units :</span></dt><dd></dd><dt><span>description :</span></dt><dd></dd></dl></div><div class='xr-var-data'>dask.array<getitem, shape=(1152490,), dtype=float64, chunksize=(199536,), chunktype=numpy.ndarray></div></li><li class='xr-var-item'><div class='xr-var-name'><span>WaterTemperature</span></div><div class='xr-var-dims'>(time)</div><div class='xr-var-dtype'>float32</div><div class='xr-var-preview xr-preview'>dask.array&lt;chunksize=(80990,), meta=np.ndarray&gt;</div><input id='attrs-b59a687b-88dd-4894-a3a9-b2f250265ad5' class='xr-var-attrs-in' type='checkbox' ><label for='attrs-b59a687b-88dd-4894-a3a9-b2f250265ad5' title='Show/Hide attributes'><svg class='icon xr-icon-file-text2'><use xlink:href='#icon-file-text2'></use></svg></label><input id='data-216a6057-de4a-4440-83a8-1d74f946e294' class='xr-var-data-in' type='checkbox'><label for='data-216a6057-de4a-4440-83a8-1d74f946e294' title='Show/Hide data repr'><svg class='icon xr-icon-database'><use xlink:href='#icon-database'></use></svg></label><div class='xr-var-attrs'><dl class='xr-attrs'><dt><span>units :</span></dt><dd>C</dd><dt><span>description :</span></dt><dd></dd></dl></div><div class='xr-var-data'>dask.array<getitem, shape=(1152490,), dtype=float32, chunksize=(199536,), chunktype=numpy.ndarray></div></li><li class='xr-var-item'><div class='xr-var-name'><span>Heading</span></div><div class='xr-var-dims'>(time)</div><div class='xr-var-dtype'>float32</div><div class='xr-var-preview xr-preview'>dask.array&lt;chunksize=(80990,), meta=np.ndarray&gt;</div><input id='attrs-a19f518b-e2cf-42c9-95ee-3c6fa23ab7f9' class='xr-var-attrs-in' type='checkbox' ><label for='attrs-a19f518b-e2cf-42c9-95ee-3c6fa23ab7f9' title='Show/Hide attributes'><svg class='icon xr-icon-file-text2'><use xlink:href='#icon-file-text2'></use></svg></label><input id='data-938949b5-341a-474f-9c9a-daa6235f94e2' class='xr-var-data-in' type='checkbox'><label for='data-938949b5-341a-474f-9c9a-daa6235f94e2' title='Show/Hide data repr'><svg class='icon xr-icon-database'><use xlink:href='#icon-database'></use></svg></label><div class='xr-var-attrs'><dl class='xr-attrs'><dt><span>units :</span></dt><dd>Degrees</dd><dt><span>description :</span></dt><dd></dd></dl></div><div class='xr-var-data'>dask.array<getitem, shape=(1152490,), dtype=float32, chunksize=(199536,), chunktype=numpy.ndarray></div></li><li class='xr-var-item'><div class='xr-var-name'><span>Pitch</span></div><div class='xr-var-dims'>(time)</div><div class='xr-var-dtype'>float32</div><div class='xr-var-preview xr-preview'>dask.array&lt;chunksize=(80990,), meta=np.ndarray&gt;</div><input id='attrs-fdd3e164-7d60-4c2c-b6a0-7fde2bcd53cd' class='xr-var-attrs-in' type='checkbox' ><label for='attrs-fdd3e164-7d60-4c2c-b6a0-7fde2bcd53cd' title='Show/Hide attributes'><svg class='icon xr-icon-file-text2'><use xlink:href='#icon-file-text2'></use></svg></label><input id='data-50953104-6b92-40b6-81a7-6cd64b53ae41' class='xr-var-data-in' type='checkbox'><label for='data-50953104-6b92-40b6-81a7-6cd64b53ae41' title='Show/Hide data repr'><svg class='icon xr-icon-database'><use xlink:href='#icon-database'></use></svg></label><div class='xr-var-attrs'><dl class='xr-attrs'><dt><span>units :</span></dt><dd>Degrees</dd><dt><span>description :</span></dt><dd></dd></dl></div><div class='xr-var-data'>dask.array<getitem, shape=(1152490,), dtype=float32, chunksize=(199536,), chunktype=numpy.ndarray></div></li><li class='xr-var-item'><div class='xr-var-name'><span>Roll</span></div><div class='xr-var-dims'>(time)</div><div class='xr-var-dtype'>float32</div><div class='xr-var-preview xr-preview'>dask.array&lt;chunksize=(80990,), meta=np.ndarray&gt;</div><input id='attrs-237715ab-a015-4fa3-9fea-f21aa7ed5aa6' class='xr-var-attrs-in' type='checkbox' ><label for='attrs-237715ab-a015-4fa3-9fea-f21aa7ed5aa6' title='Show/Hide attributes'><svg class='icon xr-icon-file-text2'><use xlink:href='#icon-file-text2'></use></svg></label><input id='data-c2cc6eef-301c-494d-b95e-45e69bd800a5' class='xr-var-data-in' type='checkbox'><label for='data-c2cc6eef-301c-494d-b95e-45e69bd800a5' title='Show/Hide data repr'><svg class='icon xr-icon-database'><use xlink:href='#icon-database'></use></svg></label><div class='xr-var-attrs'><dl class='xr-attrs'><dt><span>units :</span></dt><dd>Degrees</dd><dt><span>description :</span></dt><dd></dd></dl></div><div class='xr-var-data'>dask.array<getitem, shape=(1152490,), dtype=float32, chunksize=(199536,), chunktype=numpy.ndarray></div></li><li class='xr-var-item'><div class='xr-var-name'><span>Depth</span></div><div class='xr-var-dims'>(time)</div><div class='xr-var-dtype'>float64</div><div class='xr-var-preview xr-preview'>0.85 0.9305 ... 0.8251 0.8928</div><input id='attrs-f4548a89-8720-422e-8c91-d3fc19a06497' class='xr-var-attrs-in' type='checkbox' disabled><label for='attrs-f4548a89-8720-422e-8c91-d3fc19a06497' title='Show/Hide attributes'><svg class='icon xr-icon-file-text2'><use xlink:href='#icon-file-text2'></use></svg></label><input id='data-1bdb9b66-b711-4a44-9838-0616f9a87d20' class='xr-var-data-in' type='checkbox'><label for='data-1bdb9b66-b711-4a44-9838-0616f9a87d20' title='Show/Hide data repr'><svg class='icon xr-icon-database'><use xlink:href='#icon-database'></use></svg></label><div class='xr-var-attrs'><dl class='xr-attrs'></dl></div><div class='xr-var-data'><pre>array([0.85000197, 0.93052829, 0.90070373, ..., 0.81520664, 0.82514816,\n",
       "       0.89275051])</pre></div></li></ul></div></li><li class='xr-section-item'><input id='section-694ba8d4-e31f-4b78-ae49-e4b11fda302e' class='xr-section-summary-in' type='checkbox'  ><label for='section-694ba8d4-e31f-4b78-ae49-e4b11fda302e' class='xr-section-summary' >Indexes: <span>(4)</span></label><div class='xr-section-inline-details'></div><div class='xr-section-details'><ul class='xr-var-list'><li class='xr-var-item'><div class='xr-index-name'><div>time</div></div><div class='xr-index-preview'>PandasIndex</div><input type='checkbox' disabled/><label></label><input id='index-72d599a1-f45b-4cc9-943c-74be6601851a' class='xr-index-data-in' type='checkbox'/><label for='index-72d599a1-f45b-4cc9-943c-74be6601851a' title='Show/Hide index repr'><svg class='icon xr-icon-database'><use xlink:href='#icon-database'></use></svg></label><div class='xr-index-data'><pre>PandasIndex(DatetimeIndex([&#x27;2024-04-19 14:32:13.438299904&#x27;,\n",
       "               &#x27;2024-04-19 14:32:18.438299904&#x27;,\n",
       "                  &#x27;2024-04-19 14:32:23.438400&#x27;,\n",
       "               &#x27;2024-04-19 14:32:28.438299904&#x27;,\n",
       "                  &#x27;2024-04-19 14:32:33.438400&#x27;,\n",
       "                  &#x27;2024-04-19 14:32:38.438400&#x27;,\n",
       "                  &#x27;2024-04-19 14:32:43.438400&#x27;,\n",
       "               &#x27;2024-04-19 14:32:48.438299904&#x27;,\n",
       "                  &#x27;2024-04-19 14:32:53.438400&#x27;,\n",
       "                  &#x27;2024-04-19 14:32:58.438400&#x27;,\n",
       "               ...\n",
       "                  &#x27;2024-06-30 16:48:06.438400&#x27;,\n",
       "                  &#x27;2024-06-30 16:48:11.438400&#x27;,\n",
       "               &#x27;2024-06-30 16:48:16.438299904&#x27;,\n",
       "                  &#x27;2024-06-30 16:48:21.438400&#x27;,\n",
       "               &#x27;2024-06-30 16:48:26.438299904&#x27;,\n",
       "               &#x27;2024-06-30 16:48:31.438299904&#x27;,\n",
       "               &#x27;2024-06-30 16:48:36.438299904&#x27;,\n",
       "               &#x27;2024-06-30 16:48:41.438299904&#x27;,\n",
       "                  &#x27;2024-06-30 16:48:46.438400&#x27;,\n",
       "               &#x27;2024-06-30 16:48:51.438299904&#x27;],\n",
       "              dtype=&#x27;datetime64[ns]&#x27;, name=&#x27;time&#x27;, length=1152490, freq=None))</pre></div></li><li class='xr-var-item'><div class='xr-index-name'><div>VelocityRange</div></div><div class='xr-index-preview'>PandasIndex</div><input type='checkbox' disabled/><label></label><input id='index-fd39ba80-44a4-417d-97c9-4fc0154aaad8' class='xr-index-data-in' type='checkbox'/><label for='index-fd39ba80-44a4-417d-97c9-4fc0154aaad8' title='Show/Hide index repr'><svg class='icon xr-icon-database'><use xlink:href='#icon-database'></use></svg></label><div class='xr-index-data'><pre>PandasIndex(Index([ 2.200000047683716,  4.199999809265137,  6.199999809265137,\n",
       "        8.199999809265137, 10.199999809265137, 12.199999809265137,\n",
       "       14.199999809265137, 16.200000762939453, 18.200000762939453,\n",
       "       20.200000762939453, 22.200000762939453, 24.200000762939453,\n",
       "       26.200000762939453, 28.200000762939453, 30.200000762939453],\n",
       "      dtype=&#x27;float32&#x27;, name=&#x27;VelocityRange&#x27;))</pre></div></li><li class='xr-var-item'><div class='xr-index-name'><div>CorrelationRange</div></div><div class='xr-index-preview'>PandasIndex</div><input type='checkbox' disabled/><label></label><input id='index-10291a10-4b7d-469e-9f68-1757e6399c51' class='xr-index-data-in' type='checkbox'/><label for='index-10291a10-4b7d-469e-9f68-1757e6399c51' title='Show/Hide index repr'><svg class='icon xr-icon-database'><use xlink:href='#icon-database'></use></svg></label><div class='xr-index-data'><pre>PandasIndex(Index([ 2.200000047683716,  4.199999809265137,  6.199999809265137,\n",
       "        8.199999809265137, 10.199999809265137, 12.199999809265137,\n",
       "       14.199999809265137, 16.200000762939453, 18.200000762939453,\n",
       "       20.200000762939453, 22.200000762939453, 24.200000762939453,\n",
       "       26.200000762939453, 28.200000762939453, 30.200000762939453],\n",
       "      dtype=&#x27;float32&#x27;, name=&#x27;CorrelationRange&#x27;))</pre></div></li><li class='xr-var-item'><div class='xr-index-name'><div>AmplitudeRange</div></div><div class='xr-index-preview'>PandasIndex</div><input type='checkbox' disabled/><label></label><input id='index-7d2b2061-e6b8-410f-ac63-4ea3ae14547f' class='xr-index-data-in' type='checkbox'/><label for='index-7d2b2061-e6b8-410f-ac63-4ea3ae14547f' title='Show/Hide index repr'><svg class='icon xr-icon-database'><use xlink:href='#icon-database'></use></svg></label><div class='xr-index-data'><pre>PandasIndex(Index([ 2.200000047683716,  4.199999809265137,  6.199999809265137,\n",
       "        8.199999809265137, 10.199999809265137, 12.199999809265137,\n",
       "       14.199999809265137, 16.200000762939453, 18.200000762939453,\n",
       "       20.200000762939453, 22.200000762939453, 24.200000762939453,\n",
       "       26.200000762939453, 28.200000762939453, 30.200000762939453],\n",
       "      dtype=&#x27;float32&#x27;, name=&#x27;AmplitudeRange&#x27;))</pre></div></li></ul></div></li><li class='xr-section-item'><input id='section-4d0fcfd4-e484-48a1-8d10-afca56265b27' class='xr-section-summary-in' type='checkbox'  ><label for='section-4d0fcfd4-e484-48a1-8d10-afca56265b27' class='xr-section-summary' >Attributes: <span>(350)</span></label><div class='xr-section-inline-details'></div><div class='xr-section-details'><dl class='xr-attrs'><dt><span>instrumentOffsetTimeMatlab_description :</span></dt><dd>Offset from instrument time to platform time for on-line collected data (Matlab serial date number) (days)</dd><dt><span>File_ins_runTime :</span></dt><dd>442996000.0</dd><dt><span>File_ins_runTime_description :</span></dt><dd>Length of time data was collected (ms)</dd><dt><span>File_ins_name :</span></dt><dd>AD2CPRaw</dd><dt><span>File_ins_name_description :</span></dt><dd>Name of instrument</dd><dt><span>File_ins_typeName :</span></dt><dd></dd><dt><span>File_ins_typeName_description :</span></dt><dd>Type of instrument</dd><dt><span>File_file_filenum :</span></dt><dd>0</dd><dt><span>File_file_filenum_description :</span></dt><dd>File extension number</dd><dt><span>File_file_prefix :</span></dt><dd>RU29_ABC2DR.ad2cp</dd><dt><span>File_file_prefix_description :</span></dt><dd>Data file prefix</dd><dt><span>File_file_directory :</span></dt><dd>C:\\Users\\Brian Buckingham\\NortekData\\2024_12_09_ru29_challengers_netcdfs</dd><dt><span>File_file_directory_description :</span></dt><dd>Data file directory</dd><dt><span>File_file_endCondition :</span></dt><dd>1</dd><dt><span>File_file_endCondition_description :</span></dt><dd>File closed manually (0) or based on time(1), size(2) or number of records(4)</dd><dt><span>File_file_endAction :</span></dt><dd>1</dd><dt><span>File_file_endAction_description :</span></dt><dd>On completion, stop recording (0), create new file(1), close file(2), create new file with instrument restart(4)</dd><dt><span>File_file_endTime :</span></dt><dd>0.0</dd><dt><span>File_file_endTime_description :</span></dt><dd>Length of time that collection should run for (s)</dd><dt><span>File_file_endSize :</span></dt><dd>100000.0</dd><dt><span>File_file_endSize_description :</span></dt><dd>Size of data file to collect (KB)</dd><dt><span>File_file_endSets :</span></dt><dd>0.0</dd><dt><span>File_file_endSets_description :</span></dt><dd>Number of records to collect</dd><dt><span>ins_runTime :</span></dt><dd>0.0</dd><dt><span>ins_runTime_description :</span></dt><dd>Length of time data was collected (ms)</dd><dt><span>ins_name :</span></dt><dd>AD2CP</dd><dt><span>ins_name_description :</span></dt><dd>Name of instrument</dd><dt><span>ins_typeName :</span></dt><dd>AD2CP</dd><dt><span>ins_typeName_description :</span></dt><dd>Type of instrument</dd><dt><span>file_filenum :</span></dt><dd>0</dd><dt><span>file_filenum_description :</span></dt><dd>File extension number</dd><dt><span>file_prefix :</span></dt><dd>AD2CPData</dd><dt><span>file_prefix_description :</span></dt><dd>Data file prefix</dd><dt><span>file_directory :</span></dt><dd></dd><dt><span>file_directory_description :</span></dt><dd>Data file directory</dd><dt><span>file_endCondition :</span></dt><dd>0</dd><dt><span>file_endCondition_description :</span></dt><dd>File closed manually (0) or based on time(1), size(2) or number of records(4)</dd><dt><span>file_endAction :</span></dt><dd>0</dd><dt><span>file_endAction_description :</span></dt><dd>On completion, stop recording (0), create new file(1), close file(2), create new file with instrument restart(4)</dd><dt><span>file_endTime :</span></dt><dd>0.0</dd><dt><span>file_endTime_description :</span></dt><dd>Length of time that collection should run for (s)</dd><dt><span>file_endSize :</span></dt><dd>0.0</dd><dt><span>file_endSize_description :</span></dt><dd>Size of data file to collect (KB)</dd><dt><span>file_endSets :</span></dt><dd>0.0</dd><dt><span>file_endSets_description :</span></dt><dd>Number of records to collect</dd><dt><span>oscilloscopeMode :</span></dt><dd>0</dd><dt><span>oscilloscopeMode_description :</span></dt><dd>Oscilloscope mode enabled (1)/disabled (0)</dd><dt><span>plan_nstt :</span></dt><dd>0</dd><dt><span>plan_nstt_description :</span></dt><dd>Number of slots per second in plan</dd><dt><span>pressure :</span></dt><dd>1</dd><dt><span>pressure_description :</span></dt><dd>Pressure sensor installed</dd><dt><span>temperature :</span></dt><dd>1</dd><dt><span>temperature_description :</span></dt><dd>Temperature sensor installed</dd><dt><span>compass :</span></dt><dd>1</dd><dt><span>compass_description :</span></dt><dd>Compass installed</dd><dt><span>tilt :</span></dt><dd>1</dd><dt><span>tilt_description :</span></dt><dd>Tilt sensor installed</dd><dt><span>timeSync :</span></dt><dd>0</dd><dt><span>timeSync_description :</span></dt><dd>Time sync mode (0 = disabled, 1 = PTP, 2 = NTP)</dd><dt><span>alternateEnable :</span></dt><dd>0</dd><dt><span>alternateEnable_description :</span></dt><dd>Enable / disable the alternate configuration</dd><dt><span>plan_frequency :</span></dt><dd>1000</dd><dt><span>plan_frequency_description :</span></dt><dd>Transmit frequency when licensed (system dependent) (kHz)</dd><dt><span>plan_verticalDirection :</span></dt><dd>0</dd><dt><span>plan_verticalDirection_description :</span></dt><dd>Vertical Direction: 0=horizontal (4 beams), 1=descending(3 beams) 2=ascending (3 beams)</dd><dt><span>plan_maxVelocity :</span></dt><dd>10</dd><dt><span>plan_maxVelocity_description :</span></dt><dd>Absolute maximum vertical velocity (cm/s)</dd><dt><span>plan_powerUsage :</span></dt><dd>457.76</dd><dt><span>plan_powerUsage_description :</span></dt><dd>Power consumption for the current plan settings (mW)</dd><dt><span>soundVelocity :</span></dt><dd>0.0</dd><dt><span>soundVelocity_description :</span></dt><dd>Velocity of sound (1300-1700, 0 = calculated by sensor) (m/s)</dd><dt><span>salinity :</span></dt><dd>35.0</dd><dt><span>salinity_description :</span></dt><dd>Salinity (0.0-50.0) (ppt)</dd><dt><span>internalFilename :</span></dt><dd></dd><dt><span>internalFilename_description :</span></dt><dd>File name used for instrument storage</dd><dt><span>bursthr_enable :</span></dt><dd>0</dd><dt><span>bursthr_enable_description :</span></dt><dd>Enable HR mode for burst data</dd><dt><span>burst_enable :</span></dt><dd>0</dd><dt><span>burst_enable_description :</span></dt><dd>Burst mode enabled (1) or disabled (0)</dd><dt><span>bursthr_enable5 :</span></dt><dd>0</dd><dt><span>bursthr_enable5_description :</span></dt><dd>Enable high resolution mode on beam 5</dd><dt><span>burstAltimeter_enable :</span></dt><dd>0</dd><dt><span>avg_enable :</span></dt><dd>1</dd><dt><span>avg_enable_description :</span></dt><dd>Average mode enabled (1) or disabled (0)</dd><dt><span>avg_altimeter :</span></dt><dd>0</dd><dt><span>avg_altimeter_description :</span></dt><dd>Enable (1) / disable (0) altimeter output</dd><dt><span>avg_bottomTrack :</span></dt><dd>0</dd><dt><span>avg_bottomTrack_description :</span></dt><dd>Enable (1) / disable (0) CP bottom tracking</dd><dt><span>avg_mux :</span></dt><dd>0</dd><dt><span>avg_mux_description :</span></dt><dd>Average mode multiplexor enable (0/1)</dd><dt><span>avg_activeBeams :</span></dt><dd>4</dd><dt><span>avg_activeBeams_description :</span></dt><dd>Actual number of beams used for average mode</dd><dt><span>avg_averagingInterval :</span></dt><dd>1</dd><dt><span>avg_averagingInterval_description :</span></dt><dd>Average mode averaging interval (s)</dd><dt><span>avg_nPings :</span></dt><dd>4</dd><dt><span>avg_nPings_description :</span></dt><dd>Average mode number of pings per ensemble</dd><dt><span>avg_nCells :</span></dt><dd>15</dd><dt><span>avg_nCells_description :</span></dt><dd>Number of cells in the average mode profile</dd><dt><span>avg_nBeams :</span></dt><dd>4</dd><dt><span>avg_nBeams_description :</span></dt><dd>Number of configured beams for average mode (0 = PLAN,VD based)</dd><dt><span>avg_channelMapping :</span></dt><dd>0</dd><dt><span>avg_channelMapping_description :</span></dt><dd>Which beams are enabled in average mode (e.g. 1234 = beam 1 - 2 - 3 - 4)</dd><dt><span>avg_measurementInterval :</span></dt><dd>5</dd><dt><span>avg_measurementInterval_description :</span></dt><dd>Average mode measurement interval (s)</dd><dt><span>avg_format :</span></dt><dd>3</dd><dt><span>avg_format_description :</span></dt><dd>Average mode data record format</dd><dt><span>avg_coordSystem :</span></dt><dd>BEAM</dd><dt><span>avg_coordSystem_description :</span></dt><dd>Average mode coordinate system</dd><dt><span>avg_cellSize :</span></dt><dd>2.0</dd><dt><span>avg_cellSize_description :</span></dt><dd>Average mode cell Size (m)</dd><dt><span>avg_blankingDistance :</span></dt><dd>0.2</dd><dt><span>avg_blankingDistance_description :</span></dt><dd>Average mode distance to first cell (m)</dd><dt><span>avg_transmitPower :</span></dt><dd>0.0</dd><dt><span>avg_transmitPower_description :</span></dt><dd>Average mode transmit power level (-100 to 0) (dB)</dd><dt><span>avg_velocityRange :</span></dt><dd>2.5</dd><dt><span>avg_velocityRange_description :</span></dt><dd>Average mode velocity range along beam (m/s)</dd><dt><span>avg_velocityPrecision :</span></dt><dd>0.0</dd><dt><span>avg_velocityPrecision_description :</span></dt><dd>Average mode velocity precision</dd><dt><span>avg_bandwidth :</span></dt><dd>BROAD</dd><dt><span>avg_bandwidth_description :</span></dt><dd>Average mode bandwidth (NARROW or BROAD)</dd><dt><span>avg_powerUsage :</span></dt><dd>456.08</dd><dt><span>avg_powerUsage_description :</span></dt><dd>Power consumption for the current average mode settings (mW)</dd><dt><span>avg_memoryUsage :</span></dt><dd>0.224</dd><dt><span>avg_memoryUsage_description :</span></dt><dd>Average mode memory usage rate (MB/hr)</dd><dt><span>avg_beam2xyz_rows :</span></dt><dd>4</dd><dt><span>avg_beam2xyz_rows_description :</span></dt><dd>Average XYZ co-ordinate transfer matrix number of rows</dd><dt><span>avg_beam2xyz_columns :</span></dt><dd>4</dd><dt><span>avg_beam2xyz_columns_description :</span></dt><dd>Average XYZ co-ordinate transfer matrix number of columns</dd><dt><span>avg_beam2xyz :</span></dt><dd>[ 0.6782  0.     -0.6782  0.      0.     -1.1831  0.      1.1831  0.74\n",
       "  0.      0.74    0.      0.      0.5518  0.      0.5518]</dd><dt><span>avg_beam2xyz_description :</span></dt><dd>Average XYZ co-ordinate transfer matrix</dd><dt><span>avg_ice :</span></dt><dd>0</dd><dt><span>avg_ice_description :</span></dt><dd>Average mode enable (1) / disable (0) ice velocity measurements</dd><dt><span>avg_altiStart :</span></dt><dd>0.1</dd><dt><span>avg_altiStart_description :</span></dt><dd>Average mode start range for altitude measurement</dd><dt><span>avg_altiEnd :</span></dt><dd>30.0</dd><dt><span>avg_altiEnd_description :</span></dt><dd>Average mode end range for altitude measurement</dd><dt><span>avgAltimeter_enable :</span></dt><dd>0</dd><dt><span>avg_rawAlti :</span></dt><dd>0</dd><dt><span>avg_rawAlti_description :</span></dt><dd>Include/exclude raw altimeter data</dd><dt><span>avg_rawAltiSpacing :</span></dt><dd>0</dd><dt><span>avg_rawAltiSpacing_description :</span></dt><dd>Add raw altimeter every &#x27;N&#x27; avg measurement intervals</dd><dt><span>avgRawAltimeter_enable :</span></dt><dd>0</dd><dt><span>avgRawAltimeter_enable_description :</span></dt><dd>Enable avg raw enable data</dd><dt><span>compass_calibrationOffset :</span></dt><dd>[ 28 112 -21]</dd><dt><span>compass_calibrationOffset_description :</span></dt><dd>Compass calibration offsets</dd><dt><span>compass_calibrationMatrix :</span></dt><dd>[32408   302  -525   804 32767  -807  1110  -114 32025]</dd><dt><span>compass_calibrationMatrix_description :</span></dt><dd>Compass calibration matrix</dd><dt><span>user_HxHyHz :</span></dt><dd>[-26   3   0]</dd><dt><span>user_HxHyHz_description :</span></dt><dd>User magnetometer offsets</dd><dt><span>burstRawAltimeter_enable :</span></dt><dd>0</dd><dt><span>burstRawAltimeter_enable_description :</span></dt><dd>Enable burst raw enable data</dd><dt><span>echo_enable :</span></dt><dd>0</dd><dt><span>echo_enable_description :</span></dt><dd>Enable echo sounder (1/0)</dd><dt><span>pressureOffset :</span></dt><dd>9.5</dd><dt><span>pressureOffset_description :</span></dt><dd>Offset to apply to pressure readings (dbar)</dd><dt><span>tmavg_en :</span></dt><dd>0</dd><dt><span>tmavg_en_description :</span></dt><dd>Enable averaging mode telemetry</dd><dt><span>tmburst_en :</span></dt><dd>0</dd><dt><span>tmburst_en_description :</span></dt><dd>Enable burst mode telemetry</dd><dt><span>tmbt_en :</span></dt><dd>0</dd><dt><span>tmbt_en_description :</span></dt><dd>Enable bottom track mode telemetry</dd><dt><span>user_decl :</span></dt><dd>0.0</dd><dt><span>user_decl_description :</span></dt><dd>Magnetic Declination (degrees)</dd><dt><span>trig_en :</span></dt><dd>0</dd><dt><span>trig_en_description :</span></dt><dd>Enable sync trigger</dd><dt><span>spectrum_enable :</span></dt><dd>0</dd><dt><span>spectrum_enable_description :</span></dt><dd>Enable spectrum data</dd><dt><span>spectrum1_enable :</span></dt><dd>0</dd><dt><span>spectrum1_enable_description :</span></dt><dd>Enable spectrum data</dd><dt><span>spectrum1_decimation :</span></dt><dd>0</dd><dt><span>spectrum1_decimation_description :</span></dt><dd>Alternate configuration spectrum data decimation value</dd><dt><span>spectrum1_channelMappingCfg :</span></dt><dd>0</dd><dt><span>spectrum1_channelMappingCfg_description :</span></dt><dd>Alternate configuration channel mapping currently in use</dd><dt><span>wave_en :</span></dt><dd>0</dd><dt><span>wave_en_description :</span></dt><dd>Enable wave processing data</dd><dt><span>wave1_en :</span></dt><dd>0</dd><dt><span>wave1_en_description :</span></dt><dd>Enable wave processing data</dd><dt><span>tmWave_en :</span></dt><dd>0</dd><dt><span>tmWave_en_description :</span></dt><dd>Enable wave processing telemetry data</dd><dt><span>tmWave1_en :</span></dt><dd>0</dd><dt><span>tmWave1_en_description :</span></dt><dd>Alternate configuration enable wave processing data</dd><dt><span>hostName :</span></dt><dd></dd><dt><span>enablePTP :</span></dt><dd>0</dd><dt><span>enableNTP :</span></dt><dd>0</dd><dt><span>ntpPeerAddr :</span></dt><dd>0.0</dd><dt><span>fwVersionDoppler :</span></dt><dd>3055</dd><dt><span>fwVersionDoppler_description :</span></dt><dd>Doppler firmware version</dd><dt><span>fpgaVersionDoppler :</span></dt><dd>185</dd><dt><span>fpgaVersionDoppler_description :</span></dt><dd>Doppler FPGA version</dd><dt><span>digitalBoard :</span></dt><dd>I-3</dd><dt><span>digitalBoard_description :</span></dt><dd>Digital board version</dd><dt><span>ifaceBoard :</span></dt><dd>H-4</dd><dt><span>ifaceBoard_description :</span></dt><dd>Interface board version</dd><dt><span>analogBoard :</span></dt><dd>G-1</dd><dt><span>analogBoard_description :</span></dt><dd>Analog board version</dd><dt><span>sensorBoard :</span></dt><dd>I-0</dd><dt><span>sensorBoard_description :</span></dt><dd>Sensor board version</dd><dt><span>serialNumberDoppler :</span></dt><dd>103365.0</dd><dt><span>instrumentName :</span></dt><dd>Glider</dd><dt><span>maxBeams :</span></dt><dd>4</dd><dt><span>maxBeams_description :</span></dt><dd>Number of transducers</dd><dt><span>bootloader :</span></dt><dd>23</dd><dt><span>bootloader_description :</span></dt><dd>Doppler bootloader version</dd><dt><span>fwMinorVersionDoppler :</span></dt><dd>10</dd><dt><span>fwMinorVersionDoppler_description :</span></dt><dd>Doppler firmware minor version</dd><dt><span>analogBoard2 :</span></dt><dd></dd><dt><span>analogBoard2_description :</span></dt><dd>Analog board 2 version</dd><dt><span>headFrequency :</span></dt><dd>1000</dd><dt><span>headFrequency_description :</span></dt><dd>Head Frequency (kHz)</dd><dt><span>beamConfiguration1_beam :</span></dt><dd>1</dd><dt><span>beamConfiguration1_beam_description :</span></dt><dd>Beam number</dd><dt><span>beamConfiguration1_board :</span></dt><dd>1</dd><dt><span>beamConfiguration1_hwbeam :</span></dt><dd>1</dd><dt><span>beamConfiguration1_theta :</span></dt><dd>47.5</dd><dt><span>beamConfiguration1_theta_description :</span></dt><dd>Theta angle (degrees)</dd><dt><span>beamConfiguration1_phi :</span></dt><dd>0.0</dd><dt><span>beamConfiguration1_phi_description :</span></dt><dd>Phi angle (degrees)</dd><dt><span>beamConfiguration1_frequency :</span></dt><dd>1000.0</dd><dt><span>beamConfiguration1_frequency_description :</span></dt><dd>Center Frequency (kHz)</dd><dt><span>beamConfiguration1_bandwidth :</span></dt><dd>25.0</dd><dt><span>beamConfiguration1_bandwidth_description :</span></dt><dd>Bandwidth (kHz)</dd><dt><span>beamConfiguration1_znominal :</span></dt><dd>60.0</dd><dt><span>beamConfiguration1_znominal_description :</span></dt><dd>Nominal transducer impedance (ohms)</dd><dt><span>beamConfiguration2_beam :</span></dt><dd>2</dd><dt><span>beamConfiguration2_beam_description :</span></dt><dd>Beam number</dd><dt><span>beamConfiguration2_board :</span></dt><dd>1</dd><dt><span>beamConfiguration2_hwbeam :</span></dt><dd>2</dd><dt><span>beamConfiguration2_theta :</span></dt><dd>25.0</dd><dt><span>beamConfiguration2_theta_description :</span></dt><dd>Theta angle (degrees)</dd><dt><span>beamConfiguration2_phi :</span></dt><dd>-90.0</dd><dt><span>beamConfiguration2_phi_description :</span></dt><dd>Phi angle (degrees)</dd><dt><span>beamConfiguration2_frequency :</span></dt><dd>1000.0</dd><dt><span>beamConfiguration2_frequency_description :</span></dt><dd>Center Frequency (kHz)</dd><dt><span>beamConfiguration2_bandwidth :</span></dt><dd>25.0</dd><dt><span>beamConfiguration2_bandwidth_description :</span></dt><dd>Bandwidth (kHz)</dd><dt><span>beamConfiguration2_znominal :</span></dt><dd>60.0</dd><dt><span>beamConfiguration2_znominal_description :</span></dt><dd>Nominal transducer impedance (ohms)</dd><dt><span>beamConfiguration3_beam :</span></dt><dd>3</dd><dt><span>beamConfiguration3_beam_description :</span></dt><dd>Beam number</dd><dt><span>beamConfiguration3_board :</span></dt><dd>1</dd><dt><span>beamConfiguration3_hwbeam :</span></dt><dd>3</dd><dt><span>beamConfiguration3_theta :</span></dt><dd>47.5</dd><dt><span>beamConfiguration3_theta_description :</span></dt><dd>Theta angle (degrees)</dd><dt><span>beamConfiguration3_phi :</span></dt><dd>180.0</dd><dt><span>beamConfiguration3_phi_description :</span></dt><dd>Phi angle (degrees)</dd><dt><span>beamConfiguration3_frequency :</span></dt><dd>1000.0</dd><dt><span>beamConfiguration3_frequency_description :</span></dt><dd>Center Frequency (kHz)</dd><dt><span>beamConfiguration3_bandwidth :</span></dt><dd>25.0</dd><dt><span>beamConfiguration3_bandwidth_description :</span></dt><dd>Bandwidth (kHz)</dd><dt><span>beamConfiguration3_znominal :</span></dt><dd>60.0</dd><dt><span>beamConfiguration3_znominal_description :</span></dt><dd>Nominal transducer impedance (ohms)</dd><dt><span>beamConfiguration4_beam :</span></dt><dd>4</dd><dt><span>beamConfiguration4_beam_description :</span></dt><dd>Beam number</dd><dt><span>beamConfiguration4_board :</span></dt><dd>1</dd><dt><span>beamConfiguration4_hwbeam :</span></dt><dd>4</dd><dt><span>beamConfiguration4_theta :</span></dt><dd>25.0</dd><dt><span>beamConfiguration4_theta_description :</span></dt><dd>Theta angle (degrees)</dd><dt><span>beamConfiguration4_phi :</span></dt><dd>90.0</dd><dt><span>beamConfiguration4_phi_description :</span></dt><dd>Phi angle (degrees)</dd><dt><span>beamConfiguration4_frequency :</span></dt><dd>1000.0</dd><dt><span>beamConfiguration4_frequency_description :</span></dt><dd>Center Frequency (kHz)</dd><dt><span>beamConfiguration4_bandwidth :</span></dt><dd>25.0</dd><dt><span>beamConfiguration4_bandwidth_description :</span></dt><dd>Bandwidth (kHz)</dd><dt><span>beamConfiguration4_znominal :</span></dt><dd>60.0</dd><dt><span>beamConfiguration4_znominal_description :</span></dt><dd>Nominal transducer impedance (ohms)</dd><dt><span>beamImplementation1_beam :</span></dt><dd>1</dd><dt><span>beamImplementation1_beam_description :</span></dt><dd>Beam number</dd><dt><span>beamImplementation1_P0 :</span></dt><dd>100.0</dd><dt><span>beamImplementation1_P0_description :</span></dt><dd>Polynomial coefficient 0</dd><dt><span>beamImplementation1_P1 :</span></dt><dd>0.0</dd><dt><span>beamImplementation1_P1_description :</span></dt><dd>Polynomial coefficient 1</dd><dt><span>beamImplementation1_P2 :</span></dt><dd>0.0</dd><dt><span>beamImplementation1_P2_description :</span></dt><dd>Polynomial coefficient 2</dd><dt><span>beamImplementation1_P3 :</span></dt><dd>0.0</dd><dt><span>beamImplementation1_P3_description :</span></dt><dd>Polynomial coefficient 3</dd><dt><span>beamImplementation1_P4 :</span></dt><dd>0.0</dd><dt><span>beamImplementation1_P4_description :</span></dt><dd>Polynomial coefficient 4</dd><dt><span>beamImplementation1_temperature :</span></dt><dd>0.0</dd><dt><span>beamImplementation1_temperature_description :</span></dt><dd>Temperature (Celsius)</dd><dt><span>beamImplementation2_beam :</span></dt><dd>2</dd><dt><span>beamImplementation2_beam_description :</span></dt><dd>Beam number</dd><dt><span>beamImplementation2_P0 :</span></dt><dd>100.0</dd><dt><span>beamImplementation2_P0_description :</span></dt><dd>Polynomial coefficient 0</dd><dt><span>beamImplementation2_P1 :</span></dt><dd>0.0</dd><dt><span>beamImplementation2_P1_description :</span></dt><dd>Polynomial coefficient 1</dd><dt><span>beamImplementation2_P2 :</span></dt><dd>0.0</dd><dt><span>beamImplementation2_P2_description :</span></dt><dd>Polynomial coefficient 2</dd><dt><span>beamImplementation2_P3 :</span></dt><dd>0.0</dd><dt><span>beamImplementation2_P3_description :</span></dt><dd>Polynomial coefficient 3</dd><dt><span>beamImplementation2_P4 :</span></dt><dd>0.0</dd><dt><span>beamImplementation2_P4_description :</span></dt><dd>Polynomial coefficient 4</dd><dt><span>beamImplementation2_temperature :</span></dt><dd>0.0</dd><dt><span>beamImplementation2_temperature_description :</span></dt><dd>Temperature (Celsius)</dd><dt><span>beamImplementation3_beam :</span></dt><dd>3</dd><dt><span>beamImplementation3_beam_description :</span></dt><dd>Beam number</dd><dt><span>beamImplementation3_P0 :</span></dt><dd>100.0</dd><dt><span>beamImplementation3_P0_description :</span></dt><dd>Polynomial coefficient 0</dd><dt><span>beamImplementation3_P1 :</span></dt><dd>0.0</dd><dt><span>beamImplementation3_P1_description :</span></dt><dd>Polynomial coefficient 1</dd><dt><span>beamImplementation3_P2 :</span></dt><dd>0.0</dd><dt><span>beamImplementation3_P2_description :</span></dt><dd>Polynomial coefficient 2</dd><dt><span>beamImplementation3_P3 :</span></dt><dd>0.0</dd><dt><span>beamImplementation3_P3_description :</span></dt><dd>Polynomial coefficient 3</dd><dt><span>beamImplementation3_P4 :</span></dt><dd>0.0</dd><dt><span>beamImplementation3_P4_description :</span></dt><dd>Polynomial coefficient 4</dd><dt><span>beamImplementation3_temperature :</span></dt><dd>0.0</dd><dt><span>beamImplementation3_temperature_description :</span></dt><dd>Temperature (Celsius)</dd><dt><span>beamImplementation4_beam :</span></dt><dd>4</dd><dt><span>beamImplementation4_beam_description :</span></dt><dd>Beam number</dd><dt><span>beamImplementation4_P0 :</span></dt><dd>100.0</dd><dt><span>beamImplementation4_P0_description :</span></dt><dd>Polynomial coefficient 0</dd><dt><span>beamImplementation4_P1 :</span></dt><dd>0.0</dd><dt><span>beamImplementation4_P1_description :</span></dt><dd>Polynomial coefficient 1</dd><dt><span>beamImplementation4_P2 :</span></dt><dd>0.0</dd><dt><span>beamImplementation4_P2_description :</span></dt><dd>Polynomial coefficient 2</dd><dt><span>beamImplementation4_P3 :</span></dt><dd>0.0</dd><dt><span>beamImplementation4_P3_description :</span></dt><dd>Polynomial coefficient 3</dd><dt><span>beamImplementation4_P4 :</span></dt><dd>0.0</dd><dt><span>beamImplementation4_P4_description :</span></dt><dd>Polynomial coefficient 4</dd><dt><span>beamImplementation4_temperature :</span></dt><dd>0.0</dd><dt><span>beamImplementation4_temperature_description :</span></dt><dd>Temperature (Celsius)</dd><dt><span>rawConfiguration :</span></dt><dd>GETCLOCKSTR,TIME=&quot;2024-04-19 14:31:56&quot;\r\n",
       "ID,STR=&quot;Glider&quot;,SN=103365\r\n",
       "GETHW,FW=3055,FPGA=185,DIGITAL=&quot;I-3&quot;,INTERFACE=&quot;H-4&quot;,ANALOG=&quot;G-1&quot;,SENSOR=&quot;I-0&quot;,BOOT=23,FWMINOR=10\r\n",
       "BOARDSENSGET,AV=23,NB=4,HF=1000,TTR=2.0000,TTRB5=0.0000,TTRB5AUX=0.0000,AUXRS=0\r\n",
       "GETPWR,PLAN=457.76,BURST=0.00,AVG=456.08,PLAN1=0.00,BURST1=0.00,AVG1=0.00,TOTAL=457.76\r\n",
       "GETMEM,PLAN=0.224,BURST=0.000,AVG=0.224,PLAN1=0.000,BURST1=0.000,AVG1=0.000,TOTAL=0.224\r\n",
       "GETPRECISION,AVGHORZ=-9.99,BURSTHORZ=-9.99,BEAM5=-9.99,AVGBEAM=0.51,BURSTBEAM=-9.99\r\n",
       "GETPLAN,MIAVG=5,AVG=1,DIAVG=0,VD=0,MV=10,SA=35.0,BURST=0,MIBURST=3600,DIBURST=0,SV=0.00,FN=&quot;RU29_ABC2DR.ad2cp&quot;,SO=0,FREQ=1000,NSTT=0\r\n",
       "GETAVG,NC=15,CS=2.00,BD=0.20,CY=&quot;BEAM&quot;,PL=0.0,AI=1,VP=0.000,VR=2.50,DF=3,NPING=4,NB=4,CH=0,MUX=0,BW=&quot;BROAD&quot;,ALTI=0,BT=0,ICE=0,ALTISTART=0.10,ALTIEND=30.00,RAWALTI=0\r\n",
       "GETXFAVG,ROWS=4,COLS=4,M11=0.6782,M12=0.0000,M13=-0.6782,M14=0.0000,M21=0.0000,M22=-1.1831,M23=0.0000,M24=1.1831,M31=0.7400,M32=0.0000,M33=0.7400,M34=0.0000,M41=0.0000,M42=0.5518,M43=0.0000,M44=0.5518\r\n",
       "GETGLIDER,EN=1,GATEBT=0,DISHDR=0\r\n",
       "GETUSER,POFF=9.50,DECL=0.00,HX=-26,HY=3,HZ=0\r\n",
       "GETINST,BR=19200,RS=232,LED=&quot;OFF&quot;,ORIENT=&quot;AUTOZUPDOWN&quot;,CMTOUT=300,DMTOUT=60,CFMTOUT=60\r\n",
       "GETCOMPASSCAL,DX=28,DY=112,DZ=-21,M11=32408,M12=302,M13=-525,M21=804,M22=32767,M23=-807,M31=1110,M32=-114,M33=32025\r\n",
       "RECSTAT,SS=512,CS=32768,FC=15893430272,TC=15927345152,VS=15927345152\r\n",
       "BEAMCFGLIST,BEAM=1,THETA=47.50,PHI=0.00,FREQ=1000,BW=25,BRD=1,HWBEAM=1,ZNOM=60.00,DIA=0.0\r\n",
       "BEAMCFGLIST,BEAM=2,THETA=25.00,PHI=-90.00,FREQ=1000,BW=25,BRD=1,HWBEAM=2,ZNOM=60.00,DIA=0.0\r\n",
       "BEAMCFGLIST,BEAM=3,THETA=47.50,PHI=180.00,FREQ=1000,BW=25,BRD=1,HWBEAM=3,ZNOM=60.00,DIA=0.0\r\n",
       "BEAMCFGLIST,BEAM=4,THETA=25.00,PHI=90.00,FREQ=1000,BW=25,BRD=1,HWBEAM=4,ZNOM=60.00,DIA=0.0\r\n",
       "BEAMIMPLIST,BEAM=1,P0=1.00000e+02,P1=0.00000e+00,P2=0.00000e+00,P3=0.00000e+00,P4=0.00000e+00,T1=0.00000e+00\r\n",
       "BEAMIMPLIST,BEAM=2,P0=1.00000e+02,P1=0.00000e+00,P2=0.00000e+00,P3=0.00000e+00,P4=0.00000e+00,T1=0.00000e+00\r\n",
       "BEAMIMPLIST,BEAM=3,P0=1.00000e+02,P1=0.00000e+00,P2=0.00000e+00,P3=0.00000e+00,P4=0.00000e+00,T1=0.00000e+00\r\n",
       "BEAMIMPLIST,BEAM=4,P0=1.00000e+02,P1=0.00000e+00,P2=0.00000e+00,P3=0.00000e+00,P4=0.00000e+00,T1=0.00000e+00\r\n",
       "LISTLICENSE,KEY=&quot;GW9XKCMS81Z1B&quot;,DESC=&quot;Averaging Mode&quot;,TYPE=1\r\n",
       "LISTLICENSE,KEY=&quot;JEEKB9JBB1Z1B&quot;,DESC=&quot;Burst Mode&quot;,TYPE=2\r\n",
       "LISTLICENSE,KEY=&quot;Z5BMAEAJB1Z1B&quot;,DESC=&quot;16GB Recorder&quot;,TYPE=11\r\n",
       "CALCOMPGET,DX=28,DY=112,DZ=-21,M11=32408,M12=302,M13=-525,M21=804,M22=32767,M23=-807,M31=1110,M32=-114,M33=32025\r\n",
       "CALTEMPGET,SC=0.99917\r\n",
       "CALTILTGET,PO=0.00,RO=0.00,MAGG=1,HO=0.00\r\n",
       "CALACCLGET,AX=1.000000E+00,B0X=-1.120774E-02,B1X=2.285084E-05,B2X=-1.324486E-06,B3X=1.392914E-08,A1X=-5.783953E-05,A2X=-2.262279E-07,A3X=-2.006094E-08\r\n",
       "CALACCLGET,AY=1.000000E+00,B0Y=7.002884E-03,B1Y=5.980745E-05,B2Y=-1.918184E-06,B3Y=-4.254319E-08,A1Y=-4.170951E-05,A2Y=2.822953E-06,A3Y=3.893610E-08\r\n",
       "CALACCLGET,AZ=1.000000E+00,B0Z=3.217209E-04,B1Z=-1.623451E-04,B2Z=-2.158566E-06,B3Z=6.343169E-08,A1Z=-1.871012E-05,A2Z=1.177206E-06,A3Z=1.380012E-07\r\n",
       "CALPRESSGET,MT=1,RREF=4.5290690000e+02,RB0=2.5380281250e-01,RB1=-2.0332450000e-02,RB2=4.0535234380e-04,RB3=-7.5436725000e-08,T0=-3.3789672500e+03,T1=2.5245090000e+00,T2=-6.4387312500e-04,T3=5.7278837500e-08,ID=&quot;P041394&quot;\r\n",
       "CALPRESSCOEFFGET,A0=2.5091670000e+02,A1=-2.1562629690e-01,A2=6.0778487500e-05,A3=-5.7736768750e-09,B0=-1.5990760000e+01,B1=1.4438460000e-02,B2=-4.0896434380e-06,B3=3.8570568750e-10\r\n",
       "CALPRESSCOEFFGET,C0=1.0244459380e-01,C1=-8.9813962500e-05,C2=2.6237309380e-08,C3=-2.5534439060e-12,D0=-4.0182090630e-04,D1=3.5272100000e-07,D2=-1.0313060630e-10,D3=1.0044280630e-14\r\n",
       "CALROTACCLGET,M11=1.01411,M12=-0.00791,M13=-0.02045,M21=0.00564,M22=0.98072,M23=-0.01912,M31=0.00394,M32=0.01075,M33=0.98736\r\n",
       "CALECHOGET,CHA0=0.00,CHB0=-17.53,CHC0=0.00\r</dd><dt><span>rawConfiguration_description :</span></dt><dd>Raw instrument configuration string</dd><dt><span>fileName :</span></dt><dd>C:\\Users\\Brian Buckingham\\NortekData\\2024_12_09_ru29_challengers_netcdfs\\RU29_ABC2DR.ad2cp.00000.ntk</dd><dt><span>fileName_description :</span></dt><dd>Original filename</dd><dt><span>date :</span></dt><dd>2024-12-09 16:42:48.817 UTC</dd><dt><span>date_description :</span></dt><dd>Date of collection</dd><dt><span>projectName :</span></dt><dd></dd><dt><span>projectLocation :</span></dt><dd></dd><dt><span>comment :</span></dt><dd></dd><dt><span>startCollectionTime_seconds :</span></dt><dd>1713537133</dd><dt><span>startCollectionTime_seconds_description :</span></dt><dd>Seconds since Jan 1, 1970 00:00:00 UTC (s)</dd><dt><span>startCollectionTime_subseconds :</span></dt><dd>0.43829999999999997</dd><dt><span>startCollectionTime_subseconds_description :</span></dt><dd>Fractional seconds (s)</dd><dt><span>endCollectionTime_seconds :</span></dt><dd>1713980129</dd><dt><span>endCollectionTime_seconds_description :</span></dt><dd>Seconds since Jan 1, 1970 00:00:00 UTC (s)</dd><dt><span>endCollectionTime_subseconds :</span></dt><dd>0.43829999999999997</dd><dt><span>endCollectionTime_subseconds_description :</span></dt><dd>Fractional seconds (s)</dd><dt><span>nSets :</span></dt><dd>80990.0</dd><dt><span>nSets_description :</span></dt><dd>Total number of data records in this file</dd><dt><span>droppedSets :</span></dt><dd>0.0</dd><dt><span>droppedSets_description :</span></dt><dd>Number of data records dropped due to read errors</dd><dt><span>swRevision :</span></dt><dd></dd><dt><span>swRevision_description :</span></dt><dd>Software revision</dd><dt><span>instrumentOffsetTime :</span></dt><dd>0.0</dd><dt><span>instrumentOffsetTime_description :</span></dt><dd>Offset from instrument time to platform time for MIDAS collected data (s)</dd><dt><span>timeZoneOffset :</span></dt><dd>0</dd><dt><span>timeZoneOffset_description :</span></dt><dd>Offset of platform local time from GMT (s)</dd><dt><span>instrumentOffsetTimeMatlab :</span></dt><dd>0.0</dd><dt><span>exportRevision :</span></dt><dd>4489</dd></dl></div></li></ul></div></div>"
      ],
      "text/plain": [
       "<xarray.Dataset> Size: 1GB\n",
       "Dimensions:                    (time: 1152490, VelocityRange: 15,\n",
       "                                CorrelationRange: 15, AmplitudeRange: 15,\n",
       "                                Physicalbeam_dim: 4)\n",
       "Coordinates:\n",
       "  * time                       (time) datetime64[ns] 9MB 2024-04-19T14:32:13....\n",
       "  * VelocityRange              (VelocityRange) float32 60B 2.2 4.2 ... 28.2 30.2\n",
       "  * CorrelationRange           (CorrelationRange) float32 60B 2.2 4.2 ... 30.2\n",
       "  * AmplitudeRange             (AmplitudeRange) float32 60B 2.2 4.2 ... 30.2\n",
       "Dimensions without coordinates: Physicalbeam_dim\n",
       "Data variables: (12/43)\n",
       "    VelocityBeam1              (VelocityRange, time) float32 69MB dask.array<chunksize=(15, 80990), meta=np.ndarray>\n",
       "    VelocityBeam2              (VelocityRange, time) float32 69MB dask.array<chunksize=(15, 80990), meta=np.ndarray>\n",
       "    VelocityBeam3              (VelocityRange, time) float32 69MB dask.array<chunksize=(15, 80990), meta=np.ndarray>\n",
       "    VelocityBeam4              (VelocityRange, time) float32 69MB dask.array<chunksize=(15, 80990), meta=np.ndarray>\n",
       "    CorrelationBeam1           (CorrelationRange, time) float32 69MB dask.array<chunksize=(15, 80990), meta=np.ndarray>\n",
       "    CorrelationBeam2           (CorrelationRange, time) float32 69MB dask.array<chunksize=(15, 80990), meta=np.ndarray>\n",
       "    ...                         ...\n",
       "    EnsembleCount              (time) float64 9MB dask.array<chunksize=(80990,), meta=np.ndarray>\n",
       "    WaterTemperature           (time) float32 5MB dask.array<chunksize=(80990,), meta=np.ndarray>\n",
       "    Heading                    (time) float32 5MB dask.array<chunksize=(80990,), meta=np.ndarray>\n",
       "    Pitch                      (time) float32 5MB dask.array<chunksize=(80990,), meta=np.ndarray>\n",
       "    Roll                       (time) float32 5MB dask.array<chunksize=(80990,), meta=np.ndarray>\n",
       "    Depth                      (time) float64 9MB 0.85 0.9305 ... 0.8251 0.8928\n",
       "Attributes: (12/350)\n",
       "    instrumentOffsetTimeMatlab_description:       Offset from instrument time...\n",
       "    File_ins_runTime:                             442996000.0\n",
       "    File_ins_runTime_description:                 Length of time data was col...\n",
       "    File_ins_name:                                AD2CPRaw\n",
       "    File_ins_name_description:                    Name of instrument\n",
       "    File_ins_typeName:                            \n",
       "    ...                                           ...\n",
       "    instrumentOffsetTime:                         0.0\n",
       "    instrumentOffsetTime_description:             Offset from instrument time...\n",
       "    timeZoneOffset:                               0\n",
       "    timeZoneOffset_description:                   Offset of platform local ti...\n",
       "    instrumentOffsetTimeMatlab:                   0.0\n",
       "    exportRevision:                               4489"
      ]
     },
     "execution_count": 3,
     "metadata": {},
     "output_type": "execute_result"
    }
   ],
   "source": [
    "path='../raw_data/'\n",
    "files = np.sort(glob.glob(path+'*.nc'))\n",
    "tot_ad2cp = slocum_ad2cp.load_ad2cp(files,mean_lat=15)\n",
    "tot_ad2cp"
   ]
  },
  {
   "cell_type": "markdown",
   "id": "3b6f94f2",
   "metadata": {},
   "source": [
    "## Step 3: Soft Iron Magnetic Correction (pitch-dependent)\n",
    "Best to do this on the entire dataset first"
   ]
  },
  {
   "cell_type": "code",
   "execution_count": 4,
   "id": "35955e44",
   "metadata": {},
   "outputs": [
    {
     "name": "stderr",
     "output_type": "stream",
     "text": [
      "/Users/joegradone/SynologyDrive/Drive/Rutgers/Research/code/GitHub/Slocum-AD2CP/src/slocum_ad2cp/make_dataset.py:963: RuntimeWarning: invalid value encountered in sqrt\n",
      "  radii = np.sqrt(1. / evals)\n"
     ]
    }
   ],
   "source": [
    "tot_ad2cp = slocum_ad2cp.correct_ad2cp_heading(tot_ad2cp)"
   ]
  },
  {
   "cell_type": "markdown",
   "id": "61452458-7e62-4963-ae78-eafe73422e94",
   "metadata": {},
   "source": [
    "## Steps 4-11: Big loop to process velocity data and save output"
   ]
  },
  {
   "cell_type": "code",
   "execution_count": 6,
   "id": "760a1d7c-c0cf-4690-8014-c26e1225cd46",
   "metadata": {},
   "outputs": [
    {
     "name": "stderr",
     "output_type": "stream",
     "text": [
      "/var/folders/m9/d8bbz1wx4f50q99kfb1jv9pw0000gn/T/ipykernel_31286/2106180866.py:6: FutureWarning: Series.ravel is deprecated. The underlying array is already 1D, so ravel is not necessary.  Use `to_numpy()` for conversion to a numpy array instead.\n",
      "  ind         = np.argwhere(np.isnan(subsetgdf.m_water_vx).ravel()==False).flatten()\n"
     ]
    },
    {
     "name": "stdout",
     "output_type": "stream",
     "text": [
      "Finished Inversion 0 out of 1345 at 09/17/25 14:41:18\n",
      "Finished Writing Data 0 out of 1345 at 09/17/25 14:41:18\n"
     ]
    },
    {
     "name": "stderr",
     "output_type": "stream",
     "text": [
      "/var/folders/m9/d8bbz1wx4f50q99kfb1jv9pw0000gn/T/ipykernel_31286/2106180866.py:6: FutureWarning: Series.ravel is deprecated. The underlying array is already 1D, so ravel is not necessary.  Use `to_numpy()` for conversion to a numpy array instead.\n",
      "  ind         = np.argwhere(np.isnan(subsetgdf.m_water_vx).ravel()==False).flatten()\n"
     ]
    },
    {
     "name": "stdout",
     "output_type": "stream",
     "text": [
      "Finished Inversion 1 out of 1345 at 09/17/25 14:41:19\n",
      "Finished Writing Data 1 out of 1345 at 09/17/25 14:41:19\n"
     ]
    },
    {
     "name": "stderr",
     "output_type": "stream",
     "text": [
      "/var/folders/m9/d8bbz1wx4f50q99kfb1jv9pw0000gn/T/ipykernel_31286/2106180866.py:6: FutureWarning: Series.ravel is deprecated. The underlying array is already 1D, so ravel is not necessary.  Use `to_numpy()` for conversion to a numpy array instead.\n",
      "  ind         = np.argwhere(np.isnan(subsetgdf.m_water_vx).ravel()==False).flatten()\n"
     ]
    },
    {
     "name": "stdout",
     "output_type": "stream",
     "text": [
      "Finished Inversion 4 out of 1345 at 09/17/25 14:41:24\n",
      "Finished Writing Data 4 out of 1345 at 09/17/25 14:41:24\n"
     ]
    },
    {
     "name": "stderr",
     "output_type": "stream",
     "text": [
      "/var/folders/m9/d8bbz1wx4f50q99kfb1jv9pw0000gn/T/ipykernel_31286/2106180866.py:6: FutureWarning: Series.ravel is deprecated. The underlying array is already 1D, so ravel is not necessary.  Use `to_numpy()` for conversion to a numpy array instead.\n",
      "  ind         = np.argwhere(np.isnan(subsetgdf.m_water_vx).ravel()==False).flatten()\n"
     ]
    },
    {
     "name": "stdout",
     "output_type": "stream",
     "text": [
      "Finished Inversion 6 out of 1345 at 09/17/25 14:41:28\n",
      "Finished Writing Data 6 out of 1345 at 09/17/25 14:41:28\n"
     ]
    },
    {
     "name": "stderr",
     "output_type": "stream",
     "text": [
      "/var/folders/m9/d8bbz1wx4f50q99kfb1jv9pw0000gn/T/ipykernel_31286/2106180866.py:6: FutureWarning: Series.ravel is deprecated. The underlying array is already 1D, so ravel is not necessary.  Use `to_numpy()` for conversion to a numpy array instead.\n",
      "  ind         = np.argwhere(np.isnan(subsetgdf.m_water_vx).ravel()==False).flatten()\n"
     ]
    },
    {
     "name": "stdout",
     "output_type": "stream",
     "text": [
      "Finished Inversion 8 out of 1345 at 09/17/25 14:41:33\n",
      "Finished Writing Data 8 out of 1345 at 09/17/25 14:41:33\n"
     ]
    },
    {
     "name": "stderr",
     "output_type": "stream",
     "text": [
      "/var/folders/m9/d8bbz1wx4f50q99kfb1jv9pw0000gn/T/ipykernel_31286/2106180866.py:6: FutureWarning: Series.ravel is deprecated. The underlying array is already 1D, so ravel is not necessary.  Use `to_numpy()` for conversion to a numpy array instead.\n",
      "  ind         = np.argwhere(np.isnan(subsetgdf.m_water_vx).ravel()==False).flatten()\n"
     ]
    },
    {
     "name": "stdout",
     "output_type": "stream",
     "text": [
      "Finished Inversion 10 out of 1345 at 09/17/25 14:41:37\n",
      "Finished Writing Data 10 out of 1345 at 09/17/25 14:41:37\n"
     ]
    },
    {
     "name": "stderr",
     "output_type": "stream",
     "text": [
      "/var/folders/m9/d8bbz1wx4f50q99kfb1jv9pw0000gn/T/ipykernel_31286/2106180866.py:6: FutureWarning: Series.ravel is deprecated. The underlying array is already 1D, so ravel is not necessary.  Use `to_numpy()` for conversion to a numpy array instead.\n",
      "  ind         = np.argwhere(np.isnan(subsetgdf.m_water_vx).ravel()==False).flatten()\n"
     ]
    },
    {
     "name": "stdout",
     "output_type": "stream",
     "text": [
      "Finished Inversion 12 out of 1345 at 09/17/25 14:41:42\n",
      "Finished Writing Data 12 out of 1345 at 09/17/25 14:41:42\n"
     ]
    },
    {
     "name": "stderr",
     "output_type": "stream",
     "text": [
      "/var/folders/m9/d8bbz1wx4f50q99kfb1jv9pw0000gn/T/ipykernel_31286/2106180866.py:6: FutureWarning: Series.ravel is deprecated. The underlying array is already 1D, so ravel is not necessary.  Use `to_numpy()` for conversion to a numpy array instead.\n",
      "  ind         = np.argwhere(np.isnan(subsetgdf.m_water_vx).ravel()==False).flatten()\n"
     ]
    },
    {
     "name": "stdout",
     "output_type": "stream",
     "text": [
      "Finished Inversion 15 out of 1345 at 09/17/25 14:41:48\n",
      "Finished Writing Data 15 out of 1345 at 09/17/25 14:41:48\n"
     ]
    },
    {
     "name": "stderr",
     "output_type": "stream",
     "text": [
      "/var/folders/m9/d8bbz1wx4f50q99kfb1jv9pw0000gn/T/ipykernel_31286/2106180866.py:6: FutureWarning: Series.ravel is deprecated. The underlying array is already 1D, so ravel is not necessary.  Use `to_numpy()` for conversion to a numpy array instead.\n",
      "  ind         = np.argwhere(np.isnan(subsetgdf.m_water_vx).ravel()==False).flatten()\n"
     ]
    },
    {
     "name": "stdout",
     "output_type": "stream",
     "text": [
      "Finished Inversion 17 out of 1345 at 09/17/25 14:41:53\n",
      "Finished Writing Data 17 out of 1345 at 09/17/25 14:41:53\n"
     ]
    },
    {
     "name": "stderr",
     "output_type": "stream",
     "text": [
      "/var/folders/m9/d8bbz1wx4f50q99kfb1jv9pw0000gn/T/ipykernel_31286/2106180866.py:6: FutureWarning: Series.ravel is deprecated. The underlying array is already 1D, so ravel is not necessary.  Use `to_numpy()` for conversion to a numpy array instead.\n",
      "  ind         = np.argwhere(np.isnan(subsetgdf.m_water_vx).ravel()==False).flatten()\n"
     ]
    },
    {
     "name": "stdout",
     "output_type": "stream",
     "text": [
      "Finished Inversion 19 out of 1345 at 09/17/25 14:41:58\n",
      "Finished Writing Data 19 out of 1345 at 09/17/25 14:41:58\n"
     ]
    },
    {
     "name": "stderr",
     "output_type": "stream",
     "text": [
      "/var/folders/m9/d8bbz1wx4f50q99kfb1jv9pw0000gn/T/ipykernel_31286/2106180866.py:6: FutureWarning: Series.ravel is deprecated. The underlying array is already 1D, so ravel is not necessary.  Use `to_numpy()` for conversion to a numpy array instead.\n",
      "  ind         = np.argwhere(np.isnan(subsetgdf.m_water_vx).ravel()==False).flatten()\n"
     ]
    },
    {
     "name": "stdout",
     "output_type": "stream",
     "text": [
      "Finished Inversion 21 out of 1345 at 09/17/25 14:42:02\n",
      "Finished Writing Data 21 out of 1345 at 09/17/25 14:42:02\n"
     ]
    },
    {
     "name": "stderr",
     "output_type": "stream",
     "text": [
      "/var/folders/m9/d8bbz1wx4f50q99kfb1jv9pw0000gn/T/ipykernel_31286/2106180866.py:6: FutureWarning: Series.ravel is deprecated. The underlying array is already 1D, so ravel is not necessary.  Use `to_numpy()` for conversion to a numpy array instead.\n",
      "  ind         = np.argwhere(np.isnan(subsetgdf.m_water_vx).ravel()==False).flatten()\n"
     ]
    },
    {
     "name": "stdout",
     "output_type": "stream",
     "text": [
      "Finished Inversion 23 out of 1345 at 09/17/25 14:42:07\n",
      "Finished Writing Data 23 out of 1345 at 09/17/25 14:42:07\n"
     ]
    },
    {
     "name": "stderr",
     "output_type": "stream",
     "text": [
      "/var/folders/m9/d8bbz1wx4f50q99kfb1jv9pw0000gn/T/ipykernel_31286/2106180866.py:6: FutureWarning: Series.ravel is deprecated. The underlying array is already 1D, so ravel is not necessary.  Use `to_numpy()` for conversion to a numpy array instead.\n",
      "  ind         = np.argwhere(np.isnan(subsetgdf.m_water_vx).ravel()==False).flatten()\n"
     ]
    },
    {
     "name": "stdout",
     "output_type": "stream",
     "text": [
      "Finished Inversion 24 out of 1345 at 09/17/25 14:42:10\n",
      "Finished Writing Data 24 out of 1345 at 09/17/25 14:42:10\n"
     ]
    },
    {
     "name": "stderr",
     "output_type": "stream",
     "text": [
      "/var/folders/m9/d8bbz1wx4f50q99kfb1jv9pw0000gn/T/ipykernel_31286/2106180866.py:6: FutureWarning: Series.ravel is deprecated. The underlying array is already 1D, so ravel is not necessary.  Use `to_numpy()` for conversion to a numpy array instead.\n",
      "  ind         = np.argwhere(np.isnan(subsetgdf.m_water_vx).ravel()==False).flatten()\n"
     ]
    },
    {
     "name": "stdout",
     "output_type": "stream",
     "text": [
      "Finished Inversion 26 out of 1345 at 09/17/25 14:42:15\n",
      "Finished Writing Data 26 out of 1345 at 09/17/25 14:42:15\n"
     ]
    },
    {
     "name": "stderr",
     "output_type": "stream",
     "text": [
      "/var/folders/m9/d8bbz1wx4f50q99kfb1jv9pw0000gn/T/ipykernel_31286/2106180866.py:6: FutureWarning: Series.ravel is deprecated. The underlying array is already 1D, so ravel is not necessary.  Use `to_numpy()` for conversion to a numpy array instead.\n",
      "  ind         = np.argwhere(np.isnan(subsetgdf.m_water_vx).ravel()==False).flatten()\n"
     ]
    },
    {
     "name": "stdout",
     "output_type": "stream",
     "text": [
      "Finished Inversion 28 out of 1345 at 09/17/25 14:42:19\n",
      "Finished Writing Data 28 out of 1345 at 09/17/25 14:42:19\n"
     ]
    },
    {
     "name": "stderr",
     "output_type": "stream",
     "text": [
      "/var/folders/m9/d8bbz1wx4f50q99kfb1jv9pw0000gn/T/ipykernel_31286/2106180866.py:6: FutureWarning: Series.ravel is deprecated. The underlying array is already 1D, so ravel is not necessary.  Use `to_numpy()` for conversion to a numpy array instead.\n",
      "  ind         = np.argwhere(np.isnan(subsetgdf.m_water_vx).ravel()==False).flatten()\n"
     ]
    },
    {
     "name": "stdout",
     "output_type": "stream",
     "text": [
      "Finished Inversion 30 out of 1345 at 09/17/25 14:42:24\n",
      "Finished Writing Data 30 out of 1345 at 09/17/25 14:42:24\n"
     ]
    },
    {
     "name": "stderr",
     "output_type": "stream",
     "text": [
      "/var/folders/m9/d8bbz1wx4f50q99kfb1jv9pw0000gn/T/ipykernel_31286/2106180866.py:6: FutureWarning: Series.ravel is deprecated. The underlying array is already 1D, so ravel is not necessary.  Use `to_numpy()` for conversion to a numpy array instead.\n",
      "  ind         = np.argwhere(np.isnan(subsetgdf.m_water_vx).ravel()==False).flatten()\n"
     ]
    },
    {
     "name": "stdout",
     "output_type": "stream",
     "text": [
      "Finished Inversion 32 out of 1345 at 09/17/25 14:42:29\n",
      "Finished Writing Data 32 out of 1345 at 09/17/25 14:42:29\n"
     ]
    },
    {
     "name": "stderr",
     "output_type": "stream",
     "text": [
      "/var/folders/m9/d8bbz1wx4f50q99kfb1jv9pw0000gn/T/ipykernel_31286/2106180866.py:6: FutureWarning: Series.ravel is deprecated. The underlying array is already 1D, so ravel is not necessary.  Use `to_numpy()` for conversion to a numpy array instead.\n",
      "  ind         = np.argwhere(np.isnan(subsetgdf.m_water_vx).ravel()==False).flatten()\n"
     ]
    },
    {
     "name": "stdout",
     "output_type": "stream",
     "text": [
      "Finished Inversion 34 out of 1345 at 09/17/25 14:42:34\n",
      "Finished Writing Data 34 out of 1345 at 09/17/25 14:42:34\n"
     ]
    },
    {
     "name": "stderr",
     "output_type": "stream",
     "text": [
      "/var/folders/m9/d8bbz1wx4f50q99kfb1jv9pw0000gn/T/ipykernel_31286/2106180866.py:6: FutureWarning: Series.ravel is deprecated. The underlying array is already 1D, so ravel is not necessary.  Use `to_numpy()` for conversion to a numpy array instead.\n",
      "  ind         = np.argwhere(np.isnan(subsetgdf.m_water_vx).ravel()==False).flatten()\n"
     ]
    },
    {
     "name": "stdout",
     "output_type": "stream",
     "text": [
      "Finished Inversion 37 out of 1345 at 09/17/25 14:42:38\n",
      "Finished Writing Data 37 out of 1345 at 09/17/25 14:42:38\n"
     ]
    },
    {
     "name": "stderr",
     "output_type": "stream",
     "text": [
      "/var/folders/m9/d8bbz1wx4f50q99kfb1jv9pw0000gn/T/ipykernel_31286/2106180866.py:6: FutureWarning: Series.ravel is deprecated. The underlying array is already 1D, so ravel is not necessary.  Use `to_numpy()` for conversion to a numpy array instead.\n",
      "  ind         = np.argwhere(np.isnan(subsetgdf.m_water_vx).ravel()==False).flatten()\n"
     ]
    },
    {
     "name": "stdout",
     "output_type": "stream",
     "text": [
      "Finished Inversion 39 out of 1345 at 09/17/25 14:42:43\n",
      "Finished Writing Data 39 out of 1345 at 09/17/25 14:42:43\n"
     ]
    },
    {
     "name": "stderr",
     "output_type": "stream",
     "text": [
      "/var/folders/m9/d8bbz1wx4f50q99kfb1jv9pw0000gn/T/ipykernel_31286/2106180866.py:6: FutureWarning: Series.ravel is deprecated. The underlying array is already 1D, so ravel is not necessary.  Use `to_numpy()` for conversion to a numpy array instead.\n",
      "  ind         = np.argwhere(np.isnan(subsetgdf.m_water_vx).ravel()==False).flatten()\n"
     ]
    },
    {
     "name": "stdout",
     "output_type": "stream",
     "text": [
      "Finished Inversion 41 out of 1345 at 09/17/25 14:42:48\n",
      "Finished Writing Data 41 out of 1345 at 09/17/25 14:42:48\n"
     ]
    },
    {
     "name": "stderr",
     "output_type": "stream",
     "text": [
      "/var/folders/m9/d8bbz1wx4f50q99kfb1jv9pw0000gn/T/ipykernel_31286/2106180866.py:6: FutureWarning: Series.ravel is deprecated. The underlying array is already 1D, so ravel is not necessary.  Use `to_numpy()` for conversion to a numpy array instead.\n",
      "  ind         = np.argwhere(np.isnan(subsetgdf.m_water_vx).ravel()==False).flatten()\n"
     ]
    },
    {
     "name": "stdout",
     "output_type": "stream",
     "text": [
      "Finished Inversion 43 out of 1345 at 09/17/25 14:42:53\n",
      "Finished Writing Data 43 out of 1345 at 09/17/25 14:42:53\n"
     ]
    },
    {
     "name": "stderr",
     "output_type": "stream",
     "text": [
      "/var/folders/m9/d8bbz1wx4f50q99kfb1jv9pw0000gn/T/ipykernel_31286/2106180866.py:6: FutureWarning: Series.ravel is deprecated. The underlying array is already 1D, so ravel is not necessary.  Use `to_numpy()` for conversion to a numpy array instead.\n",
      "  ind         = np.argwhere(np.isnan(subsetgdf.m_water_vx).ravel()==False).flatten()\n"
     ]
    },
    {
     "name": "stdout",
     "output_type": "stream",
     "text": [
      "Finished Inversion 45 out of 1345 at 09/17/25 14:42:59\n",
      "Finished Writing Data 45 out of 1345 at 09/17/25 14:42:59\n"
     ]
    },
    {
     "name": "stderr",
     "output_type": "stream",
     "text": [
      "/var/folders/m9/d8bbz1wx4f50q99kfb1jv9pw0000gn/T/ipykernel_31286/2106180866.py:6: FutureWarning: Series.ravel is deprecated. The underlying array is already 1D, so ravel is not necessary.  Use `to_numpy()` for conversion to a numpy array instead.\n",
      "  ind         = np.argwhere(np.isnan(subsetgdf.m_water_vx).ravel()==False).flatten()\n"
     ]
    },
    {
     "name": "stdout",
     "output_type": "stream",
     "text": [
      "Finished Inversion 46 out of 1345 at 09/17/25 14:43:03\n",
      "Finished Writing Data 46 out of 1345 at 09/17/25 14:43:03\n"
     ]
    },
    {
     "name": "stderr",
     "output_type": "stream",
     "text": [
      "/var/folders/m9/d8bbz1wx4f50q99kfb1jv9pw0000gn/T/ipykernel_31286/2106180866.py:6: FutureWarning: Series.ravel is deprecated. The underlying array is already 1D, so ravel is not necessary.  Use `to_numpy()` for conversion to a numpy array instead.\n",
      "  ind         = np.argwhere(np.isnan(subsetgdf.m_water_vx).ravel()==False).flatten()\n"
     ]
    },
    {
     "name": "stdout",
     "output_type": "stream",
     "text": [
      "Finished Inversion 48 out of 1345 at 09/17/25 14:43:08\n",
      "Finished Writing Data 48 out of 1345 at 09/17/25 14:43:08\n"
     ]
    },
    {
     "name": "stderr",
     "output_type": "stream",
     "text": [
      "/var/folders/m9/d8bbz1wx4f50q99kfb1jv9pw0000gn/T/ipykernel_31286/2106180866.py:6: FutureWarning: Series.ravel is deprecated. The underlying array is already 1D, so ravel is not necessary.  Use `to_numpy()` for conversion to a numpy array instead.\n",
      "  ind         = np.argwhere(np.isnan(subsetgdf.m_water_vx).ravel()==False).flatten()\n"
     ]
    },
    {
     "name": "stdout",
     "output_type": "stream",
     "text": [
      "Finished Inversion 50 out of 1345 at 09/17/25 14:43:14\n",
      "Finished Writing Data 50 out of 1345 at 09/17/25 14:43:14\n"
     ]
    },
    {
     "name": "stderr",
     "output_type": "stream",
     "text": [
      "/var/folders/m9/d8bbz1wx4f50q99kfb1jv9pw0000gn/T/ipykernel_31286/2106180866.py:6: FutureWarning: Series.ravel is deprecated. The underlying array is already 1D, so ravel is not necessary.  Use `to_numpy()` for conversion to a numpy array instead.\n",
      "  ind         = np.argwhere(np.isnan(subsetgdf.m_water_vx).ravel()==False).flatten()\n"
     ]
    },
    {
     "name": "stdout",
     "output_type": "stream",
     "text": [
      "Finished Inversion 52 out of 1345 at 09/17/25 14:43:19\n",
      "Finished Writing Data 52 out of 1345 at 09/17/25 14:43:19\n"
     ]
    },
    {
     "name": "stderr",
     "output_type": "stream",
     "text": [
      "/var/folders/m9/d8bbz1wx4f50q99kfb1jv9pw0000gn/T/ipykernel_31286/2106180866.py:6: FutureWarning: Series.ravel is deprecated. The underlying array is already 1D, so ravel is not necessary.  Use `to_numpy()` for conversion to a numpy array instead.\n",
      "  ind         = np.argwhere(np.isnan(subsetgdf.m_water_vx).ravel()==False).flatten()\n"
     ]
    },
    {
     "name": "stdout",
     "output_type": "stream",
     "text": [
      "Finished Inversion 54 out of 1345 at 09/17/25 14:43:24\n",
      "Finished Writing Data 54 out of 1345 at 09/17/25 14:43:24\n"
     ]
    },
    {
     "name": "stderr",
     "output_type": "stream",
     "text": [
      "/var/folders/m9/d8bbz1wx4f50q99kfb1jv9pw0000gn/T/ipykernel_31286/2106180866.py:6: FutureWarning: Series.ravel is deprecated. The underlying array is already 1D, so ravel is not necessary.  Use `to_numpy()` for conversion to a numpy array instead.\n",
      "  ind         = np.argwhere(np.isnan(subsetgdf.m_water_vx).ravel()==False).flatten()\n"
     ]
    },
    {
     "name": "stdout",
     "output_type": "stream",
     "text": [
      "Finished Inversion 56 out of 1345 at 09/17/25 14:43:30\n",
      "Finished Writing Data 56 out of 1345 at 09/17/25 14:43:30\n"
     ]
    },
    {
     "name": "stderr",
     "output_type": "stream",
     "text": [
      "/var/folders/m9/d8bbz1wx4f50q99kfb1jv9pw0000gn/T/ipykernel_31286/2106180866.py:6: FutureWarning: Series.ravel is deprecated. The underlying array is already 1D, so ravel is not necessary.  Use `to_numpy()` for conversion to a numpy array instead.\n",
      "  ind         = np.argwhere(np.isnan(subsetgdf.m_water_vx).ravel()==False).flatten()\n"
     ]
    },
    {
     "name": "stdout",
     "output_type": "stream",
     "text": [
      "Finished Inversion 59 out of 1345 at 09/17/25 14:43:35\n",
      "Finished Writing Data 59 out of 1345 at 09/17/25 14:43:35\n"
     ]
    },
    {
     "name": "stderr",
     "output_type": "stream",
     "text": [
      "/var/folders/m9/d8bbz1wx4f50q99kfb1jv9pw0000gn/T/ipykernel_31286/2106180866.py:6: FutureWarning: Series.ravel is deprecated. The underlying array is already 1D, so ravel is not necessary.  Use `to_numpy()` for conversion to a numpy array instead.\n",
      "  ind         = np.argwhere(np.isnan(subsetgdf.m_water_vx).ravel()==False).flatten()\n"
     ]
    },
    {
     "name": "stdout",
     "output_type": "stream",
     "text": [
      "Finished Inversion 61 out of 1345 at 09/17/25 14:43:40\n",
      "Finished Writing Data 61 out of 1345 at 09/17/25 14:43:40\n"
     ]
    },
    {
     "name": "stderr",
     "output_type": "stream",
     "text": [
      "/var/folders/m9/d8bbz1wx4f50q99kfb1jv9pw0000gn/T/ipykernel_31286/2106180866.py:6: FutureWarning: Series.ravel is deprecated. The underlying array is already 1D, so ravel is not necessary.  Use `to_numpy()` for conversion to a numpy array instead.\n",
      "  ind         = np.argwhere(np.isnan(subsetgdf.m_water_vx).ravel()==False).flatten()\n"
     ]
    },
    {
     "name": "stdout",
     "output_type": "stream",
     "text": [
      "Finished Inversion 63 out of 1345 at 09/17/25 14:43:45\n",
      "Finished Writing Data 63 out of 1345 at 09/17/25 14:43:45\n"
     ]
    },
    {
     "name": "stderr",
     "output_type": "stream",
     "text": [
      "/var/folders/m9/d8bbz1wx4f50q99kfb1jv9pw0000gn/T/ipykernel_31286/2106180866.py:6: FutureWarning: Series.ravel is deprecated. The underlying array is already 1D, so ravel is not necessary.  Use `to_numpy()` for conversion to a numpy array instead.\n",
      "  ind         = np.argwhere(np.isnan(subsetgdf.m_water_vx).ravel()==False).flatten()\n"
     ]
    },
    {
     "name": "stdout",
     "output_type": "stream",
     "text": [
      "Finished Inversion 65 out of 1345 at 09/17/25 14:43:50\n",
      "Finished Writing Data 65 out of 1345 at 09/17/25 14:43:50\n"
     ]
    },
    {
     "name": "stderr",
     "output_type": "stream",
     "text": [
      "/var/folders/m9/d8bbz1wx4f50q99kfb1jv9pw0000gn/T/ipykernel_31286/2106180866.py:6: FutureWarning: Series.ravel is deprecated. The underlying array is already 1D, so ravel is not necessary.  Use `to_numpy()` for conversion to a numpy array instead.\n",
      "  ind         = np.argwhere(np.isnan(subsetgdf.m_water_vx).ravel()==False).flatten()\n"
     ]
    },
    {
     "name": "stdout",
     "output_type": "stream",
     "text": [
      "Finished Inversion 67 out of 1345 at 09/17/25 14:43:56\n",
      "Finished Writing Data 67 out of 1345 at 09/17/25 14:43:56\n"
     ]
    },
    {
     "name": "stderr",
     "output_type": "stream",
     "text": [
      "/var/folders/m9/d8bbz1wx4f50q99kfb1jv9pw0000gn/T/ipykernel_31286/2106180866.py:6: FutureWarning: Series.ravel is deprecated. The underlying array is already 1D, so ravel is not necessary.  Use `to_numpy()` for conversion to a numpy array instead.\n",
      "  ind         = np.argwhere(np.isnan(subsetgdf.m_water_vx).ravel()==False).flatten()\n"
     ]
    },
    {
     "name": "stdout",
     "output_type": "stream",
     "text": [
      "Finished Inversion 68 out of 1345 at 09/17/25 14:44:02\n",
      "Finished Writing Data 68 out of 1345 at 09/17/25 14:44:02\n"
     ]
    },
    {
     "name": "stderr",
     "output_type": "stream",
     "text": [
      "/var/folders/m9/d8bbz1wx4f50q99kfb1jv9pw0000gn/T/ipykernel_31286/2106180866.py:6: FutureWarning: Series.ravel is deprecated. The underlying array is already 1D, so ravel is not necessary.  Use `to_numpy()` for conversion to a numpy array instead.\n",
      "  ind         = np.argwhere(np.isnan(subsetgdf.m_water_vx).ravel()==False).flatten()\n"
     ]
    },
    {
     "name": "stdout",
     "output_type": "stream",
     "text": [
      "Finished Inversion 70 out of 1345 at 09/17/25 14:44:07\n",
      "Finished Writing Data 70 out of 1345 at 09/17/25 14:44:07\n"
     ]
    },
    {
     "name": "stderr",
     "output_type": "stream",
     "text": [
      "/var/folders/m9/d8bbz1wx4f50q99kfb1jv9pw0000gn/T/ipykernel_31286/2106180866.py:6: FutureWarning: Series.ravel is deprecated. The underlying array is already 1D, so ravel is not necessary.  Use `to_numpy()` for conversion to a numpy array instead.\n",
      "  ind         = np.argwhere(np.isnan(subsetgdf.m_water_vx).ravel()==False).flatten()\n"
     ]
    },
    {
     "name": "stdout",
     "output_type": "stream",
     "text": [
      "Finished Inversion 72 out of 1345 at 09/17/25 14:44:12\n",
      "Finished Writing Data 72 out of 1345 at 09/17/25 14:44:12\n"
     ]
    },
    {
     "name": "stderr",
     "output_type": "stream",
     "text": [
      "/var/folders/m9/d8bbz1wx4f50q99kfb1jv9pw0000gn/T/ipykernel_31286/2106180866.py:6: FutureWarning: Series.ravel is deprecated. The underlying array is already 1D, so ravel is not necessary.  Use `to_numpy()` for conversion to a numpy array instead.\n",
      "  ind         = np.argwhere(np.isnan(subsetgdf.m_water_vx).ravel()==False).flatten()\n"
     ]
    },
    {
     "name": "stdout",
     "output_type": "stream",
     "text": [
      "Finished Inversion 74 out of 1345 at 09/17/25 14:44:17\n",
      "Finished Writing Data 74 out of 1345 at 09/17/25 14:44:17\n"
     ]
    },
    {
     "name": "stderr",
     "output_type": "stream",
     "text": [
      "/var/folders/m9/d8bbz1wx4f50q99kfb1jv9pw0000gn/T/ipykernel_31286/2106180866.py:6: FutureWarning: Series.ravel is deprecated. The underlying array is already 1D, so ravel is not necessary.  Use `to_numpy()` for conversion to a numpy array instead.\n",
      "  ind         = np.argwhere(np.isnan(subsetgdf.m_water_vx).ravel()==False).flatten()\n"
     ]
    },
    {
     "name": "stdout",
     "output_type": "stream",
     "text": [
      "Finished Inversion 75 out of 1345 at 09/17/25 14:44:23\n",
      "Finished Writing Data 75 out of 1345 at 09/17/25 14:44:23\n"
     ]
    },
    {
     "name": "stderr",
     "output_type": "stream",
     "text": [
      "/var/folders/m9/d8bbz1wx4f50q99kfb1jv9pw0000gn/T/ipykernel_31286/2106180866.py:6: FutureWarning: Series.ravel is deprecated. The underlying array is already 1D, so ravel is not necessary.  Use `to_numpy()` for conversion to a numpy array instead.\n",
      "  ind         = np.argwhere(np.isnan(subsetgdf.m_water_vx).ravel()==False).flatten()\n"
     ]
    },
    {
     "name": "stdout",
     "output_type": "stream",
     "text": [
      "Finished Inversion 77 out of 1345 at 09/17/25 14:44:29\n",
      "Finished Writing Data 77 out of 1345 at 09/17/25 14:44:29\n"
     ]
    },
    {
     "name": "stderr",
     "output_type": "stream",
     "text": [
      "/var/folders/m9/d8bbz1wx4f50q99kfb1jv9pw0000gn/T/ipykernel_31286/2106180866.py:6: FutureWarning: Series.ravel is deprecated. The underlying array is already 1D, so ravel is not necessary.  Use `to_numpy()` for conversion to a numpy array instead.\n",
      "  ind         = np.argwhere(np.isnan(subsetgdf.m_water_vx).ravel()==False).flatten()\n"
     ]
    },
    {
     "name": "stdout",
     "output_type": "stream",
     "text": [
      "Finished Inversion 78 out of 1345 at 09/17/25 14:44:35\n",
      "Finished Writing Data 78 out of 1345 at 09/17/25 14:44:35\n"
     ]
    },
    {
     "name": "stderr",
     "output_type": "stream",
     "text": [
      "/var/folders/m9/d8bbz1wx4f50q99kfb1jv9pw0000gn/T/ipykernel_31286/2106180866.py:6: FutureWarning: Series.ravel is deprecated. The underlying array is already 1D, so ravel is not necessary.  Use `to_numpy()` for conversion to a numpy array instead.\n",
      "  ind         = np.argwhere(np.isnan(subsetgdf.m_water_vx).ravel()==False).flatten()\n"
     ]
    },
    {
     "name": "stdout",
     "output_type": "stream",
     "text": [
      "Finished Inversion 81 out of 1345 at 09/17/25 14:44:41\n",
      "Finished Writing Data 81 out of 1345 at 09/17/25 14:44:41\n"
     ]
    },
    {
     "name": "stderr",
     "output_type": "stream",
     "text": [
      "/var/folders/m9/d8bbz1wx4f50q99kfb1jv9pw0000gn/T/ipykernel_31286/2106180866.py:6: FutureWarning: Series.ravel is deprecated. The underlying array is already 1D, so ravel is not necessary.  Use `to_numpy()` for conversion to a numpy array instead.\n",
      "  ind         = np.argwhere(np.isnan(subsetgdf.m_water_vx).ravel()==False).flatten()\n"
     ]
    },
    {
     "name": "stdout",
     "output_type": "stream",
     "text": [
      "Finished Inversion 83 out of 1345 at 09/17/25 14:44:46\n",
      "Finished Writing Data 83 out of 1345 at 09/17/25 14:44:46\n"
     ]
    },
    {
     "name": "stderr",
     "output_type": "stream",
     "text": [
      "/var/folders/m9/d8bbz1wx4f50q99kfb1jv9pw0000gn/T/ipykernel_31286/2106180866.py:6: FutureWarning: Series.ravel is deprecated. The underlying array is already 1D, so ravel is not necessary.  Use `to_numpy()` for conversion to a numpy array instead.\n",
      "  ind         = np.argwhere(np.isnan(subsetgdf.m_water_vx).ravel()==False).flatten()\n"
     ]
    },
    {
     "name": "stdout",
     "output_type": "stream",
     "text": [
      "Finished Inversion 85 out of 1345 at 09/17/25 14:44:52\n",
      "Finished Writing Data 85 out of 1345 at 09/17/25 14:44:52\n"
     ]
    },
    {
     "name": "stderr",
     "output_type": "stream",
     "text": [
      "/var/folders/m9/d8bbz1wx4f50q99kfb1jv9pw0000gn/T/ipykernel_31286/2106180866.py:6: FutureWarning: Series.ravel is deprecated. The underlying array is already 1D, so ravel is not necessary.  Use `to_numpy()` for conversion to a numpy array instead.\n",
      "  ind         = np.argwhere(np.isnan(subsetgdf.m_water_vx).ravel()==False).flatten()\n"
     ]
    },
    {
     "name": "stdout",
     "output_type": "stream",
     "text": [
      "Finished Inversion 87 out of 1345 at 09/17/25 14:44:58\n",
      "Finished Writing Data 87 out of 1345 at 09/17/25 14:44:58\n"
     ]
    },
    {
     "name": "stderr",
     "output_type": "stream",
     "text": [
      "/var/folders/m9/d8bbz1wx4f50q99kfb1jv9pw0000gn/T/ipykernel_31286/2106180866.py:6: FutureWarning: Series.ravel is deprecated. The underlying array is already 1D, so ravel is not necessary.  Use `to_numpy()` for conversion to a numpy array instead.\n",
      "  ind         = np.argwhere(np.isnan(subsetgdf.m_water_vx).ravel()==False).flatten()\n"
     ]
    },
    {
     "name": "stdout",
     "output_type": "stream",
     "text": [
      "Finished Inversion 89 out of 1345 at 09/17/25 14:44:59\n",
      "Finished Writing Data 89 out of 1345 at 09/17/25 14:44:59\n"
     ]
    },
    {
     "name": "stderr",
     "output_type": "stream",
     "text": [
      "/var/folders/m9/d8bbz1wx4f50q99kfb1jv9pw0000gn/T/ipykernel_31286/2106180866.py:6: FutureWarning: Series.ravel is deprecated. The underlying array is already 1D, so ravel is not necessary.  Use `to_numpy()` for conversion to a numpy array instead.\n",
      "  ind         = np.argwhere(np.isnan(subsetgdf.m_water_vx).ravel()==False).flatten()\n"
     ]
    },
    {
     "name": "stdout",
     "output_type": "stream",
     "text": [
      "Finished Inversion 90 out of 1345 at 09/17/25 14:45:04\n",
      "Finished Writing Data 90 out of 1345 at 09/17/25 14:45:04\n"
     ]
    },
    {
     "name": "stderr",
     "output_type": "stream",
     "text": [
      "/var/folders/m9/d8bbz1wx4f50q99kfb1jv9pw0000gn/T/ipykernel_31286/2106180866.py:6: FutureWarning: Series.ravel is deprecated. The underlying array is already 1D, so ravel is not necessary.  Use `to_numpy()` for conversion to a numpy array instead.\n",
      "  ind         = np.argwhere(np.isnan(subsetgdf.m_water_vx).ravel()==False).flatten()\n"
     ]
    },
    {
     "name": "stdout",
     "output_type": "stream",
     "text": [
      "Finished Inversion 92 out of 1345 at 09/17/25 14:45:09\n",
      "Finished Writing Data 92 out of 1345 at 09/17/25 14:45:09\n"
     ]
    },
    {
     "name": "stderr",
     "output_type": "stream",
     "text": [
      "/var/folders/m9/d8bbz1wx4f50q99kfb1jv9pw0000gn/T/ipykernel_31286/2106180866.py:6: FutureWarning: Series.ravel is deprecated. The underlying array is already 1D, so ravel is not necessary.  Use `to_numpy()` for conversion to a numpy array instead.\n",
      "  ind         = np.argwhere(np.isnan(subsetgdf.m_water_vx).ravel()==False).flatten()\n"
     ]
    },
    {
     "name": "stdout",
     "output_type": "stream",
     "text": [
      "Finished Inversion 94 out of 1345 at 09/17/25 14:45:14\n",
      "Finished Writing Data 94 out of 1345 at 09/17/25 14:45:14\n"
     ]
    },
    {
     "name": "stderr",
     "output_type": "stream",
     "text": [
      "/var/folders/m9/d8bbz1wx4f50q99kfb1jv9pw0000gn/T/ipykernel_31286/2106180866.py:6: FutureWarning: Series.ravel is deprecated. The underlying array is already 1D, so ravel is not necessary.  Use `to_numpy()` for conversion to a numpy array instead.\n",
      "  ind         = np.argwhere(np.isnan(subsetgdf.m_water_vx).ravel()==False).flatten()\n"
     ]
    },
    {
     "name": "stdout",
     "output_type": "stream",
     "text": [
      "Finished Inversion 96 out of 1345 at 09/17/25 14:45:18\n",
      "Finished Writing Data 96 out of 1345 at 09/17/25 14:45:18\n"
     ]
    },
    {
     "name": "stderr",
     "output_type": "stream",
     "text": [
      "/var/folders/m9/d8bbz1wx4f50q99kfb1jv9pw0000gn/T/ipykernel_31286/2106180866.py:6: FutureWarning: Series.ravel is deprecated. The underlying array is already 1D, so ravel is not necessary.  Use `to_numpy()` for conversion to a numpy array instead.\n",
      "  ind         = np.argwhere(np.isnan(subsetgdf.m_water_vx).ravel()==False).flatten()\n"
     ]
    },
    {
     "name": "stdout",
     "output_type": "stream",
     "text": [
      "Finished Inversion 98 out of 1345 at 09/17/25 14:45:23\n",
      "Finished Writing Data 98 out of 1345 at 09/17/25 14:45:23\n"
     ]
    },
    {
     "name": "stderr",
     "output_type": "stream",
     "text": [
      "/var/folders/m9/d8bbz1wx4f50q99kfb1jv9pw0000gn/T/ipykernel_31286/2106180866.py:6: FutureWarning: Series.ravel is deprecated. The underlying array is already 1D, so ravel is not necessary.  Use `to_numpy()` for conversion to a numpy array instead.\n",
      "  ind         = np.argwhere(np.isnan(subsetgdf.m_water_vx).ravel()==False).flatten()\n"
     ]
    },
    {
     "name": "stdout",
     "output_type": "stream",
     "text": [
      "Finished Inversion 101 out of 1345 at 09/17/25 14:45:29\n",
      "Finished Writing Data 101 out of 1345 at 09/17/25 14:45:29\n"
     ]
    },
    {
     "name": "stderr",
     "output_type": "stream",
     "text": [
      "/var/folders/m9/d8bbz1wx4f50q99kfb1jv9pw0000gn/T/ipykernel_31286/2106180866.py:6: FutureWarning: Series.ravel is deprecated. The underlying array is already 1D, so ravel is not necessary.  Use `to_numpy()` for conversion to a numpy array instead.\n",
      "  ind         = np.argwhere(np.isnan(subsetgdf.m_water_vx).ravel()==False).flatten()\n"
     ]
    },
    {
     "name": "stdout",
     "output_type": "stream",
     "text": [
      "Finished Inversion 103 out of 1345 at 09/17/25 14:45:35\n",
      "Finished Writing Data 103 out of 1345 at 09/17/25 14:45:35\n"
     ]
    },
    {
     "name": "stderr",
     "output_type": "stream",
     "text": [
      "/var/folders/m9/d8bbz1wx4f50q99kfb1jv9pw0000gn/T/ipykernel_31286/2106180866.py:6: FutureWarning: Series.ravel is deprecated. The underlying array is already 1D, so ravel is not necessary.  Use `to_numpy()` for conversion to a numpy array instead.\n",
      "  ind         = np.argwhere(np.isnan(subsetgdf.m_water_vx).ravel()==False).flatten()\n"
     ]
    },
    {
     "name": "stdout",
     "output_type": "stream",
     "text": [
      "Finished Inversion 105 out of 1345 at 09/17/25 14:45:40\n",
      "Finished Writing Data 105 out of 1345 at 09/17/25 14:45:40\n"
     ]
    },
    {
     "name": "stderr",
     "output_type": "stream",
     "text": [
      "/var/folders/m9/d8bbz1wx4f50q99kfb1jv9pw0000gn/T/ipykernel_31286/2106180866.py:6: FutureWarning: Series.ravel is deprecated. The underlying array is already 1D, so ravel is not necessary.  Use `to_numpy()` for conversion to a numpy array instead.\n",
      "  ind         = np.argwhere(np.isnan(subsetgdf.m_water_vx).ravel()==False).flatten()\n"
     ]
    },
    {
     "name": "stdout",
     "output_type": "stream",
     "text": [
      "Finished Inversion 107 out of 1345 at 09/17/25 14:45:45\n",
      "Finished Writing Data 107 out of 1345 at 09/17/25 14:45:45\n"
     ]
    },
    {
     "name": "stderr",
     "output_type": "stream",
     "text": [
      "/var/folders/m9/d8bbz1wx4f50q99kfb1jv9pw0000gn/T/ipykernel_31286/2106180866.py:6: FutureWarning: Series.ravel is deprecated. The underlying array is already 1D, so ravel is not necessary.  Use `to_numpy()` for conversion to a numpy array instead.\n",
      "  ind         = np.argwhere(np.isnan(subsetgdf.m_water_vx).ravel()==False).flatten()\n"
     ]
    },
    {
     "name": "stdout",
     "output_type": "stream",
     "text": [
      "Finished Inversion 109 out of 1345 at 09/17/25 14:45:51\n",
      "Finished Writing Data 109 out of 1345 at 09/17/25 14:45:51\n"
     ]
    },
    {
     "name": "stderr",
     "output_type": "stream",
     "text": [
      "/var/folders/m9/d8bbz1wx4f50q99kfb1jv9pw0000gn/T/ipykernel_31286/2106180866.py:6: FutureWarning: Series.ravel is deprecated. The underlying array is already 1D, so ravel is not necessary.  Use `to_numpy()` for conversion to a numpy array instead.\n",
      "  ind         = np.argwhere(np.isnan(subsetgdf.m_water_vx).ravel()==False).flatten()\n"
     ]
    },
    {
     "name": "stdout",
     "output_type": "stream",
     "text": [
      "Finished Inversion 112 out of 1345 at 09/17/25 14:45:56\n",
      "Finished Writing Data 112 out of 1345 at 09/17/25 14:45:56\n"
     ]
    },
    {
     "name": "stderr",
     "output_type": "stream",
     "text": [
      "/var/folders/m9/d8bbz1wx4f50q99kfb1jv9pw0000gn/T/ipykernel_31286/2106180866.py:6: FutureWarning: Series.ravel is deprecated. The underlying array is already 1D, so ravel is not necessary.  Use `to_numpy()` for conversion to a numpy array instead.\n",
      "  ind         = np.argwhere(np.isnan(subsetgdf.m_water_vx).ravel()==False).flatten()\n"
     ]
    },
    {
     "name": "stdout",
     "output_type": "stream",
     "text": [
      "Finished Inversion 114 out of 1345 at 09/17/25 14:46:00\n",
      "Finished Writing Data 114 out of 1345 at 09/17/25 14:46:00\n"
     ]
    },
    {
     "name": "stderr",
     "output_type": "stream",
     "text": [
      "/var/folders/m9/d8bbz1wx4f50q99kfb1jv9pw0000gn/T/ipykernel_31286/2106180866.py:6: FutureWarning: Series.ravel is deprecated. The underlying array is already 1D, so ravel is not necessary.  Use `to_numpy()` for conversion to a numpy array instead.\n",
      "  ind         = np.argwhere(np.isnan(subsetgdf.m_water_vx).ravel()==False).flatten()\n"
     ]
    },
    {
     "name": "stdout",
     "output_type": "stream",
     "text": [
      "Finished Inversion 116 out of 1345 at 09/17/25 14:46:05\n",
      "Finished Writing Data 116 out of 1345 at 09/17/25 14:46:05\n"
     ]
    },
    {
     "name": "stderr",
     "output_type": "stream",
     "text": [
      "/var/folders/m9/d8bbz1wx4f50q99kfb1jv9pw0000gn/T/ipykernel_31286/2106180866.py:6: FutureWarning: Series.ravel is deprecated. The underlying array is already 1D, so ravel is not necessary.  Use `to_numpy()` for conversion to a numpy array instead.\n",
      "  ind         = np.argwhere(np.isnan(subsetgdf.m_water_vx).ravel()==False).flatten()\n"
     ]
    },
    {
     "name": "stdout",
     "output_type": "stream",
     "text": [
      "Finished Inversion 118 out of 1345 at 09/17/25 14:46:10\n",
      "Finished Writing Data 118 out of 1345 at 09/17/25 14:46:10\n"
     ]
    },
    {
     "name": "stderr",
     "output_type": "stream",
     "text": [
      "/var/folders/m9/d8bbz1wx4f50q99kfb1jv9pw0000gn/T/ipykernel_31286/2106180866.py:6: FutureWarning: Series.ravel is deprecated. The underlying array is already 1D, so ravel is not necessary.  Use `to_numpy()` for conversion to a numpy array instead.\n",
      "  ind         = np.argwhere(np.isnan(subsetgdf.m_water_vx).ravel()==False).flatten()\n"
     ]
    },
    {
     "name": "stdout",
     "output_type": "stream",
     "text": [
      "Finished Inversion 120 out of 1345 at 09/17/25 14:46:15\n",
      "Finished Writing Data 120 out of 1345 at 09/17/25 14:46:15\n"
     ]
    },
    {
     "name": "stderr",
     "output_type": "stream",
     "text": [
      "/var/folders/m9/d8bbz1wx4f50q99kfb1jv9pw0000gn/T/ipykernel_31286/2106180866.py:6: FutureWarning: Series.ravel is deprecated. The underlying array is already 1D, so ravel is not necessary.  Use `to_numpy()` for conversion to a numpy array instead.\n",
      "  ind         = np.argwhere(np.isnan(subsetgdf.m_water_vx).ravel()==False).flatten()\n"
     ]
    },
    {
     "name": "stdout",
     "output_type": "stream",
     "text": [
      "Finished Inversion 123 out of 1345 at 09/17/25 14:46:20\n",
      "Finished Writing Data 123 out of 1345 at 09/17/25 14:46:20\n"
     ]
    },
    {
     "name": "stderr",
     "output_type": "stream",
     "text": [
      "/var/folders/m9/d8bbz1wx4f50q99kfb1jv9pw0000gn/T/ipykernel_31286/2106180866.py:6: FutureWarning: Series.ravel is deprecated. The underlying array is already 1D, so ravel is not necessary.  Use `to_numpy()` for conversion to a numpy array instead.\n",
      "  ind         = np.argwhere(np.isnan(subsetgdf.m_water_vx).ravel()==False).flatten()\n"
     ]
    },
    {
     "name": "stdout",
     "output_type": "stream",
     "text": [
      "Finished Inversion 125 out of 1345 at 09/17/25 14:46:25\n",
      "Finished Writing Data 125 out of 1345 at 09/17/25 14:46:25\n"
     ]
    },
    {
     "name": "stderr",
     "output_type": "stream",
     "text": [
      "/var/folders/m9/d8bbz1wx4f50q99kfb1jv9pw0000gn/T/ipykernel_31286/2106180866.py:6: FutureWarning: Series.ravel is deprecated. The underlying array is already 1D, so ravel is not necessary.  Use `to_numpy()` for conversion to a numpy array instead.\n",
      "  ind         = np.argwhere(np.isnan(subsetgdf.m_water_vx).ravel()==False).flatten()\n"
     ]
    },
    {
     "name": "stdout",
     "output_type": "stream",
     "text": [
      "Finished Inversion 127 out of 1345 at 09/17/25 14:46:30\n",
      "Finished Writing Data 127 out of 1345 at 09/17/25 14:46:30\n"
     ]
    },
    {
     "name": "stderr",
     "output_type": "stream",
     "text": [
      "/var/folders/m9/d8bbz1wx4f50q99kfb1jv9pw0000gn/T/ipykernel_31286/2106180866.py:6: FutureWarning: Series.ravel is deprecated. The underlying array is already 1D, so ravel is not necessary.  Use `to_numpy()` for conversion to a numpy array instead.\n",
      "  ind         = np.argwhere(np.isnan(subsetgdf.m_water_vx).ravel()==False).flatten()\n"
     ]
    },
    {
     "name": "stdout",
     "output_type": "stream",
     "text": [
      "Finished Inversion 129 out of 1345 at 09/17/25 14:46:35\n",
      "Finished Writing Data 129 out of 1345 at 09/17/25 14:46:35\n"
     ]
    },
    {
     "name": "stderr",
     "output_type": "stream",
     "text": [
      "/var/folders/m9/d8bbz1wx4f50q99kfb1jv9pw0000gn/T/ipykernel_31286/2106180866.py:6: FutureWarning: Series.ravel is deprecated. The underlying array is already 1D, so ravel is not necessary.  Use `to_numpy()` for conversion to a numpy array instead.\n",
      "  ind         = np.argwhere(np.isnan(subsetgdf.m_water_vx).ravel()==False).flatten()\n"
     ]
    },
    {
     "name": "stdout",
     "output_type": "stream",
     "text": [
      "Finished Inversion 131 out of 1345 at 09/17/25 14:46:41\n",
      "Finished Writing Data 131 out of 1345 at 09/17/25 14:46:41\n"
     ]
    },
    {
     "name": "stderr",
     "output_type": "stream",
     "text": [
      "/var/folders/m9/d8bbz1wx4f50q99kfb1jv9pw0000gn/T/ipykernel_31286/2106180866.py:6: FutureWarning: Series.ravel is deprecated. The underlying array is already 1D, so ravel is not necessary.  Use `to_numpy()` for conversion to a numpy array instead.\n",
      "  ind         = np.argwhere(np.isnan(subsetgdf.m_water_vx).ravel()==False).flatten()\n"
     ]
    },
    {
     "name": "stdout",
     "output_type": "stream",
     "text": [
      "Finished Inversion 133 out of 1345 at 09/17/25 14:46:46\n",
      "Finished Writing Data 133 out of 1345 at 09/17/25 14:46:46\n"
     ]
    },
    {
     "name": "stderr",
     "output_type": "stream",
     "text": [
      "/var/folders/m9/d8bbz1wx4f50q99kfb1jv9pw0000gn/T/ipykernel_31286/2106180866.py:6: FutureWarning: Series.ravel is deprecated. The underlying array is already 1D, so ravel is not necessary.  Use `to_numpy()` for conversion to a numpy array instead.\n",
      "  ind         = np.argwhere(np.isnan(subsetgdf.m_water_vx).ravel()==False).flatten()\n"
     ]
    },
    {
     "name": "stdout",
     "output_type": "stream",
     "text": [
      "Finished Inversion 134 out of 1345 at 09/17/25 14:46:51\n",
      "Finished Writing Data 134 out of 1345 at 09/17/25 14:46:51\n"
     ]
    },
    {
     "name": "stderr",
     "output_type": "stream",
     "text": [
      "/var/folders/m9/d8bbz1wx4f50q99kfb1jv9pw0000gn/T/ipykernel_31286/2106180866.py:6: FutureWarning: Series.ravel is deprecated. The underlying array is already 1D, so ravel is not necessary.  Use `to_numpy()` for conversion to a numpy array instead.\n",
      "  ind         = np.argwhere(np.isnan(subsetgdf.m_water_vx).ravel()==False).flatten()\n"
     ]
    },
    {
     "name": "stdout",
     "output_type": "stream",
     "text": [
      "Finished Inversion 136 out of 1345 at 09/17/25 14:46:55\n",
      "Finished Writing Data 136 out of 1345 at 09/17/25 14:46:55\n"
     ]
    },
    {
     "name": "stderr",
     "output_type": "stream",
     "text": [
      "/var/folders/m9/d8bbz1wx4f50q99kfb1jv9pw0000gn/T/ipykernel_31286/2106180866.py:6: FutureWarning: Series.ravel is deprecated. The underlying array is already 1D, so ravel is not necessary.  Use `to_numpy()` for conversion to a numpy array instead.\n",
      "  ind         = np.argwhere(np.isnan(subsetgdf.m_water_vx).ravel()==False).flatten()\n"
     ]
    },
    {
     "name": "stdout",
     "output_type": "stream",
     "text": [
      "Finished Inversion 138 out of 1345 at 09/17/25 14:47:00\n",
      "Finished Writing Data 138 out of 1345 at 09/17/25 14:47:00\n"
     ]
    },
    {
     "name": "stderr",
     "output_type": "stream",
     "text": [
      "/var/folders/m9/d8bbz1wx4f50q99kfb1jv9pw0000gn/T/ipykernel_31286/2106180866.py:6: FutureWarning: Series.ravel is deprecated. The underlying array is already 1D, so ravel is not necessary.  Use `to_numpy()` for conversion to a numpy array instead.\n",
      "  ind         = np.argwhere(np.isnan(subsetgdf.m_water_vx).ravel()==False).flatten()\n"
     ]
    },
    {
     "name": "stdout",
     "output_type": "stream",
     "text": [
      "Finished Inversion 140 out of 1345 at 09/17/25 14:47:06\n",
      "Finished Writing Data 140 out of 1345 at 09/17/25 14:47:06\n"
     ]
    },
    {
     "name": "stderr",
     "output_type": "stream",
     "text": [
      "/var/folders/m9/d8bbz1wx4f50q99kfb1jv9pw0000gn/T/ipykernel_31286/2106180866.py:6: FutureWarning: Series.ravel is deprecated. The underlying array is already 1D, so ravel is not necessary.  Use `to_numpy()` for conversion to a numpy array instead.\n",
      "  ind         = np.argwhere(np.isnan(subsetgdf.m_water_vx).ravel()==False).flatten()\n"
     ]
    },
    {
     "name": "stdout",
     "output_type": "stream",
     "text": [
      "Finished Inversion 142 out of 1345 at 09/17/25 14:47:11\n",
      "Finished Writing Data 142 out of 1345 at 09/17/25 14:47:11\n"
     ]
    },
    {
     "name": "stderr",
     "output_type": "stream",
     "text": [
      "/var/folders/m9/d8bbz1wx4f50q99kfb1jv9pw0000gn/T/ipykernel_31286/2106180866.py:6: FutureWarning: Series.ravel is deprecated. The underlying array is already 1D, so ravel is not necessary.  Use `to_numpy()` for conversion to a numpy array instead.\n",
      "  ind         = np.argwhere(np.isnan(subsetgdf.m_water_vx).ravel()==False).flatten()\n"
     ]
    },
    {
     "name": "stdout",
     "output_type": "stream",
     "text": [
      "Finished Inversion 145 out of 1345 at 09/17/25 14:47:17\n",
      "Finished Writing Data 145 out of 1345 at 09/17/25 14:47:17\n"
     ]
    },
    {
     "name": "stderr",
     "output_type": "stream",
     "text": [
      "/var/folders/m9/d8bbz1wx4f50q99kfb1jv9pw0000gn/T/ipykernel_31286/2106180866.py:6: FutureWarning: Series.ravel is deprecated. The underlying array is already 1D, so ravel is not necessary.  Use `to_numpy()` for conversion to a numpy array instead.\n",
      "  ind         = np.argwhere(np.isnan(subsetgdf.m_water_vx).ravel()==False).flatten()\n"
     ]
    },
    {
     "name": "stdout",
     "output_type": "stream",
     "text": [
      "Finished Inversion 147 out of 1345 at 09/17/25 14:47:23\n",
      "Finished Writing Data 147 out of 1345 at 09/17/25 14:47:23\n"
     ]
    },
    {
     "name": "stderr",
     "output_type": "stream",
     "text": [
      "/var/folders/m9/d8bbz1wx4f50q99kfb1jv9pw0000gn/T/ipykernel_31286/2106180866.py:6: FutureWarning: Series.ravel is deprecated. The underlying array is already 1D, so ravel is not necessary.  Use `to_numpy()` for conversion to a numpy array instead.\n",
      "  ind         = np.argwhere(np.isnan(subsetgdf.m_water_vx).ravel()==False).flatten()\n"
     ]
    },
    {
     "name": "stdout",
     "output_type": "stream",
     "text": [
      "Finished Inversion 149 out of 1345 at 09/17/25 14:47:29\n",
      "Finished Writing Data 149 out of 1345 at 09/17/25 14:47:29\n"
     ]
    },
    {
     "name": "stderr",
     "output_type": "stream",
     "text": [
      "/var/folders/m9/d8bbz1wx4f50q99kfb1jv9pw0000gn/T/ipykernel_31286/2106180866.py:6: FutureWarning: Series.ravel is deprecated. The underlying array is already 1D, so ravel is not necessary.  Use `to_numpy()` for conversion to a numpy array instead.\n",
      "  ind         = np.argwhere(np.isnan(subsetgdf.m_water_vx).ravel()==False).flatten()\n"
     ]
    },
    {
     "name": "stdout",
     "output_type": "stream",
     "text": [
      "Finished Inversion 151 out of 1345 at 09/17/25 14:47:35\n",
      "Finished Writing Data 151 out of 1345 at 09/17/25 14:47:35\n"
     ]
    },
    {
     "name": "stderr",
     "output_type": "stream",
     "text": [
      "/var/folders/m9/d8bbz1wx4f50q99kfb1jv9pw0000gn/T/ipykernel_31286/2106180866.py:6: FutureWarning: Series.ravel is deprecated. The underlying array is already 1D, so ravel is not necessary.  Use `to_numpy()` for conversion to a numpy array instead.\n",
      "  ind         = np.argwhere(np.isnan(subsetgdf.m_water_vx).ravel()==False).flatten()\n"
     ]
    },
    {
     "name": "stdout",
     "output_type": "stream",
     "text": [
      "Finished Inversion 153 out of 1345 at 09/17/25 14:47:40\n",
      "Finished Writing Data 153 out of 1345 at 09/17/25 14:47:40\n"
     ]
    },
    {
     "name": "stderr",
     "output_type": "stream",
     "text": [
      "/var/folders/m9/d8bbz1wx4f50q99kfb1jv9pw0000gn/T/ipykernel_31286/2106180866.py:6: FutureWarning: Series.ravel is deprecated. The underlying array is already 1D, so ravel is not necessary.  Use `to_numpy()` for conversion to a numpy array instead.\n",
      "  ind         = np.argwhere(np.isnan(subsetgdf.m_water_vx).ravel()==False).flatten()\n"
     ]
    },
    {
     "name": "stdout",
     "output_type": "stream",
     "text": [
      "Finished Inversion 155 out of 1345 at 09/17/25 14:47:47\n",
      "Finished Writing Data 155 out of 1345 at 09/17/25 14:47:47\n"
     ]
    },
    {
     "name": "stderr",
     "output_type": "stream",
     "text": [
      "/var/folders/m9/d8bbz1wx4f50q99kfb1jv9pw0000gn/T/ipykernel_31286/2106180866.py:6: FutureWarning: Series.ravel is deprecated. The underlying array is already 1D, so ravel is not necessary.  Use `to_numpy()` for conversion to a numpy array instead.\n",
      "  ind         = np.argwhere(np.isnan(subsetgdf.m_water_vx).ravel()==False).flatten()\n"
     ]
    },
    {
     "name": "stdout",
     "output_type": "stream",
     "text": [
      "Finished Inversion 156 out of 1345 at 09/17/25 14:47:52\n",
      "Finished Writing Data 156 out of 1345 at 09/17/25 14:47:52\n"
     ]
    },
    {
     "name": "stderr",
     "output_type": "stream",
     "text": [
      "/var/folders/m9/d8bbz1wx4f50q99kfb1jv9pw0000gn/T/ipykernel_31286/2106180866.py:6: FutureWarning: Series.ravel is deprecated. The underlying array is already 1D, so ravel is not necessary.  Use `to_numpy()` for conversion to a numpy array instead.\n",
      "  ind         = np.argwhere(np.isnan(subsetgdf.m_water_vx).ravel()==False).flatten()\n"
     ]
    },
    {
     "name": "stdout",
     "output_type": "stream",
     "text": [
      "Finished Inversion 158 out of 1345 at 09/17/25 14:47:58\n",
      "Finished Writing Data 158 out of 1345 at 09/17/25 14:47:58\n"
     ]
    },
    {
     "name": "stderr",
     "output_type": "stream",
     "text": [
      "/var/folders/m9/d8bbz1wx4f50q99kfb1jv9pw0000gn/T/ipykernel_31286/2106180866.py:6: FutureWarning: Series.ravel is deprecated. The underlying array is already 1D, so ravel is not necessary.  Use `to_numpy()` for conversion to a numpy array instead.\n",
      "  ind         = np.argwhere(np.isnan(subsetgdf.m_water_vx).ravel()==False).flatten()\n"
     ]
    },
    {
     "name": "stdout",
     "output_type": "stream",
     "text": [
      "Finished Inversion 160 out of 1345 at 09/17/25 14:48:03\n",
      "Finished Writing Data 160 out of 1345 at 09/17/25 14:48:03\n"
     ]
    },
    {
     "name": "stderr",
     "output_type": "stream",
     "text": [
      "/var/folders/m9/d8bbz1wx4f50q99kfb1jv9pw0000gn/T/ipykernel_31286/2106180866.py:6: FutureWarning: Series.ravel is deprecated. The underlying array is already 1D, so ravel is not necessary.  Use `to_numpy()` for conversion to a numpy array instead.\n",
      "  ind         = np.argwhere(np.isnan(subsetgdf.m_water_vx).ravel()==False).flatten()\n"
     ]
    },
    {
     "name": "stdout",
     "output_type": "stream",
     "text": [
      "Finished Inversion 162 out of 1345 at 09/17/25 14:48:09\n",
      "Finished Writing Data 162 out of 1345 at 09/17/25 14:48:09\n"
     ]
    },
    {
     "name": "stderr",
     "output_type": "stream",
     "text": [
      "/var/folders/m9/d8bbz1wx4f50q99kfb1jv9pw0000gn/T/ipykernel_31286/2106180866.py:6: FutureWarning: Series.ravel is deprecated. The underlying array is already 1D, so ravel is not necessary.  Use `to_numpy()` for conversion to a numpy array instead.\n",
      "  ind         = np.argwhere(np.isnan(subsetgdf.m_water_vx).ravel()==False).flatten()\n"
     ]
    },
    {
     "name": "stdout",
     "output_type": "stream",
     "text": [
      "Finished Inversion 164 out of 1345 at 09/17/25 14:48:14\n",
      "Finished Writing Data 164 out of 1345 at 09/17/25 14:48:14\n"
     ]
    },
    {
     "name": "stderr",
     "output_type": "stream",
     "text": [
      "/var/folders/m9/d8bbz1wx4f50q99kfb1jv9pw0000gn/T/ipykernel_31286/2106180866.py:6: FutureWarning: Series.ravel is deprecated. The underlying array is already 1D, so ravel is not necessary.  Use `to_numpy()` for conversion to a numpy array instead.\n",
      "  ind         = np.argwhere(np.isnan(subsetgdf.m_water_vx).ravel()==False).flatten()\n"
     ]
    },
    {
     "name": "stdout",
     "output_type": "stream",
     "text": [
      "Finished Inversion 167 out of 1345 at 09/17/25 14:48:19\n",
      "Finished Writing Data 167 out of 1345 at 09/17/25 14:48:19\n"
     ]
    },
    {
     "name": "stderr",
     "output_type": "stream",
     "text": [
      "/var/folders/m9/d8bbz1wx4f50q99kfb1jv9pw0000gn/T/ipykernel_31286/2106180866.py:6: FutureWarning: Series.ravel is deprecated. The underlying array is already 1D, so ravel is not necessary.  Use `to_numpy()` for conversion to a numpy array instead.\n",
      "  ind         = np.argwhere(np.isnan(subsetgdf.m_water_vx).ravel()==False).flatten()\n"
     ]
    },
    {
     "name": "stdout",
     "output_type": "stream",
     "text": [
      "Finished Inversion 169 out of 1345 at 09/17/25 14:48:24\n",
      "Finished Writing Data 169 out of 1345 at 09/17/25 14:48:24\n"
     ]
    },
    {
     "name": "stderr",
     "output_type": "stream",
     "text": [
      "/var/folders/m9/d8bbz1wx4f50q99kfb1jv9pw0000gn/T/ipykernel_31286/2106180866.py:6: FutureWarning: Series.ravel is deprecated. The underlying array is already 1D, so ravel is not necessary.  Use `to_numpy()` for conversion to a numpy array instead.\n",
      "  ind         = np.argwhere(np.isnan(subsetgdf.m_water_vx).ravel()==False).flatten()\n"
     ]
    },
    {
     "name": "stdout",
     "output_type": "stream",
     "text": [
      "Finished Inversion 171 out of 1345 at 09/17/25 14:48:30\n",
      "Finished Writing Data 171 out of 1345 at 09/17/25 14:48:30\n"
     ]
    },
    {
     "name": "stderr",
     "output_type": "stream",
     "text": [
      "/var/folders/m9/d8bbz1wx4f50q99kfb1jv9pw0000gn/T/ipykernel_31286/2106180866.py:6: FutureWarning: Series.ravel is deprecated. The underlying array is already 1D, so ravel is not necessary.  Use `to_numpy()` for conversion to a numpy array instead.\n",
      "  ind         = np.argwhere(np.isnan(subsetgdf.m_water_vx).ravel()==False).flatten()\n"
     ]
    },
    {
     "name": "stdout",
     "output_type": "stream",
     "text": [
      "Finished Inversion 173 out of 1345 at 09/17/25 14:48:35\n",
      "Finished Writing Data 173 out of 1345 at 09/17/25 14:48:35\n"
     ]
    },
    {
     "name": "stderr",
     "output_type": "stream",
     "text": [
      "/var/folders/m9/d8bbz1wx4f50q99kfb1jv9pw0000gn/T/ipykernel_31286/2106180866.py:6: FutureWarning: Series.ravel is deprecated. The underlying array is already 1D, so ravel is not necessary.  Use `to_numpy()` for conversion to a numpy array instead.\n",
      "  ind         = np.argwhere(np.isnan(subsetgdf.m_water_vx).ravel()==False).flatten()\n"
     ]
    },
    {
     "name": "stdout",
     "output_type": "stream",
     "text": [
      "Finished Inversion 175 out of 1345 at 09/17/25 14:48:40\n",
      "Finished Writing Data 175 out of 1345 at 09/17/25 14:48:40\n"
     ]
    },
    {
     "name": "stderr",
     "output_type": "stream",
     "text": [
      "/var/folders/m9/d8bbz1wx4f50q99kfb1jv9pw0000gn/T/ipykernel_31286/2106180866.py:6: FutureWarning: Series.ravel is deprecated. The underlying array is already 1D, so ravel is not necessary.  Use `to_numpy()` for conversion to a numpy array instead.\n",
      "  ind         = np.argwhere(np.isnan(subsetgdf.m_water_vx).ravel()==False).flatten()\n"
     ]
    },
    {
     "name": "stdout",
     "output_type": "stream",
     "text": [
      "Finished Inversion 177 out of 1345 at 09/17/25 14:48:46\n",
      "Finished Writing Data 177 out of 1345 at 09/17/25 14:48:46\n"
     ]
    },
    {
     "name": "stderr",
     "output_type": "stream",
     "text": [
      "/var/folders/m9/d8bbz1wx4f50q99kfb1jv9pw0000gn/T/ipykernel_31286/2106180866.py:6: FutureWarning: Series.ravel is deprecated. The underlying array is already 1D, so ravel is not necessary.  Use `to_numpy()` for conversion to a numpy array instead.\n",
      "  ind         = np.argwhere(np.isnan(subsetgdf.m_water_vx).ravel()==False).flatten()\n"
     ]
    },
    {
     "name": "stdout",
     "output_type": "stream",
     "text": [
      "Finished Inversion 179 out of 1345 at 09/17/25 14:48:51\n",
      "Finished Writing Data 179 out of 1345 at 09/17/25 14:48:51\n"
     ]
    },
    {
     "name": "stderr",
     "output_type": "stream",
     "text": [
      "/var/folders/m9/d8bbz1wx4f50q99kfb1jv9pw0000gn/T/ipykernel_31286/2106180866.py:6: FutureWarning: Series.ravel is deprecated. The underlying array is already 1D, so ravel is not necessary.  Use `to_numpy()` for conversion to a numpy array instead.\n",
      "  ind         = np.argwhere(np.isnan(subsetgdf.m_water_vx).ravel()==False).flatten()\n"
     ]
    },
    {
     "name": "stdout",
     "output_type": "stream",
     "text": [
      "Finished Inversion 180 out of 1345 at 09/17/25 14:48:57\n",
      "Finished Writing Data 180 out of 1345 at 09/17/25 14:48:57\n"
     ]
    },
    {
     "name": "stderr",
     "output_type": "stream",
     "text": [
      "/var/folders/m9/d8bbz1wx4f50q99kfb1jv9pw0000gn/T/ipykernel_31286/2106180866.py:6: FutureWarning: Series.ravel is deprecated. The underlying array is already 1D, so ravel is not necessary.  Use `to_numpy()` for conversion to a numpy array instead.\n",
      "  ind         = np.argwhere(np.isnan(subsetgdf.m_water_vx).ravel()==False).flatten()\n"
     ]
    },
    {
     "name": "stdout",
     "output_type": "stream",
     "text": [
      "Finished Inversion 182 out of 1345 at 09/17/25 14:49:03\n",
      "Finished Writing Data 182 out of 1345 at 09/17/25 14:49:03\n"
     ]
    },
    {
     "name": "stderr",
     "output_type": "stream",
     "text": [
      "/var/folders/m9/d8bbz1wx4f50q99kfb1jv9pw0000gn/T/ipykernel_31286/2106180866.py:6: FutureWarning: Series.ravel is deprecated. The underlying array is already 1D, so ravel is not necessary.  Use `to_numpy()` for conversion to a numpy array instead.\n",
      "  ind         = np.argwhere(np.isnan(subsetgdf.m_water_vx).ravel()==False).flatten()\n"
     ]
    },
    {
     "name": "stdout",
     "output_type": "stream",
     "text": [
      "Finished Inversion 184 out of 1345 at 09/17/25 14:49:08\n",
      "Finished Writing Data 184 out of 1345 at 09/17/25 14:49:08\n"
     ]
    },
    {
     "name": "stderr",
     "output_type": "stream",
     "text": [
      "/var/folders/m9/d8bbz1wx4f50q99kfb1jv9pw0000gn/T/ipykernel_31286/2106180866.py:6: FutureWarning: Series.ravel is deprecated. The underlying array is already 1D, so ravel is not necessary.  Use `to_numpy()` for conversion to a numpy array instead.\n",
      "  ind         = np.argwhere(np.isnan(subsetgdf.m_water_vx).ravel()==False).flatten()\n"
     ]
    },
    {
     "name": "stdout",
     "output_type": "stream",
     "text": [
      "Finished Inversion 186 out of 1345 at 09/17/25 14:49:15\n",
      "Finished Writing Data 186 out of 1345 at 09/17/25 14:49:15\n"
     ]
    },
    {
     "name": "stderr",
     "output_type": "stream",
     "text": [
      "/var/folders/m9/d8bbz1wx4f50q99kfb1jv9pw0000gn/T/ipykernel_31286/2106180866.py:6: FutureWarning: Series.ravel is deprecated. The underlying array is already 1D, so ravel is not necessary.  Use `to_numpy()` for conversion to a numpy array instead.\n",
      "  ind         = np.argwhere(np.isnan(subsetgdf.m_water_vx).ravel()==False).flatten()\n"
     ]
    },
    {
     "name": "stdout",
     "output_type": "stream",
     "text": [
      "Finished Inversion 188 out of 1345 at 09/17/25 14:49:21\n",
      "Finished Writing Data 188 out of 1345 at 09/17/25 14:49:21\n"
     ]
    },
    {
     "name": "stderr",
     "output_type": "stream",
     "text": [
      "/var/folders/m9/d8bbz1wx4f50q99kfb1jv9pw0000gn/T/ipykernel_31286/2106180866.py:6: FutureWarning: Series.ravel is deprecated. The underlying array is already 1D, so ravel is not necessary.  Use `to_numpy()` for conversion to a numpy array instead.\n",
      "  ind         = np.argwhere(np.isnan(subsetgdf.m_water_vx).ravel()==False).flatten()\n"
     ]
    },
    {
     "name": "stdout",
     "output_type": "stream",
     "text": [
      "Finished Inversion 191 out of 1345 at 09/17/25 14:49:26\n",
      "Finished Writing Data 191 out of 1345 at 09/17/25 14:49:26\n"
     ]
    },
    {
     "name": "stderr",
     "output_type": "stream",
     "text": [
      "/var/folders/m9/d8bbz1wx4f50q99kfb1jv9pw0000gn/T/ipykernel_31286/2106180866.py:6: FutureWarning: Series.ravel is deprecated. The underlying array is already 1D, so ravel is not necessary.  Use `to_numpy()` for conversion to a numpy array instead.\n",
      "  ind         = np.argwhere(np.isnan(subsetgdf.m_water_vx).ravel()==False).flatten()\n"
     ]
    },
    {
     "name": "stdout",
     "output_type": "stream",
     "text": [
      "Finished Inversion 193 out of 1345 at 09/17/25 14:49:32\n",
      "Finished Writing Data 193 out of 1345 at 09/17/25 14:49:32\n"
     ]
    },
    {
     "name": "stderr",
     "output_type": "stream",
     "text": [
      "/var/folders/m9/d8bbz1wx4f50q99kfb1jv9pw0000gn/T/ipykernel_31286/2106180866.py:6: FutureWarning: Series.ravel is deprecated. The underlying array is already 1D, so ravel is not necessary.  Use `to_numpy()` for conversion to a numpy array instead.\n",
      "  ind         = np.argwhere(np.isnan(subsetgdf.m_water_vx).ravel()==False).flatten()\n"
     ]
    },
    {
     "name": "stdout",
     "output_type": "stream",
     "text": [
      "Finished Inversion 195 out of 1345 at 09/17/25 14:49:38\n",
      "Finished Writing Data 195 out of 1345 at 09/17/25 14:49:38\n"
     ]
    },
    {
     "name": "stderr",
     "output_type": "stream",
     "text": [
      "/var/folders/m9/d8bbz1wx4f50q99kfb1jv9pw0000gn/T/ipykernel_31286/2106180866.py:6: FutureWarning: Series.ravel is deprecated. The underlying array is already 1D, so ravel is not necessary.  Use `to_numpy()` for conversion to a numpy array instead.\n",
      "  ind         = np.argwhere(np.isnan(subsetgdf.m_water_vx).ravel()==False).flatten()\n"
     ]
    },
    {
     "name": "stdout",
     "output_type": "stream",
     "text": [
      "Finished Inversion 197 out of 1345 at 09/17/25 14:49:44\n",
      "Finished Writing Data 197 out of 1345 at 09/17/25 14:49:44\n"
     ]
    },
    {
     "name": "stderr",
     "output_type": "stream",
     "text": [
      "/var/folders/m9/d8bbz1wx4f50q99kfb1jv9pw0000gn/T/ipykernel_31286/2106180866.py:6: FutureWarning: Series.ravel is deprecated. The underlying array is already 1D, so ravel is not necessary.  Use `to_numpy()` for conversion to a numpy array instead.\n",
      "  ind         = np.argwhere(np.isnan(subsetgdf.m_water_vx).ravel()==False).flatten()\n"
     ]
    },
    {
     "name": "stdout",
     "output_type": "stream",
     "text": [
      "Finished Inversion 199 out of 1345 at 09/17/25 14:49:50\n",
      "Finished Writing Data 199 out of 1345 at 09/17/25 14:49:50\n"
     ]
    },
    {
     "name": "stderr",
     "output_type": "stream",
     "text": [
      "/var/folders/m9/d8bbz1wx4f50q99kfb1jv9pw0000gn/T/ipykernel_31286/2106180866.py:6: FutureWarning: Series.ravel is deprecated. The underlying array is already 1D, so ravel is not necessary.  Use `to_numpy()` for conversion to a numpy array instead.\n",
      "  ind         = np.argwhere(np.isnan(subsetgdf.m_water_vx).ravel()==False).flatten()\n"
     ]
    },
    {
     "name": "stdout",
     "output_type": "stream",
     "text": [
      "Finished Inversion 201 out of 1345 at 09/17/25 14:49:55\n",
      "Finished Writing Data 201 out of 1345 at 09/17/25 14:49:55\n"
     ]
    },
    {
     "name": "stderr",
     "output_type": "stream",
     "text": [
      "/var/folders/m9/d8bbz1wx4f50q99kfb1jv9pw0000gn/T/ipykernel_31286/2106180866.py:6: FutureWarning: Series.ravel is deprecated. The underlying array is already 1D, so ravel is not necessary.  Use `to_numpy()` for conversion to a numpy array instead.\n",
      "  ind         = np.argwhere(np.isnan(subsetgdf.m_water_vx).ravel()==False).flatten()\n"
     ]
    },
    {
     "name": "stdout",
     "output_type": "stream",
     "text": [
      "Finished Inversion 202 out of 1345 at 09/17/25 14:50:01\n",
      "Finished Writing Data 202 out of 1345 at 09/17/25 14:50:01\n"
     ]
    },
    {
     "name": "stderr",
     "output_type": "stream",
     "text": [
      "/var/folders/m9/d8bbz1wx4f50q99kfb1jv9pw0000gn/T/ipykernel_31286/2106180866.py:6: FutureWarning: Series.ravel is deprecated. The underlying array is already 1D, so ravel is not necessary.  Use `to_numpy()` for conversion to a numpy array instead.\n",
      "  ind         = np.argwhere(np.isnan(subsetgdf.m_water_vx).ravel()==False).flatten()\n"
     ]
    },
    {
     "name": "stdout",
     "output_type": "stream",
     "text": [
      "Finished Inversion 204 out of 1345 at 09/17/25 14:50:07\n",
      "Finished Writing Data 204 out of 1345 at 09/17/25 14:50:07\n"
     ]
    },
    {
     "name": "stderr",
     "output_type": "stream",
     "text": [
      "/var/folders/m9/d8bbz1wx4f50q99kfb1jv9pw0000gn/T/ipykernel_31286/2106180866.py:6: FutureWarning: Series.ravel is deprecated. The underlying array is already 1D, so ravel is not necessary.  Use `to_numpy()` for conversion to a numpy array instead.\n",
      "  ind         = np.argwhere(np.isnan(subsetgdf.m_water_vx).ravel()==False).flatten()\n"
     ]
    },
    {
     "name": "stdout",
     "output_type": "stream",
     "text": [
      "Finished Inversion 206 out of 1345 at 09/17/25 14:50:12\n",
      "Finished Writing Data 206 out of 1345 at 09/17/25 14:50:12\n"
     ]
    },
    {
     "name": "stderr",
     "output_type": "stream",
     "text": [
      "/var/folders/m9/d8bbz1wx4f50q99kfb1jv9pw0000gn/T/ipykernel_31286/2106180866.py:6: FutureWarning: Series.ravel is deprecated. The underlying array is already 1D, so ravel is not necessary.  Use `to_numpy()` for conversion to a numpy array instead.\n",
      "  ind         = np.argwhere(np.isnan(subsetgdf.m_water_vx).ravel()==False).flatten()\n"
     ]
    },
    {
     "name": "stdout",
     "output_type": "stream",
     "text": [
      "Finished Inversion 208 out of 1345 at 09/17/25 14:50:18\n",
      "Finished Writing Data 208 out of 1345 at 09/17/25 14:50:18\n"
     ]
    },
    {
     "name": "stderr",
     "output_type": "stream",
     "text": [
      "/var/folders/m9/d8bbz1wx4f50q99kfb1jv9pw0000gn/T/ipykernel_31286/2106180866.py:6: FutureWarning: Series.ravel is deprecated. The underlying array is already 1D, so ravel is not necessary.  Use `to_numpy()` for conversion to a numpy array instead.\n",
      "  ind         = np.argwhere(np.isnan(subsetgdf.m_water_vx).ravel()==False).flatten()\n"
     ]
    },
    {
     "name": "stdout",
     "output_type": "stream",
     "text": [
      "Finished Inversion 210 out of 1345 at 09/17/25 14:50:24\n",
      "Finished Writing Data 210 out of 1345 at 09/17/25 14:50:24\n"
     ]
    },
    {
     "name": "stderr",
     "output_type": "stream",
     "text": [
      "/var/folders/m9/d8bbz1wx4f50q99kfb1jv9pw0000gn/T/ipykernel_31286/2106180866.py:6: FutureWarning: Series.ravel is deprecated. The underlying array is already 1D, so ravel is not necessary.  Use `to_numpy()` for conversion to a numpy array instead.\n",
      "  ind         = np.argwhere(np.isnan(subsetgdf.m_water_vx).ravel()==False).flatten()\n"
     ]
    },
    {
     "name": "stdout",
     "output_type": "stream",
     "text": [
      "Finished Inversion 213 out of 1345 at 09/17/25 14:50:30\n",
      "Finished Writing Data 213 out of 1345 at 09/17/25 14:50:30\n"
     ]
    },
    {
     "name": "stderr",
     "output_type": "stream",
     "text": [
      "/var/folders/m9/d8bbz1wx4f50q99kfb1jv9pw0000gn/T/ipykernel_31286/2106180866.py:6: FutureWarning: Series.ravel is deprecated. The underlying array is already 1D, so ravel is not necessary.  Use `to_numpy()` for conversion to a numpy array instead.\n",
      "  ind         = np.argwhere(np.isnan(subsetgdf.m_water_vx).ravel()==False).flatten()\n"
     ]
    },
    {
     "name": "stdout",
     "output_type": "stream",
     "text": [
      "Finished Inversion 215 out of 1345 at 09/17/25 14:50:35\n",
      "Finished Writing Data 215 out of 1345 at 09/17/25 14:50:35\n"
     ]
    },
    {
     "name": "stderr",
     "output_type": "stream",
     "text": [
      "/var/folders/m9/d8bbz1wx4f50q99kfb1jv9pw0000gn/T/ipykernel_31286/2106180866.py:6: FutureWarning: Series.ravel is deprecated. The underlying array is already 1D, so ravel is not necessary.  Use `to_numpy()` for conversion to a numpy array instead.\n",
      "  ind         = np.argwhere(np.isnan(subsetgdf.m_water_vx).ravel()==False).flatten()\n"
     ]
    },
    {
     "name": "stdout",
     "output_type": "stream",
     "text": [
      "Finished Inversion 217 out of 1345 at 09/17/25 14:50:41\n",
      "Finished Writing Data 217 out of 1345 at 09/17/25 14:50:41\n"
     ]
    },
    {
     "name": "stderr",
     "output_type": "stream",
     "text": [
      "/var/folders/m9/d8bbz1wx4f50q99kfb1jv9pw0000gn/T/ipykernel_31286/2106180866.py:6: FutureWarning: Series.ravel is deprecated. The underlying array is already 1D, so ravel is not necessary.  Use `to_numpy()` for conversion to a numpy array instead.\n",
      "  ind         = np.argwhere(np.isnan(subsetgdf.m_water_vx).ravel()==False).flatten()\n"
     ]
    },
    {
     "name": "stdout",
     "output_type": "stream",
     "text": [
      "Finished Inversion 219 out of 1345 at 09/17/25 14:50:47\n",
      "Finished Writing Data 219 out of 1345 at 09/17/25 14:50:47\n"
     ]
    },
    {
     "name": "stderr",
     "output_type": "stream",
     "text": [
      "/var/folders/m9/d8bbz1wx4f50q99kfb1jv9pw0000gn/T/ipykernel_31286/2106180866.py:6: FutureWarning: Series.ravel is deprecated. The underlying array is already 1D, so ravel is not necessary.  Use `to_numpy()` for conversion to a numpy array instead.\n",
      "  ind         = np.argwhere(np.isnan(subsetgdf.m_water_vx).ravel()==False).flatten()\n"
     ]
    },
    {
     "name": "stdout",
     "output_type": "stream",
     "text": [
      "Finished Inversion 221 out of 1345 at 09/17/25 14:50:53\n",
      "Finished Writing Data 221 out of 1345 at 09/17/25 14:50:53\n"
     ]
    },
    {
     "name": "stderr",
     "output_type": "stream",
     "text": [
      "/var/folders/m9/d8bbz1wx4f50q99kfb1jv9pw0000gn/T/ipykernel_31286/2106180866.py:6: FutureWarning: Series.ravel is deprecated. The underlying array is already 1D, so ravel is not necessary.  Use `to_numpy()` for conversion to a numpy array instead.\n",
      "  ind         = np.argwhere(np.isnan(subsetgdf.m_water_vx).ravel()==False).flatten()\n"
     ]
    },
    {
     "name": "stdout",
     "output_type": "stream",
     "text": [
      "Finished Inversion 223 out of 1345 at 09/17/25 14:50:58\n",
      "Finished Writing Data 223 out of 1345 at 09/17/25 14:50:58\n"
     ]
    },
    {
     "name": "stderr",
     "output_type": "stream",
     "text": [
      "/var/folders/m9/d8bbz1wx4f50q99kfb1jv9pw0000gn/T/ipykernel_31286/2106180866.py:6: FutureWarning: Series.ravel is deprecated. The underlying array is already 1D, so ravel is not necessary.  Use `to_numpy()` for conversion to a numpy array instead.\n",
      "  ind         = np.argwhere(np.isnan(subsetgdf.m_water_vx).ravel()==False).flatten()\n"
     ]
    },
    {
     "name": "stdout",
     "output_type": "stream",
     "text": [
      "Finished Inversion 224 out of 1345 at 09/17/25 14:51:04\n",
      "Finished Writing Data 224 out of 1345 at 09/17/25 14:51:04\n"
     ]
    },
    {
     "name": "stderr",
     "output_type": "stream",
     "text": [
      "/var/folders/m9/d8bbz1wx4f50q99kfb1jv9pw0000gn/T/ipykernel_31286/2106180866.py:6: FutureWarning: Series.ravel is deprecated. The underlying array is already 1D, so ravel is not necessary.  Use `to_numpy()` for conversion to a numpy array instead.\n",
      "  ind         = np.argwhere(np.isnan(subsetgdf.m_water_vx).ravel()==False).flatten()\n"
     ]
    },
    {
     "name": "stdout",
     "output_type": "stream",
     "text": [
      "Finished Inversion 226 out of 1345 at 09/17/25 14:51:10\n",
      "Finished Writing Data 226 out of 1345 at 09/17/25 14:51:10\n"
     ]
    },
    {
     "name": "stderr",
     "output_type": "stream",
     "text": [
      "/var/folders/m9/d8bbz1wx4f50q99kfb1jv9pw0000gn/T/ipykernel_31286/2106180866.py:6: FutureWarning: Series.ravel is deprecated. The underlying array is already 1D, so ravel is not necessary.  Use `to_numpy()` for conversion to a numpy array instead.\n",
      "  ind         = np.argwhere(np.isnan(subsetgdf.m_water_vx).ravel()==False).flatten()\n"
     ]
    },
    {
     "name": "stdout",
     "output_type": "stream",
     "text": [
      "Finished Inversion 228 out of 1345 at 09/17/25 14:51:16\n",
      "Finished Writing Data 228 out of 1345 at 09/17/25 14:51:16\n"
     ]
    },
    {
     "name": "stderr",
     "output_type": "stream",
     "text": [
      "/var/folders/m9/d8bbz1wx4f50q99kfb1jv9pw0000gn/T/ipykernel_31286/2106180866.py:6: FutureWarning: Series.ravel is deprecated. The underlying array is already 1D, so ravel is not necessary.  Use `to_numpy()` for conversion to a numpy array instead.\n",
      "  ind         = np.argwhere(np.isnan(subsetgdf.m_water_vx).ravel()==False).flatten()\n"
     ]
    },
    {
     "name": "stdout",
     "output_type": "stream",
     "text": [
      "Finished Inversion 230 out of 1345 at 09/17/25 14:51:22\n",
      "Finished Writing Data 230 out of 1345 at 09/17/25 14:51:22\n"
     ]
    },
    {
     "name": "stderr",
     "output_type": "stream",
     "text": [
      "/var/folders/m9/d8bbz1wx4f50q99kfb1jv9pw0000gn/T/ipykernel_31286/2106180866.py:6: FutureWarning: Series.ravel is deprecated. The underlying array is already 1D, so ravel is not necessary.  Use `to_numpy()` for conversion to a numpy array instead.\n",
      "  ind         = np.argwhere(np.isnan(subsetgdf.m_water_vx).ravel()==False).flatten()\n"
     ]
    },
    {
     "name": "stdout",
     "output_type": "stream",
     "text": [
      "Finished Inversion 232 out of 1345 at 09/17/25 14:51:28\n",
      "Finished Writing Data 232 out of 1345 at 09/17/25 14:51:28\n"
     ]
    },
    {
     "name": "stderr",
     "output_type": "stream",
     "text": [
      "/var/folders/m9/d8bbz1wx4f50q99kfb1jv9pw0000gn/T/ipykernel_31286/2106180866.py:6: FutureWarning: Series.ravel is deprecated. The underlying array is already 1D, so ravel is not necessary.  Use `to_numpy()` for conversion to a numpy array instead.\n",
      "  ind         = np.argwhere(np.isnan(subsetgdf.m_water_vx).ravel()==False).flatten()\n"
     ]
    },
    {
     "name": "stdout",
     "output_type": "stream",
     "text": [
      "Finished Inversion 235 out of 1345 at 09/17/25 14:51:33\n",
      "Finished Writing Data 235 out of 1345 at 09/17/25 14:51:33\n"
     ]
    },
    {
     "name": "stderr",
     "output_type": "stream",
     "text": [
      "/var/folders/m9/d8bbz1wx4f50q99kfb1jv9pw0000gn/T/ipykernel_31286/2106180866.py:6: FutureWarning: Series.ravel is deprecated. The underlying array is already 1D, so ravel is not necessary.  Use `to_numpy()` for conversion to a numpy array instead.\n",
      "  ind         = np.argwhere(np.isnan(subsetgdf.m_water_vx).ravel()==False).flatten()\n"
     ]
    },
    {
     "name": "stdout",
     "output_type": "stream",
     "text": [
      "Finished Inversion 237 out of 1345 at 09/17/25 14:51:39\n",
      "Finished Writing Data 237 out of 1345 at 09/17/25 14:51:39\n"
     ]
    },
    {
     "name": "stderr",
     "output_type": "stream",
     "text": [
      "/var/folders/m9/d8bbz1wx4f50q99kfb1jv9pw0000gn/T/ipykernel_31286/2106180866.py:6: FutureWarning: Series.ravel is deprecated. The underlying array is already 1D, so ravel is not necessary.  Use `to_numpy()` for conversion to a numpy array instead.\n",
      "  ind         = np.argwhere(np.isnan(subsetgdf.m_water_vx).ravel()==False).flatten()\n"
     ]
    },
    {
     "name": "stdout",
     "output_type": "stream",
     "text": [
      "Finished Inversion 239 out of 1345 at 09/17/25 14:51:45\n",
      "Finished Writing Data 239 out of 1345 at 09/17/25 14:51:45\n"
     ]
    },
    {
     "name": "stderr",
     "output_type": "stream",
     "text": [
      "/var/folders/m9/d8bbz1wx4f50q99kfb1jv9pw0000gn/T/ipykernel_31286/2106180866.py:6: FutureWarning: Series.ravel is deprecated. The underlying array is already 1D, so ravel is not necessary.  Use `to_numpy()` for conversion to a numpy array instead.\n",
      "  ind         = np.argwhere(np.isnan(subsetgdf.m_water_vx).ravel()==False).flatten()\n"
     ]
    },
    {
     "name": "stdout",
     "output_type": "stream",
     "text": [
      "Finished Inversion 241 out of 1345 at 09/17/25 14:51:51\n",
      "Finished Writing Data 241 out of 1345 at 09/17/25 14:51:51\n"
     ]
    },
    {
     "name": "stderr",
     "output_type": "stream",
     "text": [
      "/var/folders/m9/d8bbz1wx4f50q99kfb1jv9pw0000gn/T/ipykernel_31286/2106180866.py:6: FutureWarning: Series.ravel is deprecated. The underlying array is already 1D, so ravel is not necessary.  Use `to_numpy()` for conversion to a numpy array instead.\n",
      "  ind         = np.argwhere(np.isnan(subsetgdf.m_water_vx).ravel()==False).flatten()\n"
     ]
    },
    {
     "name": "stdout",
     "output_type": "stream",
     "text": [
      "Finished Inversion 243 out of 1345 at 09/17/25 14:51:57\n",
      "Finished Writing Data 243 out of 1345 at 09/17/25 14:51:57\n"
     ]
    },
    {
     "name": "stderr",
     "output_type": "stream",
     "text": [
      "/var/folders/m9/d8bbz1wx4f50q99kfb1jv9pw0000gn/T/ipykernel_31286/2106180866.py:6: FutureWarning: Series.ravel is deprecated. The underlying array is already 1D, so ravel is not necessary.  Use `to_numpy()` for conversion to a numpy array instead.\n",
      "  ind         = np.argwhere(np.isnan(subsetgdf.m_water_vx).ravel()==False).flatten()\n"
     ]
    },
    {
     "name": "stdout",
     "output_type": "stream",
     "text": [
      "Finished Inversion 245 out of 1345 at 09/17/25 14:52:02\n",
      "Finished Writing Data 245 out of 1345 at 09/17/25 14:52:02\n"
     ]
    },
    {
     "name": "stderr",
     "output_type": "stream",
     "text": [
      "/var/folders/m9/d8bbz1wx4f50q99kfb1jv9pw0000gn/T/ipykernel_31286/2106180866.py:6: FutureWarning: Series.ravel is deprecated. The underlying array is already 1D, so ravel is not necessary.  Use `to_numpy()` for conversion to a numpy array instead.\n",
      "  ind         = np.argwhere(np.isnan(subsetgdf.m_water_vx).ravel()==False).flatten()\n"
     ]
    },
    {
     "name": "stdout",
     "output_type": "stream",
     "text": [
      "Finished Inversion 246 out of 1345 at 09/17/25 14:52:08\n",
      "Finished Writing Data 246 out of 1345 at 09/17/25 14:52:08\n"
     ]
    },
    {
     "name": "stderr",
     "output_type": "stream",
     "text": [
      "/var/folders/m9/d8bbz1wx4f50q99kfb1jv9pw0000gn/T/ipykernel_31286/2106180866.py:6: FutureWarning: Series.ravel is deprecated. The underlying array is already 1D, so ravel is not necessary.  Use `to_numpy()` for conversion to a numpy array instead.\n",
      "  ind         = np.argwhere(np.isnan(subsetgdf.m_water_vx).ravel()==False).flatten()\n"
     ]
    },
    {
     "name": "stdout",
     "output_type": "stream",
     "text": [
      "Finished Inversion 248 out of 1345 at 09/17/25 14:52:15\n",
      "Finished Writing Data 248 out of 1345 at 09/17/25 14:52:15\n"
     ]
    },
    {
     "name": "stderr",
     "output_type": "stream",
     "text": [
      "/var/folders/m9/d8bbz1wx4f50q99kfb1jv9pw0000gn/T/ipykernel_31286/2106180866.py:6: FutureWarning: Series.ravel is deprecated. The underlying array is already 1D, so ravel is not necessary.  Use `to_numpy()` for conversion to a numpy array instead.\n",
      "  ind         = np.argwhere(np.isnan(subsetgdf.m_water_vx).ravel()==False).flatten()\n"
     ]
    },
    {
     "name": "stdout",
     "output_type": "stream",
     "text": [
      "Finished Inversion 250 out of 1345 at 09/17/25 14:52:20\n",
      "Finished Writing Data 250 out of 1345 at 09/17/25 14:52:20\n"
     ]
    },
    {
     "name": "stderr",
     "output_type": "stream",
     "text": [
      "/var/folders/m9/d8bbz1wx4f50q99kfb1jv9pw0000gn/T/ipykernel_31286/2106180866.py:6: FutureWarning: Series.ravel is deprecated. The underlying array is already 1D, so ravel is not necessary.  Use `to_numpy()` for conversion to a numpy array instead.\n",
      "  ind         = np.argwhere(np.isnan(subsetgdf.m_water_vx).ravel()==False).flatten()\n"
     ]
    },
    {
     "name": "stdout",
     "output_type": "stream",
     "text": [
      "Finished Inversion 252 out of 1345 at 09/17/25 14:52:26\n",
      "Finished Writing Data 252 out of 1345 at 09/17/25 14:52:26\n"
     ]
    },
    {
     "name": "stderr",
     "output_type": "stream",
     "text": [
      "/var/folders/m9/d8bbz1wx4f50q99kfb1jv9pw0000gn/T/ipykernel_31286/2106180866.py:6: FutureWarning: Series.ravel is deprecated. The underlying array is already 1D, so ravel is not necessary.  Use `to_numpy()` for conversion to a numpy array instead.\n",
      "  ind         = np.argwhere(np.isnan(subsetgdf.m_water_vx).ravel()==False).flatten()\n"
     ]
    },
    {
     "name": "stdout",
     "output_type": "stream",
     "text": [
      "Finished Inversion 254 out of 1345 at 09/17/25 14:52:33\n",
      "Finished Writing Data 254 out of 1345 at 09/17/25 14:52:33\n"
     ]
    },
    {
     "name": "stderr",
     "output_type": "stream",
     "text": [
      "/var/folders/m9/d8bbz1wx4f50q99kfb1jv9pw0000gn/T/ipykernel_31286/2106180866.py:6: FutureWarning: Series.ravel is deprecated. The underlying array is already 1D, so ravel is not necessary.  Use `to_numpy()` for conversion to a numpy array instead.\n",
      "  ind         = np.argwhere(np.isnan(subsetgdf.m_water_vx).ravel()==False).flatten()\n"
     ]
    },
    {
     "name": "stdout",
     "output_type": "stream",
     "text": [
      "Finished Inversion 257 out of 1345 at 09/17/25 14:52:39\n",
      "Finished Writing Data 257 out of 1345 at 09/17/25 14:52:39\n"
     ]
    },
    {
     "name": "stderr",
     "output_type": "stream",
     "text": [
      "/var/folders/m9/d8bbz1wx4f50q99kfb1jv9pw0000gn/T/ipykernel_31286/2106180866.py:6: FutureWarning: Series.ravel is deprecated. The underlying array is already 1D, so ravel is not necessary.  Use `to_numpy()` for conversion to a numpy array instead.\n",
      "  ind         = np.argwhere(np.isnan(subsetgdf.m_water_vx).ravel()==False).flatten()\n"
     ]
    },
    {
     "name": "stdout",
     "output_type": "stream",
     "text": [
      "Finished Inversion 259 out of 1345 at 09/17/25 14:52:45\n",
      "Finished Writing Data 259 out of 1345 at 09/17/25 14:52:45\n"
     ]
    },
    {
     "name": "stderr",
     "output_type": "stream",
     "text": [
      "/var/folders/m9/d8bbz1wx4f50q99kfb1jv9pw0000gn/T/ipykernel_31286/2106180866.py:6: FutureWarning: Series.ravel is deprecated. The underlying array is already 1D, so ravel is not necessary.  Use `to_numpy()` for conversion to a numpy array instead.\n",
      "  ind         = np.argwhere(np.isnan(subsetgdf.m_water_vx).ravel()==False).flatten()\n"
     ]
    },
    {
     "name": "stdout",
     "output_type": "stream",
     "text": [
      "Finished Inversion 261 out of 1345 at 09/17/25 14:52:52\n",
      "Finished Writing Data 261 out of 1345 at 09/17/25 14:52:52\n"
     ]
    },
    {
     "name": "stderr",
     "output_type": "stream",
     "text": [
      "/var/folders/m9/d8bbz1wx4f50q99kfb1jv9pw0000gn/T/ipykernel_31286/2106180866.py:6: FutureWarning: Series.ravel is deprecated. The underlying array is already 1D, so ravel is not necessary.  Use `to_numpy()` for conversion to a numpy array instead.\n",
      "  ind         = np.argwhere(np.isnan(subsetgdf.m_water_vx).ravel()==False).flatten()\n"
     ]
    },
    {
     "name": "stdout",
     "output_type": "stream",
     "text": [
      "Finished Inversion 263 out of 1345 at 09/17/25 14:52:57\n",
      "Finished Writing Data 263 out of 1345 at 09/17/25 14:52:57\n"
     ]
    },
    {
     "name": "stderr",
     "output_type": "stream",
     "text": [
      "/var/folders/m9/d8bbz1wx4f50q99kfb1jv9pw0000gn/T/ipykernel_31286/2106180866.py:6: FutureWarning: Series.ravel is deprecated. The underlying array is already 1D, so ravel is not necessary.  Use `to_numpy()` for conversion to a numpy array instead.\n",
      "  ind         = np.argwhere(np.isnan(subsetgdf.m_water_vx).ravel()==False).flatten()\n"
     ]
    },
    {
     "name": "stdout",
     "output_type": "stream",
     "text": [
      "Finished Inversion 265 out of 1345 at 09/17/25 14:53:04\n",
      "Finished Writing Data 265 out of 1345 at 09/17/25 14:53:04\n"
     ]
    },
    {
     "name": "stderr",
     "output_type": "stream",
     "text": [
      "/var/folders/m9/d8bbz1wx4f50q99kfb1jv9pw0000gn/T/ipykernel_31286/2106180866.py:6: FutureWarning: Series.ravel is deprecated. The underlying array is already 1D, so ravel is not necessary.  Use `to_numpy()` for conversion to a numpy array instead.\n",
      "  ind         = np.argwhere(np.isnan(subsetgdf.m_water_vx).ravel()==False).flatten()\n"
     ]
    },
    {
     "name": "stdout",
     "output_type": "stream",
     "text": [
      "Finished Inversion 267 out of 1345 at 09/17/25 14:53:10\n",
      "Finished Writing Data 267 out of 1345 at 09/17/25 14:53:10\n"
     ]
    },
    {
     "name": "stderr",
     "output_type": "stream",
     "text": [
      "/var/folders/m9/d8bbz1wx4f50q99kfb1jv9pw0000gn/T/ipykernel_31286/2106180866.py:6: FutureWarning: Series.ravel is deprecated. The underlying array is already 1D, so ravel is not necessary.  Use `to_numpy()` for conversion to a numpy array instead.\n",
      "  ind         = np.argwhere(np.isnan(subsetgdf.m_water_vx).ravel()==False).flatten()\n"
     ]
    },
    {
     "name": "stdout",
     "output_type": "stream",
     "text": [
      "Finished Inversion 268 out of 1345 at 09/17/25 14:53:16\n",
      "Finished Writing Data 268 out of 1345 at 09/17/25 14:53:16\n"
     ]
    },
    {
     "name": "stderr",
     "output_type": "stream",
     "text": [
      "/var/folders/m9/d8bbz1wx4f50q99kfb1jv9pw0000gn/T/ipykernel_31286/2106180866.py:6: FutureWarning: Series.ravel is deprecated. The underlying array is already 1D, so ravel is not necessary.  Use `to_numpy()` for conversion to a numpy array instead.\n",
      "  ind         = np.argwhere(np.isnan(subsetgdf.m_water_vx).ravel()==False).flatten()\n"
     ]
    },
    {
     "name": "stdout",
     "output_type": "stream",
     "text": [
      "Finished Inversion 270 out of 1345 at 09/17/25 14:53:23\n",
      "Finished Writing Data 270 out of 1345 at 09/17/25 14:53:23\n"
     ]
    },
    {
     "name": "stderr",
     "output_type": "stream",
     "text": [
      "/var/folders/m9/d8bbz1wx4f50q99kfb1jv9pw0000gn/T/ipykernel_31286/2106180866.py:6: FutureWarning: Series.ravel is deprecated. The underlying array is already 1D, so ravel is not necessary.  Use `to_numpy()` for conversion to a numpy array instead.\n",
      "  ind         = np.argwhere(np.isnan(subsetgdf.m_water_vx).ravel()==False).flatten()\n"
     ]
    },
    {
     "name": "stdout",
     "output_type": "stream",
     "text": [
      "Finished Inversion 272 out of 1345 at 09/17/25 14:53:28\n",
      "Finished Writing Data 272 out of 1345 at 09/17/25 14:53:28\n"
     ]
    },
    {
     "name": "stderr",
     "output_type": "stream",
     "text": [
      "/var/folders/m9/d8bbz1wx4f50q99kfb1jv9pw0000gn/T/ipykernel_31286/2106180866.py:6: FutureWarning: Series.ravel is deprecated. The underlying array is already 1D, so ravel is not necessary.  Use `to_numpy()` for conversion to a numpy array instead.\n",
      "  ind         = np.argwhere(np.isnan(subsetgdf.m_water_vx).ravel()==False).flatten()\n"
     ]
    },
    {
     "name": "stdout",
     "output_type": "stream",
     "text": [
      "Finished Inversion 274 out of 1345 at 09/17/25 14:53:34\n",
      "Finished Writing Data 274 out of 1345 at 09/17/25 14:53:34\n"
     ]
    },
    {
     "name": "stderr",
     "output_type": "stream",
     "text": [
      "/var/folders/m9/d8bbz1wx4f50q99kfb1jv9pw0000gn/T/ipykernel_31286/2106180866.py:6: FutureWarning: Series.ravel is deprecated. The underlying array is already 1D, so ravel is not necessary.  Use `to_numpy()` for conversion to a numpy array instead.\n",
      "  ind         = np.argwhere(np.isnan(subsetgdf.m_water_vx).ravel()==False).flatten()\n"
     ]
    },
    {
     "name": "stdout",
     "output_type": "stream",
     "text": [
      "Finished Inversion 276 out of 1345 at 09/17/25 14:53:40\n",
      "Finished Writing Data 276 out of 1345 at 09/17/25 14:53:40\n"
     ]
    },
    {
     "name": "stderr",
     "output_type": "stream",
     "text": [
      "/var/folders/m9/d8bbz1wx4f50q99kfb1jv9pw0000gn/T/ipykernel_31286/2106180866.py:6: FutureWarning: Series.ravel is deprecated. The underlying array is already 1D, so ravel is not necessary.  Use `to_numpy()` for conversion to a numpy array instead.\n",
      "  ind         = np.argwhere(np.isnan(subsetgdf.m_water_vx).ravel()==False).flatten()\n"
     ]
    },
    {
     "name": "stdout",
     "output_type": "stream",
     "text": [
      "Finished Inversion 279 out of 1345 at 09/17/25 14:53:45\n",
      "Finished Writing Data 279 out of 1345 at 09/17/25 14:53:45\n"
     ]
    },
    {
     "name": "stderr",
     "output_type": "stream",
     "text": [
      "/var/folders/m9/d8bbz1wx4f50q99kfb1jv9pw0000gn/T/ipykernel_31286/2106180866.py:6: FutureWarning: Series.ravel is deprecated. The underlying array is already 1D, so ravel is not necessary.  Use `to_numpy()` for conversion to a numpy array instead.\n",
      "  ind         = np.argwhere(np.isnan(subsetgdf.m_water_vx).ravel()==False).flatten()\n"
     ]
    },
    {
     "name": "stdout",
     "output_type": "stream",
     "text": [
      "Finished Inversion 281 out of 1345 at 09/17/25 14:53:52\n",
      "Finished Writing Data 281 out of 1345 at 09/17/25 14:53:52\n"
     ]
    },
    {
     "name": "stderr",
     "output_type": "stream",
     "text": [
      "/var/folders/m9/d8bbz1wx4f50q99kfb1jv9pw0000gn/T/ipykernel_31286/2106180866.py:6: FutureWarning: Series.ravel is deprecated. The underlying array is already 1D, so ravel is not necessary.  Use `to_numpy()` for conversion to a numpy array instead.\n",
      "  ind         = np.argwhere(np.isnan(subsetgdf.m_water_vx).ravel()==False).flatten()\n"
     ]
    },
    {
     "name": "stdout",
     "output_type": "stream",
     "text": [
      "Finished Inversion 283 out of 1345 at 09/17/25 14:53:58\n",
      "Finished Writing Data 283 out of 1345 at 09/17/25 14:53:58\n"
     ]
    },
    {
     "name": "stderr",
     "output_type": "stream",
     "text": [
      "/var/folders/m9/d8bbz1wx4f50q99kfb1jv9pw0000gn/T/ipykernel_31286/2106180866.py:6: FutureWarning: Series.ravel is deprecated. The underlying array is already 1D, so ravel is not necessary.  Use `to_numpy()` for conversion to a numpy array instead.\n",
      "  ind         = np.argwhere(np.isnan(subsetgdf.m_water_vx).ravel()==False).flatten()\n"
     ]
    },
    {
     "name": "stdout",
     "output_type": "stream",
     "text": [
      "Finished Inversion 285 out of 1345 at 09/17/25 14:54:05\n",
      "Finished Writing Data 285 out of 1345 at 09/17/25 14:54:05\n"
     ]
    },
    {
     "name": "stderr",
     "output_type": "stream",
     "text": [
      "/var/folders/m9/d8bbz1wx4f50q99kfb1jv9pw0000gn/T/ipykernel_31286/2106180866.py:6: FutureWarning: Series.ravel is deprecated. The underlying array is already 1D, so ravel is not necessary.  Use `to_numpy()` for conversion to a numpy array instead.\n",
      "  ind         = np.argwhere(np.isnan(subsetgdf.m_water_vx).ravel()==False).flatten()\n"
     ]
    },
    {
     "name": "stdout",
     "output_type": "stream",
     "text": [
      "Finished Inversion 287 out of 1345 at 09/17/25 14:54:11\n",
      "Finished Writing Data 287 out of 1345 at 09/17/25 14:54:11\n"
     ]
    },
    {
     "name": "stderr",
     "output_type": "stream",
     "text": [
      "/var/folders/m9/d8bbz1wx4f50q99kfb1jv9pw0000gn/T/ipykernel_31286/2106180866.py:6: FutureWarning: Series.ravel is deprecated. The underlying array is already 1D, so ravel is not necessary.  Use `to_numpy()` for conversion to a numpy array instead.\n",
      "  ind         = np.argwhere(np.isnan(subsetgdf.m_water_vx).ravel()==False).flatten()\n"
     ]
    },
    {
     "name": "stdout",
     "output_type": "stream",
     "text": [
      "Finished Inversion 288 out of 1345 at 09/17/25 14:54:17\n",
      "Finished Writing Data 288 out of 1345 at 09/17/25 14:54:17\n"
     ]
    },
    {
     "name": "stderr",
     "output_type": "stream",
     "text": [
      "/var/folders/m9/d8bbz1wx4f50q99kfb1jv9pw0000gn/T/ipykernel_31286/2106180866.py:6: FutureWarning: Series.ravel is deprecated. The underlying array is already 1D, so ravel is not necessary.  Use `to_numpy()` for conversion to a numpy array instead.\n",
      "  ind         = np.argwhere(np.isnan(subsetgdf.m_water_vx).ravel()==False).flatten()\n"
     ]
    },
    {
     "name": "stdout",
     "output_type": "stream",
     "text": [
      "Finished Inversion 289 out of 1345 at 09/17/25 14:54:22\n",
      "Finished Writing Data 289 out of 1345 at 09/17/25 14:54:22\n"
     ]
    },
    {
     "name": "stderr",
     "output_type": "stream",
     "text": [
      "/var/folders/m9/d8bbz1wx4f50q99kfb1jv9pw0000gn/T/ipykernel_31286/2106180866.py:6: FutureWarning: Series.ravel is deprecated. The underlying array is already 1D, so ravel is not necessary.  Use `to_numpy()` for conversion to a numpy array instead.\n",
      "  ind         = np.argwhere(np.isnan(subsetgdf.m_water_vx).ravel()==False).flatten()\n"
     ]
    },
    {
     "name": "stdout",
     "output_type": "stream",
     "text": [
      "Finished Inversion 290 out of 1345 at 09/17/25 14:54:27\n",
      "Finished Writing Data 290 out of 1345 at 09/17/25 14:54:27\n"
     ]
    },
    {
     "name": "stderr",
     "output_type": "stream",
     "text": [
      "/var/folders/m9/d8bbz1wx4f50q99kfb1jv9pw0000gn/T/ipykernel_31286/2106180866.py:6: FutureWarning: Series.ravel is deprecated. The underlying array is already 1D, so ravel is not necessary.  Use `to_numpy()` for conversion to a numpy array instead.\n",
      "  ind         = np.argwhere(np.isnan(subsetgdf.m_water_vx).ravel()==False).flatten()\n"
     ]
    },
    {
     "name": "stdout",
     "output_type": "stream",
     "text": [
      "Finished Inversion 292 out of 1345 at 09/17/25 14:54:33\n",
      "Finished Writing Data 292 out of 1345 at 09/17/25 14:54:33\n"
     ]
    },
    {
     "name": "stderr",
     "output_type": "stream",
     "text": [
      "/var/folders/m9/d8bbz1wx4f50q99kfb1jv9pw0000gn/T/ipykernel_31286/2106180866.py:6: FutureWarning: Series.ravel is deprecated. The underlying array is already 1D, so ravel is not necessary.  Use `to_numpy()` for conversion to a numpy array instead.\n",
      "  ind         = np.argwhere(np.isnan(subsetgdf.m_water_vx).ravel()==False).flatten()\n"
     ]
    },
    {
     "name": "stdout",
     "output_type": "stream",
     "text": [
      "Finished Inversion 294 out of 1345 at 09/17/25 14:54:39\n",
      "Finished Writing Data 294 out of 1345 at 09/17/25 14:54:39\n"
     ]
    },
    {
     "name": "stderr",
     "output_type": "stream",
     "text": [
      "/var/folders/m9/d8bbz1wx4f50q99kfb1jv9pw0000gn/T/ipykernel_31286/2106180866.py:6: FutureWarning: Series.ravel is deprecated. The underlying array is already 1D, so ravel is not necessary.  Use `to_numpy()` for conversion to a numpy array instead.\n",
      "  ind         = np.argwhere(np.isnan(subsetgdf.m_water_vx).ravel()==False).flatten()\n"
     ]
    },
    {
     "name": "stdout",
     "output_type": "stream",
     "text": [
      "Finished Inversion 296 out of 1345 at 09/17/25 14:54:44\n",
      "Finished Writing Data 296 out of 1345 at 09/17/25 14:54:44\n"
     ]
    },
    {
     "name": "stderr",
     "output_type": "stream",
     "text": [
      "/var/folders/m9/d8bbz1wx4f50q99kfb1jv9pw0000gn/T/ipykernel_31286/2106180866.py:6: FutureWarning: Series.ravel is deprecated. The underlying array is already 1D, so ravel is not necessary.  Use `to_numpy()` for conversion to a numpy array instead.\n",
      "  ind         = np.argwhere(np.isnan(subsetgdf.m_water_vx).ravel()==False).flatten()\n"
     ]
    },
    {
     "name": "stdout",
     "output_type": "stream",
     "text": [
      "Finished Inversion 298 out of 1345 at 09/17/25 14:54:50\n",
      "Finished Writing Data 298 out of 1345 at 09/17/25 14:54:50\n"
     ]
    },
    {
     "name": "stderr",
     "output_type": "stream",
     "text": [
      "/var/folders/m9/d8bbz1wx4f50q99kfb1jv9pw0000gn/T/ipykernel_31286/2106180866.py:6: FutureWarning: Series.ravel is deprecated. The underlying array is already 1D, so ravel is not necessary.  Use `to_numpy()` for conversion to a numpy array instead.\n",
      "  ind         = np.argwhere(np.isnan(subsetgdf.m_water_vx).ravel()==False).flatten()\n"
     ]
    },
    {
     "name": "stdout",
     "output_type": "stream",
     "text": [
      "Finished Inversion 300 out of 1345 at 09/17/25 14:54:56\n",
      "Finished Writing Data 300 out of 1345 at 09/17/25 14:54:56\n"
     ]
    },
    {
     "name": "stderr",
     "output_type": "stream",
     "text": [
      "/var/folders/m9/d8bbz1wx4f50q99kfb1jv9pw0000gn/T/ipykernel_31286/2106180866.py:6: FutureWarning: Series.ravel is deprecated. The underlying array is already 1D, so ravel is not necessary.  Use `to_numpy()` for conversion to a numpy array instead.\n",
      "  ind         = np.argwhere(np.isnan(subsetgdf.m_water_vx).ravel()==False).flatten()\n"
     ]
    },
    {
     "name": "stdout",
     "output_type": "stream",
     "text": [
      "Finished Inversion 303 out of 1345 at 09/17/25 14:55:01\n",
      "Finished Writing Data 303 out of 1345 at 09/17/25 14:55:01\n"
     ]
    },
    {
     "name": "stderr",
     "output_type": "stream",
     "text": [
      "/var/folders/m9/d8bbz1wx4f50q99kfb1jv9pw0000gn/T/ipykernel_31286/2106180866.py:6: FutureWarning: Series.ravel is deprecated. The underlying array is already 1D, so ravel is not necessary.  Use `to_numpy()` for conversion to a numpy array instead.\n",
      "  ind         = np.argwhere(np.isnan(subsetgdf.m_water_vx).ravel()==False).flatten()\n"
     ]
    },
    {
     "name": "stdout",
     "output_type": "stream",
     "text": [
      "Finished Inversion 305 out of 1345 at 09/17/25 14:55:07\n",
      "Finished Writing Data 305 out of 1345 at 09/17/25 14:55:07\n"
     ]
    },
    {
     "name": "stderr",
     "output_type": "stream",
     "text": [
      "/var/folders/m9/d8bbz1wx4f50q99kfb1jv9pw0000gn/T/ipykernel_31286/2106180866.py:6: FutureWarning: Series.ravel is deprecated. The underlying array is already 1D, so ravel is not necessary.  Use `to_numpy()` for conversion to a numpy array instead.\n",
      "  ind         = np.argwhere(np.isnan(subsetgdf.m_water_vx).ravel()==False).flatten()\n"
     ]
    },
    {
     "name": "stdout",
     "output_type": "stream",
     "text": [
      "Finished Inversion 307 out of 1345 at 09/17/25 14:55:13\n",
      "Finished Writing Data 307 out of 1345 at 09/17/25 14:55:13\n"
     ]
    },
    {
     "name": "stderr",
     "output_type": "stream",
     "text": [
      "/var/folders/m9/d8bbz1wx4f50q99kfb1jv9pw0000gn/T/ipykernel_31286/2106180866.py:6: FutureWarning: Series.ravel is deprecated. The underlying array is already 1D, so ravel is not necessary.  Use `to_numpy()` for conversion to a numpy array instead.\n",
      "  ind         = np.argwhere(np.isnan(subsetgdf.m_water_vx).ravel()==False).flatten()\n"
     ]
    },
    {
     "name": "stdout",
     "output_type": "stream",
     "text": [
      "Finished Inversion 309 out of 1345 at 09/17/25 14:55:18\n",
      "Finished Writing Data 309 out of 1345 at 09/17/25 14:55:18\n"
     ]
    },
    {
     "name": "stderr",
     "output_type": "stream",
     "text": [
      "/var/folders/m9/d8bbz1wx4f50q99kfb1jv9pw0000gn/T/ipykernel_31286/2106180866.py:6: FutureWarning: Series.ravel is deprecated. The underlying array is already 1D, so ravel is not necessary.  Use `to_numpy()` for conversion to a numpy array instead.\n",
      "  ind         = np.argwhere(np.isnan(subsetgdf.m_water_vx).ravel()==False).flatten()\n"
     ]
    },
    {
     "name": "stdout",
     "output_type": "stream",
     "text": [
      "Finished Inversion 311 out of 1345 at 09/17/25 14:55:24\n",
      "Finished Writing Data 311 out of 1345 at 09/17/25 14:55:24\n"
     ]
    },
    {
     "name": "stderr",
     "output_type": "stream",
     "text": [
      "/var/folders/m9/d8bbz1wx4f50q99kfb1jv9pw0000gn/T/ipykernel_31286/2106180866.py:6: FutureWarning: Series.ravel is deprecated. The underlying array is already 1D, so ravel is not necessary.  Use `to_numpy()` for conversion to a numpy array instead.\n",
      "  ind         = np.argwhere(np.isnan(subsetgdf.m_water_vx).ravel()==False).flatten()\n"
     ]
    },
    {
     "name": "stdout",
     "output_type": "stream",
     "text": [
      "Finished Inversion 312 out of 1345 at 09/17/25 14:55:29\n",
      "Finished Writing Data 312 out of 1345 at 09/17/25 14:55:29\n"
     ]
    },
    {
     "name": "stderr",
     "output_type": "stream",
     "text": [
      "/var/folders/m9/d8bbz1wx4f50q99kfb1jv9pw0000gn/T/ipykernel_31286/2106180866.py:6: FutureWarning: Series.ravel is deprecated. The underlying array is already 1D, so ravel is not necessary.  Use `to_numpy()` for conversion to a numpy array instead.\n",
      "  ind         = np.argwhere(np.isnan(subsetgdf.m_water_vx).ravel()==False).flatten()\n"
     ]
    },
    {
     "name": "stdout",
     "output_type": "stream",
     "text": [
      "Finished Inversion 314 out of 1345 at 09/17/25 14:55:35\n",
      "Finished Writing Data 314 out of 1345 at 09/17/25 14:55:35\n"
     ]
    },
    {
     "name": "stderr",
     "output_type": "stream",
     "text": [
      "/var/folders/m9/d8bbz1wx4f50q99kfb1jv9pw0000gn/T/ipykernel_31286/2106180866.py:6: FutureWarning: Series.ravel is deprecated. The underlying array is already 1D, so ravel is not necessary.  Use `to_numpy()` for conversion to a numpy array instead.\n",
      "  ind         = np.argwhere(np.isnan(subsetgdf.m_water_vx).ravel()==False).flatten()\n"
     ]
    },
    {
     "name": "stdout",
     "output_type": "stream",
     "text": [
      "Finished Inversion 316 out of 1345 at 09/17/25 14:55:41\n",
      "Finished Writing Data 316 out of 1345 at 09/17/25 14:55:41\n"
     ]
    },
    {
     "name": "stderr",
     "output_type": "stream",
     "text": [
      "/var/folders/m9/d8bbz1wx4f50q99kfb1jv9pw0000gn/T/ipykernel_31286/2106180866.py:6: FutureWarning: Series.ravel is deprecated. The underlying array is already 1D, so ravel is not necessary.  Use `to_numpy()` for conversion to a numpy array instead.\n",
      "  ind         = np.argwhere(np.isnan(subsetgdf.m_water_vx).ravel()==False).flatten()\n"
     ]
    },
    {
     "name": "stdout",
     "output_type": "stream",
     "text": [
      "Finished Inversion 318 out of 1345 at 09/17/25 14:55:47\n",
      "Finished Writing Data 318 out of 1345 at 09/17/25 14:55:47\n"
     ]
    },
    {
     "name": "stderr",
     "output_type": "stream",
     "text": [
      "/var/folders/m9/d8bbz1wx4f50q99kfb1jv9pw0000gn/T/ipykernel_31286/2106180866.py:6: FutureWarning: Series.ravel is deprecated. The underlying array is already 1D, so ravel is not necessary.  Use `to_numpy()` for conversion to a numpy array instead.\n",
      "  ind         = np.argwhere(np.isnan(subsetgdf.m_water_vx).ravel()==False).flatten()\n"
     ]
    },
    {
     "name": "stdout",
     "output_type": "stream",
     "text": [
      "Finished Inversion 320 out of 1345 at 09/17/25 14:55:52\n",
      "Finished Writing Data 320 out of 1345 at 09/17/25 14:55:52\n"
     ]
    },
    {
     "name": "stderr",
     "output_type": "stream",
     "text": [
      "/var/folders/m9/d8bbz1wx4f50q99kfb1jv9pw0000gn/T/ipykernel_31286/2106180866.py:6: FutureWarning: Series.ravel is deprecated. The underlying array is already 1D, so ravel is not necessary.  Use `to_numpy()` for conversion to a numpy array instead.\n",
      "  ind         = np.argwhere(np.isnan(subsetgdf.m_water_vx).ravel()==False).flatten()\n"
     ]
    },
    {
     "name": "stdout",
     "output_type": "stream",
     "text": [
      "Finished Inversion 322 out of 1345 at 09/17/25 14:55:58\n",
      "Finished Writing Data 322 out of 1345 at 09/17/25 14:55:58\n"
     ]
    },
    {
     "name": "stderr",
     "output_type": "stream",
     "text": [
      "/var/folders/m9/d8bbz1wx4f50q99kfb1jv9pw0000gn/T/ipykernel_31286/2106180866.py:6: FutureWarning: Series.ravel is deprecated. The underlying array is already 1D, so ravel is not necessary.  Use `to_numpy()` for conversion to a numpy array instead.\n",
      "  ind         = np.argwhere(np.isnan(subsetgdf.m_water_vx).ravel()==False).flatten()\n"
     ]
    },
    {
     "name": "stdout",
     "output_type": "stream",
     "text": [
      "Finished Inversion 325 out of 1345 at 09/17/25 14:56:03\n",
      "Finished Writing Data 325 out of 1345 at 09/17/25 14:56:03\n"
     ]
    },
    {
     "name": "stderr",
     "output_type": "stream",
     "text": [
      "/var/folders/m9/d8bbz1wx4f50q99kfb1jv9pw0000gn/T/ipykernel_31286/2106180866.py:6: FutureWarning: Series.ravel is deprecated. The underlying array is already 1D, so ravel is not necessary.  Use `to_numpy()` for conversion to a numpy array instead.\n",
      "  ind         = np.argwhere(np.isnan(subsetgdf.m_water_vx).ravel()==False).flatten()\n"
     ]
    },
    {
     "name": "stdout",
     "output_type": "stream",
     "text": [
      "Finished Inversion 327 out of 1345 at 09/17/25 14:56:09\n",
      "Finished Writing Data 327 out of 1345 at 09/17/25 14:56:09\n"
     ]
    },
    {
     "name": "stderr",
     "output_type": "stream",
     "text": [
      "/var/folders/m9/d8bbz1wx4f50q99kfb1jv9pw0000gn/T/ipykernel_31286/2106180866.py:6: FutureWarning: Series.ravel is deprecated. The underlying array is already 1D, so ravel is not necessary.  Use `to_numpy()` for conversion to a numpy array instead.\n",
      "  ind         = np.argwhere(np.isnan(subsetgdf.m_water_vx).ravel()==False).flatten()\n"
     ]
    },
    {
     "name": "stdout",
     "output_type": "stream",
     "text": [
      "Finished Inversion 329 out of 1345 at 09/17/25 14:56:15\n",
      "Finished Writing Data 329 out of 1345 at 09/17/25 14:56:15\n"
     ]
    },
    {
     "name": "stderr",
     "output_type": "stream",
     "text": [
      "/var/folders/m9/d8bbz1wx4f50q99kfb1jv9pw0000gn/T/ipykernel_31286/2106180866.py:6: FutureWarning: Series.ravel is deprecated. The underlying array is already 1D, so ravel is not necessary.  Use `to_numpy()` for conversion to a numpy array instead.\n",
      "  ind         = np.argwhere(np.isnan(subsetgdf.m_water_vx).ravel()==False).flatten()\n"
     ]
    },
    {
     "name": "stdout",
     "output_type": "stream",
     "text": [
      "Finished Inversion 331 out of 1345 at 09/17/25 14:56:21\n",
      "Finished Writing Data 331 out of 1345 at 09/17/25 14:56:21\n"
     ]
    },
    {
     "name": "stderr",
     "output_type": "stream",
     "text": [
      "/var/folders/m9/d8bbz1wx4f50q99kfb1jv9pw0000gn/T/ipykernel_31286/2106180866.py:6: FutureWarning: Series.ravel is deprecated. The underlying array is already 1D, so ravel is not necessary.  Use `to_numpy()` for conversion to a numpy array instead.\n",
      "  ind         = np.argwhere(np.isnan(subsetgdf.m_water_vx).ravel()==False).flatten()\n"
     ]
    },
    {
     "name": "stdout",
     "output_type": "stream",
     "text": [
      "Finished Inversion 333 out of 1345 at 09/17/25 14:56:27\n",
      "Finished Writing Data 333 out of 1345 at 09/17/25 14:56:27\n"
     ]
    },
    {
     "name": "stderr",
     "output_type": "stream",
     "text": [
      "/var/folders/m9/d8bbz1wx4f50q99kfb1jv9pw0000gn/T/ipykernel_31286/2106180866.py:6: FutureWarning: Series.ravel is deprecated. The underlying array is already 1D, so ravel is not necessary.  Use `to_numpy()` for conversion to a numpy array instead.\n",
      "  ind         = np.argwhere(np.isnan(subsetgdf.m_water_vx).ravel()==False).flatten()\n"
     ]
    },
    {
     "name": "stdout",
     "output_type": "stream",
     "text": [
      "Finished Inversion 334 out of 1345 at 09/17/25 14:56:33\n",
      "Finished Writing Data 334 out of 1345 at 09/17/25 14:56:33\n"
     ]
    },
    {
     "name": "stderr",
     "output_type": "stream",
     "text": [
      "/var/folders/m9/d8bbz1wx4f50q99kfb1jv9pw0000gn/T/ipykernel_31286/2106180866.py:6: FutureWarning: Series.ravel is deprecated. The underlying array is already 1D, so ravel is not necessary.  Use `to_numpy()` for conversion to a numpy array instead.\n",
      "  ind         = np.argwhere(np.isnan(subsetgdf.m_water_vx).ravel()==False).flatten()\n"
     ]
    },
    {
     "name": "stdout",
     "output_type": "stream",
     "text": [
      "Finished Inversion 336 out of 1345 at 09/17/25 14:56:39\n",
      "Finished Writing Data 336 out of 1345 at 09/17/25 14:56:39\n"
     ]
    },
    {
     "name": "stderr",
     "output_type": "stream",
     "text": [
      "/var/folders/m9/d8bbz1wx4f50q99kfb1jv9pw0000gn/T/ipykernel_31286/2106180866.py:6: FutureWarning: Series.ravel is deprecated. The underlying array is already 1D, so ravel is not necessary.  Use `to_numpy()` for conversion to a numpy array instead.\n",
      "  ind         = np.argwhere(np.isnan(subsetgdf.m_water_vx).ravel()==False).flatten()\n"
     ]
    },
    {
     "name": "stdout",
     "output_type": "stream",
     "text": [
      "Finished Inversion 338 out of 1345 at 09/17/25 14:56:45\n",
      "Finished Writing Data 338 out of 1345 at 09/17/25 14:56:45\n"
     ]
    },
    {
     "name": "stderr",
     "output_type": "stream",
     "text": [
      "/var/folders/m9/d8bbz1wx4f50q99kfb1jv9pw0000gn/T/ipykernel_31286/2106180866.py:6: FutureWarning: Series.ravel is deprecated. The underlying array is already 1D, so ravel is not necessary.  Use `to_numpy()` for conversion to a numpy array instead.\n",
      "  ind         = np.argwhere(np.isnan(subsetgdf.m_water_vx).ravel()==False).flatten()\n"
     ]
    },
    {
     "name": "stdout",
     "output_type": "stream",
     "text": [
      "Finished Inversion 340 out of 1345 at 09/17/25 14:56:51\n",
      "Finished Writing Data 340 out of 1345 at 09/17/25 14:56:51\n"
     ]
    },
    {
     "name": "stderr",
     "output_type": "stream",
     "text": [
      "/var/folders/m9/d8bbz1wx4f50q99kfb1jv9pw0000gn/T/ipykernel_31286/2106180866.py:6: FutureWarning: Series.ravel is deprecated. The underlying array is already 1D, so ravel is not necessary.  Use `to_numpy()` for conversion to a numpy array instead.\n",
      "  ind         = np.argwhere(np.isnan(subsetgdf.m_water_vx).ravel()==False).flatten()\n"
     ]
    },
    {
     "name": "stdout",
     "output_type": "stream",
     "text": [
      "Finished Inversion 342 out of 1345 at 09/17/25 14:56:57\n",
      "Finished Writing Data 342 out of 1345 at 09/17/25 14:56:57\n"
     ]
    },
    {
     "name": "stderr",
     "output_type": "stream",
     "text": [
      "/var/folders/m9/d8bbz1wx4f50q99kfb1jv9pw0000gn/T/ipykernel_31286/2106180866.py:6: FutureWarning: Series.ravel is deprecated. The underlying array is already 1D, so ravel is not necessary.  Use `to_numpy()` for conversion to a numpy array instead.\n",
      "  ind         = np.argwhere(np.isnan(subsetgdf.m_water_vx).ravel()==False).flatten()\n"
     ]
    },
    {
     "name": "stdout",
     "output_type": "stream",
     "text": [
      "Finished Inversion 344 out of 1345 at 09/17/25 14:57:03\n",
      "Finished Writing Data 344 out of 1345 at 09/17/25 14:57:03\n"
     ]
    },
    {
     "name": "stderr",
     "output_type": "stream",
     "text": [
      "/var/folders/m9/d8bbz1wx4f50q99kfb1jv9pw0000gn/T/ipykernel_31286/2106180866.py:6: FutureWarning: Series.ravel is deprecated. The underlying array is already 1D, so ravel is not necessary.  Use `to_numpy()` for conversion to a numpy array instead.\n",
      "  ind         = np.argwhere(np.isnan(subsetgdf.m_water_vx).ravel()==False).flatten()\n"
     ]
    },
    {
     "name": "stdout",
     "output_type": "stream",
     "text": [
      "Finished Inversion 347 out of 1345 at 09/17/25 14:57:09\n",
      "Finished Writing Data 347 out of 1345 at 09/17/25 14:57:09\n"
     ]
    },
    {
     "name": "stderr",
     "output_type": "stream",
     "text": [
      "/var/folders/m9/d8bbz1wx4f50q99kfb1jv9pw0000gn/T/ipykernel_31286/2106180866.py:6: FutureWarning: Series.ravel is deprecated. The underlying array is already 1D, so ravel is not necessary.  Use `to_numpy()` for conversion to a numpy array instead.\n",
      "  ind         = np.argwhere(np.isnan(subsetgdf.m_water_vx).ravel()==False).flatten()\n"
     ]
    },
    {
     "name": "stdout",
     "output_type": "stream",
     "text": [
      "Finished Inversion 349 out of 1345 at 09/17/25 14:57:15\n",
      "Finished Writing Data 349 out of 1345 at 09/17/25 14:57:15\n"
     ]
    },
    {
     "name": "stderr",
     "output_type": "stream",
     "text": [
      "/var/folders/m9/d8bbz1wx4f50q99kfb1jv9pw0000gn/T/ipykernel_31286/2106180866.py:6: FutureWarning: Series.ravel is deprecated. The underlying array is already 1D, so ravel is not necessary.  Use `to_numpy()` for conversion to a numpy array instead.\n",
      "  ind         = np.argwhere(np.isnan(subsetgdf.m_water_vx).ravel()==False).flatten()\n"
     ]
    },
    {
     "name": "stdout",
     "output_type": "stream",
     "text": [
      "Finished Inversion 351 out of 1345 at 09/17/25 14:57:21\n",
      "Finished Writing Data 351 out of 1345 at 09/17/25 14:57:21\n"
     ]
    },
    {
     "name": "stderr",
     "output_type": "stream",
     "text": [
      "/var/folders/m9/d8bbz1wx4f50q99kfb1jv9pw0000gn/T/ipykernel_31286/2106180866.py:6: FutureWarning: Series.ravel is deprecated. The underlying array is already 1D, so ravel is not necessary.  Use `to_numpy()` for conversion to a numpy array instead.\n",
      "  ind         = np.argwhere(np.isnan(subsetgdf.m_water_vx).ravel()==False).flatten()\n"
     ]
    },
    {
     "name": "stdout",
     "output_type": "stream",
     "text": [
      "Finished Inversion 353 out of 1345 at 09/17/25 14:57:27\n",
      "Finished Writing Data 353 out of 1345 at 09/17/25 14:57:27\n"
     ]
    },
    {
     "name": "stderr",
     "output_type": "stream",
     "text": [
      "/var/folders/m9/d8bbz1wx4f50q99kfb1jv9pw0000gn/T/ipykernel_31286/2106180866.py:6: FutureWarning: Series.ravel is deprecated. The underlying array is already 1D, so ravel is not necessary.  Use `to_numpy()` for conversion to a numpy array instead.\n",
      "  ind         = np.argwhere(np.isnan(subsetgdf.m_water_vx).ravel()==False).flatten()\n"
     ]
    },
    {
     "name": "stdout",
     "output_type": "stream",
     "text": [
      "Finished Inversion 355 out of 1345 at 09/17/25 14:57:33\n",
      "Finished Writing Data 355 out of 1345 at 09/17/25 14:57:33\n"
     ]
    },
    {
     "name": "stderr",
     "output_type": "stream",
     "text": [
      "/var/folders/m9/d8bbz1wx4f50q99kfb1jv9pw0000gn/T/ipykernel_31286/2106180866.py:6: FutureWarning: Series.ravel is deprecated. The underlying array is already 1D, so ravel is not necessary.  Use `to_numpy()` for conversion to a numpy array instead.\n",
      "  ind         = np.argwhere(np.isnan(subsetgdf.m_water_vx).ravel()==False).flatten()\n"
     ]
    },
    {
     "name": "stdout",
     "output_type": "stream",
     "text": [
      "Finished Inversion 356 out of 1345 at 09/17/25 14:57:39\n",
      "Finished Writing Data 356 out of 1345 at 09/17/25 14:57:39\n"
     ]
    },
    {
     "name": "stderr",
     "output_type": "stream",
     "text": [
      "/var/folders/m9/d8bbz1wx4f50q99kfb1jv9pw0000gn/T/ipykernel_31286/2106180866.py:6: FutureWarning: Series.ravel is deprecated. The underlying array is already 1D, so ravel is not necessary.  Use `to_numpy()` for conversion to a numpy array instead.\n",
      "  ind         = np.argwhere(np.isnan(subsetgdf.m_water_vx).ravel()==False).flatten()\n"
     ]
    },
    {
     "name": "stdout",
     "output_type": "stream",
     "text": [
      "Finished Inversion 358 out of 1345 at 09/17/25 14:57:45\n",
      "Finished Writing Data 358 out of 1345 at 09/17/25 14:57:45\n"
     ]
    },
    {
     "name": "stderr",
     "output_type": "stream",
     "text": [
      "/var/folders/m9/d8bbz1wx4f50q99kfb1jv9pw0000gn/T/ipykernel_31286/2106180866.py:6: FutureWarning: Series.ravel is deprecated. The underlying array is already 1D, so ravel is not necessary.  Use `to_numpy()` for conversion to a numpy array instead.\n",
      "  ind         = np.argwhere(np.isnan(subsetgdf.m_water_vx).ravel()==False).flatten()\n"
     ]
    },
    {
     "name": "stdout",
     "output_type": "stream",
     "text": [
      "Finished Inversion 360 out of 1345 at 09/17/25 14:57:51\n",
      "Finished Writing Data 360 out of 1345 at 09/17/25 14:57:51\n"
     ]
    },
    {
     "name": "stderr",
     "output_type": "stream",
     "text": [
      "/var/folders/m9/d8bbz1wx4f50q99kfb1jv9pw0000gn/T/ipykernel_31286/2106180866.py:6: FutureWarning: Series.ravel is deprecated. The underlying array is already 1D, so ravel is not necessary.  Use `to_numpy()` for conversion to a numpy array instead.\n",
      "  ind         = np.argwhere(np.isnan(subsetgdf.m_water_vx).ravel()==False).flatten()\n"
     ]
    },
    {
     "name": "stdout",
     "output_type": "stream",
     "text": [
      "Finished Inversion 362 out of 1345 at 09/17/25 14:57:57\n",
      "Finished Writing Data 362 out of 1345 at 09/17/25 14:57:57\n"
     ]
    },
    {
     "name": "stderr",
     "output_type": "stream",
     "text": [
      "/var/folders/m9/d8bbz1wx4f50q99kfb1jv9pw0000gn/T/ipykernel_31286/2106180866.py:6: FutureWarning: Series.ravel is deprecated. The underlying array is already 1D, so ravel is not necessary.  Use `to_numpy()` for conversion to a numpy array instead.\n",
      "  ind         = np.argwhere(np.isnan(subsetgdf.m_water_vx).ravel()==False).flatten()\n"
     ]
    },
    {
     "name": "stdout",
     "output_type": "stream",
     "text": [
      "Finished Inversion 364 out of 1345 at 09/17/25 14:58:03\n",
      "Finished Writing Data 364 out of 1345 at 09/17/25 14:58:03\n"
     ]
    },
    {
     "name": "stderr",
     "output_type": "stream",
     "text": [
      "/var/folders/m9/d8bbz1wx4f50q99kfb1jv9pw0000gn/T/ipykernel_31286/2106180866.py:6: FutureWarning: Series.ravel is deprecated. The underlying array is already 1D, so ravel is not necessary.  Use `to_numpy()` for conversion to a numpy array instead.\n",
      "  ind         = np.argwhere(np.isnan(subsetgdf.m_water_vx).ravel()==False).flatten()\n"
     ]
    },
    {
     "name": "stdout",
     "output_type": "stream",
     "text": [
      "Finished Inversion 366 out of 1345 at 09/17/25 14:58:09\n",
      "Finished Writing Data 366 out of 1345 at 09/17/25 14:58:09\n"
     ]
    },
    {
     "name": "stderr",
     "output_type": "stream",
     "text": [
      "/var/folders/m9/d8bbz1wx4f50q99kfb1jv9pw0000gn/T/ipykernel_31286/2106180866.py:6: FutureWarning: Series.ravel is deprecated. The underlying array is already 1D, so ravel is not necessary.  Use `to_numpy()` for conversion to a numpy array instead.\n",
      "  ind         = np.argwhere(np.isnan(subsetgdf.m_water_vx).ravel()==False).flatten()\n"
     ]
    },
    {
     "name": "stdout",
     "output_type": "stream",
     "text": [
      "Finished Inversion 369 out of 1345 at 09/17/25 14:58:14\n",
      "Finished Writing Data 369 out of 1345 at 09/17/25 14:58:14\n"
     ]
    },
    {
     "name": "stderr",
     "output_type": "stream",
     "text": [
      "/var/folders/m9/d8bbz1wx4f50q99kfb1jv9pw0000gn/T/ipykernel_31286/2106180866.py:6: FutureWarning: Series.ravel is deprecated. The underlying array is already 1D, so ravel is not necessary.  Use `to_numpy()` for conversion to a numpy array instead.\n",
      "  ind         = np.argwhere(np.isnan(subsetgdf.m_water_vx).ravel()==False).flatten()\n"
     ]
    },
    {
     "name": "stdout",
     "output_type": "stream",
     "text": [
      "Finished Inversion 371 out of 1345 at 09/17/25 14:58:21\n",
      "Finished Writing Data 371 out of 1345 at 09/17/25 14:58:21\n"
     ]
    },
    {
     "name": "stderr",
     "output_type": "stream",
     "text": [
      "/var/folders/m9/d8bbz1wx4f50q99kfb1jv9pw0000gn/T/ipykernel_31286/2106180866.py:6: FutureWarning: Series.ravel is deprecated. The underlying array is already 1D, so ravel is not necessary.  Use `to_numpy()` for conversion to a numpy array instead.\n",
      "  ind         = np.argwhere(np.isnan(subsetgdf.m_water_vx).ravel()==False).flatten()\n"
     ]
    },
    {
     "name": "stdout",
     "output_type": "stream",
     "text": [
      "Finished Inversion 373 out of 1345 at 09/17/25 14:58:27\n",
      "Finished Writing Data 373 out of 1345 at 09/17/25 14:58:27\n"
     ]
    },
    {
     "name": "stderr",
     "output_type": "stream",
     "text": [
      "/var/folders/m9/d8bbz1wx4f50q99kfb1jv9pw0000gn/T/ipykernel_31286/2106180866.py:6: FutureWarning: Series.ravel is deprecated. The underlying array is already 1D, so ravel is not necessary.  Use `to_numpy()` for conversion to a numpy array instead.\n",
      "  ind         = np.argwhere(np.isnan(subsetgdf.m_water_vx).ravel()==False).flatten()\n"
     ]
    },
    {
     "name": "stdout",
     "output_type": "stream",
     "text": [
      "Finished Inversion 375 out of 1345 at 09/17/25 14:58:33\n",
      "Finished Writing Data 375 out of 1345 at 09/17/25 14:58:33\n"
     ]
    },
    {
     "name": "stderr",
     "output_type": "stream",
     "text": [
      "/var/folders/m9/d8bbz1wx4f50q99kfb1jv9pw0000gn/T/ipykernel_31286/2106180866.py:6: FutureWarning: Series.ravel is deprecated. The underlying array is already 1D, so ravel is not necessary.  Use `to_numpy()` for conversion to a numpy array instead.\n",
      "  ind         = np.argwhere(np.isnan(subsetgdf.m_water_vx).ravel()==False).flatten()\n"
     ]
    },
    {
     "name": "stdout",
     "output_type": "stream",
     "text": [
      "Finished Inversion 377 out of 1345 at 09/17/25 14:58:39\n",
      "Finished Writing Data 377 out of 1345 at 09/17/25 14:58:39\n"
     ]
    },
    {
     "name": "stderr",
     "output_type": "stream",
     "text": [
      "/var/folders/m9/d8bbz1wx4f50q99kfb1jv9pw0000gn/T/ipykernel_31286/2106180866.py:6: FutureWarning: Series.ravel is deprecated. The underlying array is already 1D, so ravel is not necessary.  Use `to_numpy()` for conversion to a numpy array instead.\n",
      "  ind         = np.argwhere(np.isnan(subsetgdf.m_water_vx).ravel()==False).flatten()\n"
     ]
    },
    {
     "name": "stdout",
     "output_type": "stream",
     "text": [
      "Finished Inversion 378 out of 1345 at 09/17/25 14:58:45\n",
      "Finished Writing Data 378 out of 1345 at 09/17/25 14:58:45\n"
     ]
    },
    {
     "name": "stderr",
     "output_type": "stream",
     "text": [
      "/var/folders/m9/d8bbz1wx4f50q99kfb1jv9pw0000gn/T/ipykernel_31286/2106180866.py:6: FutureWarning: Series.ravel is deprecated. The underlying array is already 1D, so ravel is not necessary.  Use `to_numpy()` for conversion to a numpy array instead.\n",
      "  ind         = np.argwhere(np.isnan(subsetgdf.m_water_vx).ravel()==False).flatten()\n"
     ]
    },
    {
     "name": "stdout",
     "output_type": "stream",
     "text": [
      "Finished Inversion 380 out of 1345 at 09/17/25 14:58:52\n",
      "Finished Writing Data 380 out of 1345 at 09/17/25 14:58:52\n"
     ]
    },
    {
     "name": "stderr",
     "output_type": "stream",
     "text": [
      "/var/folders/m9/d8bbz1wx4f50q99kfb1jv9pw0000gn/T/ipykernel_31286/2106180866.py:6: FutureWarning: Series.ravel is deprecated. The underlying array is already 1D, so ravel is not necessary.  Use `to_numpy()` for conversion to a numpy array instead.\n",
      "  ind         = np.argwhere(np.isnan(subsetgdf.m_water_vx).ravel()==False).flatten()\n"
     ]
    },
    {
     "name": "stdout",
     "output_type": "stream",
     "text": [
      "Finished Inversion 382 out of 1345 at 09/17/25 14:58:58\n",
      "Finished Writing Data 382 out of 1345 at 09/17/25 14:58:58\n"
     ]
    },
    {
     "name": "stderr",
     "output_type": "stream",
     "text": [
      "/var/folders/m9/d8bbz1wx4f50q99kfb1jv9pw0000gn/T/ipykernel_31286/2106180866.py:6: FutureWarning: Series.ravel is deprecated. The underlying array is already 1D, so ravel is not necessary.  Use `to_numpy()` for conversion to a numpy array instead.\n",
      "  ind         = np.argwhere(np.isnan(subsetgdf.m_water_vx).ravel()==False).flatten()\n"
     ]
    },
    {
     "name": "stdout",
     "output_type": "stream",
     "text": [
      "Finished Inversion 384 out of 1345 at 09/17/25 14:59:04\n",
      "Finished Writing Data 384 out of 1345 at 09/17/25 14:59:04\n"
     ]
    },
    {
     "name": "stderr",
     "output_type": "stream",
     "text": [
      "/var/folders/m9/d8bbz1wx4f50q99kfb1jv9pw0000gn/T/ipykernel_31286/2106180866.py:6: FutureWarning: Series.ravel is deprecated. The underlying array is already 1D, so ravel is not necessary.  Use `to_numpy()` for conversion to a numpy array instead.\n",
      "  ind         = np.argwhere(np.isnan(subsetgdf.m_water_vx).ravel()==False).flatten()\n"
     ]
    },
    {
     "name": "stdout",
     "output_type": "stream",
     "text": [
      "Finished Inversion 386 out of 1345 at 09/17/25 14:59:10\n",
      "Finished Writing Data 386 out of 1345 at 09/17/25 14:59:10\n"
     ]
    },
    {
     "name": "stderr",
     "output_type": "stream",
     "text": [
      "/var/folders/m9/d8bbz1wx4f50q99kfb1jv9pw0000gn/T/ipykernel_31286/2106180866.py:6: FutureWarning: Series.ravel is deprecated. The underlying array is already 1D, so ravel is not necessary.  Use `to_numpy()` for conversion to a numpy array instead.\n",
      "  ind         = np.argwhere(np.isnan(subsetgdf.m_water_vx).ravel()==False).flatten()\n"
     ]
    },
    {
     "name": "stdout",
     "output_type": "stream",
     "text": [
      "Finished Inversion 388 out of 1345 at 09/17/25 14:59:16\n",
      "Finished Writing Data 388 out of 1345 at 09/17/25 14:59:16\n"
     ]
    },
    {
     "name": "stderr",
     "output_type": "stream",
     "text": [
      "/var/folders/m9/d8bbz1wx4f50q99kfb1jv9pw0000gn/T/ipykernel_31286/2106180866.py:6: FutureWarning: Series.ravel is deprecated. The underlying array is already 1D, so ravel is not necessary.  Use `to_numpy()` for conversion to a numpy array instead.\n",
      "  ind         = np.argwhere(np.isnan(subsetgdf.m_water_vx).ravel()==False).flatten()\n"
     ]
    },
    {
     "name": "stdout",
     "output_type": "stream",
     "text": [
      "Finished Inversion 391 out of 1345 at 09/17/25 14:59:22\n",
      "Finished Writing Data 391 out of 1345 at 09/17/25 14:59:22\n"
     ]
    },
    {
     "name": "stderr",
     "output_type": "stream",
     "text": [
      "/var/folders/m9/d8bbz1wx4f50q99kfb1jv9pw0000gn/T/ipykernel_31286/2106180866.py:6: FutureWarning: Series.ravel is deprecated. The underlying array is already 1D, so ravel is not necessary.  Use `to_numpy()` for conversion to a numpy array instead.\n",
      "  ind         = np.argwhere(np.isnan(subsetgdf.m_water_vx).ravel()==False).flatten()\n"
     ]
    },
    {
     "name": "stdout",
     "output_type": "stream",
     "text": [
      "Finished Inversion 393 out of 1345 at 09/17/25 14:59:27\n",
      "Finished Writing Data 393 out of 1345 at 09/17/25 14:59:27\n"
     ]
    },
    {
     "name": "stderr",
     "output_type": "stream",
     "text": [
      "/var/folders/m9/d8bbz1wx4f50q99kfb1jv9pw0000gn/T/ipykernel_31286/2106180866.py:6: FutureWarning: Series.ravel is deprecated. The underlying array is already 1D, so ravel is not necessary.  Use `to_numpy()` for conversion to a numpy array instead.\n",
      "  ind         = np.argwhere(np.isnan(subsetgdf.m_water_vx).ravel()==False).flatten()\n"
     ]
    },
    {
     "name": "stdout",
     "output_type": "stream",
     "text": [
      "Finished Inversion 395 out of 1345 at 09/17/25 14:59:33\n",
      "Finished Writing Data 395 out of 1345 at 09/17/25 14:59:33\n"
     ]
    },
    {
     "name": "stderr",
     "output_type": "stream",
     "text": [
      "/var/folders/m9/d8bbz1wx4f50q99kfb1jv9pw0000gn/T/ipykernel_31286/2106180866.py:6: FutureWarning: Series.ravel is deprecated. The underlying array is already 1D, so ravel is not necessary.  Use `to_numpy()` for conversion to a numpy array instead.\n",
      "  ind         = np.argwhere(np.isnan(subsetgdf.m_water_vx).ravel()==False).flatten()\n"
     ]
    },
    {
     "name": "stdout",
     "output_type": "stream",
     "text": [
      "Finished Inversion 397 out of 1345 at 09/17/25 14:59:38\n",
      "Finished Writing Data 397 out of 1345 at 09/17/25 14:59:38\n"
     ]
    },
    {
     "name": "stderr",
     "output_type": "stream",
     "text": [
      "/var/folders/m9/d8bbz1wx4f50q99kfb1jv9pw0000gn/T/ipykernel_31286/2106180866.py:6: FutureWarning: Series.ravel is deprecated. The underlying array is already 1D, so ravel is not necessary.  Use `to_numpy()` for conversion to a numpy array instead.\n",
      "  ind         = np.argwhere(np.isnan(subsetgdf.m_water_vx).ravel()==False).flatten()\n"
     ]
    },
    {
     "name": "stdout",
     "output_type": "stream",
     "text": [
      "Finished Inversion 399 out of 1345 at 09/17/25 14:59:44\n",
      "Finished Writing Data 399 out of 1345 at 09/17/25 14:59:44\n"
     ]
    },
    {
     "name": "stderr",
     "output_type": "stream",
     "text": [
      "/var/folders/m9/d8bbz1wx4f50q99kfb1jv9pw0000gn/T/ipykernel_31286/2106180866.py:6: FutureWarning: Series.ravel is deprecated. The underlying array is already 1D, so ravel is not necessary.  Use `to_numpy()` for conversion to a numpy array instead.\n",
      "  ind         = np.argwhere(np.isnan(subsetgdf.m_water_vx).ravel()==False).flatten()\n"
     ]
    },
    {
     "name": "stdout",
     "output_type": "stream",
     "text": [
      "Finished Inversion 401 out of 1345 at 09/17/25 14:59:49\n",
      "Finished Writing Data 401 out of 1345 at 09/17/25 14:59:49\n"
     ]
    },
    {
     "name": "stderr",
     "output_type": "stream",
     "text": [
      "/var/folders/m9/d8bbz1wx4f50q99kfb1jv9pw0000gn/T/ipykernel_31286/2106180866.py:6: FutureWarning: Series.ravel is deprecated. The underlying array is already 1D, so ravel is not necessary.  Use `to_numpy()` for conversion to a numpy array instead.\n",
      "  ind         = np.argwhere(np.isnan(subsetgdf.m_water_vx).ravel()==False).flatten()\n"
     ]
    },
    {
     "name": "stdout",
     "output_type": "stream",
     "text": [
      "Finished Inversion 403 out of 1345 at 09/17/25 14:59:54\n",
      "Finished Writing Data 403 out of 1345 at 09/17/25 14:59:54\n"
     ]
    },
    {
     "name": "stderr",
     "output_type": "stream",
     "text": [
      "/var/folders/m9/d8bbz1wx4f50q99kfb1jv9pw0000gn/T/ipykernel_31286/2106180866.py:6: FutureWarning: Series.ravel is deprecated. The underlying array is already 1D, so ravel is not necessary.  Use `to_numpy()` for conversion to a numpy array instead.\n",
      "  ind         = np.argwhere(np.isnan(subsetgdf.m_water_vx).ravel()==False).flatten()\n"
     ]
    },
    {
     "name": "stdout",
     "output_type": "stream",
     "text": [
      "Finished Inversion 405 out of 1345 at 09/17/25 15:00:00\n",
      "Finished Writing Data 405 out of 1345 at 09/17/25 15:00:00\n"
     ]
    },
    {
     "name": "stderr",
     "output_type": "stream",
     "text": [
      "/var/folders/m9/d8bbz1wx4f50q99kfb1jv9pw0000gn/T/ipykernel_31286/2106180866.py:6: FutureWarning: Series.ravel is deprecated. The underlying array is already 1D, so ravel is not necessary.  Use `to_numpy()` for conversion to a numpy array instead.\n",
      "  ind         = np.argwhere(np.isnan(subsetgdf.m_water_vx).ravel()==False).flatten()\n"
     ]
    },
    {
     "name": "stdout",
     "output_type": "stream",
     "text": [
      "Finished Inversion 407 out of 1345 at 09/17/25 15:00:05\n",
      "Finished Writing Data 407 out of 1345 at 09/17/25 15:00:05\n"
     ]
    },
    {
     "name": "stderr",
     "output_type": "stream",
     "text": [
      "/var/folders/m9/d8bbz1wx4f50q99kfb1jv9pw0000gn/T/ipykernel_31286/2106180866.py:6: FutureWarning: Series.ravel is deprecated. The underlying array is already 1D, so ravel is not necessary.  Use `to_numpy()` for conversion to a numpy array instead.\n",
      "  ind         = np.argwhere(np.isnan(subsetgdf.m_water_vx).ravel()==False).flatten()\n"
     ]
    },
    {
     "name": "stdout",
     "output_type": "stream",
     "text": [
      "Finished Inversion 409 out of 1345 at 09/17/25 15:00:12\n",
      "Finished Writing Data 409 out of 1345 at 09/17/25 15:00:12\n"
     ]
    },
    {
     "name": "stderr",
     "output_type": "stream",
     "text": [
      "/var/folders/m9/d8bbz1wx4f50q99kfb1jv9pw0000gn/T/ipykernel_31286/2106180866.py:6: FutureWarning: Series.ravel is deprecated. The underlying array is already 1D, so ravel is not necessary.  Use `to_numpy()` for conversion to a numpy array instead.\n",
      "  ind         = np.argwhere(np.isnan(subsetgdf.m_water_vx).ravel()==False).flatten()\n"
     ]
    },
    {
     "name": "stdout",
     "output_type": "stream",
     "text": [
      "Finished Inversion 411 out of 1345 at 09/17/25 15:00:19\n",
      "Finished Writing Data 411 out of 1345 at 09/17/25 15:00:19\n"
     ]
    },
    {
     "name": "stderr",
     "output_type": "stream",
     "text": [
      "/var/folders/m9/d8bbz1wx4f50q99kfb1jv9pw0000gn/T/ipykernel_31286/2106180866.py:6: FutureWarning: Series.ravel is deprecated. The underlying array is already 1D, so ravel is not necessary.  Use `to_numpy()` for conversion to a numpy array instead.\n",
      "  ind         = np.argwhere(np.isnan(subsetgdf.m_water_vx).ravel()==False).flatten()\n"
     ]
    },
    {
     "name": "stdout",
     "output_type": "stream",
     "text": [
      "Finished Inversion 414 out of 1345 at 09/17/25 15:00:27\n",
      "Finished Writing Data 414 out of 1345 at 09/17/25 15:00:27\n"
     ]
    },
    {
     "name": "stderr",
     "output_type": "stream",
     "text": [
      "/var/folders/m9/d8bbz1wx4f50q99kfb1jv9pw0000gn/T/ipykernel_31286/2106180866.py:6: FutureWarning: Series.ravel is deprecated. The underlying array is already 1D, so ravel is not necessary.  Use `to_numpy()` for conversion to a numpy array instead.\n",
      "  ind         = np.argwhere(np.isnan(subsetgdf.m_water_vx).ravel()==False).flatten()\n"
     ]
    },
    {
     "name": "stdout",
     "output_type": "stream",
     "text": [
      "Finished Inversion 416 out of 1345 at 09/17/25 15:00:34\n",
      "Finished Writing Data 416 out of 1345 at 09/17/25 15:00:34\n"
     ]
    },
    {
     "name": "stderr",
     "output_type": "stream",
     "text": [
      "/var/folders/m9/d8bbz1wx4f50q99kfb1jv9pw0000gn/T/ipykernel_31286/2106180866.py:6: FutureWarning: Series.ravel is deprecated. The underlying array is already 1D, so ravel is not necessary.  Use `to_numpy()` for conversion to a numpy array instead.\n",
      "  ind         = np.argwhere(np.isnan(subsetgdf.m_water_vx).ravel()==False).flatten()\n"
     ]
    },
    {
     "name": "stdout",
     "output_type": "stream",
     "text": [
      "Finished Inversion 418 out of 1345 at 09/17/25 15:00:43\n",
      "Finished Writing Data 418 out of 1345 at 09/17/25 15:00:43\n"
     ]
    },
    {
     "name": "stderr",
     "output_type": "stream",
     "text": [
      "/var/folders/m9/d8bbz1wx4f50q99kfb1jv9pw0000gn/T/ipykernel_31286/2106180866.py:6: FutureWarning: Series.ravel is deprecated. The underlying array is already 1D, so ravel is not necessary.  Use `to_numpy()` for conversion to a numpy array instead.\n",
      "  ind         = np.argwhere(np.isnan(subsetgdf.m_water_vx).ravel()==False).flatten()\n"
     ]
    },
    {
     "name": "stdout",
     "output_type": "stream",
     "text": [
      "Finished Inversion 420 out of 1345 at 09/17/25 15:00:55\n",
      "Finished Writing Data 420 out of 1345 at 09/17/25 15:00:55\n"
     ]
    },
    {
     "name": "stderr",
     "output_type": "stream",
     "text": [
      "/var/folders/m9/d8bbz1wx4f50q99kfb1jv9pw0000gn/T/ipykernel_31286/2106180866.py:6: FutureWarning: Series.ravel is deprecated. The underlying array is already 1D, so ravel is not necessary.  Use `to_numpy()` for conversion to a numpy array instead.\n",
      "  ind         = np.argwhere(np.isnan(subsetgdf.m_water_vx).ravel()==False).flatten()\n"
     ]
    },
    {
     "name": "stdout",
     "output_type": "stream",
     "text": [
      "Finished Inversion 422 out of 1345 at 09/17/25 15:01:08\n",
      "Finished Writing Data 422 out of 1345 at 09/17/25 15:01:08\n"
     ]
    },
    {
     "name": "stderr",
     "output_type": "stream",
     "text": [
      "/var/folders/m9/d8bbz1wx4f50q99kfb1jv9pw0000gn/T/ipykernel_31286/2106180866.py:6: FutureWarning: Series.ravel is deprecated. The underlying array is already 1D, so ravel is not necessary.  Use `to_numpy()` for conversion to a numpy array instead.\n",
      "  ind         = np.argwhere(np.isnan(subsetgdf.m_water_vx).ravel()==False).flatten()\n"
     ]
    },
    {
     "name": "stdout",
     "output_type": "stream",
     "text": [
      "Finished Inversion 423 out of 1345 at 09/17/25 15:06:43\n",
      "Finished Writing Data 423 out of 1345 at 09/17/25 15:06:43\n"
     ]
    },
    {
     "name": "stderr",
     "output_type": "stream",
     "text": [
      "/var/folders/m9/d8bbz1wx4f50q99kfb1jv9pw0000gn/T/ipykernel_31286/2106180866.py:6: FutureWarning: Series.ravel is deprecated. The underlying array is already 1D, so ravel is not necessary.  Use `to_numpy()` for conversion to a numpy array instead.\n",
      "  ind         = np.argwhere(np.isnan(subsetgdf.m_water_vx).ravel()==False).flatten()\n"
     ]
    },
    {
     "name": "stdout",
     "output_type": "stream",
     "text": [
      "Finished Inversion 425 out of 1345 at 09/17/25 15:06:50\n",
      "Finished Writing Data 425 out of 1345 at 09/17/25 15:06:50\n"
     ]
    },
    {
     "name": "stderr",
     "output_type": "stream",
     "text": [
      "/var/folders/m9/d8bbz1wx4f50q99kfb1jv9pw0000gn/T/ipykernel_31286/2106180866.py:6: FutureWarning: Series.ravel is deprecated. The underlying array is already 1D, so ravel is not necessary.  Use `to_numpy()` for conversion to a numpy array instead.\n",
      "  ind         = np.argwhere(np.isnan(subsetgdf.m_water_vx).ravel()==False).flatten()\n"
     ]
    },
    {
     "name": "stdout",
     "output_type": "stream",
     "text": [
      "Finished Inversion 427 out of 1345 at 09/17/25 15:06:57\n",
      "Finished Writing Data 427 out of 1345 at 09/17/25 15:06:57\n"
     ]
    },
    {
     "name": "stderr",
     "output_type": "stream",
     "text": [
      "/var/folders/m9/d8bbz1wx4f50q99kfb1jv9pw0000gn/T/ipykernel_31286/2106180866.py:6: FutureWarning: Series.ravel is deprecated. The underlying array is already 1D, so ravel is not necessary.  Use `to_numpy()` for conversion to a numpy array instead.\n",
      "  ind         = np.argwhere(np.isnan(subsetgdf.m_water_vx).ravel()==False).flatten()\n"
     ]
    },
    {
     "name": "stdout",
     "output_type": "stream",
     "text": [
      "Finished Inversion 429 out of 1345 at 09/17/25 15:07:02\n",
      "Finished Writing Data 429 out of 1345 at 09/17/25 15:07:02\n"
     ]
    },
    {
     "name": "stderr",
     "output_type": "stream",
     "text": [
      "/var/folders/m9/d8bbz1wx4f50q99kfb1jv9pw0000gn/T/ipykernel_31286/2106180866.py:6: FutureWarning: Series.ravel is deprecated. The underlying array is already 1D, so ravel is not necessary.  Use `to_numpy()` for conversion to a numpy array instead.\n",
      "  ind         = np.argwhere(np.isnan(subsetgdf.m_water_vx).ravel()==False).flatten()\n"
     ]
    },
    {
     "name": "stdout",
     "output_type": "stream",
     "text": [
      "Finished Inversion 431 out of 1345 at 09/17/25 15:07:08\n",
      "Finished Writing Data 431 out of 1345 at 09/17/25 15:07:08\n"
     ]
    },
    {
     "name": "stderr",
     "output_type": "stream",
     "text": [
      "/var/folders/m9/d8bbz1wx4f50q99kfb1jv9pw0000gn/T/ipykernel_31286/2106180866.py:6: FutureWarning: Series.ravel is deprecated. The underlying array is already 1D, so ravel is not necessary.  Use `to_numpy()` for conversion to a numpy array instead.\n",
      "  ind         = np.argwhere(np.isnan(subsetgdf.m_water_vx).ravel()==False).flatten()\n"
     ]
    },
    {
     "name": "stdout",
     "output_type": "stream",
     "text": [
      "Finished Inversion 433 out of 1345 at 09/17/25 15:07:13\n",
      "Finished Writing Data 433 out of 1345 at 09/17/25 15:07:13\n"
     ]
    },
    {
     "name": "stderr",
     "output_type": "stream",
     "text": [
      "/var/folders/m9/d8bbz1wx4f50q99kfb1jv9pw0000gn/T/ipykernel_31286/2106180866.py:6: FutureWarning: Series.ravel is deprecated. The underlying array is already 1D, so ravel is not necessary.  Use `to_numpy()` for conversion to a numpy array instead.\n",
      "  ind         = np.argwhere(np.isnan(subsetgdf.m_water_vx).ravel()==False).flatten()\n"
     ]
    },
    {
     "name": "stdout",
     "output_type": "stream",
     "text": [
      "Finished Inversion 436 out of 1345 at 09/17/25 15:07:20\n",
      "Finished Writing Data 436 out of 1345 at 09/17/25 15:07:20\n"
     ]
    },
    {
     "name": "stderr",
     "output_type": "stream",
     "text": [
      "/var/folders/m9/d8bbz1wx4f50q99kfb1jv9pw0000gn/T/ipykernel_31286/2106180866.py:6: FutureWarning: Series.ravel is deprecated. The underlying array is already 1D, so ravel is not necessary.  Use `to_numpy()` for conversion to a numpy array instead.\n",
      "  ind         = np.argwhere(np.isnan(subsetgdf.m_water_vx).ravel()==False).flatten()\n"
     ]
    },
    {
     "name": "stdout",
     "output_type": "stream",
     "text": [
      "Finished Inversion 438 out of 1345 at 09/17/25 15:07:27\n",
      "Finished Writing Data 438 out of 1345 at 09/17/25 15:07:27\n"
     ]
    },
    {
     "name": "stderr",
     "output_type": "stream",
     "text": [
      "/var/folders/m9/d8bbz1wx4f50q99kfb1jv9pw0000gn/T/ipykernel_31286/2106180866.py:6: FutureWarning: Series.ravel is deprecated. The underlying array is already 1D, so ravel is not necessary.  Use `to_numpy()` for conversion to a numpy array instead.\n",
      "  ind         = np.argwhere(np.isnan(subsetgdf.m_water_vx).ravel()==False).flatten()\n"
     ]
    },
    {
     "name": "stdout",
     "output_type": "stream",
     "text": [
      "Finished Inversion 440 out of 1345 at 09/17/25 15:18:23\n",
      "Finished Writing Data 440 out of 1345 at 09/17/25 15:18:23\n"
     ]
    },
    {
     "name": "stderr",
     "output_type": "stream",
     "text": [
      "/var/folders/m9/d8bbz1wx4f50q99kfb1jv9pw0000gn/T/ipykernel_31286/2106180866.py:6: FutureWarning: Series.ravel is deprecated. The underlying array is already 1D, so ravel is not necessary.  Use `to_numpy()` for conversion to a numpy array instead.\n",
      "  ind         = np.argwhere(np.isnan(subsetgdf.m_water_vx).ravel()==False).flatten()\n"
     ]
    },
    {
     "name": "stdout",
     "output_type": "stream",
     "text": [
      "Finished Inversion 442 out of 1345 at 09/17/25 15:18:30\n",
      "Finished Writing Data 442 out of 1345 at 09/17/25 15:18:30\n"
     ]
    },
    {
     "name": "stderr",
     "output_type": "stream",
     "text": [
      "/var/folders/m9/d8bbz1wx4f50q99kfb1jv9pw0000gn/T/ipykernel_31286/2106180866.py:6: FutureWarning: Series.ravel is deprecated. The underlying array is already 1D, so ravel is not necessary.  Use `to_numpy()` for conversion to a numpy array instead.\n",
      "  ind         = np.argwhere(np.isnan(subsetgdf.m_water_vx).ravel()==False).flatten()\n"
     ]
    },
    {
     "name": "stdout",
     "output_type": "stream",
     "text": [
      "Finished Inversion 444 out of 1345 at 09/17/25 15:18:36\n",
      "Finished Writing Data 444 out of 1345 at 09/17/25 15:18:36\n"
     ]
    },
    {
     "name": "stderr",
     "output_type": "stream",
     "text": [
      "/var/folders/m9/d8bbz1wx4f50q99kfb1jv9pw0000gn/T/ipykernel_31286/2106180866.py:6: FutureWarning: Series.ravel is deprecated. The underlying array is already 1D, so ravel is not necessary.  Use `to_numpy()` for conversion to a numpy array instead.\n",
      "  ind         = np.argwhere(np.isnan(subsetgdf.m_water_vx).ravel()==False).flatten()\n"
     ]
    },
    {
     "name": "stdout",
     "output_type": "stream",
     "text": [
      "Finished Inversion 445 out of 1345 at 09/17/25 15:18:42\n",
      "Finished Writing Data 445 out of 1345 at 09/17/25 15:18:42\n"
     ]
    },
    {
     "name": "stderr",
     "output_type": "stream",
     "text": [
      "/var/folders/m9/d8bbz1wx4f50q99kfb1jv9pw0000gn/T/ipykernel_31286/2106180866.py:6: FutureWarning: Series.ravel is deprecated. The underlying array is already 1D, so ravel is not necessary.  Use `to_numpy()` for conversion to a numpy array instead.\n",
      "  ind         = np.argwhere(np.isnan(subsetgdf.m_water_vx).ravel()==False).flatten()\n"
     ]
    },
    {
     "name": "stdout",
     "output_type": "stream",
     "text": [
      "Finished Inversion 447 out of 1345 at 09/17/25 15:18:48\n",
      "Finished Writing Data 447 out of 1345 at 09/17/25 15:18:48\n"
     ]
    },
    {
     "name": "stderr",
     "output_type": "stream",
     "text": [
      "/var/folders/m9/d8bbz1wx4f50q99kfb1jv9pw0000gn/T/ipykernel_31286/2106180866.py:6: FutureWarning: Series.ravel is deprecated. The underlying array is already 1D, so ravel is not necessary.  Use `to_numpy()` for conversion to a numpy array instead.\n",
      "  ind         = np.argwhere(np.isnan(subsetgdf.m_water_vx).ravel()==False).flatten()\n"
     ]
    },
    {
     "name": "stdout",
     "output_type": "stream",
     "text": [
      "Finished Inversion 449 out of 1345 at 09/17/25 15:18:55\n",
      "Finished Writing Data 449 out of 1345 at 09/17/25 15:18:55\n"
     ]
    },
    {
     "name": "stderr",
     "output_type": "stream",
     "text": [
      "/var/folders/m9/d8bbz1wx4f50q99kfb1jv9pw0000gn/T/ipykernel_31286/2106180866.py:6: FutureWarning: Series.ravel is deprecated. The underlying array is already 1D, so ravel is not necessary.  Use `to_numpy()` for conversion to a numpy array instead.\n",
      "  ind         = np.argwhere(np.isnan(subsetgdf.m_water_vx).ravel()==False).flatten()\n"
     ]
    },
    {
     "name": "stdout",
     "output_type": "stream",
     "text": [
      "Finished Inversion 451 out of 1345 at 09/17/25 15:19:03\n",
      "Finished Writing Data 451 out of 1345 at 09/17/25 15:19:03\n"
     ]
    },
    {
     "name": "stderr",
     "output_type": "stream",
     "text": [
      "/var/folders/m9/d8bbz1wx4f50q99kfb1jv9pw0000gn/T/ipykernel_31286/2106180866.py:6: FutureWarning: Series.ravel is deprecated. The underlying array is already 1D, so ravel is not necessary.  Use `to_numpy()` for conversion to a numpy array instead.\n",
      "  ind         = np.argwhere(np.isnan(subsetgdf.m_water_vx).ravel()==False).flatten()\n"
     ]
    },
    {
     "name": "stdout",
     "output_type": "stream",
     "text": [
      "Finished Inversion 453 out of 1345 at 09/17/25 15:19:11\n",
      "Finished Writing Data 453 out of 1345 at 09/17/25 15:19:11\n"
     ]
    },
    {
     "name": "stderr",
     "output_type": "stream",
     "text": [
      "/var/folders/m9/d8bbz1wx4f50q99kfb1jv9pw0000gn/T/ipykernel_31286/2106180866.py:6: FutureWarning: Series.ravel is deprecated. The underlying array is already 1D, so ravel is not necessary.  Use `to_numpy()` for conversion to a numpy array instead.\n",
      "  ind         = np.argwhere(np.isnan(subsetgdf.m_water_vx).ravel()==False).flatten()\n"
     ]
    },
    {
     "name": "stdout",
     "output_type": "stream",
     "text": [
      "Finished Inversion 455 out of 1345 at 09/17/25 15:19:16\n",
      "Finished Writing Data 455 out of 1345 at 09/17/25 15:19:16\n"
     ]
    },
    {
     "name": "stderr",
     "output_type": "stream",
     "text": [
      "/var/folders/m9/d8bbz1wx4f50q99kfb1jv9pw0000gn/T/ipykernel_31286/2106180866.py:6: FutureWarning: Series.ravel is deprecated. The underlying array is already 1D, so ravel is not necessary.  Use `to_numpy()` for conversion to a numpy array instead.\n",
      "  ind         = np.argwhere(np.isnan(subsetgdf.m_water_vx).ravel()==False).flatten()\n"
     ]
    },
    {
     "name": "stdout",
     "output_type": "stream",
     "text": [
      "Finished Inversion 458 out of 1345 at 09/17/25 15:19:22\n",
      "Finished Writing Data 458 out of 1345 at 09/17/25 15:19:22\n"
     ]
    },
    {
     "name": "stderr",
     "output_type": "stream",
     "text": [
      "/var/folders/m9/d8bbz1wx4f50q99kfb1jv9pw0000gn/T/ipykernel_31286/2106180866.py:6: FutureWarning: Series.ravel is deprecated. The underlying array is already 1D, so ravel is not necessary.  Use `to_numpy()` for conversion to a numpy array instead.\n",
      "  ind         = np.argwhere(np.isnan(subsetgdf.m_water_vx).ravel()==False).flatten()\n"
     ]
    },
    {
     "name": "stdout",
     "output_type": "stream",
     "text": [
      "Finished Inversion 460 out of 1345 at 09/17/25 15:19:28\n",
      "Finished Writing Data 460 out of 1345 at 09/17/25 15:19:28\n"
     ]
    },
    {
     "name": "stderr",
     "output_type": "stream",
     "text": [
      "/var/folders/m9/d8bbz1wx4f50q99kfb1jv9pw0000gn/T/ipykernel_31286/2106180866.py:6: FutureWarning: Series.ravel is deprecated. The underlying array is already 1D, so ravel is not necessary.  Use `to_numpy()` for conversion to a numpy array instead.\n",
      "  ind         = np.argwhere(np.isnan(subsetgdf.m_water_vx).ravel()==False).flatten()\n"
     ]
    },
    {
     "name": "stdout",
     "output_type": "stream",
     "text": [
      "Finished Inversion 462 out of 1345 at 09/17/25 15:19:34\n",
      "Finished Writing Data 462 out of 1345 at 09/17/25 15:19:34\n"
     ]
    },
    {
     "name": "stderr",
     "output_type": "stream",
     "text": [
      "/var/folders/m9/d8bbz1wx4f50q99kfb1jv9pw0000gn/T/ipykernel_31286/2106180866.py:6: FutureWarning: Series.ravel is deprecated. The underlying array is already 1D, so ravel is not necessary.  Use `to_numpy()` for conversion to a numpy array instead.\n",
      "  ind         = np.argwhere(np.isnan(subsetgdf.m_water_vx).ravel()==False).flatten()\n"
     ]
    },
    {
     "name": "stdout",
     "output_type": "stream",
     "text": [
      "Finished Inversion 464 out of 1345 at 09/17/25 15:19:39\n",
      "Finished Writing Data 464 out of 1345 at 09/17/25 15:19:39\n"
     ]
    },
    {
     "name": "stderr",
     "output_type": "stream",
     "text": [
      "/var/folders/m9/d8bbz1wx4f50q99kfb1jv9pw0000gn/T/ipykernel_31286/2106180866.py:6: FutureWarning: Series.ravel is deprecated. The underlying array is already 1D, so ravel is not necessary.  Use `to_numpy()` for conversion to a numpy array instead.\n",
      "  ind         = np.argwhere(np.isnan(subsetgdf.m_water_vx).ravel()==False).flatten()\n"
     ]
    },
    {
     "name": "stdout",
     "output_type": "stream",
     "text": [
      "Finished Inversion 466 out of 1345 at 09/17/25 15:19:47\n",
      "Finished Writing Data 466 out of 1345 at 09/17/25 15:19:47\n"
     ]
    },
    {
     "name": "stderr",
     "output_type": "stream",
     "text": [
      "/var/folders/m9/d8bbz1wx4f50q99kfb1jv9pw0000gn/T/ipykernel_31286/2106180866.py:6: FutureWarning: Series.ravel is deprecated. The underlying array is already 1D, so ravel is not necessary.  Use `to_numpy()` for conversion to a numpy array instead.\n",
      "  ind         = np.argwhere(np.isnan(subsetgdf.m_water_vx).ravel()==False).flatten()\n"
     ]
    },
    {
     "name": "stdout",
     "output_type": "stream",
     "text": [
      "Finished Inversion 467 out of 1345 at 09/17/25 15:19:52\n",
      "Finished Writing Data 467 out of 1345 at 09/17/25 15:19:52\n"
     ]
    },
    {
     "name": "stderr",
     "output_type": "stream",
     "text": [
      "/var/folders/m9/d8bbz1wx4f50q99kfb1jv9pw0000gn/T/ipykernel_31286/2106180866.py:6: FutureWarning: Series.ravel is deprecated. The underlying array is already 1D, so ravel is not necessary.  Use `to_numpy()` for conversion to a numpy array instead.\n",
      "  ind         = np.argwhere(np.isnan(subsetgdf.m_water_vx).ravel()==False).flatten()\n"
     ]
    },
    {
     "name": "stdout",
     "output_type": "stream",
     "text": [
      "Finished Inversion 468 out of 1345 at 09/17/25 15:19:59\n",
      "Finished Writing Data 468 out of 1345 at 09/17/25 15:19:59\n"
     ]
    },
    {
     "name": "stderr",
     "output_type": "stream",
     "text": [
      "/var/folders/m9/d8bbz1wx4f50q99kfb1jv9pw0000gn/T/ipykernel_31286/2106180866.py:6: FutureWarning: Series.ravel is deprecated. The underlying array is already 1D, so ravel is not necessary.  Use `to_numpy()` for conversion to a numpy array instead.\n",
      "  ind         = np.argwhere(np.isnan(subsetgdf.m_water_vx).ravel()==False).flatten()\n"
     ]
    },
    {
     "name": "stdout",
     "output_type": "stream",
     "text": [
      "Finished Inversion 470 out of 1345 at 09/17/25 15:20:07\n",
      "Finished Writing Data 470 out of 1345 at 09/17/25 15:20:07\n"
     ]
    },
    {
     "name": "stderr",
     "output_type": "stream",
     "text": [
      "/var/folders/m9/d8bbz1wx4f50q99kfb1jv9pw0000gn/T/ipykernel_31286/2106180866.py:6: FutureWarning: Series.ravel is deprecated. The underlying array is already 1D, so ravel is not necessary.  Use `to_numpy()` for conversion to a numpy array instead.\n",
      "  ind         = np.argwhere(np.isnan(subsetgdf.m_water_vx).ravel()==False).flatten()\n"
     ]
    },
    {
     "name": "stdout",
     "output_type": "stream",
     "text": [
      "Finished Inversion 472 out of 1345 at 09/17/25 15:20:12\n",
      "Finished Writing Data 472 out of 1345 at 09/17/25 15:20:12\n"
     ]
    },
    {
     "name": "stderr",
     "output_type": "stream",
     "text": [
      "/var/folders/m9/d8bbz1wx4f50q99kfb1jv9pw0000gn/T/ipykernel_31286/2106180866.py:6: FutureWarning: Series.ravel is deprecated. The underlying array is already 1D, so ravel is not necessary.  Use `to_numpy()` for conversion to a numpy array instead.\n",
      "  ind         = np.argwhere(np.isnan(subsetgdf.m_water_vx).ravel()==False).flatten()\n"
     ]
    },
    {
     "name": "stdout",
     "output_type": "stream",
     "text": [
      "Finished Inversion 474 out of 1345 at 09/17/25 15:20:18\n",
      "Finished Writing Data 474 out of 1345 at 09/17/25 15:20:18\n"
     ]
    },
    {
     "name": "stderr",
     "output_type": "stream",
     "text": [
      "/var/folders/m9/d8bbz1wx4f50q99kfb1jv9pw0000gn/T/ipykernel_31286/2106180866.py:6: FutureWarning: Series.ravel is deprecated. The underlying array is already 1D, so ravel is not necessary.  Use `to_numpy()` for conversion to a numpy array instead.\n",
      "  ind         = np.argwhere(np.isnan(subsetgdf.m_water_vx).ravel()==False).flatten()\n"
     ]
    },
    {
     "name": "stdout",
     "output_type": "stream",
     "text": [
      "Finished Inversion 476 out of 1345 at 09/17/25 15:20:25\n",
      "Finished Writing Data 476 out of 1345 at 09/17/25 15:20:25\n"
     ]
    },
    {
     "name": "stderr",
     "output_type": "stream",
     "text": [
      "/var/folders/m9/d8bbz1wx4f50q99kfb1jv9pw0000gn/T/ipykernel_31286/2106180866.py:6: FutureWarning: Series.ravel is deprecated. The underlying array is already 1D, so ravel is not necessary.  Use `to_numpy()` for conversion to a numpy array instead.\n",
      "  ind         = np.argwhere(np.isnan(subsetgdf.m_water_vx).ravel()==False).flatten()\n"
     ]
    },
    {
     "name": "stdout",
     "output_type": "stream",
     "text": [
      "Finished Inversion 479 out of 1345 at 09/17/25 15:20:33\n",
      "Finished Writing Data 479 out of 1345 at 09/17/25 15:20:33\n"
     ]
    },
    {
     "name": "stderr",
     "output_type": "stream",
     "text": [
      "/var/folders/m9/d8bbz1wx4f50q99kfb1jv9pw0000gn/T/ipykernel_31286/2106180866.py:6: FutureWarning: Series.ravel is deprecated. The underlying array is already 1D, so ravel is not necessary.  Use `to_numpy()` for conversion to a numpy array instead.\n",
      "  ind         = np.argwhere(np.isnan(subsetgdf.m_water_vx).ravel()==False).flatten()\n"
     ]
    },
    {
     "name": "stdout",
     "output_type": "stream",
     "text": [
      "Finished Inversion 481 out of 1345 at 09/17/25 15:20:40\n",
      "Finished Writing Data 481 out of 1345 at 09/17/25 15:20:40\n"
     ]
    },
    {
     "name": "stderr",
     "output_type": "stream",
     "text": [
      "/var/folders/m9/d8bbz1wx4f50q99kfb1jv9pw0000gn/T/ipykernel_31286/2106180866.py:6: FutureWarning: Series.ravel is deprecated. The underlying array is already 1D, so ravel is not necessary.  Use `to_numpy()` for conversion to a numpy array instead.\n",
      "  ind         = np.argwhere(np.isnan(subsetgdf.m_water_vx).ravel()==False).flatten()\n"
     ]
    },
    {
     "name": "stdout",
     "output_type": "stream",
     "text": [
      "Finished Inversion 483 out of 1345 at 09/17/25 15:20:48\n",
      "Finished Writing Data 483 out of 1345 at 09/17/25 15:20:48\n"
     ]
    },
    {
     "name": "stderr",
     "output_type": "stream",
     "text": [
      "/var/folders/m9/d8bbz1wx4f50q99kfb1jv9pw0000gn/T/ipykernel_31286/2106180866.py:6: FutureWarning: Series.ravel is deprecated. The underlying array is already 1D, so ravel is not necessary.  Use `to_numpy()` for conversion to a numpy array instead.\n",
      "  ind         = np.argwhere(np.isnan(subsetgdf.m_water_vx).ravel()==False).flatten()\n"
     ]
    },
    {
     "name": "stdout",
     "output_type": "stream",
     "text": [
      "Finished Inversion 485 out of 1345 at 09/17/25 15:20:56\n",
      "Finished Writing Data 485 out of 1345 at 09/17/25 15:20:56\n"
     ]
    },
    {
     "name": "stderr",
     "output_type": "stream",
     "text": [
      "/var/folders/m9/d8bbz1wx4f50q99kfb1jv9pw0000gn/T/ipykernel_31286/2106180866.py:6: FutureWarning: Series.ravel is deprecated. The underlying array is already 1D, so ravel is not necessary.  Use `to_numpy()` for conversion to a numpy array instead.\n",
      "  ind         = np.argwhere(np.isnan(subsetgdf.m_water_vx).ravel()==False).flatten()\n"
     ]
    },
    {
     "name": "stdout",
     "output_type": "stream",
     "text": [
      "Finished Inversion 487 out of 1345 at 09/17/25 15:21:04\n",
      "Finished Writing Data 487 out of 1345 at 09/17/25 15:21:04\n"
     ]
    },
    {
     "name": "stderr",
     "output_type": "stream",
     "text": [
      "/var/folders/m9/d8bbz1wx4f50q99kfb1jv9pw0000gn/T/ipykernel_31286/2106180866.py:6: FutureWarning: Series.ravel is deprecated. The underlying array is already 1D, so ravel is not necessary.  Use `to_numpy()` for conversion to a numpy array instead.\n",
      "  ind         = np.argwhere(np.isnan(subsetgdf.m_water_vx).ravel()==False).flatten()\n"
     ]
    },
    {
     "name": "stdout",
     "output_type": "stream",
     "text": [
      "Finished Inversion 489 out of 1345 at 09/17/25 15:21:09\n",
      "Finished Writing Data 489 out of 1345 at 09/17/25 15:21:09\n"
     ]
    },
    {
     "name": "stderr",
     "output_type": "stream",
     "text": [
      "/var/folders/m9/d8bbz1wx4f50q99kfb1jv9pw0000gn/T/ipykernel_31286/2106180866.py:6: FutureWarning: Series.ravel is deprecated. The underlying array is already 1D, so ravel is not necessary.  Use `to_numpy()` for conversion to a numpy array instead.\n",
      "  ind         = np.argwhere(np.isnan(subsetgdf.m_water_vx).ravel()==False).flatten()\n"
     ]
    },
    {
     "name": "stdout",
     "output_type": "stream",
     "text": [
      "Finished Inversion 490 out of 1345 at 09/17/25 15:21:17\n",
      "Finished Writing Data 490 out of 1345 at 09/17/25 15:21:17\n"
     ]
    },
    {
     "name": "stderr",
     "output_type": "stream",
     "text": [
      "/var/folders/m9/d8bbz1wx4f50q99kfb1jv9pw0000gn/T/ipykernel_31286/2106180866.py:6: FutureWarning: Series.ravel is deprecated. The underlying array is already 1D, so ravel is not necessary.  Use `to_numpy()` for conversion to a numpy array instead.\n",
      "  ind         = np.argwhere(np.isnan(subsetgdf.m_water_vx).ravel()==False).flatten()\n"
     ]
    },
    {
     "name": "stdout",
     "output_type": "stream",
     "text": [
      "Finished Inversion 492 out of 1345 at 09/17/25 15:21:22\n",
      "Finished Writing Data 492 out of 1345 at 09/17/25 15:21:22\n"
     ]
    },
    {
     "name": "stderr",
     "output_type": "stream",
     "text": [
      "/var/folders/m9/d8bbz1wx4f50q99kfb1jv9pw0000gn/T/ipykernel_31286/2106180866.py:6: FutureWarning: Series.ravel is deprecated. The underlying array is already 1D, so ravel is not necessary.  Use `to_numpy()` for conversion to a numpy array instead.\n",
      "  ind         = np.argwhere(np.isnan(subsetgdf.m_water_vx).ravel()==False).flatten()\n"
     ]
    },
    {
     "name": "stdout",
     "output_type": "stream",
     "text": [
      "Finished Inversion 494 out of 1345 at 09/17/25 15:21:30\n",
      "Finished Writing Data 494 out of 1345 at 09/17/25 15:21:30\n"
     ]
    },
    {
     "name": "stderr",
     "output_type": "stream",
     "text": [
      "/var/folders/m9/d8bbz1wx4f50q99kfb1jv9pw0000gn/T/ipykernel_31286/2106180866.py:6: FutureWarning: Series.ravel is deprecated. The underlying array is already 1D, so ravel is not necessary.  Use `to_numpy()` for conversion to a numpy array instead.\n",
      "  ind         = np.argwhere(np.isnan(subsetgdf.m_water_vx).ravel()==False).flatten()\n"
     ]
    },
    {
     "name": "stdout",
     "output_type": "stream",
     "text": [
      "Finished Inversion 496 out of 1345 at 09/17/25 15:21:35\n",
      "Finished Writing Data 496 out of 1345 at 09/17/25 15:21:35\n"
     ]
    },
    {
     "name": "stderr",
     "output_type": "stream",
     "text": [
      "/var/folders/m9/d8bbz1wx4f50q99kfb1jv9pw0000gn/T/ipykernel_31286/2106180866.py:6: FutureWarning: Series.ravel is deprecated. The underlying array is already 1D, so ravel is not necessary.  Use `to_numpy()` for conversion to a numpy array instead.\n",
      "  ind         = np.argwhere(np.isnan(subsetgdf.m_water_vx).ravel()==False).flatten()\n"
     ]
    },
    {
     "name": "stdout",
     "output_type": "stream",
     "text": [
      "Finished Inversion 498 out of 1345 at 09/17/25 15:21:41\n",
      "Finished Writing Data 498 out of 1345 at 09/17/25 15:21:41\n"
     ]
    },
    {
     "name": "stderr",
     "output_type": "stream",
     "text": [
      "/var/folders/m9/d8bbz1wx4f50q99kfb1jv9pw0000gn/T/ipykernel_31286/2106180866.py:6: FutureWarning: Series.ravel is deprecated. The underlying array is already 1D, so ravel is not necessary.  Use `to_numpy()` for conversion to a numpy array instead.\n",
      "  ind         = np.argwhere(np.isnan(subsetgdf.m_water_vx).ravel()==False).flatten()\n"
     ]
    },
    {
     "name": "stdout",
     "output_type": "stream",
     "text": [
      "Finished Inversion 501 out of 1345 at 09/17/25 15:21:47\n",
      "Finished Writing Data 501 out of 1345 at 09/17/25 15:21:47\n"
     ]
    },
    {
     "name": "stderr",
     "output_type": "stream",
     "text": [
      "/var/folders/m9/d8bbz1wx4f50q99kfb1jv9pw0000gn/T/ipykernel_31286/2106180866.py:6: FutureWarning: Series.ravel is deprecated. The underlying array is already 1D, so ravel is not necessary.  Use `to_numpy()` for conversion to a numpy array instead.\n",
      "  ind         = np.argwhere(np.isnan(subsetgdf.m_water_vx).ravel()==False).flatten()\n"
     ]
    },
    {
     "name": "stdout",
     "output_type": "stream",
     "text": [
      "Finished Inversion 503 out of 1345 at 09/17/25 15:21:52\n",
      "Finished Writing Data 503 out of 1345 at 09/17/25 15:21:52\n"
     ]
    },
    {
     "name": "stderr",
     "output_type": "stream",
     "text": [
      "/var/folders/m9/d8bbz1wx4f50q99kfb1jv9pw0000gn/T/ipykernel_31286/2106180866.py:6: FutureWarning: Series.ravel is deprecated. The underlying array is already 1D, so ravel is not necessary.  Use `to_numpy()` for conversion to a numpy array instead.\n",
      "  ind         = np.argwhere(np.isnan(subsetgdf.m_water_vx).ravel()==False).flatten()\n"
     ]
    },
    {
     "name": "stdout",
     "output_type": "stream",
     "text": [
      "Finished Inversion 505 out of 1345 at 09/17/25 15:21:58\n",
      "Finished Writing Data 505 out of 1345 at 09/17/25 15:21:58\n"
     ]
    },
    {
     "name": "stderr",
     "output_type": "stream",
     "text": [
      "/var/folders/m9/d8bbz1wx4f50q99kfb1jv9pw0000gn/T/ipykernel_31286/2106180866.py:6: FutureWarning: Series.ravel is deprecated. The underlying array is already 1D, so ravel is not necessary.  Use `to_numpy()` for conversion to a numpy array instead.\n",
      "  ind         = np.argwhere(np.isnan(subsetgdf.m_water_vx).ravel()==False).flatten()\n"
     ]
    },
    {
     "name": "stdout",
     "output_type": "stream",
     "text": [
      "Finished Inversion 507 out of 1345 at 09/17/25 15:22:06\n",
      "Finished Writing Data 507 out of 1345 at 09/17/25 15:22:06\n"
     ]
    },
    {
     "name": "stderr",
     "output_type": "stream",
     "text": [
      "/var/folders/m9/d8bbz1wx4f50q99kfb1jv9pw0000gn/T/ipykernel_31286/2106180866.py:6: FutureWarning: Series.ravel is deprecated. The underlying array is already 1D, so ravel is not necessary.  Use `to_numpy()` for conversion to a numpy array instead.\n",
      "  ind         = np.argwhere(np.isnan(subsetgdf.m_water_vx).ravel()==False).flatten()\n"
     ]
    },
    {
     "name": "stdout",
     "output_type": "stream",
     "text": [
      "Finished Inversion 509 out of 1345 at 09/17/25 15:22:13\n",
      "Finished Writing Data 509 out of 1345 at 09/17/25 15:22:13\n"
     ]
    },
    {
     "name": "stderr",
     "output_type": "stream",
     "text": [
      "/var/folders/m9/d8bbz1wx4f50q99kfb1jv9pw0000gn/T/ipykernel_31286/2106180866.py:6: FutureWarning: Series.ravel is deprecated. The underlying array is already 1D, so ravel is not necessary.  Use `to_numpy()` for conversion to a numpy array instead.\n",
      "  ind         = np.argwhere(np.isnan(subsetgdf.m_water_vx).ravel()==False).flatten()\n"
     ]
    },
    {
     "name": "stdout",
     "output_type": "stream",
     "text": [
      "Finished Inversion 511 out of 1345 at 09/17/25 15:22:18\n",
      "Finished Writing Data 511 out of 1345 at 09/17/25 15:22:18\n"
     ]
    },
    {
     "name": "stderr",
     "output_type": "stream",
     "text": [
      "/var/folders/m9/d8bbz1wx4f50q99kfb1jv9pw0000gn/T/ipykernel_31286/2106180866.py:6: FutureWarning: Series.ravel is deprecated. The underlying array is already 1D, so ravel is not necessary.  Use `to_numpy()` for conversion to a numpy array instead.\n",
      "  ind         = np.argwhere(np.isnan(subsetgdf.m_water_vx).ravel()==False).flatten()\n"
     ]
    },
    {
     "name": "stdout",
     "output_type": "stream",
     "text": [
      "Finished Inversion 512 out of 1345 at 09/17/25 15:22:24\n",
      "Finished Writing Data 512 out of 1345 at 09/17/25 15:22:24\n"
     ]
    },
    {
     "name": "stderr",
     "output_type": "stream",
     "text": [
      "/var/folders/m9/d8bbz1wx4f50q99kfb1jv9pw0000gn/T/ipykernel_31286/2106180866.py:6: FutureWarning: Series.ravel is deprecated. The underlying array is already 1D, so ravel is not necessary.  Use `to_numpy()` for conversion to a numpy array instead.\n",
      "  ind         = np.argwhere(np.isnan(subsetgdf.m_water_vx).ravel()==False).flatten()\n"
     ]
    },
    {
     "name": "stdout",
     "output_type": "stream",
     "text": [
      "Finished Inversion 513 out of 1345 at 09/17/25 15:22:30\n",
      "Finished Writing Data 513 out of 1345 at 09/17/25 15:22:30\n"
     ]
    },
    {
     "name": "stderr",
     "output_type": "stream",
     "text": [
      "/var/folders/m9/d8bbz1wx4f50q99kfb1jv9pw0000gn/T/ipykernel_31286/2106180866.py:6: FutureWarning: Series.ravel is deprecated. The underlying array is already 1D, so ravel is not necessary.  Use `to_numpy()` for conversion to a numpy array instead.\n",
      "  ind         = np.argwhere(np.isnan(subsetgdf.m_water_vx).ravel()==False).flatten()\n"
     ]
    },
    {
     "name": "stdout",
     "output_type": "stream",
     "text": [
      "Finished Inversion 515 out of 1345 at 09/17/25 15:22:36\n",
      "Finished Writing Data 515 out of 1345 at 09/17/25 15:22:36\n"
     ]
    },
    {
     "name": "stderr",
     "output_type": "stream",
     "text": [
      "/var/folders/m9/d8bbz1wx4f50q99kfb1jv9pw0000gn/T/ipykernel_31286/2106180866.py:6: FutureWarning: Series.ravel is deprecated. The underlying array is already 1D, so ravel is not necessary.  Use `to_numpy()` for conversion to a numpy array instead.\n",
      "  ind         = np.argwhere(np.isnan(subsetgdf.m_water_vx).ravel()==False).flatten()\n"
     ]
    },
    {
     "name": "stdout",
     "output_type": "stream",
     "text": [
      "Finished Inversion 517 out of 1345 at 09/17/25 15:22:42\n",
      "Finished Writing Data 517 out of 1345 at 09/17/25 15:22:42\n"
     ]
    },
    {
     "name": "stderr",
     "output_type": "stream",
     "text": [
      "/var/folders/m9/d8bbz1wx4f50q99kfb1jv9pw0000gn/T/ipykernel_31286/2106180866.py:6: FutureWarning: Series.ravel is deprecated. The underlying array is already 1D, so ravel is not necessary.  Use `to_numpy()` for conversion to a numpy array instead.\n",
      "  ind         = np.argwhere(np.isnan(subsetgdf.m_water_vx).ravel()==False).flatten()\n"
     ]
    },
    {
     "name": "stdout",
     "output_type": "stream",
     "text": [
      "Finished Inversion 519 out of 1345 at 09/17/25 15:22:48\n",
      "Finished Writing Data 519 out of 1345 at 09/17/25 15:22:48\n"
     ]
    },
    {
     "name": "stderr",
     "output_type": "stream",
     "text": [
      "/var/folders/m9/d8bbz1wx4f50q99kfb1jv9pw0000gn/T/ipykernel_31286/2106180866.py:6: FutureWarning: Series.ravel is deprecated. The underlying array is already 1D, so ravel is not necessary.  Use `to_numpy()` for conversion to a numpy array instead.\n",
      "  ind         = np.argwhere(np.isnan(subsetgdf.m_water_vx).ravel()==False).flatten()\n"
     ]
    },
    {
     "name": "stdout",
     "output_type": "stream",
     "text": [
      "Finished Inversion 521 out of 1345 at 09/17/25 15:22:54\n",
      "Finished Writing Data 521 out of 1345 at 09/17/25 15:22:54\n"
     ]
    },
    {
     "name": "stderr",
     "output_type": "stream",
     "text": [
      "/var/folders/m9/d8bbz1wx4f50q99kfb1jv9pw0000gn/T/ipykernel_31286/2106180866.py:6: FutureWarning: Series.ravel is deprecated. The underlying array is already 1D, so ravel is not necessary.  Use `to_numpy()` for conversion to a numpy array instead.\n",
      "  ind         = np.argwhere(np.isnan(subsetgdf.m_water_vx).ravel()==False).flatten()\n"
     ]
    },
    {
     "name": "stdout",
     "output_type": "stream",
     "text": [
      "Finished Inversion 524 out of 1345 at 09/17/25 15:23:00\n",
      "Finished Writing Data 524 out of 1345 at 09/17/25 15:23:00\n"
     ]
    },
    {
     "name": "stderr",
     "output_type": "stream",
     "text": [
      "/var/folders/m9/d8bbz1wx4f50q99kfb1jv9pw0000gn/T/ipykernel_31286/2106180866.py:6: FutureWarning: Series.ravel is deprecated. The underlying array is already 1D, so ravel is not necessary.  Use `to_numpy()` for conversion to a numpy array instead.\n",
      "  ind         = np.argwhere(np.isnan(subsetgdf.m_water_vx).ravel()==False).flatten()\n"
     ]
    },
    {
     "name": "stdout",
     "output_type": "stream",
     "text": [
      "Finished Inversion 526 out of 1345 at 09/17/25 15:23:06\n",
      "Finished Writing Data 526 out of 1345 at 09/17/25 15:23:06\n"
     ]
    },
    {
     "name": "stderr",
     "output_type": "stream",
     "text": [
      "/var/folders/m9/d8bbz1wx4f50q99kfb1jv9pw0000gn/T/ipykernel_31286/2106180866.py:6: FutureWarning: Series.ravel is deprecated. The underlying array is already 1D, so ravel is not necessary.  Use `to_numpy()` for conversion to a numpy array instead.\n",
      "  ind         = np.argwhere(np.isnan(subsetgdf.m_water_vx).ravel()==False).flatten()\n"
     ]
    },
    {
     "name": "stdout",
     "output_type": "stream",
     "text": [
      "Finished Inversion 528 out of 1345 at 09/17/25 15:23:12\n",
      "Finished Writing Data 528 out of 1345 at 09/17/25 15:23:12\n"
     ]
    },
    {
     "name": "stderr",
     "output_type": "stream",
     "text": [
      "/var/folders/m9/d8bbz1wx4f50q99kfb1jv9pw0000gn/T/ipykernel_31286/2106180866.py:6: FutureWarning: Series.ravel is deprecated. The underlying array is already 1D, so ravel is not necessary.  Use `to_numpy()` for conversion to a numpy array instead.\n",
      "  ind         = np.argwhere(np.isnan(subsetgdf.m_water_vx).ravel()==False).flatten()\n"
     ]
    },
    {
     "name": "stdout",
     "output_type": "stream",
     "text": [
      "Finished Inversion 530 out of 1345 at 09/17/25 15:23:17\n",
      "Finished Writing Data 530 out of 1345 at 09/17/25 15:23:17\n"
     ]
    },
    {
     "name": "stderr",
     "output_type": "stream",
     "text": [
      "/var/folders/m9/d8bbz1wx4f50q99kfb1jv9pw0000gn/T/ipykernel_31286/2106180866.py:6: FutureWarning: Series.ravel is deprecated. The underlying array is already 1D, so ravel is not necessary.  Use `to_numpy()` for conversion to a numpy array instead.\n",
      "  ind         = np.argwhere(np.isnan(subsetgdf.m_water_vx).ravel()==False).flatten()\n"
     ]
    },
    {
     "name": "stdout",
     "output_type": "stream",
     "text": [
      "Finished Inversion 532 out of 1345 at 09/17/25 15:23:23\n",
      "Finished Writing Data 532 out of 1345 at 09/17/25 15:23:23\n"
     ]
    },
    {
     "name": "stderr",
     "output_type": "stream",
     "text": [
      "/var/folders/m9/d8bbz1wx4f50q99kfb1jv9pw0000gn/T/ipykernel_31286/2106180866.py:6: FutureWarning: Series.ravel is deprecated. The underlying array is already 1D, so ravel is not necessary.  Use `to_numpy()` for conversion to a numpy array instead.\n",
      "  ind         = np.argwhere(np.isnan(subsetgdf.m_water_vx).ravel()==False).flatten()\n"
     ]
    },
    {
     "name": "stdout",
     "output_type": "stream",
     "text": [
      "Finished Inversion 534 out of 1345 at 09/17/25 15:23:28\n",
      "Finished Writing Data 534 out of 1345 at 09/17/25 15:23:28\n"
     ]
    },
    {
     "name": "stderr",
     "output_type": "stream",
     "text": [
      "/var/folders/m9/d8bbz1wx4f50q99kfb1jv9pw0000gn/T/ipykernel_31286/2106180866.py:6: FutureWarning: Series.ravel is deprecated. The underlying array is already 1D, so ravel is not necessary.  Use `to_numpy()` for conversion to a numpy array instead.\n",
      "  ind         = np.argwhere(np.isnan(subsetgdf.m_water_vx).ravel()==False).flatten()\n"
     ]
    },
    {
     "name": "stdout",
     "output_type": "stream",
     "text": [
      "Finished Inversion 535 out of 1345 at 09/17/25 15:23:33\n",
      "Finished Writing Data 535 out of 1345 at 09/17/25 15:23:33\n"
     ]
    },
    {
     "name": "stderr",
     "output_type": "stream",
     "text": [
      "/var/folders/m9/d8bbz1wx4f50q99kfb1jv9pw0000gn/T/ipykernel_31286/2106180866.py:6: FutureWarning: Series.ravel is deprecated. The underlying array is already 1D, so ravel is not necessary.  Use `to_numpy()` for conversion to a numpy array instead.\n",
      "  ind         = np.argwhere(np.isnan(subsetgdf.m_water_vx).ravel()==False).flatten()\n"
     ]
    },
    {
     "name": "stdout",
     "output_type": "stream",
     "text": [
      "Finished Inversion 537 out of 1345 at 09/17/25 15:23:39\n",
      "Finished Writing Data 537 out of 1345 at 09/17/25 15:23:39\n"
     ]
    },
    {
     "name": "stderr",
     "output_type": "stream",
     "text": [
      "/var/folders/m9/d8bbz1wx4f50q99kfb1jv9pw0000gn/T/ipykernel_31286/2106180866.py:6: FutureWarning: Series.ravel is deprecated. The underlying array is already 1D, so ravel is not necessary.  Use `to_numpy()` for conversion to a numpy array instead.\n",
      "  ind         = np.argwhere(np.isnan(subsetgdf.m_water_vx).ravel()==False).flatten()\n"
     ]
    },
    {
     "name": "stdout",
     "output_type": "stream",
     "text": [
      "Finished Inversion 539 out of 1345 at 09/17/25 15:23:45\n",
      "Finished Writing Data 539 out of 1345 at 09/17/25 15:23:45\n"
     ]
    },
    {
     "name": "stderr",
     "output_type": "stream",
     "text": [
      "/var/folders/m9/d8bbz1wx4f50q99kfb1jv9pw0000gn/T/ipykernel_31286/2106180866.py:6: FutureWarning: Series.ravel is deprecated. The underlying array is already 1D, so ravel is not necessary.  Use `to_numpy()` for conversion to a numpy array instead.\n",
      "  ind         = np.argwhere(np.isnan(subsetgdf.m_water_vx).ravel()==False).flatten()\n"
     ]
    },
    {
     "name": "stdout",
     "output_type": "stream",
     "text": [
      "Finished Inversion 541 out of 1345 at 09/17/25 15:23:51\n",
      "Finished Writing Data 541 out of 1345 at 09/17/25 15:23:51\n"
     ]
    },
    {
     "name": "stderr",
     "output_type": "stream",
     "text": [
      "/var/folders/m9/d8bbz1wx4f50q99kfb1jv9pw0000gn/T/ipykernel_31286/2106180866.py:6: FutureWarning: Series.ravel is deprecated. The underlying array is already 1D, so ravel is not necessary.  Use `to_numpy()` for conversion to a numpy array instead.\n",
      "  ind         = np.argwhere(np.isnan(subsetgdf.m_water_vx).ravel()==False).flatten()\n"
     ]
    },
    {
     "name": "stdout",
     "output_type": "stream",
     "text": [
      "Finished Inversion 543 out of 1345 at 09/17/25 15:23:57\n",
      "Finished Writing Data 543 out of 1345 at 09/17/25 15:23:57\n"
     ]
    },
    {
     "name": "stderr",
     "output_type": "stream",
     "text": [
      "/var/folders/m9/d8bbz1wx4f50q99kfb1jv9pw0000gn/T/ipykernel_31286/2106180866.py:6: FutureWarning: Series.ravel is deprecated. The underlying array is already 1D, so ravel is not necessary.  Use `to_numpy()` for conversion to a numpy array instead.\n",
      "  ind         = np.argwhere(np.isnan(subsetgdf.m_water_vx).ravel()==False).flatten()\n"
     ]
    },
    {
     "name": "stdout",
     "output_type": "stream",
     "text": [
      "Finished Inversion 546 out of 1345 at 09/17/25 15:24:03\n",
      "Finished Writing Data 546 out of 1345 at 09/17/25 15:24:03\n"
     ]
    },
    {
     "name": "stderr",
     "output_type": "stream",
     "text": [
      "/var/folders/m9/d8bbz1wx4f50q99kfb1jv9pw0000gn/T/ipykernel_31286/2106180866.py:6: FutureWarning: Series.ravel is deprecated. The underlying array is already 1D, so ravel is not necessary.  Use `to_numpy()` for conversion to a numpy array instead.\n",
      "  ind         = np.argwhere(np.isnan(subsetgdf.m_water_vx).ravel()==False).flatten()\n"
     ]
    },
    {
     "name": "stdout",
     "output_type": "stream",
     "text": [
      "Finished Inversion 548 out of 1345 at 09/17/25 15:24:09\n",
      "Finished Writing Data 548 out of 1345 at 09/17/25 15:24:09\n"
     ]
    },
    {
     "name": "stderr",
     "output_type": "stream",
     "text": [
      "/var/folders/m9/d8bbz1wx4f50q99kfb1jv9pw0000gn/T/ipykernel_31286/2106180866.py:6: FutureWarning: Series.ravel is deprecated. The underlying array is already 1D, so ravel is not necessary.  Use `to_numpy()` for conversion to a numpy array instead.\n",
      "  ind         = np.argwhere(np.isnan(subsetgdf.m_water_vx).ravel()==False).flatten()\n"
     ]
    },
    {
     "name": "stdout",
     "output_type": "stream",
     "text": [
      "Finished Inversion 550 out of 1345 at 09/17/25 15:24:14\n",
      "Finished Writing Data 550 out of 1345 at 09/17/25 15:24:14\n"
     ]
    },
    {
     "name": "stderr",
     "output_type": "stream",
     "text": [
      "/var/folders/m9/d8bbz1wx4f50q99kfb1jv9pw0000gn/T/ipykernel_31286/2106180866.py:6: FutureWarning: Series.ravel is deprecated. The underlying array is already 1D, so ravel is not necessary.  Use `to_numpy()` for conversion to a numpy array instead.\n",
      "  ind         = np.argwhere(np.isnan(subsetgdf.m_water_vx).ravel()==False).flatten()\n"
     ]
    },
    {
     "name": "stdout",
     "output_type": "stream",
     "text": [
      "Finished Inversion 552 out of 1345 at 09/17/25 15:24:20\n",
      "Finished Writing Data 552 out of 1345 at 09/17/25 15:24:20\n"
     ]
    },
    {
     "name": "stderr",
     "output_type": "stream",
     "text": [
      "/var/folders/m9/d8bbz1wx4f50q99kfb1jv9pw0000gn/T/ipykernel_31286/2106180866.py:6: FutureWarning: Series.ravel is deprecated. The underlying array is already 1D, so ravel is not necessary.  Use `to_numpy()` for conversion to a numpy array instead.\n",
      "  ind         = np.argwhere(np.isnan(subsetgdf.m_water_vx).ravel()==False).flatten()\n"
     ]
    },
    {
     "name": "stdout",
     "output_type": "stream",
     "text": [
      "Finished Inversion 554 out of 1345 at 09/17/25 15:24:25\n",
      "Finished Writing Data 554 out of 1345 at 09/17/25 15:24:25\n"
     ]
    },
    {
     "name": "stderr",
     "output_type": "stream",
     "text": [
      "/var/folders/m9/d8bbz1wx4f50q99kfb1jv9pw0000gn/T/ipykernel_31286/2106180866.py:6: FutureWarning: Series.ravel is deprecated. The underlying array is already 1D, so ravel is not necessary.  Use `to_numpy()` for conversion to a numpy array instead.\n",
      "  ind         = np.argwhere(np.isnan(subsetgdf.m_water_vx).ravel()==False).flatten()\n"
     ]
    },
    {
     "name": "stdout",
     "output_type": "stream",
     "text": [
      "Finished Inversion 556 out of 1345 at 09/17/25 15:24:31\n",
      "Finished Writing Data 556 out of 1345 at 09/17/25 15:24:31\n"
     ]
    },
    {
     "name": "stderr",
     "output_type": "stream",
     "text": [
      "/var/folders/m9/d8bbz1wx4f50q99kfb1jv9pw0000gn/T/ipykernel_31286/2106180866.py:6: FutureWarning: Series.ravel is deprecated. The underlying array is already 1D, so ravel is not necessary.  Use `to_numpy()` for conversion to a numpy array instead.\n",
      "  ind         = np.argwhere(np.isnan(subsetgdf.m_water_vx).ravel()==False).flatten()\n"
     ]
    },
    {
     "name": "stdout",
     "output_type": "stream",
     "text": [
      "Finished Inversion 557 out of 1345 at 09/17/25 15:24:36\n",
      "Finished Writing Data 557 out of 1345 at 09/17/25 15:24:36\n"
     ]
    },
    {
     "name": "stderr",
     "output_type": "stream",
     "text": [
      "/var/folders/m9/d8bbz1wx4f50q99kfb1jv9pw0000gn/T/ipykernel_31286/2106180866.py:6: FutureWarning: Series.ravel is deprecated. The underlying array is already 1D, so ravel is not necessary.  Use `to_numpy()` for conversion to a numpy array instead.\n",
      "  ind         = np.argwhere(np.isnan(subsetgdf.m_water_vx).ravel()==False).flatten()\n"
     ]
    },
    {
     "name": "stdout",
     "output_type": "stream",
     "text": [
      "Finished Inversion 559 out of 1345 at 09/17/25 15:24:42\n",
      "Finished Writing Data 559 out of 1345 at 09/17/25 15:24:42\n"
     ]
    },
    {
     "name": "stderr",
     "output_type": "stream",
     "text": [
      "/var/folders/m9/d8bbz1wx4f50q99kfb1jv9pw0000gn/T/ipykernel_31286/2106180866.py:6: FutureWarning: Series.ravel is deprecated. The underlying array is already 1D, so ravel is not necessary.  Use `to_numpy()` for conversion to a numpy array instead.\n",
      "  ind         = np.argwhere(np.isnan(subsetgdf.m_water_vx).ravel()==False).flatten()\n"
     ]
    },
    {
     "name": "stdout",
     "output_type": "stream",
     "text": [
      "Finished Inversion 561 out of 1345 at 09/17/25 15:24:48\n",
      "Finished Writing Data 561 out of 1345 at 09/17/25 15:24:48\n"
     ]
    },
    {
     "name": "stderr",
     "output_type": "stream",
     "text": [
      "/var/folders/m9/d8bbz1wx4f50q99kfb1jv9pw0000gn/T/ipykernel_31286/2106180866.py:6: FutureWarning: Series.ravel is deprecated. The underlying array is already 1D, so ravel is not necessary.  Use `to_numpy()` for conversion to a numpy array instead.\n",
      "  ind         = np.argwhere(np.isnan(subsetgdf.m_water_vx).ravel()==False).flatten()\n"
     ]
    },
    {
     "name": "stdout",
     "output_type": "stream",
     "text": [
      "Finished Inversion 563 out of 1345 at 09/17/25 15:24:53\n",
      "Finished Writing Data 563 out of 1345 at 09/17/25 15:24:53\n"
     ]
    },
    {
     "name": "stderr",
     "output_type": "stream",
     "text": [
      "/var/folders/m9/d8bbz1wx4f50q99kfb1jv9pw0000gn/T/ipykernel_31286/2106180866.py:6: FutureWarning: Series.ravel is deprecated. The underlying array is already 1D, so ravel is not necessary.  Use `to_numpy()` for conversion to a numpy array instead.\n",
      "  ind         = np.argwhere(np.isnan(subsetgdf.m_water_vx).ravel()==False).flatten()\n"
     ]
    },
    {
     "name": "stdout",
     "output_type": "stream",
     "text": [
      "Finished Inversion 565 out of 1345 at 09/17/25 15:24:59\n",
      "Finished Writing Data 565 out of 1345 at 09/17/25 15:24:59\n"
     ]
    },
    {
     "name": "stderr",
     "output_type": "stream",
     "text": [
      "/var/folders/m9/d8bbz1wx4f50q99kfb1jv9pw0000gn/T/ipykernel_31286/2106180866.py:6: FutureWarning: Series.ravel is deprecated. The underlying array is already 1D, so ravel is not necessary.  Use `to_numpy()` for conversion to a numpy array instead.\n",
      "  ind         = np.argwhere(np.isnan(subsetgdf.m_water_vx).ravel()==False).flatten()\n"
     ]
    },
    {
     "name": "stdout",
     "output_type": "stream",
     "text": [
      "Finished Inversion 568 out of 1345 at 09/17/25 15:25:04\n",
      "Finished Writing Data 568 out of 1345 at 09/17/25 15:25:04\n"
     ]
    },
    {
     "name": "stderr",
     "output_type": "stream",
     "text": [
      "/var/folders/m9/d8bbz1wx4f50q99kfb1jv9pw0000gn/T/ipykernel_31286/2106180866.py:6: FutureWarning: Series.ravel is deprecated. The underlying array is already 1D, so ravel is not necessary.  Use `to_numpy()` for conversion to a numpy array instead.\n",
      "  ind         = np.argwhere(np.isnan(subsetgdf.m_water_vx).ravel()==False).flatten()\n"
     ]
    },
    {
     "name": "stdout",
     "output_type": "stream",
     "text": [
      "Finished Inversion 570 out of 1345 at 09/17/25 15:25:10\n",
      "Finished Writing Data 570 out of 1345 at 09/17/25 15:25:10\n"
     ]
    },
    {
     "name": "stderr",
     "output_type": "stream",
     "text": [
      "/var/folders/m9/d8bbz1wx4f50q99kfb1jv9pw0000gn/T/ipykernel_31286/2106180866.py:6: FutureWarning: Series.ravel is deprecated. The underlying array is already 1D, so ravel is not necessary.  Use `to_numpy()` for conversion to a numpy array instead.\n",
      "  ind         = np.argwhere(np.isnan(subsetgdf.m_water_vx).ravel()==False).flatten()\n"
     ]
    },
    {
     "name": "stdout",
     "output_type": "stream",
     "text": [
      "Finished Inversion 572 out of 1345 at 09/17/25 15:25:15\n",
      "Finished Writing Data 572 out of 1345 at 09/17/25 15:25:15\n"
     ]
    },
    {
     "name": "stderr",
     "output_type": "stream",
     "text": [
      "/var/folders/m9/d8bbz1wx4f50q99kfb1jv9pw0000gn/T/ipykernel_31286/2106180866.py:6: FutureWarning: Series.ravel is deprecated. The underlying array is already 1D, so ravel is not necessary.  Use `to_numpy()` for conversion to a numpy array instead.\n",
      "  ind         = np.argwhere(np.isnan(subsetgdf.m_water_vx).ravel()==False).flatten()\n"
     ]
    },
    {
     "name": "stdout",
     "output_type": "stream",
     "text": [
      "Finished Inversion 574 out of 1345 at 09/17/25 15:25:21\n",
      "Finished Writing Data 574 out of 1345 at 09/17/25 15:25:21\n"
     ]
    },
    {
     "name": "stderr",
     "output_type": "stream",
     "text": [
      "/var/folders/m9/d8bbz1wx4f50q99kfb1jv9pw0000gn/T/ipykernel_31286/2106180866.py:6: FutureWarning: Series.ravel is deprecated. The underlying array is already 1D, so ravel is not necessary.  Use `to_numpy()` for conversion to a numpy array instead.\n",
      "  ind         = np.argwhere(np.isnan(subsetgdf.m_water_vx).ravel()==False).flatten()\n"
     ]
    },
    {
     "name": "stdout",
     "output_type": "stream",
     "text": [
      "Finished Inversion 576 out of 1345 at 09/17/25 15:25:26\n",
      "Finished Writing Data 576 out of 1345 at 09/17/25 15:25:26\n"
     ]
    },
    {
     "name": "stderr",
     "output_type": "stream",
     "text": [
      "/var/folders/m9/d8bbz1wx4f50q99kfb1jv9pw0000gn/T/ipykernel_31286/2106180866.py:6: FutureWarning: Series.ravel is deprecated. The underlying array is already 1D, so ravel is not necessary.  Use `to_numpy()` for conversion to a numpy array instead.\n",
      "  ind         = np.argwhere(np.isnan(subsetgdf.m_water_vx).ravel()==False).flatten()\n"
     ]
    },
    {
     "name": "stdout",
     "output_type": "stream",
     "text": [
      "Finished Inversion 578 out of 1345 at 09/17/25 15:25:32\n",
      "Finished Writing Data 578 out of 1345 at 09/17/25 15:25:32\n"
     ]
    },
    {
     "name": "stderr",
     "output_type": "stream",
     "text": [
      "/var/folders/m9/d8bbz1wx4f50q99kfb1jv9pw0000gn/T/ipykernel_31286/2106180866.py:6: FutureWarning: Series.ravel is deprecated. The underlying array is already 1D, so ravel is not necessary.  Use `to_numpy()` for conversion to a numpy array instead.\n",
      "  ind         = np.argwhere(np.isnan(subsetgdf.m_water_vx).ravel()==False).flatten()\n"
     ]
    },
    {
     "name": "stdout",
     "output_type": "stream",
     "text": [
      "Finished Inversion 579 out of 1345 at 09/17/25 15:25:37\n",
      "Finished Writing Data 579 out of 1345 at 09/17/25 15:25:37\n"
     ]
    },
    {
     "name": "stderr",
     "output_type": "stream",
     "text": [
      "/var/folders/m9/d8bbz1wx4f50q99kfb1jv9pw0000gn/T/ipykernel_31286/2106180866.py:6: FutureWarning: Series.ravel is deprecated. The underlying array is already 1D, so ravel is not necessary.  Use `to_numpy()` for conversion to a numpy array instead.\n",
      "  ind         = np.argwhere(np.isnan(subsetgdf.m_water_vx).ravel()==False).flatten()\n"
     ]
    },
    {
     "name": "stdout",
     "output_type": "stream",
     "text": [
      "Finished Inversion 581 out of 1345 at 09/17/25 15:25:43\n",
      "Finished Writing Data 581 out of 1345 at 09/17/25 15:25:43\n"
     ]
    },
    {
     "name": "stderr",
     "output_type": "stream",
     "text": [
      "/var/folders/m9/d8bbz1wx4f50q99kfb1jv9pw0000gn/T/ipykernel_31286/2106180866.py:6: FutureWarning: Series.ravel is deprecated. The underlying array is already 1D, so ravel is not necessary.  Use `to_numpy()` for conversion to a numpy array instead.\n",
      "  ind         = np.argwhere(np.isnan(subsetgdf.m_water_vx).ravel()==False).flatten()\n"
     ]
    },
    {
     "name": "stdout",
     "output_type": "stream",
     "text": [
      "Finished Inversion 583 out of 1345 at 09/17/25 15:25:48\n",
      "Finished Writing Data 583 out of 1345 at 09/17/25 15:25:48\n"
     ]
    },
    {
     "name": "stderr",
     "output_type": "stream",
     "text": [
      "/var/folders/m9/d8bbz1wx4f50q99kfb1jv9pw0000gn/T/ipykernel_31286/2106180866.py:6: FutureWarning: Series.ravel is deprecated. The underlying array is already 1D, so ravel is not necessary.  Use `to_numpy()` for conversion to a numpy array instead.\n",
      "  ind         = np.argwhere(np.isnan(subsetgdf.m_water_vx).ravel()==False).flatten()\n"
     ]
    },
    {
     "name": "stdout",
     "output_type": "stream",
     "text": [
      "Finished Inversion 585 out of 1345 at 09/17/25 15:25:54\n",
      "Finished Writing Data 585 out of 1345 at 09/17/25 15:25:54\n"
     ]
    },
    {
     "name": "stderr",
     "output_type": "stream",
     "text": [
      "/var/folders/m9/d8bbz1wx4f50q99kfb1jv9pw0000gn/T/ipykernel_31286/2106180866.py:6: FutureWarning: Series.ravel is deprecated. The underlying array is already 1D, so ravel is not necessary.  Use `to_numpy()` for conversion to a numpy array instead.\n",
      "  ind         = np.argwhere(np.isnan(subsetgdf.m_water_vx).ravel()==False).flatten()\n"
     ]
    },
    {
     "name": "stdout",
     "output_type": "stream",
     "text": [
      "Finished Inversion 587 out of 1345 at 09/17/25 15:26:00\n",
      "Finished Writing Data 587 out of 1345 at 09/17/25 15:26:00\n"
     ]
    },
    {
     "name": "stderr",
     "output_type": "stream",
     "text": [
      "/var/folders/m9/d8bbz1wx4f50q99kfb1jv9pw0000gn/T/ipykernel_31286/2106180866.py:6: FutureWarning: Series.ravel is deprecated. The underlying array is already 1D, so ravel is not necessary.  Use `to_numpy()` for conversion to a numpy array instead.\n",
      "  ind         = np.argwhere(np.isnan(subsetgdf.m_water_vx).ravel()==False).flatten()\n"
     ]
    },
    {
     "name": "stdout",
     "output_type": "stream",
     "text": [
      "Finished Inversion 590 out of 1345 at 09/17/25 15:26:05\n",
      "Finished Writing Data 590 out of 1345 at 09/17/25 15:26:05\n"
     ]
    },
    {
     "name": "stderr",
     "output_type": "stream",
     "text": [
      "/var/folders/m9/d8bbz1wx4f50q99kfb1jv9pw0000gn/T/ipykernel_31286/2106180866.py:6: FutureWarning: Series.ravel is deprecated. The underlying array is already 1D, so ravel is not necessary.  Use `to_numpy()` for conversion to a numpy array instead.\n",
      "  ind         = np.argwhere(np.isnan(subsetgdf.m_water_vx).ravel()==False).flatten()\n"
     ]
    },
    {
     "name": "stdout",
     "output_type": "stream",
     "text": [
      "Finished Inversion 592 out of 1345 at 09/17/25 15:26:11\n",
      "Finished Writing Data 592 out of 1345 at 09/17/25 15:26:11\n"
     ]
    },
    {
     "name": "stderr",
     "output_type": "stream",
     "text": [
      "/var/folders/m9/d8bbz1wx4f50q99kfb1jv9pw0000gn/T/ipykernel_31286/2106180866.py:6: FutureWarning: Series.ravel is deprecated. The underlying array is already 1D, so ravel is not necessary.  Use `to_numpy()` for conversion to a numpy array instead.\n",
      "  ind         = np.argwhere(np.isnan(subsetgdf.m_water_vx).ravel()==False).flatten()\n"
     ]
    },
    {
     "name": "stdout",
     "output_type": "stream",
     "text": [
      "Finished Inversion 594 out of 1345 at 09/17/25 15:26:18\n",
      "Finished Writing Data 594 out of 1345 at 09/17/25 15:26:19\n"
     ]
    },
    {
     "name": "stderr",
     "output_type": "stream",
     "text": [
      "/var/folders/m9/d8bbz1wx4f50q99kfb1jv9pw0000gn/T/ipykernel_31286/2106180866.py:6: FutureWarning: Series.ravel is deprecated. The underlying array is already 1D, so ravel is not necessary.  Use `to_numpy()` for conversion to a numpy array instead.\n",
      "  ind         = np.argwhere(np.isnan(subsetgdf.m_water_vx).ravel()==False).flatten()\n"
     ]
    },
    {
     "name": "stdout",
     "output_type": "stream",
     "text": [
      "Finished Inversion 596 out of 1345 at 09/17/25 15:26:24\n",
      "Finished Writing Data 596 out of 1345 at 09/17/25 15:26:24\n"
     ]
    },
    {
     "name": "stderr",
     "output_type": "stream",
     "text": [
      "/var/folders/m9/d8bbz1wx4f50q99kfb1jv9pw0000gn/T/ipykernel_31286/2106180866.py:6: FutureWarning: Series.ravel is deprecated. The underlying array is already 1D, so ravel is not necessary.  Use `to_numpy()` for conversion to a numpy array instead.\n",
      "  ind         = np.argwhere(np.isnan(subsetgdf.m_water_vx).ravel()==False).flatten()\n"
     ]
    },
    {
     "name": "stdout",
     "output_type": "stream",
     "text": [
      "Finished Inversion 598 out of 1345 at 09/17/25 15:26:30\n",
      "Finished Writing Data 598 out of 1345 at 09/17/25 15:26:30\n"
     ]
    },
    {
     "name": "stderr",
     "output_type": "stream",
     "text": [
      "/var/folders/m9/d8bbz1wx4f50q99kfb1jv9pw0000gn/T/ipykernel_31286/2106180866.py:6: FutureWarning: Series.ravel is deprecated. The underlying array is already 1D, so ravel is not necessary.  Use `to_numpy()` for conversion to a numpy array instead.\n",
      "  ind         = np.argwhere(np.isnan(subsetgdf.m_water_vx).ravel()==False).flatten()\n"
     ]
    },
    {
     "name": "stdout",
     "output_type": "stream",
     "text": [
      "Finished Inversion 600 out of 1345 at 09/17/25 15:26:35\n",
      "Finished Writing Data 600 out of 1345 at 09/17/25 15:26:35\n"
     ]
    },
    {
     "name": "stderr",
     "output_type": "stream",
     "text": [
      "/var/folders/m9/d8bbz1wx4f50q99kfb1jv9pw0000gn/T/ipykernel_31286/2106180866.py:6: FutureWarning: Series.ravel is deprecated. The underlying array is already 1D, so ravel is not necessary.  Use `to_numpy()` for conversion to a numpy array instead.\n",
      "  ind         = np.argwhere(np.isnan(subsetgdf.m_water_vx).ravel()==False).flatten()\n"
     ]
    },
    {
     "name": "stdout",
     "output_type": "stream",
     "text": [
      "Finished Inversion 601 out of 1345 at 09/17/25 15:26:41\n",
      "Finished Writing Data 601 out of 1345 at 09/17/25 15:26:41\n"
     ]
    },
    {
     "name": "stderr",
     "output_type": "stream",
     "text": [
      "/var/folders/m9/d8bbz1wx4f50q99kfb1jv9pw0000gn/T/ipykernel_31286/2106180866.py:6: FutureWarning: Series.ravel is deprecated. The underlying array is already 1D, so ravel is not necessary.  Use `to_numpy()` for conversion to a numpy array instead.\n",
      "  ind         = np.argwhere(np.isnan(subsetgdf.m_water_vx).ravel()==False).flatten()\n"
     ]
    },
    {
     "name": "stdout",
     "output_type": "stream",
     "text": [
      "Finished Inversion 603 out of 1345 at 09/17/25 15:26:47\n",
      "Finished Writing Data 603 out of 1345 at 09/17/25 15:26:47\n"
     ]
    },
    {
     "name": "stderr",
     "output_type": "stream",
     "text": [
      "/var/folders/m9/d8bbz1wx4f50q99kfb1jv9pw0000gn/T/ipykernel_31286/2106180866.py:6: FutureWarning: Series.ravel is deprecated. The underlying array is already 1D, so ravel is not necessary.  Use `to_numpy()` for conversion to a numpy array instead.\n",
      "  ind         = np.argwhere(np.isnan(subsetgdf.m_water_vx).ravel()==False).flatten()\n"
     ]
    },
    {
     "name": "stdout",
     "output_type": "stream",
     "text": [
      "Finished Inversion 605 out of 1345 at 09/17/25 15:26:53\n",
      "Finished Writing Data 605 out of 1345 at 09/17/25 15:26:53\n"
     ]
    },
    {
     "name": "stderr",
     "output_type": "stream",
     "text": [
      "/var/folders/m9/d8bbz1wx4f50q99kfb1jv9pw0000gn/T/ipykernel_31286/2106180866.py:6: FutureWarning: Series.ravel is deprecated. The underlying array is already 1D, so ravel is not necessary.  Use `to_numpy()` for conversion to a numpy array instead.\n",
      "  ind         = np.argwhere(np.isnan(subsetgdf.m_water_vx).ravel()==False).flatten()\n"
     ]
    },
    {
     "name": "stdout",
     "output_type": "stream",
     "text": [
      "Finished Inversion 607 out of 1345 at 09/17/25 15:26:58\n",
      "Finished Writing Data 607 out of 1345 at 09/17/25 15:26:58\n"
     ]
    },
    {
     "name": "stderr",
     "output_type": "stream",
     "text": [
      "/var/folders/m9/d8bbz1wx4f50q99kfb1jv9pw0000gn/T/ipykernel_31286/2106180866.py:6: FutureWarning: Series.ravel is deprecated. The underlying array is already 1D, so ravel is not necessary.  Use `to_numpy()` for conversion to a numpy array instead.\n",
      "  ind         = np.argwhere(np.isnan(subsetgdf.m_water_vx).ravel()==False).flatten()\n"
     ]
    },
    {
     "name": "stdout",
     "output_type": "stream",
     "text": [
      "Finished Inversion 609 out of 1345 at 09/17/25 15:27:04\n",
      "Finished Writing Data 609 out of 1345 at 09/17/25 15:27:04\n"
     ]
    },
    {
     "name": "stderr",
     "output_type": "stream",
     "text": [
      "/var/folders/m9/d8bbz1wx4f50q99kfb1jv9pw0000gn/T/ipykernel_31286/2106180866.py:6: FutureWarning: Series.ravel is deprecated. The underlying array is already 1D, so ravel is not necessary.  Use `to_numpy()` for conversion to a numpy array instead.\n",
      "  ind         = np.argwhere(np.isnan(subsetgdf.m_water_vx).ravel()==False).flatten()\n"
     ]
    },
    {
     "name": "stdout",
     "output_type": "stream",
     "text": [
      "Finished Inversion 612 out of 1345 at 09/17/25 15:27:09\n",
      "Finished Writing Data 612 out of 1345 at 09/17/25 15:27:09\n"
     ]
    },
    {
     "name": "stderr",
     "output_type": "stream",
     "text": [
      "/var/folders/m9/d8bbz1wx4f50q99kfb1jv9pw0000gn/T/ipykernel_31286/2106180866.py:6: FutureWarning: Series.ravel is deprecated. The underlying array is already 1D, so ravel is not necessary.  Use `to_numpy()` for conversion to a numpy array instead.\n",
      "  ind         = np.argwhere(np.isnan(subsetgdf.m_water_vx).ravel()==False).flatten()\n"
     ]
    },
    {
     "name": "stdout",
     "output_type": "stream",
     "text": [
      "Finished Inversion 614 out of 1345 at 09/17/25 15:27:15\n",
      "Finished Writing Data 614 out of 1345 at 09/17/25 15:27:15\n"
     ]
    },
    {
     "name": "stderr",
     "output_type": "stream",
     "text": [
      "/var/folders/m9/d8bbz1wx4f50q99kfb1jv9pw0000gn/T/ipykernel_31286/2106180866.py:6: FutureWarning: Series.ravel is deprecated. The underlying array is already 1D, so ravel is not necessary.  Use `to_numpy()` for conversion to a numpy array instead.\n",
      "  ind         = np.argwhere(np.isnan(subsetgdf.m_water_vx).ravel()==False).flatten()\n"
     ]
    },
    {
     "name": "stdout",
     "output_type": "stream",
     "text": [
      "Finished Inversion 615 out of 1345 at 09/17/25 15:27:16\n",
      "Finished Writing Data 615 out of 1345 at 09/17/25 15:27:16\n"
     ]
    },
    {
     "name": "stderr",
     "output_type": "stream",
     "text": [
      "/var/folders/m9/d8bbz1wx4f50q99kfb1jv9pw0000gn/T/ipykernel_31286/2106180866.py:6: FutureWarning: Series.ravel is deprecated. The underlying array is already 1D, so ravel is not necessary.  Use `to_numpy()` for conversion to a numpy array instead.\n",
      "  ind         = np.argwhere(np.isnan(subsetgdf.m_water_vx).ravel()==False).flatten()\n"
     ]
    },
    {
     "name": "stdout",
     "output_type": "stream",
     "text": [
      "Finished Inversion 616 out of 1345 at 09/17/25 15:27:21\n",
      "Finished Writing Data 616 out of 1345 at 09/17/25 15:27:21\n"
     ]
    },
    {
     "name": "stderr",
     "output_type": "stream",
     "text": [
      "/var/folders/m9/d8bbz1wx4f50q99kfb1jv9pw0000gn/T/ipykernel_31286/2106180866.py:6: FutureWarning: Series.ravel is deprecated. The underlying array is already 1D, so ravel is not necessary.  Use `to_numpy()` for conversion to a numpy array instead.\n",
      "  ind         = np.argwhere(np.isnan(subsetgdf.m_water_vx).ravel()==False).flatten()\n"
     ]
    },
    {
     "name": "stdout",
     "output_type": "stream",
     "text": [
      "Finished Inversion 617 out of 1345 at 09/17/25 15:27:27\n",
      "Finished Writing Data 617 out of 1345 at 09/17/25 15:27:27\n"
     ]
    },
    {
     "name": "stderr",
     "output_type": "stream",
     "text": [
      "/var/folders/m9/d8bbz1wx4f50q99kfb1jv9pw0000gn/T/ipykernel_31286/2106180866.py:6: FutureWarning: Series.ravel is deprecated. The underlying array is already 1D, so ravel is not necessary.  Use `to_numpy()` for conversion to a numpy array instead.\n",
      "  ind         = np.argwhere(np.isnan(subsetgdf.m_water_vx).ravel()==False).flatten()\n"
     ]
    },
    {
     "name": "stdout",
     "output_type": "stream",
     "text": [
      "Finished Inversion 619 out of 1345 at 09/17/25 15:27:35\n",
      "Finished Writing Data 619 out of 1345 at 09/17/25 15:27:35\n"
     ]
    },
    {
     "name": "stderr",
     "output_type": "stream",
     "text": [
      "/var/folders/m9/d8bbz1wx4f50q99kfb1jv9pw0000gn/T/ipykernel_31286/2106180866.py:6: FutureWarning: Series.ravel is deprecated. The underlying array is already 1D, so ravel is not necessary.  Use `to_numpy()` for conversion to a numpy array instead.\n",
      "  ind         = np.argwhere(np.isnan(subsetgdf.m_water_vx).ravel()==False).flatten()\n"
     ]
    },
    {
     "name": "stdout",
     "output_type": "stream",
     "text": [
      "Finished Inversion 621 out of 1345 at 09/17/25 15:27:42\n",
      "Finished Writing Data 621 out of 1345 at 09/17/25 15:27:42\n"
     ]
    },
    {
     "name": "stderr",
     "output_type": "stream",
     "text": [
      "/var/folders/m9/d8bbz1wx4f50q99kfb1jv9pw0000gn/T/ipykernel_31286/2106180866.py:6: FutureWarning: Series.ravel is deprecated. The underlying array is already 1D, so ravel is not necessary.  Use `to_numpy()` for conversion to a numpy array instead.\n",
      "  ind         = np.argwhere(np.isnan(subsetgdf.m_water_vx).ravel()==False).flatten()\n"
     ]
    },
    {
     "name": "stdout",
     "output_type": "stream",
     "text": [
      "Finished Inversion 623 out of 1345 at 09/17/25 15:27:48\n",
      "Finished Writing Data 623 out of 1345 at 09/17/25 15:27:48\n"
     ]
    },
    {
     "name": "stderr",
     "output_type": "stream",
     "text": [
      "/var/folders/m9/d8bbz1wx4f50q99kfb1jv9pw0000gn/T/ipykernel_31286/2106180866.py:6: FutureWarning: Series.ravel is deprecated. The underlying array is already 1D, so ravel is not necessary.  Use `to_numpy()` for conversion to a numpy array instead.\n",
      "  ind         = np.argwhere(np.isnan(subsetgdf.m_water_vx).ravel()==False).flatten()\n"
     ]
    },
    {
     "name": "stdout",
     "output_type": "stream",
     "text": [
      "Finished Inversion 625 out of 1345 at 09/17/25 15:27:54\n",
      "Finished Writing Data 625 out of 1345 at 09/17/25 15:27:54\n"
     ]
    },
    {
     "name": "stderr",
     "output_type": "stream",
     "text": [
      "/var/folders/m9/d8bbz1wx4f50q99kfb1jv9pw0000gn/T/ipykernel_31286/2106180866.py:6: FutureWarning: Series.ravel is deprecated. The underlying array is already 1D, so ravel is not necessary.  Use `to_numpy()` for conversion to a numpy array instead.\n",
      "  ind         = np.argwhere(np.isnan(subsetgdf.m_water_vx).ravel()==False).flatten()\n"
     ]
    },
    {
     "name": "stdout",
     "output_type": "stream",
     "text": [
      "Finished Inversion 627 out of 1345 at 09/17/25 15:27:59\n",
      "Finished Writing Data 627 out of 1345 at 09/17/25 15:27:59\n"
     ]
    },
    {
     "name": "stderr",
     "output_type": "stream",
     "text": [
      "/var/folders/m9/d8bbz1wx4f50q99kfb1jv9pw0000gn/T/ipykernel_31286/2106180866.py:6: FutureWarning: Series.ravel is deprecated. The underlying array is already 1D, so ravel is not necessary.  Use `to_numpy()` for conversion to a numpy array instead.\n",
      "  ind         = np.argwhere(np.isnan(subsetgdf.m_water_vx).ravel()==False).flatten()\n"
     ]
    },
    {
     "name": "stdout",
     "output_type": "stream",
     "text": [
      "Finished Inversion 629 out of 1345 at 09/17/25 15:28:05\n",
      "Finished Writing Data 629 out of 1345 at 09/17/25 15:28:05\n"
     ]
    },
    {
     "name": "stderr",
     "output_type": "stream",
     "text": [
      "/var/folders/m9/d8bbz1wx4f50q99kfb1jv9pw0000gn/T/ipykernel_31286/2106180866.py:6: FutureWarning: Series.ravel is deprecated. The underlying array is already 1D, so ravel is not necessary.  Use `to_numpy()` for conversion to a numpy array instead.\n",
      "  ind         = np.argwhere(np.isnan(subsetgdf.m_water_vx).ravel()==False).flatten()\n"
     ]
    },
    {
     "name": "stdout",
     "output_type": "stream",
     "text": [
      "Finished Inversion 631 out of 1345 at 09/17/25 15:28:10\n",
      "Finished Writing Data 631 out of 1345 at 09/17/25 15:28:10\n"
     ]
    },
    {
     "name": "stderr",
     "output_type": "stream",
     "text": [
      "/var/folders/m9/d8bbz1wx4f50q99kfb1jv9pw0000gn/T/ipykernel_31286/2106180866.py:6: FutureWarning: Series.ravel is deprecated. The underlying array is already 1D, so ravel is not necessary.  Use `to_numpy()` for conversion to a numpy array instead.\n",
      "  ind         = np.argwhere(np.isnan(subsetgdf.m_water_vx).ravel()==False).flatten()\n"
     ]
    },
    {
     "name": "stdout",
     "output_type": "stream",
     "text": [
      "Finished Inversion 633 out of 1345 at 09/17/25 15:28:16\n",
      "Finished Writing Data 633 out of 1345 at 09/17/25 15:28:16\n"
     ]
    },
    {
     "name": "stderr",
     "output_type": "stream",
     "text": [
      "/var/folders/m9/d8bbz1wx4f50q99kfb1jv9pw0000gn/T/ipykernel_31286/2106180866.py:6: FutureWarning: Series.ravel is deprecated. The underlying array is already 1D, so ravel is not necessary.  Use `to_numpy()` for conversion to a numpy array instead.\n",
      "  ind         = np.argwhere(np.isnan(subsetgdf.m_water_vx).ravel()==False).flatten()\n"
     ]
    },
    {
     "name": "stdout",
     "output_type": "stream",
     "text": [
      "Finished Inversion 636 out of 1345 at 09/17/25 15:28:21\n",
      "Finished Writing Data 636 out of 1345 at 09/17/25 15:28:21\n"
     ]
    },
    {
     "name": "stderr",
     "output_type": "stream",
     "text": [
      "/var/folders/m9/d8bbz1wx4f50q99kfb1jv9pw0000gn/T/ipykernel_31286/2106180866.py:6: FutureWarning: Series.ravel is deprecated. The underlying array is already 1D, so ravel is not necessary.  Use `to_numpy()` for conversion to a numpy array instead.\n",
      "  ind         = np.argwhere(np.isnan(subsetgdf.m_water_vx).ravel()==False).flatten()\n"
     ]
    },
    {
     "name": "stdout",
     "output_type": "stream",
     "text": [
      "Finished Inversion 638 out of 1345 at 09/17/25 15:28:27\n",
      "Finished Writing Data 638 out of 1345 at 09/17/25 15:28:27\n"
     ]
    },
    {
     "name": "stderr",
     "output_type": "stream",
     "text": [
      "/var/folders/m9/d8bbz1wx4f50q99kfb1jv9pw0000gn/T/ipykernel_31286/2106180866.py:6: FutureWarning: Series.ravel is deprecated. The underlying array is already 1D, so ravel is not necessary.  Use `to_numpy()` for conversion to a numpy array instead.\n",
      "  ind         = np.argwhere(np.isnan(subsetgdf.m_water_vx).ravel()==False).flatten()\n"
     ]
    },
    {
     "name": "stdout",
     "output_type": "stream",
     "text": [
      "Finished Inversion 640 out of 1345 at 09/17/25 15:28:34\n",
      "Finished Writing Data 640 out of 1345 at 09/17/25 15:28:34\n"
     ]
    },
    {
     "name": "stderr",
     "output_type": "stream",
     "text": [
      "/var/folders/m9/d8bbz1wx4f50q99kfb1jv9pw0000gn/T/ipykernel_31286/2106180866.py:6: FutureWarning: Series.ravel is deprecated. The underlying array is already 1D, so ravel is not necessary.  Use `to_numpy()` for conversion to a numpy array instead.\n",
      "  ind         = np.argwhere(np.isnan(subsetgdf.m_water_vx).ravel()==False).flatten()\n"
     ]
    },
    {
     "name": "stdout",
     "output_type": "stream",
     "text": [
      "Finished Inversion 642 out of 1345 at 09/17/25 15:28:40\n",
      "Finished Writing Data 642 out of 1345 at 09/17/25 15:28:40\n"
     ]
    },
    {
     "name": "stderr",
     "output_type": "stream",
     "text": [
      "/var/folders/m9/d8bbz1wx4f50q99kfb1jv9pw0000gn/T/ipykernel_31286/2106180866.py:6: FutureWarning: Series.ravel is deprecated. The underlying array is already 1D, so ravel is not necessary.  Use `to_numpy()` for conversion to a numpy array instead.\n",
      "  ind         = np.argwhere(np.isnan(subsetgdf.m_water_vx).ravel()==False).flatten()\n"
     ]
    },
    {
     "name": "stdout",
     "output_type": "stream",
     "text": [
      "Finished Inversion 644 out of 1345 at 09/17/25 15:28:45\n",
      "Finished Writing Data 644 out of 1345 at 09/17/25 15:28:45\n"
     ]
    },
    {
     "name": "stderr",
     "output_type": "stream",
     "text": [
      "/var/folders/m9/d8bbz1wx4f50q99kfb1jv9pw0000gn/T/ipykernel_31286/2106180866.py:6: FutureWarning: Series.ravel is deprecated. The underlying array is already 1D, so ravel is not necessary.  Use `to_numpy()` for conversion to a numpy array instead.\n",
      "  ind         = np.argwhere(np.isnan(subsetgdf.m_water_vx).ravel()==False).flatten()\n"
     ]
    },
    {
     "name": "stdout",
     "output_type": "stream",
     "text": [
      "Finished Inversion 645 out of 1345 at 09/17/25 15:28:51\n",
      "Finished Writing Data 645 out of 1345 at 09/17/25 15:28:51\n"
     ]
    },
    {
     "name": "stderr",
     "output_type": "stream",
     "text": [
      "/var/folders/m9/d8bbz1wx4f50q99kfb1jv9pw0000gn/T/ipykernel_31286/2106180866.py:6: FutureWarning: Series.ravel is deprecated. The underlying array is already 1D, so ravel is not necessary.  Use `to_numpy()` for conversion to a numpy array instead.\n",
      "  ind         = np.argwhere(np.isnan(subsetgdf.m_water_vx).ravel()==False).flatten()\n"
     ]
    },
    {
     "name": "stdout",
     "output_type": "stream",
     "text": [
      "Finished Inversion 647 out of 1345 at 09/17/25 15:28:56\n",
      "Finished Writing Data 647 out of 1345 at 09/17/25 15:28:56\n"
     ]
    },
    {
     "name": "stderr",
     "output_type": "stream",
     "text": [
      "/var/folders/m9/d8bbz1wx4f50q99kfb1jv9pw0000gn/T/ipykernel_31286/2106180866.py:6: FutureWarning: Series.ravel is deprecated. The underlying array is already 1D, so ravel is not necessary.  Use `to_numpy()` for conversion to a numpy array instead.\n",
      "  ind         = np.argwhere(np.isnan(subsetgdf.m_water_vx).ravel()==False).flatten()\n"
     ]
    },
    {
     "name": "stdout",
     "output_type": "stream",
     "text": [
      "Finished Inversion 649 out of 1345 at 09/17/25 15:29:53\n",
      "Finished Writing Data 649 out of 1345 at 09/17/25 15:29:53\n"
     ]
    },
    {
     "name": "stderr",
     "output_type": "stream",
     "text": [
      "/var/folders/m9/d8bbz1wx4f50q99kfb1jv9pw0000gn/T/ipykernel_31286/2106180866.py:6: FutureWarning: Series.ravel is deprecated. The underlying array is already 1D, so ravel is not necessary.  Use `to_numpy()` for conversion to a numpy array instead.\n",
      "  ind         = np.argwhere(np.isnan(subsetgdf.m_water_vx).ravel()==False).flatten()\n"
     ]
    },
    {
     "name": "stdout",
     "output_type": "stream",
     "text": [
      "Finished Inversion 651 out of 1345 at 09/17/25 15:30:00\n",
      "Finished Writing Data 651 out of 1345 at 09/17/25 15:30:00\n"
     ]
    },
    {
     "name": "stderr",
     "output_type": "stream",
     "text": [
      "/var/folders/m9/d8bbz1wx4f50q99kfb1jv9pw0000gn/T/ipykernel_31286/2106180866.py:6: FutureWarning: Series.ravel is deprecated. The underlying array is already 1D, so ravel is not necessary.  Use `to_numpy()` for conversion to a numpy array instead.\n",
      "  ind         = np.argwhere(np.isnan(subsetgdf.m_water_vx).ravel()==False).flatten()\n"
     ]
    },
    {
     "name": "stdout",
     "output_type": "stream",
     "text": [
      "Finished Inversion 653 out of 1345 at 09/17/25 15:30:07\n",
      "Finished Writing Data 653 out of 1345 at 09/17/25 15:30:07\n"
     ]
    },
    {
     "name": "stderr",
     "output_type": "stream",
     "text": [
      "/var/folders/m9/d8bbz1wx4f50q99kfb1jv9pw0000gn/T/ipykernel_31286/2106180866.py:6: FutureWarning: Series.ravel is deprecated. The underlying array is already 1D, so ravel is not necessary.  Use `to_numpy()` for conversion to a numpy array instead.\n",
      "  ind         = np.argwhere(np.isnan(subsetgdf.m_water_vx).ravel()==False).flatten()\n"
     ]
    },
    {
     "name": "stdout",
     "output_type": "stream",
     "text": [
      "Finished Inversion 655 out of 1345 at 09/17/25 15:30:14\n",
      "Finished Writing Data 655 out of 1345 at 09/17/25 15:30:14\n"
     ]
    },
    {
     "name": "stderr",
     "output_type": "stream",
     "text": [
      "/var/folders/m9/d8bbz1wx4f50q99kfb1jv9pw0000gn/T/ipykernel_31286/2106180866.py:6: FutureWarning: Series.ravel is deprecated. The underlying array is already 1D, so ravel is not necessary.  Use `to_numpy()` for conversion to a numpy array instead.\n",
      "  ind         = np.argwhere(np.isnan(subsetgdf.m_water_vx).ravel()==False).flatten()\n"
     ]
    },
    {
     "name": "stdout",
     "output_type": "stream",
     "text": [
      "Finished Inversion 658 out of 1345 at 09/17/25 15:30:20\n",
      "Finished Writing Data 658 out of 1345 at 09/17/25 15:30:20\n"
     ]
    },
    {
     "name": "stderr",
     "output_type": "stream",
     "text": [
      "/var/folders/m9/d8bbz1wx4f50q99kfb1jv9pw0000gn/T/ipykernel_31286/2106180866.py:6: FutureWarning: Series.ravel is deprecated. The underlying array is already 1D, so ravel is not necessary.  Use `to_numpy()` for conversion to a numpy array instead.\n",
      "  ind         = np.argwhere(np.isnan(subsetgdf.m_water_vx).ravel()==False).flatten()\n"
     ]
    },
    {
     "name": "stdout",
     "output_type": "stream",
     "text": [
      "Finished Inversion 660 out of 1345 at 09/17/25 15:30:25\n",
      "Finished Writing Data 660 out of 1345 at 09/17/25 15:30:25\n"
     ]
    },
    {
     "name": "stderr",
     "output_type": "stream",
     "text": [
      "/var/folders/m9/d8bbz1wx4f50q99kfb1jv9pw0000gn/T/ipykernel_31286/2106180866.py:6: FutureWarning: Series.ravel is deprecated. The underlying array is already 1D, so ravel is not necessary.  Use `to_numpy()` for conversion to a numpy array instead.\n",
      "  ind         = np.argwhere(np.isnan(subsetgdf.m_water_vx).ravel()==False).flatten()\n"
     ]
    },
    {
     "name": "stdout",
     "output_type": "stream",
     "text": [
      "Finished Inversion 662 out of 1345 at 09/17/25 15:30:31\n",
      "Finished Writing Data 662 out of 1345 at 09/17/25 15:30:31\n"
     ]
    },
    {
     "name": "stderr",
     "output_type": "stream",
     "text": [
      "/var/folders/m9/d8bbz1wx4f50q99kfb1jv9pw0000gn/T/ipykernel_31286/2106180866.py:6: FutureWarning: Series.ravel is deprecated. The underlying array is already 1D, so ravel is not necessary.  Use `to_numpy()` for conversion to a numpy array instead.\n",
      "  ind         = np.argwhere(np.isnan(subsetgdf.m_water_vx).ravel()==False).flatten()\n"
     ]
    },
    {
     "name": "stdout",
     "output_type": "stream",
     "text": [
      "Finished Inversion 664 out of 1345 at 09/17/25 15:30:38\n",
      "Finished Writing Data 664 out of 1345 at 09/17/25 15:30:38\n"
     ]
    },
    {
     "name": "stderr",
     "output_type": "stream",
     "text": [
      "/var/folders/m9/d8bbz1wx4f50q99kfb1jv9pw0000gn/T/ipykernel_31286/2106180866.py:6: FutureWarning: Series.ravel is deprecated. The underlying array is already 1D, so ravel is not necessary.  Use `to_numpy()` for conversion to a numpy array instead.\n",
      "  ind         = np.argwhere(np.isnan(subsetgdf.m_water_vx).ravel()==False).flatten()\n"
     ]
    },
    {
     "name": "stdout",
     "output_type": "stream",
     "text": [
      "Finished Inversion 665 out of 1345 at 09/17/25 15:30:46\n",
      "Finished Writing Data 665 out of 1345 at 09/17/25 15:30:46\n"
     ]
    },
    {
     "name": "stderr",
     "output_type": "stream",
     "text": [
      "/var/folders/m9/d8bbz1wx4f50q99kfb1jv9pw0000gn/T/ipykernel_31286/2106180866.py:6: FutureWarning: Series.ravel is deprecated. The underlying array is already 1D, so ravel is not necessary.  Use `to_numpy()` for conversion to a numpy array instead.\n",
      "  ind         = np.argwhere(np.isnan(subsetgdf.m_water_vx).ravel()==False).flatten()\n"
     ]
    },
    {
     "name": "stdout",
     "output_type": "stream",
     "text": [
      "Finished Inversion 667 out of 1345 at 09/17/25 15:30:51\n",
      "Finished Writing Data 667 out of 1345 at 09/17/25 15:30:51\n"
     ]
    },
    {
     "name": "stderr",
     "output_type": "stream",
     "text": [
      "/var/folders/m9/d8bbz1wx4f50q99kfb1jv9pw0000gn/T/ipykernel_31286/2106180866.py:6: FutureWarning: Series.ravel is deprecated. The underlying array is already 1D, so ravel is not necessary.  Use `to_numpy()` for conversion to a numpy array instead.\n",
      "  ind         = np.argwhere(np.isnan(subsetgdf.m_water_vx).ravel()==False).flatten()\n"
     ]
    },
    {
     "name": "stdout",
     "output_type": "stream",
     "text": [
      "Finished Inversion 668 out of 1345 at 09/17/25 15:31:00\n",
      "Finished Writing Data 668 out of 1345 at 09/17/25 15:31:00\n"
     ]
    },
    {
     "name": "stderr",
     "output_type": "stream",
     "text": [
      "/var/folders/m9/d8bbz1wx4f50q99kfb1jv9pw0000gn/T/ipykernel_31286/2106180866.py:6: FutureWarning: Series.ravel is deprecated. The underlying array is already 1D, so ravel is not necessary.  Use `to_numpy()` for conversion to a numpy array instead.\n",
      "  ind         = np.argwhere(np.isnan(subsetgdf.m_water_vx).ravel()==False).flatten()\n"
     ]
    },
    {
     "name": "stdout",
     "output_type": "stream",
     "text": [
      "Finished Inversion 670 out of 1345 at 09/17/25 15:31:09\n",
      "Finished Writing Data 670 out of 1345 at 09/17/25 15:31:09\n"
     ]
    },
    {
     "name": "stderr",
     "output_type": "stream",
     "text": [
      "/var/folders/m9/d8bbz1wx4f50q99kfb1jv9pw0000gn/T/ipykernel_31286/2106180866.py:6: FutureWarning: Series.ravel is deprecated. The underlying array is already 1D, so ravel is not necessary.  Use `to_numpy()` for conversion to a numpy array instead.\n",
      "  ind         = np.argwhere(np.isnan(subsetgdf.m_water_vx).ravel()==False).flatten()\n"
     ]
    },
    {
     "name": "stdout",
     "output_type": "stream",
     "text": [
      "Finished Inversion 672 out of 1345 at 09/17/25 15:31:17\n",
      "Finished Writing Data 672 out of 1345 at 09/17/25 15:31:17\n"
     ]
    },
    {
     "name": "stderr",
     "output_type": "stream",
     "text": [
      "/var/folders/m9/d8bbz1wx4f50q99kfb1jv9pw0000gn/T/ipykernel_31286/2106180866.py:6: FutureWarning: Series.ravel is deprecated. The underlying array is already 1D, so ravel is not necessary.  Use `to_numpy()` for conversion to a numpy array instead.\n",
      "  ind         = np.argwhere(np.isnan(subsetgdf.m_water_vx).ravel()==False).flatten()\n"
     ]
    },
    {
     "name": "stdout",
     "output_type": "stream",
     "text": [
      "Finished Inversion 674 out of 1345 at 09/17/25 15:31:26\n",
      "Finished Writing Data 674 out of 1345 at 09/17/25 15:31:26\n"
     ]
    },
    {
     "name": "stderr",
     "output_type": "stream",
     "text": [
      "/var/folders/m9/d8bbz1wx4f50q99kfb1jv9pw0000gn/T/ipykernel_31286/2106180866.py:6: FutureWarning: Series.ravel is deprecated. The underlying array is already 1D, so ravel is not necessary.  Use `to_numpy()` for conversion to a numpy array instead.\n",
      "  ind         = np.argwhere(np.isnan(subsetgdf.m_water_vx).ravel()==False).flatten()\n"
     ]
    },
    {
     "name": "stdout",
     "output_type": "stream",
     "text": [
      "Finished Inversion 676 out of 1345 at 09/17/25 15:31:34\n",
      "Finished Writing Data 676 out of 1345 at 09/17/25 15:31:34\n"
     ]
    },
    {
     "name": "stderr",
     "output_type": "stream",
     "text": [
      "/var/folders/m9/d8bbz1wx4f50q99kfb1jv9pw0000gn/T/ipykernel_31286/2106180866.py:6: FutureWarning: Series.ravel is deprecated. The underlying array is already 1D, so ravel is not necessary.  Use `to_numpy()` for conversion to a numpy array instead.\n",
      "  ind         = np.argwhere(np.isnan(subsetgdf.m_water_vx).ravel()==False).flatten()\n"
     ]
    },
    {
     "name": "stdout",
     "output_type": "stream",
     "text": [
      "Finished Inversion 679 out of 1345 at 09/17/25 15:31:42\n",
      "Finished Writing Data 679 out of 1345 at 09/17/25 15:31:42\n"
     ]
    },
    {
     "name": "stderr",
     "output_type": "stream",
     "text": [
      "/var/folders/m9/d8bbz1wx4f50q99kfb1jv9pw0000gn/T/ipykernel_31286/2106180866.py:6: FutureWarning: Series.ravel is deprecated. The underlying array is already 1D, so ravel is not necessary.  Use `to_numpy()` for conversion to a numpy array instead.\n",
      "  ind         = np.argwhere(np.isnan(subsetgdf.m_water_vx).ravel()==False).flatten()\n"
     ]
    },
    {
     "name": "stdout",
     "output_type": "stream",
     "text": [
      "Finished Inversion 681 out of 1345 at 09/17/25 15:31:51\n",
      "Finished Writing Data 681 out of 1345 at 09/17/25 15:31:51\n"
     ]
    },
    {
     "name": "stderr",
     "output_type": "stream",
     "text": [
      "/var/folders/m9/d8bbz1wx4f50q99kfb1jv9pw0000gn/T/ipykernel_31286/2106180866.py:6: FutureWarning: Series.ravel is deprecated. The underlying array is already 1D, so ravel is not necessary.  Use `to_numpy()` for conversion to a numpy array instead.\n",
      "  ind         = np.argwhere(np.isnan(subsetgdf.m_water_vx).ravel()==False).flatten()\n"
     ]
    },
    {
     "name": "stdout",
     "output_type": "stream",
     "text": [
      "Finished Inversion 683 out of 1345 at 09/17/25 15:31:56\n",
      "Finished Writing Data 683 out of 1345 at 09/17/25 15:31:56\n"
     ]
    },
    {
     "name": "stderr",
     "output_type": "stream",
     "text": [
      "/var/folders/m9/d8bbz1wx4f50q99kfb1jv9pw0000gn/T/ipykernel_31286/2106180866.py:6: FutureWarning: Series.ravel is deprecated. The underlying array is already 1D, so ravel is not necessary.  Use `to_numpy()` for conversion to a numpy array instead.\n",
      "  ind         = np.argwhere(np.isnan(subsetgdf.m_water_vx).ravel()==False).flatten()\n"
     ]
    },
    {
     "name": "stdout",
     "output_type": "stream",
     "text": [
      "Finished Inversion 685 out of 1345 at 09/17/25 15:32:05\n",
      "Finished Writing Data 685 out of 1345 at 09/17/25 15:32:05\n"
     ]
    },
    {
     "name": "stderr",
     "output_type": "stream",
     "text": [
      "/var/folders/m9/d8bbz1wx4f50q99kfb1jv9pw0000gn/T/ipykernel_31286/2106180866.py:6: FutureWarning: Series.ravel is deprecated. The underlying array is already 1D, so ravel is not necessary.  Use `to_numpy()` for conversion to a numpy array instead.\n",
      "  ind         = np.argwhere(np.isnan(subsetgdf.m_water_vx).ravel()==False).flatten()\n"
     ]
    },
    {
     "name": "stdout",
     "output_type": "stream",
     "text": [
      "Finished Inversion 687 out of 1345 at 09/17/25 15:32:14\n",
      "Finished Writing Data 687 out of 1345 at 09/17/25 15:32:14\n"
     ]
    },
    {
     "name": "stderr",
     "output_type": "stream",
     "text": [
      "/var/folders/m9/d8bbz1wx4f50q99kfb1jv9pw0000gn/T/ipykernel_31286/2106180866.py:6: FutureWarning: Series.ravel is deprecated. The underlying array is already 1D, so ravel is not necessary.  Use `to_numpy()` for conversion to a numpy array instead.\n",
      "  ind         = np.argwhere(np.isnan(subsetgdf.m_water_vx).ravel()==False).flatten()\n"
     ]
    },
    {
     "name": "stdout",
     "output_type": "stream",
     "text": [
      "Finished Inversion 690 out of 1345 at 09/17/25 15:32:23\n",
      "Finished Writing Data 690 out of 1345 at 09/17/25 15:32:23\n"
     ]
    },
    {
     "name": "stderr",
     "output_type": "stream",
     "text": [
      "/var/folders/m9/d8bbz1wx4f50q99kfb1jv9pw0000gn/T/ipykernel_31286/2106180866.py:6: FutureWarning: Series.ravel is deprecated. The underlying array is already 1D, so ravel is not necessary.  Use `to_numpy()` for conversion to a numpy array instead.\n",
      "  ind         = np.argwhere(np.isnan(subsetgdf.m_water_vx).ravel()==False).flatten()\n"
     ]
    },
    {
     "name": "stdout",
     "output_type": "stream",
     "text": [
      "Finished Inversion 692 out of 1345 at 09/17/25 15:32:31\n",
      "Finished Writing Data 692 out of 1345 at 09/17/25 15:32:31\n"
     ]
    },
    {
     "name": "stderr",
     "output_type": "stream",
     "text": [
      "/var/folders/m9/d8bbz1wx4f50q99kfb1jv9pw0000gn/T/ipykernel_31286/2106180866.py:6: FutureWarning: Series.ravel is deprecated. The underlying array is already 1D, so ravel is not necessary.  Use `to_numpy()` for conversion to a numpy array instead.\n",
      "  ind         = np.argwhere(np.isnan(subsetgdf.m_water_vx).ravel()==False).flatten()\n"
     ]
    },
    {
     "name": "stdout",
     "output_type": "stream",
     "text": [
      "Finished Inversion 694 out of 1345 at 09/17/25 15:32:39\n",
      "Finished Writing Data 694 out of 1345 at 09/17/25 15:32:39\n"
     ]
    },
    {
     "name": "stderr",
     "output_type": "stream",
     "text": [
      "/var/folders/m9/d8bbz1wx4f50q99kfb1jv9pw0000gn/T/ipykernel_31286/2106180866.py:6: FutureWarning: Series.ravel is deprecated. The underlying array is already 1D, so ravel is not necessary.  Use `to_numpy()` for conversion to a numpy array instead.\n",
      "  ind         = np.argwhere(np.isnan(subsetgdf.m_water_vx).ravel()==False).flatten()\n"
     ]
    },
    {
     "name": "stdout",
     "output_type": "stream",
     "text": [
      "Finished Inversion 696 out of 1345 at 09/17/25 15:32:47\n",
      "Finished Writing Data 696 out of 1345 at 09/17/25 15:32:47\n"
     ]
    },
    {
     "name": "stderr",
     "output_type": "stream",
     "text": [
      "/var/folders/m9/d8bbz1wx4f50q99kfb1jv9pw0000gn/T/ipykernel_31286/2106180866.py:6: FutureWarning: Series.ravel is deprecated. The underlying array is already 1D, so ravel is not necessary.  Use `to_numpy()` for conversion to a numpy array instead.\n",
      "  ind         = np.argwhere(np.isnan(subsetgdf.m_water_vx).ravel()==False).flatten()\n"
     ]
    },
    {
     "name": "stdout",
     "output_type": "stream",
     "text": [
      "Finished Inversion 698 out of 1345 at 09/17/25 15:32:56\n",
      "Finished Writing Data 698 out of 1345 at 09/17/25 15:32:56\n"
     ]
    },
    {
     "name": "stderr",
     "output_type": "stream",
     "text": [
      "/var/folders/m9/d8bbz1wx4f50q99kfb1jv9pw0000gn/T/ipykernel_31286/2106180866.py:6: FutureWarning: Series.ravel is deprecated. The underlying array is already 1D, so ravel is not necessary.  Use `to_numpy()` for conversion to a numpy array instead.\n",
      "  ind         = np.argwhere(np.isnan(subsetgdf.m_water_vx).ravel()==False).flatten()\n"
     ]
    },
    {
     "name": "stdout",
     "output_type": "stream",
     "text": [
      "Finished Inversion 700 out of 1345 at 09/17/25 15:33:01\n",
      "Finished Writing Data 700 out of 1345 at 09/17/25 15:33:01\n"
     ]
    },
    {
     "name": "stderr",
     "output_type": "stream",
     "text": [
      "/var/folders/m9/d8bbz1wx4f50q99kfb1jv9pw0000gn/T/ipykernel_31286/2106180866.py:6: FutureWarning: Series.ravel is deprecated. The underlying array is already 1D, so ravel is not necessary.  Use `to_numpy()` for conversion to a numpy array instead.\n",
      "  ind         = np.argwhere(np.isnan(subsetgdf.m_water_vx).ravel()==False).flatten()\n"
     ]
    },
    {
     "name": "stdout",
     "output_type": "stream",
     "text": [
      "Finished Inversion 701 out of 1345 at 09/17/25 15:33:09\n",
      "Finished Writing Data 701 out of 1345 at 09/17/25 15:33:09\n"
     ]
    },
    {
     "name": "stderr",
     "output_type": "stream",
     "text": [
      "/var/folders/m9/d8bbz1wx4f50q99kfb1jv9pw0000gn/T/ipykernel_31286/2106180866.py:6: FutureWarning: Series.ravel is deprecated. The underlying array is already 1D, so ravel is not necessary.  Use `to_numpy()` for conversion to a numpy array instead.\n",
      "  ind         = np.argwhere(np.isnan(subsetgdf.m_water_vx).ravel()==False).flatten()\n"
     ]
    },
    {
     "name": "stdout",
     "output_type": "stream",
     "text": [
      "Finished Inversion 703 out of 1345 at 09/17/25 15:33:17\n",
      "Finished Writing Data 703 out of 1345 at 09/17/25 15:33:18\n"
     ]
    },
    {
     "name": "stderr",
     "output_type": "stream",
     "text": [
      "/var/folders/m9/d8bbz1wx4f50q99kfb1jv9pw0000gn/T/ipykernel_31286/2106180866.py:6: FutureWarning: Series.ravel is deprecated. The underlying array is already 1D, so ravel is not necessary.  Use `to_numpy()` for conversion to a numpy array instead.\n",
      "  ind         = np.argwhere(np.isnan(subsetgdf.m_water_vx).ravel()==False).flatten()\n"
     ]
    },
    {
     "name": "stdout",
     "output_type": "stream",
     "text": [
      "Finished Inversion 705 out of 1345 at 09/17/25 15:33:26\n",
      "Finished Writing Data 705 out of 1345 at 09/17/25 15:33:26\n"
     ]
    },
    {
     "name": "stderr",
     "output_type": "stream",
     "text": [
      "/var/folders/m9/d8bbz1wx4f50q99kfb1jv9pw0000gn/T/ipykernel_31286/2106180866.py:6: FutureWarning: Series.ravel is deprecated. The underlying array is already 1D, so ravel is not necessary.  Use `to_numpy()` for conversion to a numpy array instead.\n",
      "  ind         = np.argwhere(np.isnan(subsetgdf.m_water_vx).ravel()==False).flatten()\n"
     ]
    },
    {
     "name": "stdout",
     "output_type": "stream",
     "text": [
      "Finished Inversion 707 out of 1345 at 09/17/25 15:33:35\n",
      "Finished Writing Data 707 out of 1345 at 09/17/25 15:33:35\n"
     ]
    },
    {
     "name": "stderr",
     "output_type": "stream",
     "text": [
      "/var/folders/m9/d8bbz1wx4f50q99kfb1jv9pw0000gn/T/ipykernel_31286/2106180866.py:6: FutureWarning: Series.ravel is deprecated. The underlying array is already 1D, so ravel is not necessary.  Use `to_numpy()` for conversion to a numpy array instead.\n",
      "  ind         = np.argwhere(np.isnan(subsetgdf.m_water_vx).ravel()==False).flatten()\n"
     ]
    },
    {
     "name": "stdout",
     "output_type": "stream",
     "text": [
      "Finished Inversion 709 out of 1345 at 09/17/25 15:33:47\n",
      "Finished Writing Data 709 out of 1345 at 09/17/25 15:33:47\n"
     ]
    },
    {
     "name": "stderr",
     "output_type": "stream",
     "text": [
      "/var/folders/m9/d8bbz1wx4f50q99kfb1jv9pw0000gn/T/ipykernel_31286/2106180866.py:6: FutureWarning: Series.ravel is deprecated. The underlying array is already 1D, so ravel is not necessary.  Use `to_numpy()` for conversion to a numpy array instead.\n",
      "  ind         = np.argwhere(np.isnan(subsetgdf.m_water_vx).ravel()==False).flatten()\n"
     ]
    },
    {
     "name": "stdout",
     "output_type": "stream",
     "text": [
      "Finished Inversion 712 out of 1345 at 09/17/25 15:34:04\n",
      "Finished Writing Data 712 out of 1345 at 09/17/25 15:34:04\n"
     ]
    },
    {
     "name": "stderr",
     "output_type": "stream",
     "text": [
      "/var/folders/m9/d8bbz1wx4f50q99kfb1jv9pw0000gn/T/ipykernel_31286/2106180866.py:6: FutureWarning: Series.ravel is deprecated. The underlying array is already 1D, so ravel is not necessary.  Use `to_numpy()` for conversion to a numpy array instead.\n",
      "  ind         = np.argwhere(np.isnan(subsetgdf.m_water_vx).ravel()==False).flatten()\n"
     ]
    },
    {
     "name": "stdout",
     "output_type": "stream",
     "text": [
      "Finished Inversion 714 out of 1345 at 09/17/25 15:34:21\n",
      "Finished Writing Data 714 out of 1345 at 09/17/25 15:34:21\n"
     ]
    },
    {
     "name": "stderr",
     "output_type": "stream",
     "text": [
      "/var/folders/m9/d8bbz1wx4f50q99kfb1jv9pw0000gn/T/ipykernel_31286/2106180866.py:6: FutureWarning: Series.ravel is deprecated. The underlying array is already 1D, so ravel is not necessary.  Use `to_numpy()` for conversion to a numpy array instead.\n",
      "  ind         = np.argwhere(np.isnan(subsetgdf.m_water_vx).ravel()==False).flatten()\n"
     ]
    },
    {
     "name": "stdout",
     "output_type": "stream",
     "text": [
      "Finished Inversion 716 out of 1345 at 09/17/25 15:34:38\n",
      "Finished Writing Data 716 out of 1345 at 09/17/25 15:34:38\n"
     ]
    },
    {
     "name": "stderr",
     "output_type": "stream",
     "text": [
      "/var/folders/m9/d8bbz1wx4f50q99kfb1jv9pw0000gn/T/ipykernel_31286/2106180866.py:6: FutureWarning: Series.ravel is deprecated. The underlying array is already 1D, so ravel is not necessary.  Use `to_numpy()` for conversion to a numpy array instead.\n",
      "  ind         = np.argwhere(np.isnan(subsetgdf.m_water_vx).ravel()==False).flatten()\n"
     ]
    },
    {
     "name": "stdout",
     "output_type": "stream",
     "text": [
      "Finished Inversion 718 out of 1345 at 09/17/25 15:34:55\n",
      "Finished Writing Data 718 out of 1345 at 09/17/25 15:34:55\n"
     ]
    },
    {
     "name": "stderr",
     "output_type": "stream",
     "text": [
      "/var/folders/m9/d8bbz1wx4f50q99kfb1jv9pw0000gn/T/ipykernel_31286/2106180866.py:6: FutureWarning: Series.ravel is deprecated. The underlying array is already 1D, so ravel is not necessary.  Use `to_numpy()` for conversion to a numpy array instead.\n",
      "  ind         = np.argwhere(np.isnan(subsetgdf.m_water_vx).ravel()==False).flatten()\n"
     ]
    },
    {
     "name": "stdout",
     "output_type": "stream",
     "text": [
      "Finished Inversion 720 out of 1345 at 09/17/25 15:35:10\n",
      "Finished Writing Data 720 out of 1345 at 09/17/25 15:35:10\n"
     ]
    },
    {
     "name": "stderr",
     "output_type": "stream",
     "text": [
      "/var/folders/m9/d8bbz1wx4f50q99kfb1jv9pw0000gn/T/ipykernel_31286/2106180866.py:6: FutureWarning: Series.ravel is deprecated. The underlying array is already 1D, so ravel is not necessary.  Use `to_numpy()` for conversion to a numpy array instead.\n",
      "  ind         = np.argwhere(np.isnan(subsetgdf.m_water_vx).ravel()==False).flatten()\n"
     ]
    },
    {
     "name": "stdout",
     "output_type": "stream",
     "text": [
      "Finished Inversion 722 out of 1345 at 09/17/25 15:35:24\n",
      "Finished Writing Data 722 out of 1345 at 09/17/25 15:35:24\n"
     ]
    },
    {
     "name": "stderr",
     "output_type": "stream",
     "text": [
      "/var/folders/m9/d8bbz1wx4f50q99kfb1jv9pw0000gn/T/ipykernel_31286/2106180866.py:6: FutureWarning: Series.ravel is deprecated. The underlying array is already 1D, so ravel is not necessary.  Use `to_numpy()` for conversion to a numpy array instead.\n",
      "  ind         = np.argwhere(np.isnan(subsetgdf.m_water_vx).ravel()==False).flatten()\n"
     ]
    },
    {
     "name": "stdout",
     "output_type": "stream",
     "text": [
      "Finished Inversion 723 out of 1345 at 09/17/25 15:35:39\n",
      "Finished Writing Data 723 out of 1345 at 09/17/25 15:35:39\n"
     ]
    },
    {
     "name": "stderr",
     "output_type": "stream",
     "text": [
      "/var/folders/m9/d8bbz1wx4f50q99kfb1jv9pw0000gn/T/ipykernel_31286/2106180866.py:6: FutureWarning: Series.ravel is deprecated. The underlying array is already 1D, so ravel is not necessary.  Use `to_numpy()` for conversion to a numpy array instead.\n",
      "  ind         = np.argwhere(np.isnan(subsetgdf.m_water_vx).ravel()==False).flatten()\n"
     ]
    },
    {
     "name": "stdout",
     "output_type": "stream",
     "text": [
      "Finished Inversion 725 out of 1345 at 09/17/25 15:35:54\n",
      "Finished Writing Data 725 out of 1345 at 09/17/25 15:35:54\n"
     ]
    },
    {
     "name": "stderr",
     "output_type": "stream",
     "text": [
      "/var/folders/m9/d8bbz1wx4f50q99kfb1jv9pw0000gn/T/ipykernel_31286/2106180866.py:6: FutureWarning: Series.ravel is deprecated. The underlying array is already 1D, so ravel is not necessary.  Use `to_numpy()` for conversion to a numpy array instead.\n",
      "  ind         = np.argwhere(np.isnan(subsetgdf.m_water_vx).ravel()==False).flatten()\n"
     ]
    },
    {
     "name": "stdout",
     "output_type": "stream",
     "text": [
      "Finished Inversion 727 out of 1345 at 09/17/25 15:36:11\n",
      "Finished Writing Data 727 out of 1345 at 09/17/25 15:36:11\n"
     ]
    },
    {
     "name": "stderr",
     "output_type": "stream",
     "text": [
      "/var/folders/m9/d8bbz1wx4f50q99kfb1jv9pw0000gn/T/ipykernel_31286/2106180866.py:6: FutureWarning: Series.ravel is deprecated. The underlying array is already 1D, so ravel is not necessary.  Use `to_numpy()` for conversion to a numpy array instead.\n",
      "  ind         = np.argwhere(np.isnan(subsetgdf.m_water_vx).ravel()==False).flatten()\n"
     ]
    },
    {
     "name": "stdout",
     "output_type": "stream",
     "text": [
      "Finished Inversion 729 out of 1345 at 09/17/25 15:36:29\n",
      "Finished Writing Data 729 out of 1345 at 09/17/25 15:36:29\n"
     ]
    },
    {
     "name": "stderr",
     "output_type": "stream",
     "text": [
      "/var/folders/m9/d8bbz1wx4f50q99kfb1jv9pw0000gn/T/ipykernel_31286/2106180866.py:6: FutureWarning: Series.ravel is deprecated. The underlying array is already 1D, so ravel is not necessary.  Use `to_numpy()` for conversion to a numpy array instead.\n",
      "  ind         = np.argwhere(np.isnan(subsetgdf.m_water_vx).ravel()==False).flatten()\n"
     ]
    },
    {
     "name": "stdout",
     "output_type": "stream",
     "text": [
      "Finished Inversion 731 out of 1345 at 09/17/25 15:36:45\n",
      "Finished Writing Data 731 out of 1345 at 09/17/25 15:36:45\n"
     ]
    },
    {
     "name": "stderr",
     "output_type": "stream",
     "text": [
      "/var/folders/m9/d8bbz1wx4f50q99kfb1jv9pw0000gn/T/ipykernel_31286/2106180866.py:6: FutureWarning: Series.ravel is deprecated. The underlying array is already 1D, so ravel is not necessary.  Use `to_numpy()` for conversion to a numpy array instead.\n",
      "  ind         = np.argwhere(np.isnan(subsetgdf.m_water_vx).ravel()==False).flatten()\n"
     ]
    },
    {
     "name": "stdout",
     "output_type": "stream",
     "text": [
      "Finished Inversion 733 out of 1345 at 09/17/25 15:36:53\n",
      "Finished Writing Data 733 out of 1345 at 09/17/25 15:36:53\n"
     ]
    },
    {
     "name": "stderr",
     "output_type": "stream",
     "text": [
      "/var/folders/m9/d8bbz1wx4f50q99kfb1jv9pw0000gn/T/ipykernel_31286/2106180866.py:6: FutureWarning: Series.ravel is deprecated. The underlying array is already 1D, so ravel is not necessary.  Use `to_numpy()` for conversion to a numpy array instead.\n",
      "  ind         = np.argwhere(np.isnan(subsetgdf.m_water_vx).ravel()==False).flatten()\n"
     ]
    },
    {
     "name": "stdout",
     "output_type": "stream",
     "text": [
      "Finished Inversion 735 out of 1345 at 09/17/25 15:37:02\n",
      "Finished Writing Data 735 out of 1345 at 09/17/25 15:37:02\n"
     ]
    },
    {
     "name": "stderr",
     "output_type": "stream",
     "text": [
      "/var/folders/m9/d8bbz1wx4f50q99kfb1jv9pw0000gn/T/ipykernel_31286/2106180866.py:6: FutureWarning: Series.ravel is deprecated. The underlying array is already 1D, so ravel is not necessary.  Use `to_numpy()` for conversion to a numpy array instead.\n",
      "  ind         = np.argwhere(np.isnan(subsetgdf.m_water_vx).ravel()==False).flatten()\n"
     ]
    },
    {
     "name": "stdout",
     "output_type": "stream",
     "text": [
      "Finished Inversion 737 out of 1345 at 09/17/25 15:37:11\n",
      "Finished Writing Data 737 out of 1345 at 09/17/25 15:37:11\n"
     ]
    },
    {
     "name": "stderr",
     "output_type": "stream",
     "text": [
      "/var/folders/m9/d8bbz1wx4f50q99kfb1jv9pw0000gn/T/ipykernel_31286/2106180866.py:6: FutureWarning: Series.ravel is deprecated. The underlying array is already 1D, so ravel is not necessary.  Use `to_numpy()` for conversion to a numpy array instead.\n",
      "  ind         = np.argwhere(np.isnan(subsetgdf.m_water_vx).ravel()==False).flatten()\n"
     ]
    },
    {
     "name": "stdout",
     "output_type": "stream",
     "text": [
      "Finished Inversion 739 out of 1345 at 09/17/25 15:37:21\n",
      "Finished Writing Data 739 out of 1345 at 09/17/25 15:37:21\n"
     ]
    },
    {
     "name": "stderr",
     "output_type": "stream",
     "text": [
      "/var/folders/m9/d8bbz1wx4f50q99kfb1jv9pw0000gn/T/ipykernel_31286/2106180866.py:6: FutureWarning: Series.ravel is deprecated. The underlying array is already 1D, so ravel is not necessary.  Use `to_numpy()` for conversion to a numpy array instead.\n",
      "  ind         = np.argwhere(np.isnan(subsetgdf.m_water_vx).ravel()==False).flatten()\n"
     ]
    },
    {
     "name": "stdout",
     "output_type": "stream",
     "text": [
      "Finished Inversion 741 out of 1345 at 09/17/25 15:39:31\n",
      "Finished Writing Data 741 out of 1345 at 09/17/25 15:39:31\n"
     ]
    },
    {
     "name": "stderr",
     "output_type": "stream",
     "text": [
      "/var/folders/m9/d8bbz1wx4f50q99kfb1jv9pw0000gn/T/ipykernel_31286/2106180866.py:6: FutureWarning: Series.ravel is deprecated. The underlying array is already 1D, so ravel is not necessary.  Use `to_numpy()` for conversion to a numpy array instead.\n",
      "  ind         = np.argwhere(np.isnan(subsetgdf.m_water_vx).ravel()==False).flatten()\n"
     ]
    },
    {
     "name": "stdout",
     "output_type": "stream",
     "text": [
      "Finished Inversion 743 out of 1345 at 09/17/25 15:39:37\n",
      "Finished Writing Data 743 out of 1345 at 09/17/25 15:39:37\n"
     ]
    },
    {
     "name": "stderr",
     "output_type": "stream",
     "text": [
      "/var/folders/m9/d8bbz1wx4f50q99kfb1jv9pw0000gn/T/ipykernel_31286/2106180866.py:6: FutureWarning: Series.ravel is deprecated. The underlying array is already 1D, so ravel is not necessary.  Use `to_numpy()` for conversion to a numpy array instead.\n",
      "  ind         = np.argwhere(np.isnan(subsetgdf.m_water_vx).ravel()==False).flatten()\n"
     ]
    },
    {
     "name": "stdout",
     "output_type": "stream",
     "text": [
      "Finished Inversion 745 out of 1345 at 09/17/25 15:39:43\n",
      "Finished Writing Data 745 out of 1345 at 09/17/25 15:39:43\n"
     ]
    },
    {
     "name": "stderr",
     "output_type": "stream",
     "text": [
      "/var/folders/m9/d8bbz1wx4f50q99kfb1jv9pw0000gn/T/ipykernel_31286/2106180866.py:6: FutureWarning: Series.ravel is deprecated. The underlying array is already 1D, so ravel is not necessary.  Use `to_numpy()` for conversion to a numpy array instead.\n",
      "  ind         = np.argwhere(np.isnan(subsetgdf.m_water_vx).ravel()==False).flatten()\n"
     ]
    },
    {
     "name": "stdout",
     "output_type": "stream",
     "text": [
      "Finished Inversion 746 out of 1345 at 09/17/25 15:39:49\n",
      "Finished Writing Data 746 out of 1345 at 09/17/25 15:39:49\n"
     ]
    },
    {
     "name": "stderr",
     "output_type": "stream",
     "text": [
      "/var/folders/m9/d8bbz1wx4f50q99kfb1jv9pw0000gn/T/ipykernel_31286/2106180866.py:6: FutureWarning: Series.ravel is deprecated. The underlying array is already 1D, so ravel is not necessary.  Use `to_numpy()` for conversion to a numpy array instead.\n",
      "  ind         = np.argwhere(np.isnan(subsetgdf.m_water_vx).ravel()==False).flatten()\n"
     ]
    },
    {
     "name": "stdout",
     "output_type": "stream",
     "text": [
      "Finished Inversion 748 out of 1345 at 09/17/25 15:39:55\n",
      "Finished Writing Data 748 out of 1345 at 09/17/25 15:39:55\n"
     ]
    },
    {
     "name": "stderr",
     "output_type": "stream",
     "text": [
      "/var/folders/m9/d8bbz1wx4f50q99kfb1jv9pw0000gn/T/ipykernel_31286/2106180866.py:6: FutureWarning: Series.ravel is deprecated. The underlying array is already 1D, so ravel is not necessary.  Use `to_numpy()` for conversion to a numpy array instead.\n",
      "  ind         = np.argwhere(np.isnan(subsetgdf.m_water_vx).ravel()==False).flatten()\n"
     ]
    },
    {
     "name": "stdout",
     "output_type": "stream",
     "text": [
      "Finished Inversion 750 out of 1345 at 09/17/25 15:40:01\n",
      "Finished Writing Data 750 out of 1345 at 09/17/25 15:40:01\n"
     ]
    },
    {
     "name": "stderr",
     "output_type": "stream",
     "text": [
      "/var/folders/m9/d8bbz1wx4f50q99kfb1jv9pw0000gn/T/ipykernel_31286/2106180866.py:6: FutureWarning: Series.ravel is deprecated. The underlying array is already 1D, so ravel is not necessary.  Use `to_numpy()` for conversion to a numpy array instead.\n",
      "  ind         = np.argwhere(np.isnan(subsetgdf.m_water_vx).ravel()==False).flatten()\n"
     ]
    },
    {
     "name": "stdout",
     "output_type": "stream",
     "text": [
      "Finished Inversion 752 out of 1345 at 09/17/25 15:40:07\n",
      "Finished Writing Data 752 out of 1345 at 09/17/25 15:40:07\n"
     ]
    },
    {
     "name": "stderr",
     "output_type": "stream",
     "text": [
      "/var/folders/m9/d8bbz1wx4f50q99kfb1jv9pw0000gn/T/ipykernel_31286/2106180866.py:6: FutureWarning: Series.ravel is deprecated. The underlying array is already 1D, so ravel is not necessary.  Use `to_numpy()` for conversion to a numpy array instead.\n",
      "  ind         = np.argwhere(np.isnan(subsetgdf.m_water_vx).ravel()==False).flatten()\n"
     ]
    },
    {
     "name": "stdout",
     "output_type": "stream",
     "text": [
      "Finished Inversion 754 out of 1345 at 09/17/25 15:40:13\n",
      "Finished Writing Data 754 out of 1345 at 09/17/25 15:40:13\n"
     ]
    },
    {
     "name": "stderr",
     "output_type": "stream",
     "text": [
      "/var/folders/m9/d8bbz1wx4f50q99kfb1jv9pw0000gn/T/ipykernel_31286/2106180866.py:6: FutureWarning: Series.ravel is deprecated. The underlying array is already 1D, so ravel is not necessary.  Use `to_numpy()` for conversion to a numpy array instead.\n",
      "  ind         = np.argwhere(np.isnan(subsetgdf.m_water_vx).ravel()==False).flatten()\n"
     ]
    },
    {
     "name": "stdout",
     "output_type": "stream",
     "text": [
      "Finished Inversion 757 out of 1345 at 09/17/25 15:40:19\n",
      "Finished Writing Data 757 out of 1345 at 09/17/25 15:40:19\n"
     ]
    },
    {
     "name": "stderr",
     "output_type": "stream",
     "text": [
      "/var/folders/m9/d8bbz1wx4f50q99kfb1jv9pw0000gn/T/ipykernel_31286/2106180866.py:6: FutureWarning: Series.ravel is deprecated. The underlying array is already 1D, so ravel is not necessary.  Use `to_numpy()` for conversion to a numpy array instead.\n",
      "  ind         = np.argwhere(np.isnan(subsetgdf.m_water_vx).ravel()==False).flatten()\n"
     ]
    },
    {
     "name": "stdout",
     "output_type": "stream",
     "text": [
      "Finished Inversion 759 out of 1345 at 09/17/25 15:40:25\n",
      "Finished Writing Data 759 out of 1345 at 09/17/25 15:40:25\n"
     ]
    },
    {
     "name": "stderr",
     "output_type": "stream",
     "text": [
      "/var/folders/m9/d8bbz1wx4f50q99kfb1jv9pw0000gn/T/ipykernel_31286/2106180866.py:6: FutureWarning: Series.ravel is deprecated. The underlying array is already 1D, so ravel is not necessary.  Use `to_numpy()` for conversion to a numpy array instead.\n",
      "  ind         = np.argwhere(np.isnan(subsetgdf.m_water_vx).ravel()==False).flatten()\n"
     ]
    },
    {
     "name": "stdout",
     "output_type": "stream",
     "text": [
      "Finished Inversion 761 out of 1345 at 09/17/25 15:40:32\n",
      "Finished Writing Data 761 out of 1345 at 09/17/25 15:40:32\n"
     ]
    },
    {
     "name": "stderr",
     "output_type": "stream",
     "text": [
      "/var/folders/m9/d8bbz1wx4f50q99kfb1jv9pw0000gn/T/ipykernel_31286/2106180866.py:6: FutureWarning: Series.ravel is deprecated. The underlying array is already 1D, so ravel is not necessary.  Use `to_numpy()` for conversion to a numpy array instead.\n",
      "  ind         = np.argwhere(np.isnan(subsetgdf.m_water_vx).ravel()==False).flatten()\n"
     ]
    },
    {
     "name": "stdout",
     "output_type": "stream",
     "text": [
      "Finished Inversion 763 out of 1345 at 09/17/25 15:40:38\n",
      "Finished Writing Data 763 out of 1345 at 09/17/25 15:40:38\n"
     ]
    },
    {
     "name": "stderr",
     "output_type": "stream",
     "text": [
      "/var/folders/m9/d8bbz1wx4f50q99kfb1jv9pw0000gn/T/ipykernel_31286/2106180866.py:6: FutureWarning: Series.ravel is deprecated. The underlying array is already 1D, so ravel is not necessary.  Use `to_numpy()` for conversion to a numpy array instead.\n",
      "  ind         = np.argwhere(np.isnan(subsetgdf.m_water_vx).ravel()==False).flatten()\n"
     ]
    },
    {
     "name": "stdout",
     "output_type": "stream",
     "text": [
      "Finished Inversion 765 out of 1345 at 09/17/25 15:40:44\n",
      "Finished Writing Data 765 out of 1345 at 09/17/25 15:40:44\n"
     ]
    },
    {
     "name": "stderr",
     "output_type": "stream",
     "text": [
      "/var/folders/m9/d8bbz1wx4f50q99kfb1jv9pw0000gn/T/ipykernel_31286/2106180866.py:6: FutureWarning: Series.ravel is deprecated. The underlying array is already 1D, so ravel is not necessary.  Use `to_numpy()` for conversion to a numpy array instead.\n",
      "  ind         = np.argwhere(np.isnan(subsetgdf.m_water_vx).ravel()==False).flatten()\n"
     ]
    },
    {
     "name": "stdout",
     "output_type": "stream",
     "text": [
      "Finished Inversion 767 out of 1345 at 09/17/25 15:40:49\n",
      "Finished Writing Data 767 out of 1345 at 09/17/25 15:40:49\n"
     ]
    },
    {
     "name": "stderr",
     "output_type": "stream",
     "text": [
      "/var/folders/m9/d8bbz1wx4f50q99kfb1jv9pw0000gn/T/ipykernel_31286/2106180866.py:6: FutureWarning: Series.ravel is deprecated. The underlying array is already 1D, so ravel is not necessary.  Use `to_numpy()` for conversion to a numpy array instead.\n",
      "  ind         = np.argwhere(np.isnan(subsetgdf.m_water_vx).ravel()==False).flatten()\n"
     ]
    },
    {
     "name": "stdout",
     "output_type": "stream",
     "text": [
      "Finished Inversion 768 out of 1345 at 09/17/25 15:40:56\n",
      "Finished Writing Data 768 out of 1345 at 09/17/25 15:40:56\n"
     ]
    },
    {
     "name": "stderr",
     "output_type": "stream",
     "text": [
      "/var/folders/m9/d8bbz1wx4f50q99kfb1jv9pw0000gn/T/ipykernel_31286/2106180866.py:6: FutureWarning: Series.ravel is deprecated. The underlying array is already 1D, so ravel is not necessary.  Use `to_numpy()` for conversion to a numpy array instead.\n",
      "  ind         = np.argwhere(np.isnan(subsetgdf.m_water_vx).ravel()==False).flatten()\n"
     ]
    },
    {
     "name": "stdout",
     "output_type": "stream",
     "text": [
      "Finished Inversion 770 out of 1345 at 09/17/25 15:41:02\n",
      "Finished Writing Data 770 out of 1345 at 09/17/25 15:41:02\n"
     ]
    },
    {
     "name": "stderr",
     "output_type": "stream",
     "text": [
      "/var/folders/m9/d8bbz1wx4f50q99kfb1jv9pw0000gn/T/ipykernel_31286/2106180866.py:6: FutureWarning: Series.ravel is deprecated. The underlying array is already 1D, so ravel is not necessary.  Use `to_numpy()` for conversion to a numpy array instead.\n",
      "  ind         = np.argwhere(np.isnan(subsetgdf.m_water_vx).ravel()==False).flatten()\n"
     ]
    },
    {
     "name": "stdout",
     "output_type": "stream",
     "text": [
      "Finished Inversion 772 out of 1345 at 09/17/25 15:41:09\n",
      "Finished Writing Data 772 out of 1345 at 09/17/25 15:41:09\n"
     ]
    },
    {
     "name": "stderr",
     "output_type": "stream",
     "text": [
      "/var/folders/m9/d8bbz1wx4f50q99kfb1jv9pw0000gn/T/ipykernel_31286/2106180866.py:6: FutureWarning: Series.ravel is deprecated. The underlying array is already 1D, so ravel is not necessary.  Use `to_numpy()` for conversion to a numpy array instead.\n",
      "  ind         = np.argwhere(np.isnan(subsetgdf.m_water_vx).ravel()==False).flatten()\n"
     ]
    },
    {
     "name": "stdout",
     "output_type": "stream",
     "text": [
      "Finished Inversion 774 out of 1345 at 09/17/25 15:41:15\n",
      "Finished Writing Data 774 out of 1345 at 09/17/25 15:41:15\n"
     ]
    },
    {
     "name": "stderr",
     "output_type": "stream",
     "text": [
      "/var/folders/m9/d8bbz1wx4f50q99kfb1jv9pw0000gn/T/ipykernel_31286/2106180866.py:6: FutureWarning: Series.ravel is deprecated. The underlying array is already 1D, so ravel is not necessary.  Use `to_numpy()` for conversion to a numpy array instead.\n",
      "  ind         = np.argwhere(np.isnan(subsetgdf.m_water_vx).ravel()==False).flatten()\n"
     ]
    },
    {
     "name": "stdout",
     "output_type": "stream",
     "text": [
      "Finished Inversion 776 out of 1345 at 09/17/25 15:41:22\n",
      "Finished Writing Data 776 out of 1345 at 09/17/25 15:41:22\n"
     ]
    },
    {
     "name": "stderr",
     "output_type": "stream",
     "text": [
      "/var/folders/m9/d8bbz1wx4f50q99kfb1jv9pw0000gn/T/ipykernel_31286/2106180866.py:6: FutureWarning: Series.ravel is deprecated. The underlying array is already 1D, so ravel is not necessary.  Use `to_numpy()` for conversion to a numpy array instead.\n",
      "  ind         = np.argwhere(np.isnan(subsetgdf.m_water_vx).ravel()==False).flatten()\n"
     ]
    },
    {
     "name": "stdout",
     "output_type": "stream",
     "text": [
      "Finished Inversion 779 out of 1345 at 09/17/25 15:41:28\n",
      "Finished Writing Data 779 out of 1345 at 09/17/25 15:41:28\n"
     ]
    },
    {
     "name": "stderr",
     "output_type": "stream",
     "text": [
      "/var/folders/m9/d8bbz1wx4f50q99kfb1jv9pw0000gn/T/ipykernel_31286/2106180866.py:6: FutureWarning: Series.ravel is deprecated. The underlying array is already 1D, so ravel is not necessary.  Use `to_numpy()` for conversion to a numpy array instead.\n",
      "  ind         = np.argwhere(np.isnan(subsetgdf.m_water_vx).ravel()==False).flatten()\n"
     ]
    },
    {
     "name": "stdout",
     "output_type": "stream",
     "text": [
      "Finished Inversion 781 out of 1345 at 09/17/25 15:41:34\n",
      "Finished Writing Data 781 out of 1345 at 09/17/25 15:41:34\n"
     ]
    },
    {
     "name": "stderr",
     "output_type": "stream",
     "text": [
      "/var/folders/m9/d8bbz1wx4f50q99kfb1jv9pw0000gn/T/ipykernel_31286/2106180866.py:6: FutureWarning: Series.ravel is deprecated. The underlying array is already 1D, so ravel is not necessary.  Use `to_numpy()` for conversion to a numpy array instead.\n",
      "  ind         = np.argwhere(np.isnan(subsetgdf.m_water_vx).ravel()==False).flatten()\n"
     ]
    },
    {
     "name": "stdout",
     "output_type": "stream",
     "text": [
      "Finished Inversion 783 out of 1345 at 09/17/25 15:41:35\n",
      "Finished Writing Data 783 out of 1345 at 09/17/25 15:41:35\n"
     ]
    },
    {
     "name": "stderr",
     "output_type": "stream",
     "text": [
      "/var/folders/m9/d8bbz1wx4f50q99kfb1jv9pw0000gn/T/ipykernel_31286/2106180866.py:6: FutureWarning: Series.ravel is deprecated. The underlying array is already 1D, so ravel is not necessary.  Use `to_numpy()` for conversion to a numpy array instead.\n",
      "  ind         = np.argwhere(np.isnan(subsetgdf.m_water_vx).ravel()==False).flatten()\n"
     ]
    },
    {
     "name": "stdout",
     "output_type": "stream",
     "text": [
      "Finished Inversion 784 out of 1345 at 09/17/25 15:41:41\n",
      "Finished Writing Data 784 out of 1345 at 09/17/25 15:41:41\n"
     ]
    },
    {
     "name": "stderr",
     "output_type": "stream",
     "text": [
      "/var/folders/m9/d8bbz1wx4f50q99kfb1jv9pw0000gn/T/ipykernel_31286/2106180866.py:6: FutureWarning: Series.ravel is deprecated. The underlying array is already 1D, so ravel is not necessary.  Use `to_numpy()` for conversion to a numpy array instead.\n",
      "  ind         = np.argwhere(np.isnan(subsetgdf.m_water_vx).ravel()==False).flatten()\n"
     ]
    },
    {
     "name": "stdout",
     "output_type": "stream",
     "text": [
      "Finished Inversion 786 out of 1345 at 09/17/25 15:41:47\n",
      "Finished Writing Data 786 out of 1345 at 09/17/25 15:41:47\n"
     ]
    },
    {
     "name": "stderr",
     "output_type": "stream",
     "text": [
      "/var/folders/m9/d8bbz1wx4f50q99kfb1jv9pw0000gn/T/ipykernel_31286/2106180866.py:6: FutureWarning: Series.ravel is deprecated. The underlying array is already 1D, so ravel is not necessary.  Use `to_numpy()` for conversion to a numpy array instead.\n",
      "  ind         = np.argwhere(np.isnan(subsetgdf.m_water_vx).ravel()==False).flatten()\n"
     ]
    },
    {
     "name": "stdout",
     "output_type": "stream",
     "text": [
      "Finished Inversion 788 out of 1345 at 09/17/25 15:41:52\n",
      "Finished Writing Data 788 out of 1345 at 09/17/25 15:41:52\n"
     ]
    },
    {
     "name": "stderr",
     "output_type": "stream",
     "text": [
      "/var/folders/m9/d8bbz1wx4f50q99kfb1jv9pw0000gn/T/ipykernel_31286/2106180866.py:6: FutureWarning: Series.ravel is deprecated. The underlying array is already 1D, so ravel is not necessary.  Use `to_numpy()` for conversion to a numpy array instead.\n",
      "  ind         = np.argwhere(np.isnan(subsetgdf.m_water_vx).ravel()==False).flatten()\n"
     ]
    },
    {
     "name": "stdout",
     "output_type": "stream",
     "text": [
      "Finished Inversion 791 out of 1345 at 09/17/25 15:41:58\n",
      "Finished Writing Data 791 out of 1345 at 09/17/25 15:41:58\n"
     ]
    },
    {
     "name": "stderr",
     "output_type": "stream",
     "text": [
      "/var/folders/m9/d8bbz1wx4f50q99kfb1jv9pw0000gn/T/ipykernel_31286/2106180866.py:6: FutureWarning: Series.ravel is deprecated. The underlying array is already 1D, so ravel is not necessary.  Use `to_numpy()` for conversion to a numpy array instead.\n",
      "  ind         = np.argwhere(np.isnan(subsetgdf.m_water_vx).ravel()==False).flatten()\n"
     ]
    },
    {
     "name": "stdout",
     "output_type": "stream",
     "text": [
      "Finished Inversion 793 out of 1345 at 09/17/25 15:42:03\n",
      "Finished Writing Data 793 out of 1345 at 09/17/25 15:42:03\n"
     ]
    },
    {
     "name": "stderr",
     "output_type": "stream",
     "text": [
      "/var/folders/m9/d8bbz1wx4f50q99kfb1jv9pw0000gn/T/ipykernel_31286/2106180866.py:6: FutureWarning: Series.ravel is deprecated. The underlying array is already 1D, so ravel is not necessary.  Use `to_numpy()` for conversion to a numpy array instead.\n",
      "  ind         = np.argwhere(np.isnan(subsetgdf.m_water_vx).ravel()==False).flatten()\n"
     ]
    },
    {
     "name": "stdout",
     "output_type": "stream",
     "text": [
      "Finished Inversion 795 out of 1345 at 09/17/25 15:42:09\n",
      "Finished Writing Data 795 out of 1345 at 09/17/25 15:42:09\n"
     ]
    },
    {
     "name": "stderr",
     "output_type": "stream",
     "text": [
      "/var/folders/m9/d8bbz1wx4f50q99kfb1jv9pw0000gn/T/ipykernel_31286/2106180866.py:6: FutureWarning: Series.ravel is deprecated. The underlying array is already 1D, so ravel is not necessary.  Use `to_numpy()` for conversion to a numpy array instead.\n",
      "  ind         = np.argwhere(np.isnan(subsetgdf.m_water_vx).ravel()==False).flatten()\n"
     ]
    },
    {
     "name": "stdout",
     "output_type": "stream",
     "text": [
      "Finished Inversion 797 out of 1345 at 09/17/25 15:42:15\n",
      "Finished Writing Data 797 out of 1345 at 09/17/25 15:42:15\n"
     ]
    },
    {
     "name": "stderr",
     "output_type": "stream",
     "text": [
      "/var/folders/m9/d8bbz1wx4f50q99kfb1jv9pw0000gn/T/ipykernel_31286/2106180866.py:6: FutureWarning: Series.ravel is deprecated. The underlying array is already 1D, so ravel is not necessary.  Use `to_numpy()` for conversion to a numpy array instead.\n",
      "  ind         = np.argwhere(np.isnan(subsetgdf.m_water_vx).ravel()==False).flatten()\n"
     ]
    },
    {
     "name": "stdout",
     "output_type": "stream",
     "text": [
      "Finished Inversion 799 out of 1345 at 09/17/25 15:42:20\n",
      "Finished Writing Data 799 out of 1345 at 09/17/25 15:42:20\n"
     ]
    },
    {
     "name": "stderr",
     "output_type": "stream",
     "text": [
      "/var/folders/m9/d8bbz1wx4f50q99kfb1jv9pw0000gn/T/ipykernel_31286/2106180866.py:6: FutureWarning: Series.ravel is deprecated. The underlying array is already 1D, so ravel is not necessary.  Use `to_numpy()` for conversion to a numpy array instead.\n",
      "  ind         = np.argwhere(np.isnan(subsetgdf.m_water_vx).ravel()==False).flatten()\n"
     ]
    },
    {
     "name": "stdout",
     "output_type": "stream",
     "text": [
      "Finished Inversion 800 out of 1345 at 09/17/25 15:42:26\n",
      "Finished Writing Data 800 out of 1345 at 09/17/25 15:42:26\n"
     ]
    },
    {
     "name": "stderr",
     "output_type": "stream",
     "text": [
      "/var/folders/m9/d8bbz1wx4f50q99kfb1jv9pw0000gn/T/ipykernel_31286/2106180866.py:6: FutureWarning: Series.ravel is deprecated. The underlying array is already 1D, so ravel is not necessary.  Use `to_numpy()` for conversion to a numpy array instead.\n",
      "  ind         = np.argwhere(np.isnan(subsetgdf.m_water_vx).ravel()==False).flatten()\n"
     ]
    },
    {
     "name": "stdout",
     "output_type": "stream",
     "text": [
      "Finished Inversion 802 out of 1345 at 09/17/25 15:42:31\n",
      "Finished Writing Data 802 out of 1345 at 09/17/25 15:42:31\n"
     ]
    },
    {
     "name": "stderr",
     "output_type": "stream",
     "text": [
      "/var/folders/m9/d8bbz1wx4f50q99kfb1jv9pw0000gn/T/ipykernel_31286/2106180866.py:6: FutureWarning: Series.ravel is deprecated. The underlying array is already 1D, so ravel is not necessary.  Use `to_numpy()` for conversion to a numpy array instead.\n",
      "  ind         = np.argwhere(np.isnan(subsetgdf.m_water_vx).ravel()==False).flatten()\n"
     ]
    },
    {
     "name": "stdout",
     "output_type": "stream",
     "text": [
      "Finished Inversion 804 out of 1345 at 09/17/25 15:42:37\n",
      "Finished Writing Data 804 out of 1345 at 09/17/25 15:42:37\n"
     ]
    },
    {
     "name": "stderr",
     "output_type": "stream",
     "text": [
      "/var/folders/m9/d8bbz1wx4f50q99kfb1jv9pw0000gn/T/ipykernel_31286/2106180866.py:6: FutureWarning: Series.ravel is deprecated. The underlying array is already 1D, so ravel is not necessary.  Use `to_numpy()` for conversion to a numpy array instead.\n",
      "  ind         = np.argwhere(np.isnan(subsetgdf.m_water_vx).ravel()==False).flatten()\n"
     ]
    },
    {
     "name": "stdout",
     "output_type": "stream",
     "text": [
      "Finished Inversion 806 out of 1345 at 09/17/25 15:42:43\n",
      "Finished Writing Data 806 out of 1345 at 09/17/25 15:42:43\n"
     ]
    },
    {
     "name": "stderr",
     "output_type": "stream",
     "text": [
      "/var/folders/m9/d8bbz1wx4f50q99kfb1jv9pw0000gn/T/ipykernel_31286/2106180866.py:6: FutureWarning: Series.ravel is deprecated. The underlying array is already 1D, so ravel is not necessary.  Use `to_numpy()` for conversion to a numpy array instead.\n",
      "  ind         = np.argwhere(np.isnan(subsetgdf.m_water_vx).ravel()==False).flatten()\n"
     ]
    },
    {
     "name": "stdout",
     "output_type": "stream",
     "text": [
      "Finished Inversion 808 out of 1345 at 09/17/25 15:42:49\n",
      "Finished Writing Data 808 out of 1345 at 09/17/25 15:42:49\n"
     ]
    },
    {
     "name": "stderr",
     "output_type": "stream",
     "text": [
      "/var/folders/m9/d8bbz1wx4f50q99kfb1jv9pw0000gn/T/ipykernel_31286/2106180866.py:6: FutureWarning: Series.ravel is deprecated. The underlying array is already 1D, so ravel is not necessary.  Use `to_numpy()` for conversion to a numpy array instead.\n",
      "  ind         = np.argwhere(np.isnan(subsetgdf.m_water_vx).ravel()==False).flatten()\n"
     ]
    },
    {
     "name": "stdout",
     "output_type": "stream",
     "text": [
      "Finished Inversion 810 out of 1345 at 09/17/25 15:42:55\n",
      "Finished Writing Data 810 out of 1345 at 09/17/25 15:42:55\n"
     ]
    },
    {
     "name": "stderr",
     "output_type": "stream",
     "text": [
      "/var/folders/m9/d8bbz1wx4f50q99kfb1jv9pw0000gn/T/ipykernel_31286/2106180866.py:6: FutureWarning: Series.ravel is deprecated. The underlying array is already 1D, so ravel is not necessary.  Use `to_numpy()` for conversion to a numpy array instead.\n",
      "  ind         = np.argwhere(np.isnan(subsetgdf.m_water_vx).ravel()==False).flatten()\n"
     ]
    },
    {
     "name": "stdout",
     "output_type": "stream",
     "text": [
      "Finished Inversion 813 out of 1345 at 09/17/25 15:43:01\n",
      "Finished Writing Data 813 out of 1345 at 09/17/25 15:43:01\n"
     ]
    },
    {
     "name": "stderr",
     "output_type": "stream",
     "text": [
      "/var/folders/m9/d8bbz1wx4f50q99kfb1jv9pw0000gn/T/ipykernel_31286/2106180866.py:6: FutureWarning: Series.ravel is deprecated. The underlying array is already 1D, so ravel is not necessary.  Use `to_numpy()` for conversion to a numpy array instead.\n",
      "  ind         = np.argwhere(np.isnan(subsetgdf.m_water_vx).ravel()==False).flatten()\n"
     ]
    },
    {
     "name": "stdout",
     "output_type": "stream",
     "text": [
      "Finished Inversion 815 out of 1345 at 09/17/25 15:43:07\n",
      "Finished Writing Data 815 out of 1345 at 09/17/25 15:43:07\n"
     ]
    },
    {
     "name": "stderr",
     "output_type": "stream",
     "text": [
      "/var/folders/m9/d8bbz1wx4f50q99kfb1jv9pw0000gn/T/ipykernel_31286/2106180866.py:6: FutureWarning: Series.ravel is deprecated. The underlying array is already 1D, so ravel is not necessary.  Use `to_numpy()` for conversion to a numpy array instead.\n",
      "  ind         = np.argwhere(np.isnan(subsetgdf.m_water_vx).ravel()==False).flatten()\n"
     ]
    },
    {
     "name": "stdout",
     "output_type": "stream",
     "text": [
      "Finished Inversion 816 out of 1345 at 09/17/25 15:43:08\n",
      "Finished Writing Data 816 out of 1345 at 09/17/25 15:43:08\n"
     ]
    },
    {
     "name": "stderr",
     "output_type": "stream",
     "text": [
      "/var/folders/m9/d8bbz1wx4f50q99kfb1jv9pw0000gn/T/ipykernel_31286/2106180866.py:6: FutureWarning: Series.ravel is deprecated. The underlying array is already 1D, so ravel is not necessary.  Use `to_numpy()` for conversion to a numpy array instead.\n",
      "  ind         = np.argwhere(np.isnan(subsetgdf.m_water_vx).ravel()==False).flatten()\n"
     ]
    },
    {
     "name": "stdout",
     "output_type": "stream",
     "text": [
      "Finished Inversion 818 out of 1345 at 09/17/25 15:43:14\n",
      "Finished Writing Data 818 out of 1345 at 09/17/25 15:43:14\n"
     ]
    },
    {
     "name": "stderr",
     "output_type": "stream",
     "text": [
      "/var/folders/m9/d8bbz1wx4f50q99kfb1jv9pw0000gn/T/ipykernel_31286/2106180866.py:6: FutureWarning: Series.ravel is deprecated. The underlying array is already 1D, so ravel is not necessary.  Use `to_numpy()` for conversion to a numpy array instead.\n",
      "  ind         = np.argwhere(np.isnan(subsetgdf.m_water_vx).ravel()==False).flatten()\n"
     ]
    },
    {
     "name": "stdout",
     "output_type": "stream",
     "text": [
      "Finished Inversion 820 out of 1345 at 09/17/25 15:43:20\n",
      "Finished Writing Data 820 out of 1345 at 09/17/25 15:43:20\n"
     ]
    },
    {
     "name": "stderr",
     "output_type": "stream",
     "text": [
      "/var/folders/m9/d8bbz1wx4f50q99kfb1jv9pw0000gn/T/ipykernel_31286/2106180866.py:6: FutureWarning: Series.ravel is deprecated. The underlying array is already 1D, so ravel is not necessary.  Use `to_numpy()` for conversion to a numpy array instead.\n",
      "  ind         = np.argwhere(np.isnan(subsetgdf.m_water_vx).ravel()==False).flatten()\n"
     ]
    },
    {
     "name": "stdout",
     "output_type": "stream",
     "text": [
      "Finished Inversion 831 out of 1345 at 09/17/25 15:43:26\n",
      "Finished Writing Data 831 out of 1345 at 09/17/25 15:43:26\n"
     ]
    },
    {
     "name": "stderr",
     "output_type": "stream",
     "text": [
      "/var/folders/m9/d8bbz1wx4f50q99kfb1jv9pw0000gn/T/ipykernel_31286/2106180866.py:6: FutureWarning: Series.ravel is deprecated. The underlying array is already 1D, so ravel is not necessary.  Use `to_numpy()` for conversion to a numpy array instead.\n",
      "  ind         = np.argwhere(np.isnan(subsetgdf.m_water_vx).ravel()==False).flatten()\n"
     ]
    },
    {
     "name": "stdout",
     "output_type": "stream",
     "text": [
      "Finished Inversion 833 out of 1345 at 09/17/25 15:43:33\n",
      "Finished Writing Data 833 out of 1345 at 09/17/25 15:43:33\n"
     ]
    },
    {
     "name": "stderr",
     "output_type": "stream",
     "text": [
      "/var/folders/m9/d8bbz1wx4f50q99kfb1jv9pw0000gn/T/ipykernel_31286/2106180866.py:6: FutureWarning: Series.ravel is deprecated. The underlying array is already 1D, so ravel is not necessary.  Use `to_numpy()` for conversion to a numpy array instead.\n",
      "  ind         = np.argwhere(np.isnan(subsetgdf.m_water_vx).ravel()==False).flatten()\n"
     ]
    },
    {
     "name": "stdout",
     "output_type": "stream",
     "text": [
      "Finished Inversion 835 out of 1345 at 09/17/25 15:43:39\n",
      "Finished Writing Data 835 out of 1345 at 09/17/25 15:43:39\n"
     ]
    },
    {
     "name": "stderr",
     "output_type": "stream",
     "text": [
      "/var/folders/m9/d8bbz1wx4f50q99kfb1jv9pw0000gn/T/ipykernel_31286/2106180866.py:6: FutureWarning: Series.ravel is deprecated. The underlying array is already 1D, so ravel is not necessary.  Use `to_numpy()` for conversion to a numpy array instead.\n",
      "  ind         = np.argwhere(np.isnan(subsetgdf.m_water_vx).ravel()==False).flatten()\n"
     ]
    },
    {
     "name": "stdout",
     "output_type": "stream",
     "text": [
      "Finished Inversion 837 out of 1345 at 09/17/25 15:43:45\n",
      "Finished Writing Data 837 out of 1345 at 09/17/25 15:43:45\n"
     ]
    },
    {
     "name": "stderr",
     "output_type": "stream",
     "text": [
      "/var/folders/m9/d8bbz1wx4f50q99kfb1jv9pw0000gn/T/ipykernel_31286/2106180866.py:6: FutureWarning: Series.ravel is deprecated. The underlying array is already 1D, so ravel is not necessary.  Use `to_numpy()` for conversion to a numpy array instead.\n",
      "  ind         = np.argwhere(np.isnan(subsetgdf.m_water_vx).ravel()==False).flatten()\n"
     ]
    },
    {
     "name": "stdout",
     "output_type": "stream",
     "text": [
      "Finished Inversion 839 out of 1345 at 09/17/25 15:43:51\n",
      "Finished Writing Data 839 out of 1345 at 09/17/25 15:43:51\n"
     ]
    },
    {
     "name": "stderr",
     "output_type": "stream",
     "text": [
      "/var/folders/m9/d8bbz1wx4f50q99kfb1jv9pw0000gn/T/ipykernel_31286/2106180866.py:6: FutureWarning: Series.ravel is deprecated. The underlying array is already 1D, so ravel is not necessary.  Use `to_numpy()` for conversion to a numpy array instead.\n",
      "  ind         = np.argwhere(np.isnan(subsetgdf.m_water_vx).ravel()==False).flatten()\n"
     ]
    },
    {
     "name": "stdout",
     "output_type": "stream",
     "text": [
      "Finished Inversion 841 out of 1345 at 09/17/25 15:43:57\n",
      "Finished Writing Data 841 out of 1345 at 09/17/25 15:43:57\n"
     ]
    },
    {
     "name": "stderr",
     "output_type": "stream",
     "text": [
      "/var/folders/m9/d8bbz1wx4f50q99kfb1jv9pw0000gn/T/ipykernel_31286/2106180866.py:6: FutureWarning: Series.ravel is deprecated. The underlying array is already 1D, so ravel is not necessary.  Use `to_numpy()` for conversion to a numpy array instead.\n",
      "  ind         = np.argwhere(np.isnan(subsetgdf.m_water_vx).ravel()==False).flatten()\n"
     ]
    },
    {
     "name": "stdout",
     "output_type": "stream",
     "text": [
      "Finished Inversion 843 out of 1345 at 09/17/25 15:44:03\n",
      "Finished Writing Data 843 out of 1345 at 09/17/25 15:44:03\n"
     ]
    },
    {
     "name": "stderr",
     "output_type": "stream",
     "text": [
      "/var/folders/m9/d8bbz1wx4f50q99kfb1jv9pw0000gn/T/ipykernel_31286/2106180866.py:6: FutureWarning: Series.ravel is deprecated. The underlying array is already 1D, so ravel is not necessary.  Use `to_numpy()` for conversion to a numpy array instead.\n",
      "  ind         = np.argwhere(np.isnan(subsetgdf.m_water_vx).ravel()==False).flatten()\n"
     ]
    },
    {
     "name": "stdout",
     "output_type": "stream",
     "text": [
      "Finished Inversion 844 out of 1345 at 09/17/25 15:44:09\n",
      "Finished Writing Data 844 out of 1345 at 09/17/25 15:44:09\n"
     ]
    },
    {
     "name": "stderr",
     "output_type": "stream",
     "text": [
      "/var/folders/m9/d8bbz1wx4f50q99kfb1jv9pw0000gn/T/ipykernel_31286/2106180866.py:6: FutureWarning: Series.ravel is deprecated. The underlying array is already 1D, so ravel is not necessary.  Use `to_numpy()` for conversion to a numpy array instead.\n",
      "  ind         = np.argwhere(np.isnan(subsetgdf.m_water_vx).ravel()==False).flatten()\n"
     ]
    },
    {
     "name": "stdout",
     "output_type": "stream",
     "text": [
      "Finished Inversion 846 out of 1345 at 09/17/25 15:44:15\n",
      "Finished Writing Data 846 out of 1345 at 09/17/25 15:44:15\n"
     ]
    },
    {
     "name": "stderr",
     "output_type": "stream",
     "text": [
      "/var/folders/m9/d8bbz1wx4f50q99kfb1jv9pw0000gn/T/ipykernel_31286/2106180866.py:6: FutureWarning: Series.ravel is deprecated. The underlying array is already 1D, so ravel is not necessary.  Use `to_numpy()` for conversion to a numpy array instead.\n",
      "  ind         = np.argwhere(np.isnan(subsetgdf.m_water_vx).ravel()==False).flatten()\n"
     ]
    },
    {
     "name": "stdout",
     "output_type": "stream",
     "text": [
      "Finished Inversion 848 out of 1345 at 09/17/25 15:44:20\n",
      "Finished Writing Data 848 out of 1345 at 09/17/25 15:44:20\n"
     ]
    },
    {
     "name": "stderr",
     "output_type": "stream",
     "text": [
      "/var/folders/m9/d8bbz1wx4f50q99kfb1jv9pw0000gn/T/ipykernel_31286/2106180866.py:6: FutureWarning: Series.ravel is deprecated. The underlying array is already 1D, so ravel is not necessary.  Use `to_numpy()` for conversion to a numpy array instead.\n",
      "  ind         = np.argwhere(np.isnan(subsetgdf.m_water_vx).ravel()==False).flatten()\n"
     ]
    },
    {
     "name": "stdout",
     "output_type": "stream",
     "text": [
      "Finished Inversion 850 out of 1345 at 09/17/25 15:44:26\n",
      "Finished Writing Data 850 out of 1345 at 09/17/25 15:44:26\n"
     ]
    },
    {
     "name": "stderr",
     "output_type": "stream",
     "text": [
      "/var/folders/m9/d8bbz1wx4f50q99kfb1jv9pw0000gn/T/ipykernel_31286/2106180866.py:6: FutureWarning: Series.ravel is deprecated. The underlying array is already 1D, so ravel is not necessary.  Use `to_numpy()` for conversion to a numpy array instead.\n",
      "  ind         = np.argwhere(np.isnan(subsetgdf.m_water_vx).ravel()==False).flatten()\n"
     ]
    },
    {
     "name": "stdout",
     "output_type": "stream",
     "text": [
      "Finished Inversion 852 out of 1345 at 09/17/25 15:44:33\n",
      "Finished Writing Data 852 out of 1345 at 09/17/25 15:44:33\n"
     ]
    },
    {
     "name": "stderr",
     "output_type": "stream",
     "text": [
      "/var/folders/m9/d8bbz1wx4f50q99kfb1jv9pw0000gn/T/ipykernel_31286/2106180866.py:6: FutureWarning: Series.ravel is deprecated. The underlying array is already 1D, so ravel is not necessary.  Use `to_numpy()` for conversion to a numpy array instead.\n",
      "  ind         = np.argwhere(np.isnan(subsetgdf.m_water_vx).ravel()==False).flatten()\n"
     ]
    },
    {
     "name": "stdout",
     "output_type": "stream",
     "text": [
      "Finished Inversion 855 out of 1345 at 09/17/25 15:44:39\n",
      "Finished Writing Data 855 out of 1345 at 09/17/25 15:44:39\n"
     ]
    },
    {
     "name": "stderr",
     "output_type": "stream",
     "text": [
      "/var/folders/m9/d8bbz1wx4f50q99kfb1jv9pw0000gn/T/ipykernel_31286/2106180866.py:6: FutureWarning: Series.ravel is deprecated. The underlying array is already 1D, so ravel is not necessary.  Use `to_numpy()` for conversion to a numpy array instead.\n",
      "  ind         = np.argwhere(np.isnan(subsetgdf.m_water_vx).ravel()==False).flatten()\n"
     ]
    },
    {
     "name": "stdout",
     "output_type": "stream",
     "text": [
      "Finished Inversion 857 out of 1345 at 09/17/25 15:44:46\n",
      "Finished Writing Data 857 out of 1345 at 09/17/25 15:44:46\n"
     ]
    },
    {
     "name": "stderr",
     "output_type": "stream",
     "text": [
      "/var/folders/m9/d8bbz1wx4f50q99kfb1jv9pw0000gn/T/ipykernel_31286/2106180866.py:6: FutureWarning: Series.ravel is deprecated. The underlying array is already 1D, so ravel is not necessary.  Use `to_numpy()` for conversion to a numpy array instead.\n",
      "  ind         = np.argwhere(np.isnan(subsetgdf.m_water_vx).ravel()==False).flatten()\n"
     ]
    },
    {
     "name": "stdout",
     "output_type": "stream",
     "text": [
      "Finished Inversion 859 out of 1345 at 09/17/25 15:44:53\n",
      "Finished Writing Data 859 out of 1345 at 09/17/25 15:44:53\n"
     ]
    },
    {
     "name": "stderr",
     "output_type": "stream",
     "text": [
      "/var/folders/m9/d8bbz1wx4f50q99kfb1jv9pw0000gn/T/ipykernel_31286/2106180866.py:6: FutureWarning: Series.ravel is deprecated. The underlying array is already 1D, so ravel is not necessary.  Use `to_numpy()` for conversion to a numpy array instead.\n",
      "  ind         = np.argwhere(np.isnan(subsetgdf.m_water_vx).ravel()==False).flatten()\n"
     ]
    },
    {
     "name": "stdout",
     "output_type": "stream",
     "text": [
      "Finished Inversion 861 out of 1345 at 09/17/25 15:45:01\n",
      "Finished Writing Data 861 out of 1345 at 09/17/25 15:45:01\n"
     ]
    },
    {
     "name": "stderr",
     "output_type": "stream",
     "text": [
      "/var/folders/m9/d8bbz1wx4f50q99kfb1jv9pw0000gn/T/ipykernel_31286/2106180866.py:6: FutureWarning: Series.ravel is deprecated. The underlying array is already 1D, so ravel is not necessary.  Use `to_numpy()` for conversion to a numpy array instead.\n",
      "  ind         = np.argwhere(np.isnan(subsetgdf.m_water_vx).ravel()==False).flatten()\n"
     ]
    },
    {
     "name": "stdout",
     "output_type": "stream",
     "text": [
      "Finished Inversion 863 out of 1345 at 09/17/25 15:45:08\n",
      "Finished Writing Data 863 out of 1345 at 09/17/25 15:45:08\n"
     ]
    },
    {
     "name": "stderr",
     "output_type": "stream",
     "text": [
      "/var/folders/m9/d8bbz1wx4f50q99kfb1jv9pw0000gn/T/ipykernel_31286/2106180866.py:6: FutureWarning: Series.ravel is deprecated. The underlying array is already 1D, so ravel is not necessary.  Use `to_numpy()` for conversion to a numpy array instead.\n",
      "  ind         = np.argwhere(np.isnan(subsetgdf.m_water_vx).ravel()==False).flatten()\n"
     ]
    },
    {
     "name": "stdout",
     "output_type": "stream",
     "text": [
      "Finished Inversion 865 out of 1345 at 09/17/25 15:45:15\n",
      "Finished Writing Data 865 out of 1345 at 09/17/25 15:45:15\n"
     ]
    },
    {
     "name": "stderr",
     "output_type": "stream",
     "text": [
      "/var/folders/m9/d8bbz1wx4f50q99kfb1jv9pw0000gn/T/ipykernel_31286/2106180866.py:6: FutureWarning: Series.ravel is deprecated. The underlying array is already 1D, so ravel is not necessary.  Use `to_numpy()` for conversion to a numpy array instead.\n",
      "  ind         = np.argwhere(np.isnan(subsetgdf.m_water_vx).ravel()==False).flatten()\n"
     ]
    },
    {
     "name": "stdout",
     "output_type": "stream",
     "text": [
      "Finished Inversion 866 out of 1345 at 09/17/25 15:45:23\n",
      "Finished Writing Data 866 out of 1345 at 09/17/25 15:45:23\n"
     ]
    },
    {
     "name": "stderr",
     "output_type": "stream",
     "text": [
      "/var/folders/m9/d8bbz1wx4f50q99kfb1jv9pw0000gn/T/ipykernel_31286/2106180866.py:6: FutureWarning: Series.ravel is deprecated. The underlying array is already 1D, so ravel is not necessary.  Use `to_numpy()` for conversion to a numpy array instead.\n",
      "  ind         = np.argwhere(np.isnan(subsetgdf.m_water_vx).ravel()==False).flatten()\n"
     ]
    },
    {
     "name": "stdout",
     "output_type": "stream",
     "text": [
      "Finished Inversion 868 out of 1345 at 09/17/25 15:45:30\n",
      "Finished Writing Data 868 out of 1345 at 09/17/25 15:45:30\n"
     ]
    },
    {
     "name": "stderr",
     "output_type": "stream",
     "text": [
      "/var/folders/m9/d8bbz1wx4f50q99kfb1jv9pw0000gn/T/ipykernel_31286/2106180866.py:6: FutureWarning: Series.ravel is deprecated. The underlying array is already 1D, so ravel is not necessary.  Use `to_numpy()` for conversion to a numpy array instead.\n",
      "  ind         = np.argwhere(np.isnan(subsetgdf.m_water_vx).ravel()==False).flatten()\n"
     ]
    },
    {
     "name": "stdout",
     "output_type": "stream",
     "text": [
      "Finished Inversion 870 out of 1345 at 09/17/25 15:45:38\n",
      "Finished Writing Data 870 out of 1345 at 09/17/25 15:45:38\n"
     ]
    },
    {
     "name": "stderr",
     "output_type": "stream",
     "text": [
      "/var/folders/m9/d8bbz1wx4f50q99kfb1jv9pw0000gn/T/ipykernel_31286/2106180866.py:6: FutureWarning: Series.ravel is deprecated. The underlying array is already 1D, so ravel is not necessary.  Use `to_numpy()` for conversion to a numpy array instead.\n",
      "  ind         = np.argwhere(np.isnan(subsetgdf.m_water_vx).ravel()==False).flatten()\n"
     ]
    },
    {
     "name": "stdout",
     "output_type": "stream",
     "text": [
      "Finished Inversion 872 out of 1345 at 09/17/25 15:45:45\n",
      "Finished Writing Data 872 out of 1345 at 09/17/25 15:45:45\n"
     ]
    },
    {
     "name": "stderr",
     "output_type": "stream",
     "text": [
      "/var/folders/m9/d8bbz1wx4f50q99kfb1jv9pw0000gn/T/ipykernel_31286/2106180866.py:6: FutureWarning: Series.ravel is deprecated. The underlying array is already 1D, so ravel is not necessary.  Use `to_numpy()` for conversion to a numpy array instead.\n",
      "  ind         = np.argwhere(np.isnan(subsetgdf.m_water_vx).ravel()==False).flatten()\n"
     ]
    },
    {
     "name": "stdout",
     "output_type": "stream",
     "text": [
      "Finished Inversion 874 out of 1345 at 09/17/25 15:45:53\n",
      "Finished Writing Data 874 out of 1345 at 09/17/25 15:45:53\n"
     ]
    },
    {
     "name": "stderr",
     "output_type": "stream",
     "text": [
      "/var/folders/m9/d8bbz1wx4f50q99kfb1jv9pw0000gn/T/ipykernel_31286/2106180866.py:6: FutureWarning: Series.ravel is deprecated. The underlying array is already 1D, so ravel is not necessary.  Use `to_numpy()` for conversion to a numpy array instead.\n",
      "  ind         = np.argwhere(np.isnan(subsetgdf.m_water_vx).ravel()==False).flatten()\n"
     ]
    },
    {
     "name": "stdout",
     "output_type": "stream",
     "text": [
      "Finished Inversion 877 out of 1345 at 09/17/25 15:46:00\n",
      "Finished Writing Data 877 out of 1345 at 09/17/25 15:46:00\n"
     ]
    },
    {
     "name": "stderr",
     "output_type": "stream",
     "text": [
      "/var/folders/m9/d8bbz1wx4f50q99kfb1jv9pw0000gn/T/ipykernel_31286/2106180866.py:6: FutureWarning: Series.ravel is deprecated. The underlying array is already 1D, so ravel is not necessary.  Use `to_numpy()` for conversion to a numpy array instead.\n",
      "  ind         = np.argwhere(np.isnan(subsetgdf.m_water_vx).ravel()==False).flatten()\n"
     ]
    },
    {
     "name": "stdout",
     "output_type": "stream",
     "text": [
      "Finished Inversion 879 out of 1345 at 09/17/25 15:46:08\n",
      "Finished Writing Data 879 out of 1345 at 09/17/25 15:46:08\n"
     ]
    },
    {
     "name": "stderr",
     "output_type": "stream",
     "text": [
      "/var/folders/m9/d8bbz1wx4f50q99kfb1jv9pw0000gn/T/ipykernel_31286/2106180866.py:6: FutureWarning: Series.ravel is deprecated. The underlying array is already 1D, so ravel is not necessary.  Use `to_numpy()` for conversion to a numpy array instead.\n",
      "  ind         = np.argwhere(np.isnan(subsetgdf.m_water_vx).ravel()==False).flatten()\n"
     ]
    },
    {
     "name": "stdout",
     "output_type": "stream",
     "text": [
      "Finished Inversion 881 out of 1345 at 09/17/25 15:46:16\n",
      "Finished Writing Data 881 out of 1345 at 09/17/25 15:46:16\n"
     ]
    },
    {
     "name": "stderr",
     "output_type": "stream",
     "text": [
      "/var/folders/m9/d8bbz1wx4f50q99kfb1jv9pw0000gn/T/ipykernel_31286/2106180866.py:6: FutureWarning: Series.ravel is deprecated. The underlying array is already 1D, so ravel is not necessary.  Use `to_numpy()` for conversion to a numpy array instead.\n",
      "  ind         = np.argwhere(np.isnan(subsetgdf.m_water_vx).ravel()==False).flatten()\n"
     ]
    },
    {
     "name": "stdout",
     "output_type": "stream",
     "text": [
      "Finished Inversion 883 out of 1345 at 09/17/25 15:46:25\n",
      "Finished Writing Data 883 out of 1345 at 09/17/25 15:46:25\n"
     ]
    },
    {
     "name": "stderr",
     "output_type": "stream",
     "text": [
      "/var/folders/m9/d8bbz1wx4f50q99kfb1jv9pw0000gn/T/ipykernel_31286/2106180866.py:6: FutureWarning: Series.ravel is deprecated. The underlying array is already 1D, so ravel is not necessary.  Use `to_numpy()` for conversion to a numpy array instead.\n",
      "  ind         = np.argwhere(np.isnan(subsetgdf.m_water_vx).ravel()==False).flatten()\n"
     ]
    },
    {
     "name": "stdout",
     "output_type": "stream",
     "text": [
      "Finished Inversion 885 out of 1345 at 09/17/25 15:46:33\n",
      "Finished Writing Data 885 out of 1345 at 09/17/25 15:46:33\n"
     ]
    },
    {
     "name": "stderr",
     "output_type": "stream",
     "text": [
      "/var/folders/m9/d8bbz1wx4f50q99kfb1jv9pw0000gn/T/ipykernel_31286/2106180866.py:6: FutureWarning: Series.ravel is deprecated. The underlying array is already 1D, so ravel is not necessary.  Use `to_numpy()` for conversion to a numpy array instead.\n",
      "  ind         = np.argwhere(np.isnan(subsetgdf.m_water_vx).ravel()==False).flatten()\n"
     ]
    },
    {
     "name": "stdout",
     "output_type": "stream",
     "text": [
      "Finished Inversion 887 out of 1345 at 09/17/25 15:46:41\n",
      "Finished Writing Data 887 out of 1345 at 09/17/25 15:46:41\n"
     ]
    },
    {
     "name": "stderr",
     "output_type": "stream",
     "text": [
      "/var/folders/m9/d8bbz1wx4f50q99kfb1jv9pw0000gn/T/ipykernel_31286/2106180866.py:6: FutureWarning: Series.ravel is deprecated. The underlying array is already 1D, so ravel is not necessary.  Use `to_numpy()` for conversion to a numpy array instead.\n",
      "  ind         = np.argwhere(np.isnan(subsetgdf.m_water_vx).ravel()==False).flatten()\n"
     ]
    },
    {
     "name": "stdout",
     "output_type": "stream",
     "text": [
      "Finished Inversion 888 out of 1345 at 09/17/25 15:46:49\n",
      "Finished Writing Data 888 out of 1345 at 09/17/25 15:46:49\n"
     ]
    },
    {
     "name": "stderr",
     "output_type": "stream",
     "text": [
      "/var/folders/m9/d8bbz1wx4f50q99kfb1jv9pw0000gn/T/ipykernel_31286/2106180866.py:6: FutureWarning: Series.ravel is deprecated. The underlying array is already 1D, so ravel is not necessary.  Use `to_numpy()` for conversion to a numpy array instead.\n",
      "  ind         = np.argwhere(np.isnan(subsetgdf.m_water_vx).ravel()==False).flatten()\n"
     ]
    },
    {
     "name": "stdout",
     "output_type": "stream",
     "text": [
      "Finished Inversion 890 out of 1345 at 09/17/25 15:46:57\n",
      "Finished Writing Data 890 out of 1345 at 09/17/25 15:46:57\n"
     ]
    },
    {
     "name": "stderr",
     "output_type": "stream",
     "text": [
      "/var/folders/m9/d8bbz1wx4f50q99kfb1jv9pw0000gn/T/ipykernel_31286/2106180866.py:6: FutureWarning: Series.ravel is deprecated. The underlying array is already 1D, so ravel is not necessary.  Use `to_numpy()` for conversion to a numpy array instead.\n",
      "  ind         = np.argwhere(np.isnan(subsetgdf.m_water_vx).ravel()==False).flatten()\n"
     ]
    },
    {
     "name": "stdout",
     "output_type": "stream",
     "text": [
      "Finished Inversion 892 out of 1345 at 09/17/25 15:47:05\n",
      "Finished Writing Data 892 out of 1345 at 09/17/25 15:47:05\n"
     ]
    },
    {
     "name": "stderr",
     "output_type": "stream",
     "text": [
      "/var/folders/m9/d8bbz1wx4f50q99kfb1jv9pw0000gn/T/ipykernel_31286/2106180866.py:6: FutureWarning: Series.ravel is deprecated. The underlying array is already 1D, so ravel is not necessary.  Use `to_numpy()` for conversion to a numpy array instead.\n",
      "  ind         = np.argwhere(np.isnan(subsetgdf.m_water_vx).ravel()==False).flatten()\n"
     ]
    },
    {
     "name": "stdout",
     "output_type": "stream",
     "text": [
      "Finished Inversion 894 out of 1345 at 09/17/25 15:47:14\n",
      "Finished Writing Data 894 out of 1345 at 09/17/25 15:47:14\n"
     ]
    },
    {
     "name": "stderr",
     "output_type": "stream",
     "text": [
      "/var/folders/m9/d8bbz1wx4f50q99kfb1jv9pw0000gn/T/ipykernel_31286/2106180866.py:6: FutureWarning: Series.ravel is deprecated. The underlying array is already 1D, so ravel is not necessary.  Use `to_numpy()` for conversion to a numpy array instead.\n",
      "  ind         = np.argwhere(np.isnan(subsetgdf.m_water_vx).ravel()==False).flatten()\n"
     ]
    },
    {
     "name": "stdout",
     "output_type": "stream",
     "text": [
      "Finished Inversion 896 out of 1345 at 09/17/25 15:47:22\n",
      "Finished Writing Data 896 out of 1345 at 09/17/25 15:47:22\n"
     ]
    },
    {
     "name": "stderr",
     "output_type": "stream",
     "text": [
      "/var/folders/m9/d8bbz1wx4f50q99kfb1jv9pw0000gn/T/ipykernel_31286/2106180866.py:6: FutureWarning: Series.ravel is deprecated. The underlying array is already 1D, so ravel is not necessary.  Use `to_numpy()` for conversion to a numpy array instead.\n",
      "  ind         = np.argwhere(np.isnan(subsetgdf.m_water_vx).ravel()==False).flatten()\n"
     ]
    },
    {
     "name": "stdout",
     "output_type": "stream",
     "text": [
      "Finished Inversion 899 out of 1345 at 09/17/25 15:47:31\n",
      "Finished Writing Data 899 out of 1345 at 09/17/25 15:47:31\n"
     ]
    },
    {
     "name": "stderr",
     "output_type": "stream",
     "text": [
      "/var/folders/m9/d8bbz1wx4f50q99kfb1jv9pw0000gn/T/ipykernel_31286/2106180866.py:6: FutureWarning: Series.ravel is deprecated. The underlying array is already 1D, so ravel is not necessary.  Use `to_numpy()` for conversion to a numpy array instead.\n",
      "  ind         = np.argwhere(np.isnan(subsetgdf.m_water_vx).ravel()==False).flatten()\n"
     ]
    },
    {
     "name": "stdout",
     "output_type": "stream",
     "text": [
      "Finished Inversion 901 out of 1345 at 09/17/25 15:47:40\n",
      "Finished Writing Data 901 out of 1345 at 09/17/25 15:47:40\n"
     ]
    },
    {
     "name": "stderr",
     "output_type": "stream",
     "text": [
      "/var/folders/m9/d8bbz1wx4f50q99kfb1jv9pw0000gn/T/ipykernel_31286/2106180866.py:6: FutureWarning: Series.ravel is deprecated. The underlying array is already 1D, so ravel is not necessary.  Use `to_numpy()` for conversion to a numpy array instead.\n",
      "  ind         = np.argwhere(np.isnan(subsetgdf.m_water_vx).ravel()==False).flatten()\n"
     ]
    },
    {
     "name": "stdout",
     "output_type": "stream",
     "text": [
      "Finished Inversion 903 out of 1345 at 09/17/25 15:47:49\n",
      "Finished Writing Data 903 out of 1345 at 09/17/25 15:47:49\n"
     ]
    },
    {
     "name": "stderr",
     "output_type": "stream",
     "text": [
      "/var/folders/m9/d8bbz1wx4f50q99kfb1jv9pw0000gn/T/ipykernel_31286/2106180866.py:6: FutureWarning: Series.ravel is deprecated. The underlying array is already 1D, so ravel is not necessary.  Use `to_numpy()` for conversion to a numpy array instead.\n",
      "  ind         = np.argwhere(np.isnan(subsetgdf.m_water_vx).ravel()==False).flatten()\n"
     ]
    },
    {
     "name": "stdout",
     "output_type": "stream",
     "text": [
      "Finished Inversion 905 out of 1345 at 09/17/25 15:47:58\n",
      "Finished Writing Data 905 out of 1345 at 09/17/25 15:47:58\n"
     ]
    },
    {
     "name": "stderr",
     "output_type": "stream",
     "text": [
      "/var/folders/m9/d8bbz1wx4f50q99kfb1jv9pw0000gn/T/ipykernel_31286/2106180866.py:6: FutureWarning: Series.ravel is deprecated. The underlying array is already 1D, so ravel is not necessary.  Use `to_numpy()` for conversion to a numpy array instead.\n",
      "  ind         = np.argwhere(np.isnan(subsetgdf.m_water_vx).ravel()==False).flatten()\n"
     ]
    },
    {
     "name": "stdout",
     "output_type": "stream",
     "text": [
      "Finished Inversion 907 out of 1345 at 09/17/25 15:48:07\n",
      "Finished Writing Data 907 out of 1345 at 09/17/25 15:48:07\n"
     ]
    },
    {
     "name": "stderr",
     "output_type": "stream",
     "text": [
      "/var/folders/m9/d8bbz1wx4f50q99kfb1jv9pw0000gn/T/ipykernel_31286/2106180866.py:6: FutureWarning: Series.ravel is deprecated. The underlying array is already 1D, so ravel is not necessary.  Use `to_numpy()` for conversion to a numpy array instead.\n",
      "  ind         = np.argwhere(np.isnan(subsetgdf.m_water_vx).ravel()==False).flatten()\n"
     ]
    },
    {
     "name": "stdout",
     "output_type": "stream",
     "text": [
      "Finished Inversion 908 out of 1345 at 09/17/25 15:48:16\n",
      "Finished Writing Data 908 out of 1345 at 09/17/25 15:48:16\n"
     ]
    },
    {
     "name": "stderr",
     "output_type": "stream",
     "text": [
      "/var/folders/m9/d8bbz1wx4f50q99kfb1jv9pw0000gn/T/ipykernel_31286/2106180866.py:6: FutureWarning: Series.ravel is deprecated. The underlying array is already 1D, so ravel is not necessary.  Use `to_numpy()` for conversion to a numpy array instead.\n",
      "  ind         = np.argwhere(np.isnan(subsetgdf.m_water_vx).ravel()==False).flatten()\n"
     ]
    },
    {
     "name": "stdout",
     "output_type": "stream",
     "text": [
      "Finished Inversion 910 out of 1345 at 09/17/25 15:48:25\n",
      "Finished Writing Data 910 out of 1345 at 09/17/25 15:48:25\n"
     ]
    },
    {
     "name": "stderr",
     "output_type": "stream",
     "text": [
      "/var/folders/m9/d8bbz1wx4f50q99kfb1jv9pw0000gn/T/ipykernel_31286/2106180866.py:6: FutureWarning: Series.ravel is deprecated. The underlying array is already 1D, so ravel is not necessary.  Use `to_numpy()` for conversion to a numpy array instead.\n",
      "  ind         = np.argwhere(np.isnan(subsetgdf.m_water_vx).ravel()==False).flatten()\n"
     ]
    },
    {
     "name": "stdout",
     "output_type": "stream",
     "text": [
      "Finished Inversion 912 out of 1345 at 09/17/25 15:48:34\n",
      "Finished Writing Data 912 out of 1345 at 09/17/25 15:48:34\n"
     ]
    },
    {
     "name": "stderr",
     "output_type": "stream",
     "text": [
      "/var/folders/m9/d8bbz1wx4f50q99kfb1jv9pw0000gn/T/ipykernel_31286/2106180866.py:6: FutureWarning: Series.ravel is deprecated. The underlying array is already 1D, so ravel is not necessary.  Use `to_numpy()` for conversion to a numpy array instead.\n",
      "  ind         = np.argwhere(np.isnan(subsetgdf.m_water_vx).ravel()==False).flatten()\n"
     ]
    },
    {
     "name": "stdout",
     "output_type": "stream",
     "text": [
      "Finished Inversion 917 out of 1345 at 09/17/25 15:48:36\n",
      "Finished Writing Data 917 out of 1345 at 09/17/25 15:48:36\n"
     ]
    },
    {
     "name": "stderr",
     "output_type": "stream",
     "text": [
      "/var/folders/m9/d8bbz1wx4f50q99kfb1jv9pw0000gn/T/ipykernel_31286/2106180866.py:6: FutureWarning: Series.ravel is deprecated. The underlying array is already 1D, so ravel is not necessary.  Use `to_numpy()` for conversion to a numpy array instead.\n",
      "  ind         = np.argwhere(np.isnan(subsetgdf.m_water_vx).ravel()==False).flatten()\n"
     ]
    },
    {
     "name": "stdout",
     "output_type": "stream",
     "text": [
      "Finished Inversion 919 out of 1345 at 09/17/25 15:48:44\n",
      "Finished Writing Data 919 out of 1345 at 09/17/25 15:48:44\n"
     ]
    },
    {
     "name": "stderr",
     "output_type": "stream",
     "text": [
      "/var/folders/m9/d8bbz1wx4f50q99kfb1jv9pw0000gn/T/ipykernel_31286/2106180866.py:6: FutureWarning: Series.ravel is deprecated. The underlying array is already 1D, so ravel is not necessary.  Use `to_numpy()` for conversion to a numpy array instead.\n",
      "  ind         = np.argwhere(np.isnan(subsetgdf.m_water_vx).ravel()==False).flatten()\n"
     ]
    },
    {
     "name": "stdout",
     "output_type": "stream",
     "text": [
      "Finished Inversion 921 out of 1345 at 09/17/25 15:48:54\n",
      "Finished Writing Data 921 out of 1345 at 09/17/25 15:48:54\n"
     ]
    },
    {
     "name": "stderr",
     "output_type": "stream",
     "text": [
      "/var/folders/m9/d8bbz1wx4f50q99kfb1jv9pw0000gn/T/ipykernel_31286/2106180866.py:6: FutureWarning: Series.ravel is deprecated. The underlying array is already 1D, so ravel is not necessary.  Use `to_numpy()` for conversion to a numpy array instead.\n",
      "  ind         = np.argwhere(np.isnan(subsetgdf.m_water_vx).ravel()==False).flatten()\n"
     ]
    },
    {
     "name": "stdout",
     "output_type": "stream",
     "text": [
      "Finished Inversion 922 out of 1345 at 09/17/25 15:49:03\n",
      "Finished Writing Data 922 out of 1345 at 09/17/25 15:49:03\n"
     ]
    },
    {
     "name": "stderr",
     "output_type": "stream",
     "text": [
      "/var/folders/m9/d8bbz1wx4f50q99kfb1jv9pw0000gn/T/ipykernel_31286/2106180866.py:6: FutureWarning: Series.ravel is deprecated. The underlying array is already 1D, so ravel is not necessary.  Use `to_numpy()` for conversion to a numpy array instead.\n",
      "  ind         = np.argwhere(np.isnan(subsetgdf.m_water_vx).ravel()==False).flatten()\n"
     ]
    },
    {
     "name": "stdout",
     "output_type": "stream",
     "text": [
      "Finished Inversion 924 out of 1345 at 09/17/25 15:49:12\n",
      "Finished Writing Data 924 out of 1345 at 09/17/25 15:49:12\n"
     ]
    },
    {
     "name": "stderr",
     "output_type": "stream",
     "text": [
      "/var/folders/m9/d8bbz1wx4f50q99kfb1jv9pw0000gn/T/ipykernel_31286/2106180866.py:6: FutureWarning: Series.ravel is deprecated. The underlying array is already 1D, so ravel is not necessary.  Use `to_numpy()` for conversion to a numpy array instead.\n",
      "  ind         = np.argwhere(np.isnan(subsetgdf.m_water_vx).ravel()==False).flatten()\n"
     ]
    },
    {
     "name": "stdout",
     "output_type": "stream",
     "text": [
      "Finished Inversion 926 out of 1345 at 09/17/25 15:49:21\n",
      "Finished Writing Data 926 out of 1345 at 09/17/25 15:49:21\n"
     ]
    },
    {
     "name": "stderr",
     "output_type": "stream",
     "text": [
      "/var/folders/m9/d8bbz1wx4f50q99kfb1jv9pw0000gn/T/ipykernel_31286/2106180866.py:6: FutureWarning: Series.ravel is deprecated. The underlying array is already 1D, so ravel is not necessary.  Use `to_numpy()` for conversion to a numpy array instead.\n",
      "  ind         = np.argwhere(np.isnan(subsetgdf.m_water_vx).ravel()==False).flatten()\n"
     ]
    },
    {
     "name": "stdout",
     "output_type": "stream",
     "text": [
      "Finished Inversion 928 out of 1345 at 09/17/25 15:49:30\n",
      "Finished Writing Data 928 out of 1345 at 09/17/25 15:49:30\n"
     ]
    },
    {
     "name": "stderr",
     "output_type": "stream",
     "text": [
      "/var/folders/m9/d8bbz1wx4f50q99kfb1jv9pw0000gn/T/ipykernel_31286/2106180866.py:6: FutureWarning: Series.ravel is deprecated. The underlying array is already 1D, so ravel is not necessary.  Use `to_numpy()` for conversion to a numpy array instead.\n",
      "  ind         = np.argwhere(np.isnan(subsetgdf.m_water_vx).ravel()==False).flatten()\n"
     ]
    },
    {
     "name": "stdout",
     "output_type": "stream",
     "text": [
      "Finished Inversion 930 out of 1345 at 09/17/25 15:49:39\n",
      "Finished Writing Data 930 out of 1345 at 09/17/25 15:49:39\n"
     ]
    },
    {
     "name": "stderr",
     "output_type": "stream",
     "text": [
      "/var/folders/m9/d8bbz1wx4f50q99kfb1jv9pw0000gn/T/ipykernel_31286/2106180866.py:6: FutureWarning: Series.ravel is deprecated. The underlying array is already 1D, so ravel is not necessary.  Use `to_numpy()` for conversion to a numpy array instead.\n",
      "  ind         = np.argwhere(np.isnan(subsetgdf.m_water_vx).ravel()==False).flatten()\n"
     ]
    },
    {
     "name": "stdout",
     "output_type": "stream",
     "text": [
      "Finished Inversion 935 out of 1345 at 09/17/25 15:49:48\n",
      "Finished Writing Data 935 out of 1345 at 09/17/25 15:49:48\n"
     ]
    },
    {
     "name": "stderr",
     "output_type": "stream",
     "text": [
      "/var/folders/m9/d8bbz1wx4f50q99kfb1jv9pw0000gn/T/ipykernel_31286/2106180866.py:6: FutureWarning: Series.ravel is deprecated. The underlying array is already 1D, so ravel is not necessary.  Use `to_numpy()` for conversion to a numpy array instead.\n",
      "  ind         = np.argwhere(np.isnan(subsetgdf.m_water_vx).ravel()==False).flatten()\n"
     ]
    },
    {
     "name": "stdout",
     "output_type": "stream",
     "text": [
      "Finished Inversion 937 out of 1345 at 09/17/25 15:49:58\n",
      "Finished Writing Data 937 out of 1345 at 09/17/25 15:49:58\n"
     ]
    },
    {
     "name": "stderr",
     "output_type": "stream",
     "text": [
      "/var/folders/m9/d8bbz1wx4f50q99kfb1jv9pw0000gn/T/ipykernel_31286/2106180866.py:6: FutureWarning: Series.ravel is deprecated. The underlying array is already 1D, so ravel is not necessary.  Use `to_numpy()` for conversion to a numpy array instead.\n",
      "  ind         = np.argwhere(np.isnan(subsetgdf.m_water_vx).ravel()==False).flatten()\n"
     ]
    },
    {
     "name": "stdout",
     "output_type": "stream",
     "text": [
      "Finished Inversion 939 out of 1345 at 09/17/25 15:50:07\n",
      "Finished Writing Data 939 out of 1345 at 09/17/25 15:50:07\n"
     ]
    },
    {
     "name": "stderr",
     "output_type": "stream",
     "text": [
      "/var/folders/m9/d8bbz1wx4f50q99kfb1jv9pw0000gn/T/ipykernel_31286/2106180866.py:6: FutureWarning: Series.ravel is deprecated. The underlying array is already 1D, so ravel is not necessary.  Use `to_numpy()` for conversion to a numpy array instead.\n",
      "  ind         = np.argwhere(np.isnan(subsetgdf.m_water_vx).ravel()==False).flatten()\n"
     ]
    },
    {
     "name": "stdout",
     "output_type": "stream",
     "text": [
      "Finished Inversion 941 out of 1345 at 09/17/25 15:50:16\n",
      "Finished Writing Data 941 out of 1345 at 09/17/25 15:50:16\n"
     ]
    },
    {
     "name": "stderr",
     "output_type": "stream",
     "text": [
      "/var/folders/m9/d8bbz1wx4f50q99kfb1jv9pw0000gn/T/ipykernel_31286/2106180866.py:6: FutureWarning: Series.ravel is deprecated. The underlying array is already 1D, so ravel is not necessary.  Use `to_numpy()` for conversion to a numpy array instead.\n",
      "  ind         = np.argwhere(np.isnan(subsetgdf.m_water_vx).ravel()==False).flatten()\n"
     ]
    },
    {
     "name": "stdout",
     "output_type": "stream",
     "text": [
      "Finished Inversion 943 out of 1345 at 09/17/25 15:50:16\n",
      "Finished Writing Data 943 out of 1345 at 09/17/25 15:50:16\n"
     ]
    },
    {
     "name": "stderr",
     "output_type": "stream",
     "text": [
      "/var/folders/m9/d8bbz1wx4f50q99kfb1jv9pw0000gn/T/ipykernel_31286/2106180866.py:6: FutureWarning: Series.ravel is deprecated. The underlying array is already 1D, so ravel is not necessary.  Use `to_numpy()` for conversion to a numpy array instead.\n",
      "  ind         = np.argwhere(np.isnan(subsetgdf.m_water_vx).ravel()==False).flatten()\n"
     ]
    },
    {
     "name": "stdout",
     "output_type": "stream",
     "text": [
      "Finished Inversion 944 out of 1345 at 09/17/25 15:50:25\n",
      "Finished Writing Data 944 out of 1345 at 09/17/25 15:50:25\n"
     ]
    },
    {
     "name": "stderr",
     "output_type": "stream",
     "text": [
      "/var/folders/m9/d8bbz1wx4f50q99kfb1jv9pw0000gn/T/ipykernel_31286/2106180866.py:6: FutureWarning: Series.ravel is deprecated. The underlying array is already 1D, so ravel is not necessary.  Use `to_numpy()` for conversion to a numpy array instead.\n",
      "  ind         = np.argwhere(np.isnan(subsetgdf.m_water_vx).ravel()==False).flatten()\n"
     ]
    },
    {
     "name": "stdout",
     "output_type": "stream",
     "text": [
      "Finished Inversion 946 out of 1345 at 09/17/25 15:50:34\n",
      "Finished Writing Data 946 out of 1345 at 09/17/25 15:50:34\n"
     ]
    },
    {
     "name": "stderr",
     "output_type": "stream",
     "text": [
      "/var/folders/m9/d8bbz1wx4f50q99kfb1jv9pw0000gn/T/ipykernel_31286/2106180866.py:6: FutureWarning: Series.ravel is deprecated. The underlying array is already 1D, so ravel is not necessary.  Use `to_numpy()` for conversion to a numpy array instead.\n",
      "  ind         = np.argwhere(np.isnan(subsetgdf.m_water_vx).ravel()==False).flatten()\n"
     ]
    },
    {
     "name": "stdout",
     "output_type": "stream",
     "text": [
      "Finished Inversion 948 out of 1345 at 09/17/25 15:50:39\n",
      "Finished Writing Data 948 out of 1345 at 09/17/25 15:50:39\n"
     ]
    },
    {
     "name": "stderr",
     "output_type": "stream",
     "text": [
      "/var/folders/m9/d8bbz1wx4f50q99kfb1jv9pw0000gn/T/ipykernel_31286/2106180866.py:6: FutureWarning: Series.ravel is deprecated. The underlying array is already 1D, so ravel is not necessary.  Use `to_numpy()` for conversion to a numpy array instead.\n",
      "  ind         = np.argwhere(np.isnan(subsetgdf.m_water_vx).ravel()==False).flatten()\n"
     ]
    },
    {
     "name": "stdout",
     "output_type": "stream",
     "text": [
      "Finished Inversion 950 out of 1345 at 09/17/25 15:50:43\n",
      "Finished Writing Data 950 out of 1345 at 09/17/25 15:50:43\n"
     ]
    },
    {
     "name": "stderr",
     "output_type": "stream",
     "text": [
      "/var/folders/m9/d8bbz1wx4f50q99kfb1jv9pw0000gn/T/ipykernel_31286/2106180866.py:6: FutureWarning: Series.ravel is deprecated. The underlying array is already 1D, so ravel is not necessary.  Use `to_numpy()` for conversion to a numpy array instead.\n",
      "  ind         = np.argwhere(np.isnan(subsetgdf.m_water_vx).ravel()==False).flatten()\n"
     ]
    },
    {
     "name": "stdout",
     "output_type": "stream",
     "text": [
      "Finished Inversion 952 out of 1345 at 09/17/25 15:50:47\n",
      "Finished Writing Data 952 out of 1345 at 09/17/25 15:50:47\n"
     ]
    },
    {
     "name": "stderr",
     "output_type": "stream",
     "text": [
      "/var/folders/m9/d8bbz1wx4f50q99kfb1jv9pw0000gn/T/ipykernel_31286/2106180866.py:6: FutureWarning: Series.ravel is deprecated. The underlying array is already 1D, so ravel is not necessary.  Use `to_numpy()` for conversion to a numpy array instead.\n",
      "  ind         = np.argwhere(np.isnan(subsetgdf.m_water_vx).ravel()==False).flatten()\n"
     ]
    },
    {
     "name": "stdout",
     "output_type": "stream",
     "text": [
      "Finished Inversion 954 out of 1345 at 09/17/25 15:50:51\n",
      "Finished Writing Data 954 out of 1345 at 09/17/25 15:50:51\n"
     ]
    },
    {
     "name": "stderr",
     "output_type": "stream",
     "text": [
      "/var/folders/m9/d8bbz1wx4f50q99kfb1jv9pw0000gn/T/ipykernel_31286/2106180866.py:6: FutureWarning: Series.ravel is deprecated. The underlying array is already 1D, so ravel is not necessary.  Use `to_numpy()` for conversion to a numpy array instead.\n",
      "  ind         = np.argwhere(np.isnan(subsetgdf.m_water_vx).ravel()==False).flatten()\n"
     ]
    },
    {
     "name": "stdout",
     "output_type": "stream",
     "text": [
      "Finished Inversion 956 out of 1345 at 09/17/25 15:50:59\n",
      "Finished Writing Data 956 out of 1345 at 09/17/25 15:50:59\n"
     ]
    },
    {
     "name": "stderr",
     "output_type": "stream",
     "text": [
      "/var/folders/m9/d8bbz1wx4f50q99kfb1jv9pw0000gn/T/ipykernel_31286/2106180866.py:6: FutureWarning: Series.ravel is deprecated. The underlying array is already 1D, so ravel is not necessary.  Use `to_numpy()` for conversion to a numpy array instead.\n",
      "  ind         = np.argwhere(np.isnan(subsetgdf.m_water_vx).ravel()==False).flatten()\n"
     ]
    },
    {
     "name": "stdout",
     "output_type": "stream",
     "text": [
      "Finished Inversion 957 out of 1345 at 09/17/25 15:51:04\n",
      "Finished Writing Data 957 out of 1345 at 09/17/25 15:51:04\n"
     ]
    },
    {
     "name": "stderr",
     "output_type": "stream",
     "text": [
      "/var/folders/m9/d8bbz1wx4f50q99kfb1jv9pw0000gn/T/ipykernel_31286/2106180866.py:6: FutureWarning: Series.ravel is deprecated. The underlying array is already 1D, so ravel is not necessary.  Use `to_numpy()` for conversion to a numpy array instead.\n",
      "  ind         = np.argwhere(np.isnan(subsetgdf.m_water_vx).ravel()==False).flatten()\n"
     ]
    },
    {
     "name": "stdout",
     "output_type": "stream",
     "text": [
      "Finished Inversion 959 out of 1345 at 09/17/25 15:51:08\n",
      "Finished Writing Data 959 out of 1345 at 09/17/25 15:51:08\n"
     ]
    },
    {
     "name": "stderr",
     "output_type": "stream",
     "text": [
      "/var/folders/m9/d8bbz1wx4f50q99kfb1jv9pw0000gn/T/ipykernel_31286/2106180866.py:6: FutureWarning: Series.ravel is deprecated. The underlying array is already 1D, so ravel is not necessary.  Use `to_numpy()` for conversion to a numpy array instead.\n",
      "  ind         = np.argwhere(np.isnan(subsetgdf.m_water_vx).ravel()==False).flatten()\n"
     ]
    },
    {
     "name": "stdout",
     "output_type": "stream",
     "text": [
      "Finished Inversion 961 out of 1345 at 09/17/25 15:51:12\n",
      "Finished Writing Data 961 out of 1345 at 09/17/25 15:51:12\n"
     ]
    },
    {
     "name": "stderr",
     "output_type": "stream",
     "text": [
      "/var/folders/m9/d8bbz1wx4f50q99kfb1jv9pw0000gn/T/ipykernel_31286/2106180866.py:6: FutureWarning: Series.ravel is deprecated. The underlying array is already 1D, so ravel is not necessary.  Use `to_numpy()` for conversion to a numpy array instead.\n",
      "  ind         = np.argwhere(np.isnan(subsetgdf.m_water_vx).ravel()==False).flatten()\n"
     ]
    },
    {
     "name": "stdout",
     "output_type": "stream",
     "text": [
      "Finished Inversion 963 out of 1345 at 09/17/25 15:51:16\n",
      "Finished Writing Data 963 out of 1345 at 09/17/25 15:51:16\n"
     ]
    },
    {
     "name": "stderr",
     "output_type": "stream",
     "text": [
      "/var/folders/m9/d8bbz1wx4f50q99kfb1jv9pw0000gn/T/ipykernel_31286/2106180866.py:6: FutureWarning: Series.ravel is deprecated. The underlying array is already 1D, so ravel is not necessary.  Use `to_numpy()` for conversion to a numpy array instead.\n",
      "  ind         = np.argwhere(np.isnan(subsetgdf.m_water_vx).ravel()==False).flatten()\n"
     ]
    },
    {
     "name": "stdout",
     "output_type": "stream",
     "text": [
      "Finished Inversion 965 out of 1345 at 09/17/25 15:51:20\n",
      "Finished Writing Data 965 out of 1345 at 09/17/25 15:51:20\n"
     ]
    },
    {
     "name": "stderr",
     "output_type": "stream",
     "text": [
      "/var/folders/m9/d8bbz1wx4f50q99kfb1jv9pw0000gn/T/ipykernel_31286/2106180866.py:6: FutureWarning: Series.ravel is deprecated. The underlying array is already 1D, so ravel is not necessary.  Use `to_numpy()` for conversion to a numpy array instead.\n",
      "  ind         = np.argwhere(np.isnan(subsetgdf.m_water_vx).ravel()==False).flatten()\n"
     ]
    },
    {
     "name": "stdout",
     "output_type": "stream",
     "text": [
      "Finished Inversion 968 out of 1345 at 09/17/25 15:51:25\n",
      "Finished Writing Data 968 out of 1345 at 09/17/25 15:51:25\n"
     ]
    },
    {
     "name": "stderr",
     "output_type": "stream",
     "text": [
      "/var/folders/m9/d8bbz1wx4f50q99kfb1jv9pw0000gn/T/ipykernel_31286/2106180866.py:6: FutureWarning: Series.ravel is deprecated. The underlying array is already 1D, so ravel is not necessary.  Use `to_numpy()` for conversion to a numpy array instead.\n",
      "  ind         = np.argwhere(np.isnan(subsetgdf.m_water_vx).ravel()==False).flatten()\n"
     ]
    },
    {
     "name": "stdout",
     "output_type": "stream",
     "text": [
      "Finished Inversion 970 out of 1345 at 09/17/25 15:51:29\n",
      "Finished Writing Data 970 out of 1345 at 09/17/25 15:51:29\n"
     ]
    },
    {
     "name": "stderr",
     "output_type": "stream",
     "text": [
      "/var/folders/m9/d8bbz1wx4f50q99kfb1jv9pw0000gn/T/ipykernel_31286/2106180866.py:6: FutureWarning: Series.ravel is deprecated. The underlying array is already 1D, so ravel is not necessary.  Use `to_numpy()` for conversion to a numpy array instead.\n",
      "  ind         = np.argwhere(np.isnan(subsetgdf.m_water_vx).ravel()==False).flatten()\n"
     ]
    },
    {
     "name": "stdout",
     "output_type": "stream",
     "text": [
      "Finished Inversion 978 out of 1345 at 09/17/25 15:51:37\n",
      "Finished Writing Data 978 out of 1345 at 09/17/25 15:51:37\n"
     ]
    },
    {
     "name": "stderr",
     "output_type": "stream",
     "text": [
      "/var/folders/m9/d8bbz1wx4f50q99kfb1jv9pw0000gn/T/ipykernel_31286/2106180866.py:6: FutureWarning: Series.ravel is deprecated. The underlying array is already 1D, so ravel is not necessary.  Use `to_numpy()` for conversion to a numpy array instead.\n",
      "  ind         = np.argwhere(np.isnan(subsetgdf.m_water_vx).ravel()==False).flatten()\n"
     ]
    },
    {
     "name": "stdout",
     "output_type": "stream",
     "text": [
      "Finished Inversion 1000 out of 1345 at 09/17/25 15:51:47\n",
      "Finished Writing Data 1000 out of 1345 at 09/17/25 15:51:47\n"
     ]
    },
    {
     "name": "stderr",
     "output_type": "stream",
     "text": [
      "/var/folders/m9/d8bbz1wx4f50q99kfb1jv9pw0000gn/T/ipykernel_31286/2106180866.py:6: FutureWarning: Series.ravel is deprecated. The underlying array is already 1D, so ravel is not necessary.  Use `to_numpy()` for conversion to a numpy array instead.\n",
      "  ind         = np.argwhere(np.isnan(subsetgdf.m_water_vx).ravel()==False).flatten()\n"
     ]
    },
    {
     "name": "stdout",
     "output_type": "stream",
     "text": [
      "Finished Inversion 1014 out of 1345 at 09/17/25 15:51:55\n",
      "Finished Writing Data 1014 out of 1345 at 09/17/25 15:51:55\n"
     ]
    },
    {
     "name": "stderr",
     "output_type": "stream",
     "text": [
      "/var/folders/m9/d8bbz1wx4f50q99kfb1jv9pw0000gn/T/ipykernel_31286/2106180866.py:6: FutureWarning: Series.ravel is deprecated. The underlying array is already 1D, so ravel is not necessary.  Use `to_numpy()` for conversion to a numpy array instead.\n",
      "  ind         = np.argwhere(np.isnan(subsetgdf.m_water_vx).ravel()==False).flatten()\n"
     ]
    }
   ],
   "source": [
    "for x in range(0,len(start_times)):\n",
    "\n",
    "    ## Subset glider df to one segment\n",
    "    subsetgdf = gdf[(gdf.time >= start_times[x]) & (gdf.time <= end_times[x])]\n",
    "    \n",
    "    ind         = np.argwhere(np.isnan(subsetgdf.m_water_vx).ravel()==False).flatten()\n",
    "    \n",
    "    if len(ind)>0:\n",
    "        ## Pull out last non-NaN lat/lon    \n",
    "        vx          = subsetgdf.m_water_vx.iloc[ind[-1]]\n",
    "        vy          = subsetgdf.m_water_vy.iloc[ind[-1]]\n",
    "        mag_var     = np.nanmean(subsetgdf.m_gps_mag_var) ## mean over the whole segment for this one because it only changes at the surface\n",
    "        vx_start_lon = subsetgdf.longitude.iloc[ind[0]]\n",
    "        vx_start_lat = subsetgdf.latitude.iloc[ind[0]]\n",
    "        vx_end_lon   = subsetgdf.longitude.iloc[ind[-1]]\n",
    "        vx_end_lat   = subsetgdf.latitude.iloc[ind[-1]]\n",
    "        vx_start_tm = subsetgdf.time.iloc[0]\n",
    "        vx_end_tm   = subsetgdf.time.iloc[-1]\n",
    "        \n",
    "    if subsetgdf.depth.max() < 10:\n",
    "            continue\n",
    "            \n",
    "    ad2cp_time_ind = np.where((tot_ad2cp.time.values >= start_times2[x]) & (tot_ad2cp.time.values <= end_times2[x]))[0]\n",
    "    if len(ad2cp_time_ind) > 0:\n",
    "\n",
    "        subset_ad2cp = tot_ad2cp.sel(time= slice(tot_ad2cp.time.values[ad2cp_time_ind[0]],tot_ad2cp.time.values[ad2cp_time_ind[-1]]))\n",
    "\n",
    "        # Just check if there is still data after the subsetting \n",
    "        if len(subset_ad2cp.time) > 0:\n",
    "            \n",
    "            # Pre-process data before inversion\n",
    "\n",
    "            ## Correct DAC for local magnetic declination\n",
    "            _,vx_cor,vy_cor= slocum_ad2cp.mag_var_correction(subsetgdf['m_heading'].values,vx,vy,mag_var)\n",
    "            ## Correct AD2CP heading for local magnetic declination\n",
    "            subset_ad2cp= slocum_ad2cp.mag_var_correction_ad2cp_ds(subset_ad2cp, heading_var=\"CorrectedHeading\", mag_var_arr=mag_var)\n",
    "            ## Correct for local speed of sound\n",
    "            subset_ad2cp = slocum_ad2cp.correct_sound_speed(subset_ad2cp)\n",
    "            ## QAQC pre-coordinate transformation\n",
    "            subset_ad2cp = slocum_ad2cp.qaqc_pre_coord_transform(subset_ad2cp, corr_threshold = 50, max_amplitude = 75)\n",
    "            ## Correct beams to level true-depth\n",
    "            subset_ad2cp = slocum_ad2cp.beam_true_depth(subset_ad2cp)\n",
    "            ## Bin map\n",
    "            subset_ad2cp = slocum_ad2cp.binmap_adcp(subset_ad2cp)\n",
    "            ## AHRS rotation matrix\n",
    "            subset_ad2cp = slocum_ad2cp.calcAHRS(subset_ad2cp)\n",
    "            ## Beam to ENU\n",
    "            subset_ad2cp = slocum_ad2cp.beam2enu(subset_ad2cp)\n",
    "            ## QAQC post-coordinate transformation\n",
    "            subset_ad2cp = slocum_ad2cp.qaqc_post_coord_transform(subset_ad2cp, high_velocity_threshold=0.75, surface_depth_to_filter = 5)\n",
    "            \n",
    "            ## Now ready for inversion!\n",
    "            dz=10            \n",
    "            wDAC = 5\n",
    "            wSmoothness = 1\n",
    "            O_ls, G_ls, bin_new, obs_per_bin = slocum_ad2cp.inversion(subset_ad2cp.UVelocity.values,subset_ad2cp.VVelocity.values,\n",
    "                                                                      dz,vx_cor,vy_cor,subset_ad2cp['VelocityRange'].values,subset_ad2cp['Depth'].values, wDAC, wSmoothness)\n",
    "            now = datetime.now().strftime(\"%m/%d/%y %H:%M:%S\")\n",
    "            print(\"Finished Inversion\", x ,\"out of\",len(start_times),\"at\" ,now)\n",
    "\n",
    "            ###############################################\n",
    "            #             Save master dataset             #\n",
    "            ###############################################\n",
    "            fname = \"../processed_data/RU29_2024_AD2CP_Processed_Segment_\"+str(x)+\".csv\".format(dz,x)\n",
    "\n",
    "            ## Make into a dataframe to save as a CSV\n",
    "            d = {'inversion_u': np.real(O_ls), 'inversion_v': np.imag(O_ls), \"inversion_depth\": bin_new,\n",
    "                 \"start_lon\": np.tile(vx_start_lon,len(bin_new)), \"start_lat\": np.tile(vx_start_lat,len(bin_new)),\n",
    "                 \"end_lon\": np.tile(vx_end_lon,len(bin_new)), \"end_lat\": np.tile(vx_end_lat,len(bin_new)),\n",
    "                 \"start_tm\": np.tile(vx_start_tm, len(bin_new)), \"end_tm\": np.tile(vx_end_tm, len(bin_new)),\n",
    "                 \"obs_per_bin\": obs_per_bin}\n",
    "\n",
    "\n",
    "            df = pd.DataFrame(data=d)\n",
    "            df.to_csv(fname,index=False) \n",
    "            now = datetime.now().strftime(\"%m/%d/%y %H:%M:%S\")\n",
    "            print(\"Finished Writing Data\", x ,\"out of\",len(start_times),\"at\" ,now)\n",
    "            del subset_ad2cp\n",
    "            \n",
    "        else:\n",
    "            del subset_ad2cp\n",
    "            "
   ]
  },
  {
   "cell_type": "markdown",
   "id": "1fa496e8-9616-4e49-8e65-abb34f866ed2",
   "metadata": {},
   "source": [
    "## Load in Processed AD2CP Data and Export NetCDF"
   ]
  },
  {
   "cell_type": "code",
   "execution_count": 7,
   "id": "a8026acc-8b31-4c6e-93f4-e785c2e7771e",
   "metadata": {},
   "outputs": [
    {
     "data": {
      "text/html": [
       "<div><svg style=\"position: absolute; width: 0; height: 0; overflow: hidden\">\n",
       "<defs>\n",
       "<symbol id=\"icon-database\" viewBox=\"0 0 32 32\">\n",
       "<path d=\"M16 0c-8.837 0-16 2.239-16 5v4c0 2.761 7.163 5 16 5s16-2.239 16-5v-4c0-2.761-7.163-5-16-5z\"></path>\n",
       "<path d=\"M16 17c-8.837 0-16-2.239-16-5v6c0 2.761 7.163 5 16 5s16-2.239 16-5v-6c0 2.761-7.163 5-16 5z\"></path>\n",
       "<path d=\"M16 26c-8.837 0-16-2.239-16-5v6c0 2.761 7.163 5 16 5s16-2.239 16-5v-6c0 2.761-7.163 5-16 5z\"></path>\n",
       "</symbol>\n",
       "<symbol id=\"icon-file-text2\" viewBox=\"0 0 32 32\">\n",
       "<path d=\"M28.681 7.159c-0.694-0.947-1.662-2.053-2.724-3.116s-2.169-2.030-3.116-2.724c-1.612-1.182-2.393-1.319-2.841-1.319h-15.5c-1.378 0-2.5 1.121-2.5 2.5v27c0 1.378 1.122 2.5 2.5 2.5h23c1.378 0 2.5-1.122 2.5-2.5v-19.5c0-0.448-0.137-1.23-1.319-2.841zM24.543 5.457c0.959 0.959 1.712 1.825 2.268 2.543h-4.811v-4.811c0.718 0.556 1.584 1.309 2.543 2.268zM28 29.5c0 0.271-0.229 0.5-0.5 0.5h-23c-0.271 0-0.5-0.229-0.5-0.5v-27c0-0.271 0.229-0.5 0.5-0.5 0 0 15.499-0 15.5 0v7c0 0.552 0.448 1 1 1h7v19.5z\"></path>\n",
       "<path d=\"M23 26h-14c-0.552 0-1-0.448-1-1s0.448-1 1-1h14c0.552 0 1 0.448 1 1s-0.448 1-1 1z\"></path>\n",
       "<path d=\"M23 22h-14c-0.552 0-1-0.448-1-1s0.448-1 1-1h14c0.552 0 1 0.448 1 1s-0.448 1-1 1z\"></path>\n",
       "<path d=\"M23 18h-14c-0.552 0-1-0.448-1-1s0.448-1 1-1h14c0.552 0 1 0.448 1 1s-0.448 1-1 1z\"></path>\n",
       "</symbol>\n",
       "</defs>\n",
       "</svg>\n",
       "<style>/* CSS stylesheet for displaying xarray objects in jupyterlab.\n",
       " *\n",
       " */\n",
       "\n",
       ":root {\n",
       "  --xr-font-color0: var(--jp-content-font-color0, rgba(0, 0, 0, 1));\n",
       "  --xr-font-color2: var(--jp-content-font-color2, rgba(0, 0, 0, 0.54));\n",
       "  --xr-font-color3: var(--jp-content-font-color3, rgba(0, 0, 0, 0.38));\n",
       "  --xr-border-color: var(--jp-border-color2, #e0e0e0);\n",
       "  --xr-disabled-color: var(--jp-layout-color3, #bdbdbd);\n",
       "  --xr-background-color: var(--jp-layout-color0, white);\n",
       "  --xr-background-color-row-even: var(--jp-layout-color1, white);\n",
       "  --xr-background-color-row-odd: var(--jp-layout-color2, #eeeeee);\n",
       "}\n",
       "\n",
       "html[theme=\"dark\"],\n",
       "html[data-theme=\"dark\"],\n",
       "body[data-theme=\"dark\"],\n",
       "body.vscode-dark {\n",
       "  --xr-font-color0: rgba(255, 255, 255, 1);\n",
       "  --xr-font-color2: rgba(255, 255, 255, 0.54);\n",
       "  --xr-font-color3: rgba(255, 255, 255, 0.38);\n",
       "  --xr-border-color: #1f1f1f;\n",
       "  --xr-disabled-color: #515151;\n",
       "  --xr-background-color: #111111;\n",
       "  --xr-background-color-row-even: #111111;\n",
       "  --xr-background-color-row-odd: #313131;\n",
       "}\n",
       "\n",
       ".xr-wrap {\n",
       "  display: block !important;\n",
       "  min-width: 300px;\n",
       "  max-width: 700px;\n",
       "}\n",
       "\n",
       ".xr-text-repr-fallback {\n",
       "  /* fallback to plain text repr when CSS is not injected (untrusted notebook) */\n",
       "  display: none;\n",
       "}\n",
       "\n",
       ".xr-header {\n",
       "  padding-top: 6px;\n",
       "  padding-bottom: 6px;\n",
       "  margin-bottom: 4px;\n",
       "  border-bottom: solid 1px var(--xr-border-color);\n",
       "}\n",
       "\n",
       ".xr-header > div,\n",
       ".xr-header > ul {\n",
       "  display: inline;\n",
       "  margin-top: 0;\n",
       "  margin-bottom: 0;\n",
       "}\n",
       "\n",
       ".xr-obj-type,\n",
       ".xr-array-name {\n",
       "  margin-left: 2px;\n",
       "  margin-right: 10px;\n",
       "}\n",
       "\n",
       ".xr-obj-type {\n",
       "  color: var(--xr-font-color2);\n",
       "}\n",
       "\n",
       ".xr-sections {\n",
       "  padding-left: 0 !important;\n",
       "  display: grid;\n",
       "  grid-template-columns: 150px auto auto 1fr 0 20px 0 20px;\n",
       "}\n",
       "\n",
       ".xr-section-item {\n",
       "  display: contents;\n",
       "}\n",
       "\n",
       ".xr-section-item input {\n",
       "  display: inline-block;\n",
       "  opacity: 0;\n",
       "  height: 0;\n",
       "}\n",
       "\n",
       ".xr-section-item input + label {\n",
       "  color: var(--xr-disabled-color);\n",
       "}\n",
       "\n",
       ".xr-section-item input:enabled + label {\n",
       "  cursor: pointer;\n",
       "  color: var(--xr-font-color2);\n",
       "}\n",
       "\n",
       ".xr-section-item input:focus + label {\n",
       "  border: 2px solid var(--xr-font-color0);\n",
       "}\n",
       "\n",
       ".xr-section-item input:enabled + label:hover {\n",
       "  color: var(--xr-font-color0);\n",
       "}\n",
       "\n",
       ".xr-section-summary {\n",
       "  grid-column: 1;\n",
       "  color: var(--xr-font-color2);\n",
       "  font-weight: 500;\n",
       "}\n",
       "\n",
       ".xr-section-summary > span {\n",
       "  display: inline-block;\n",
       "  padding-left: 0.5em;\n",
       "}\n",
       "\n",
       ".xr-section-summary-in:disabled + label {\n",
       "  color: var(--xr-font-color2);\n",
       "}\n",
       "\n",
       ".xr-section-summary-in + label:before {\n",
       "  display: inline-block;\n",
       "  content: \"►\";\n",
       "  font-size: 11px;\n",
       "  width: 15px;\n",
       "  text-align: center;\n",
       "}\n",
       "\n",
       ".xr-section-summary-in:disabled + label:before {\n",
       "  color: var(--xr-disabled-color);\n",
       "}\n",
       "\n",
       ".xr-section-summary-in:checked + label:before {\n",
       "  content: \"▼\";\n",
       "}\n",
       "\n",
       ".xr-section-summary-in:checked + label > span {\n",
       "  display: none;\n",
       "}\n",
       "\n",
       ".xr-section-summary,\n",
       ".xr-section-inline-details {\n",
       "  padding-top: 4px;\n",
       "  padding-bottom: 4px;\n",
       "}\n",
       "\n",
       ".xr-section-inline-details {\n",
       "  grid-column: 2 / -1;\n",
       "}\n",
       "\n",
       ".xr-section-details {\n",
       "  display: none;\n",
       "  grid-column: 1 / -1;\n",
       "  margin-bottom: 5px;\n",
       "}\n",
       "\n",
       ".xr-section-summary-in:checked ~ .xr-section-details {\n",
       "  display: contents;\n",
       "}\n",
       "\n",
       ".xr-array-wrap {\n",
       "  grid-column: 1 / -1;\n",
       "  display: grid;\n",
       "  grid-template-columns: 20px auto;\n",
       "}\n",
       "\n",
       ".xr-array-wrap > label {\n",
       "  grid-column: 1;\n",
       "  vertical-align: top;\n",
       "}\n",
       "\n",
       ".xr-preview {\n",
       "  color: var(--xr-font-color3);\n",
       "}\n",
       "\n",
       ".xr-array-preview,\n",
       ".xr-array-data {\n",
       "  padding: 0 5px !important;\n",
       "  grid-column: 2;\n",
       "}\n",
       "\n",
       ".xr-array-data,\n",
       ".xr-array-in:checked ~ .xr-array-preview {\n",
       "  display: none;\n",
       "}\n",
       "\n",
       ".xr-array-in:checked ~ .xr-array-data,\n",
       ".xr-array-preview {\n",
       "  display: inline-block;\n",
       "}\n",
       "\n",
       ".xr-dim-list {\n",
       "  display: inline-block !important;\n",
       "  list-style: none;\n",
       "  padding: 0 !important;\n",
       "  margin: 0;\n",
       "}\n",
       "\n",
       ".xr-dim-list li {\n",
       "  display: inline-block;\n",
       "  padding: 0;\n",
       "  margin: 0;\n",
       "}\n",
       "\n",
       ".xr-dim-list:before {\n",
       "  content: \"(\";\n",
       "}\n",
       "\n",
       ".xr-dim-list:after {\n",
       "  content: \")\";\n",
       "}\n",
       "\n",
       ".xr-dim-list li:not(:last-child):after {\n",
       "  content: \",\";\n",
       "  padding-right: 5px;\n",
       "}\n",
       "\n",
       ".xr-has-index {\n",
       "  font-weight: bold;\n",
       "}\n",
       "\n",
       ".xr-var-list,\n",
       ".xr-var-item {\n",
       "  display: contents;\n",
       "}\n",
       "\n",
       ".xr-var-item > div,\n",
       ".xr-var-item label,\n",
       ".xr-var-item > .xr-var-name span {\n",
       "  background-color: var(--xr-background-color-row-even);\n",
       "  margin-bottom: 0;\n",
       "}\n",
       "\n",
       ".xr-var-item > .xr-var-name:hover span {\n",
       "  padding-right: 5px;\n",
       "}\n",
       "\n",
       ".xr-var-list > li:nth-child(odd) > div,\n",
       ".xr-var-list > li:nth-child(odd) > label,\n",
       ".xr-var-list > li:nth-child(odd) > .xr-var-name span {\n",
       "  background-color: var(--xr-background-color-row-odd);\n",
       "}\n",
       "\n",
       ".xr-var-name {\n",
       "  grid-column: 1;\n",
       "}\n",
       "\n",
       ".xr-var-dims {\n",
       "  grid-column: 2;\n",
       "}\n",
       "\n",
       ".xr-var-dtype {\n",
       "  grid-column: 3;\n",
       "  text-align: right;\n",
       "  color: var(--xr-font-color2);\n",
       "}\n",
       "\n",
       ".xr-var-preview {\n",
       "  grid-column: 4;\n",
       "}\n",
       "\n",
       ".xr-index-preview {\n",
       "  grid-column: 2 / 5;\n",
       "  color: var(--xr-font-color2);\n",
       "}\n",
       "\n",
       ".xr-var-name,\n",
       ".xr-var-dims,\n",
       ".xr-var-dtype,\n",
       ".xr-preview,\n",
       ".xr-attrs dt {\n",
       "  white-space: nowrap;\n",
       "  overflow: hidden;\n",
       "  text-overflow: ellipsis;\n",
       "  padding-right: 10px;\n",
       "}\n",
       "\n",
       ".xr-var-name:hover,\n",
       ".xr-var-dims:hover,\n",
       ".xr-var-dtype:hover,\n",
       ".xr-attrs dt:hover {\n",
       "  overflow: visible;\n",
       "  width: auto;\n",
       "  z-index: 1;\n",
       "}\n",
       "\n",
       ".xr-var-attrs,\n",
       ".xr-var-data,\n",
       ".xr-index-data {\n",
       "  display: none;\n",
       "  background-color: var(--xr-background-color) !important;\n",
       "  padding-bottom: 5px !important;\n",
       "}\n",
       "\n",
       ".xr-var-attrs-in:checked ~ .xr-var-attrs,\n",
       ".xr-var-data-in:checked ~ .xr-var-data,\n",
       ".xr-index-data-in:checked ~ .xr-index-data {\n",
       "  display: block;\n",
       "}\n",
       "\n",
       ".xr-var-data > table {\n",
       "  float: right;\n",
       "}\n",
       "\n",
       ".xr-var-name span,\n",
       ".xr-var-data,\n",
       ".xr-index-name div,\n",
       ".xr-index-data,\n",
       ".xr-attrs {\n",
       "  padding-left: 25px !important;\n",
       "}\n",
       "\n",
       ".xr-attrs,\n",
       ".xr-var-attrs,\n",
       ".xr-var-data,\n",
       ".xr-index-data {\n",
       "  grid-column: 1 / -1;\n",
       "}\n",
       "\n",
       "dl.xr-attrs {\n",
       "  padding: 0;\n",
       "  margin: 0;\n",
       "  display: grid;\n",
       "  grid-template-columns: 125px auto;\n",
       "}\n",
       "\n",
       ".xr-attrs dt,\n",
       ".xr-attrs dd {\n",
       "  padding: 0;\n",
       "  margin: 0;\n",
       "  float: left;\n",
       "  padding-right: 10px;\n",
       "  width: auto;\n",
       "}\n",
       "\n",
       ".xr-attrs dt {\n",
       "  font-weight: normal;\n",
       "  grid-column: 1;\n",
       "}\n",
       "\n",
       ".xr-attrs dt:hover span {\n",
       "  display: inline-block;\n",
       "  background: var(--xr-background-color);\n",
       "  padding-right: 10px;\n",
       "}\n",
       "\n",
       ".xr-attrs dd {\n",
       "  grid-column: 2;\n",
       "  white-space: pre-wrap;\n",
       "  word-break: break-all;\n",
       "}\n",
       "\n",
       ".xr-icon-database,\n",
       ".xr-icon-file-text2,\n",
       ".xr-no-icon {\n",
       "  display: inline-block;\n",
       "  vertical-align: middle;\n",
       "  width: 1em;\n",
       "  height: 1.5em !important;\n",
       "  stroke-width: 0;\n",
       "  stroke: currentColor;\n",
       "  fill: currentColor;\n",
       "}\n",
       "</style><pre class='xr-text-repr-fallback'>&lt;xarray.Dataset&gt; Size: 813kB\n",
       "Dimensions:     (depth: 100, time: 486)\n",
       "Coordinates:\n",
       "  * time        (time) datetime64[ns] 4kB 2024-04-19T14:50:04 ... 2024-06-30T...\n",
       "  * depth       (depth) float64 800B 5.0 15.0 25.0 35.0 ... 975.0 985.0 995.0\n",
       "Data variables:\n",
       "    u_grid      (depth, time) float64 389kB -0.04912 0.03099 ... nan nan\n",
       "    v_grid      (depth, time) float64 389kB 0.05382 -0.01673 0.03206 ... nan nan\n",
       "    latitude    (time) float64 4kB 17.78 17.78 17.78 17.78 ... 16.13 16.13 16.13\n",
       "    longitude   (time) float64 4kB -67.06 -67.07 -67.08 ... -69.0 -69.0 -69.0\n",
       "    start_lat   (time) float64 4kB 17.78 17.78 17.78 17.78 ... 16.13 16.13 16.13\n",
       "    start_lon   (time) float64 4kB -67.06 -67.06 -67.07 ... -69.0 -69.0 -69.0\n",
       "    end_lat     (time) float64 4kB 17.78 17.78 17.78 17.78 ... 16.13 16.13 16.13\n",
       "    end_lon     (time) float64 4kB -67.06 -67.07 -67.09 ... -69.0 -69.0 -69.0\n",
       "    start_time  (time) datetime64[ns] 4kB 2024-04-19T14:30:28 ... 2024-06-30T...\n",
       "    end_time    (time) datetime64[ns] 4kB 2024-04-19T14:50:04 ... 2024-06-30T...\n",
       "Attributes:\n",
       "    description:  RU29 Nortek AD2CP least-squares inversion velocity profile ...</pre><div class='xr-wrap' style='display:none'><div class='xr-header'><div class='xr-obj-type'>xarray.Dataset</div></div><ul class='xr-sections'><li class='xr-section-item'><input id='section-78770429-5ce8-4c43-90b8-f515a4bed2df' class='xr-section-summary-in' type='checkbox' disabled ><label for='section-78770429-5ce8-4c43-90b8-f515a4bed2df' class='xr-section-summary'  title='Expand/collapse section'>Dimensions:</label><div class='xr-section-inline-details'><ul class='xr-dim-list'><li><span class='xr-has-index'>depth</span>: 100</li><li><span class='xr-has-index'>time</span>: 486</li></ul></div><div class='xr-section-details'></div></li><li class='xr-section-item'><input id='section-d0eb3337-4d2b-447d-8680-896bf93afac6' class='xr-section-summary-in' type='checkbox'  checked><label for='section-d0eb3337-4d2b-447d-8680-896bf93afac6' class='xr-section-summary' >Coordinates: <span>(2)</span></label><div class='xr-section-inline-details'></div><div class='xr-section-details'><ul class='xr-var-list'><li class='xr-var-item'><div class='xr-var-name'><span class='xr-has-index'>time</span></div><div class='xr-var-dims'>(time)</div><div class='xr-var-dtype'>datetime64[ns]</div><div class='xr-var-preview xr-preview'>2024-04-19T14:50:04 ... 2024-06-...</div><input id='attrs-49e0c694-2423-4029-81b0-8bf60799f981' class='xr-var-attrs-in' type='checkbox' disabled><label for='attrs-49e0c694-2423-4029-81b0-8bf60799f981' title='Show/Hide attributes'><svg class='icon xr-icon-file-text2'><use xlink:href='#icon-file-text2'></use></svg></label><input id='data-edbcb36a-4cc3-4661-a95b-2b0fd5215436' class='xr-var-data-in' type='checkbox'><label for='data-edbcb36a-4cc3-4661-a95b-2b0fd5215436' title='Show/Hide data repr'><svg class='icon xr-icon-database'><use xlink:href='#icon-database'></use></svg></label><div class='xr-var-attrs'><dl class='xr-attrs'></dl></div><div class='xr-var-data'><pre>array([&#x27;2024-04-19T14:50:04.000000000&#x27;, &#x27;2024-04-19T16:22:57.000000000&#x27;,\n",
       "       &#x27;2024-04-19T18:23:13.000000000&#x27;, ..., &#x27;2024-06-30T12:47:36.000000000&#x27;,\n",
       "       &#x27;2024-06-30T14:48:42.000000000&#x27;, &#x27;2024-06-30T16:54:09.000000000&#x27;],\n",
       "      dtype=&#x27;datetime64[ns]&#x27;)</pre></div></li><li class='xr-var-item'><div class='xr-var-name'><span class='xr-has-index'>depth</span></div><div class='xr-var-dims'>(depth)</div><div class='xr-var-dtype'>float64</div><div class='xr-var-preview xr-preview'>5.0 15.0 25.0 ... 975.0 985.0 995.0</div><input id='attrs-4fbb4ff4-c07c-4ac8-969c-8eb6537f15db' class='xr-var-attrs-in' type='checkbox' disabled><label for='attrs-4fbb4ff4-c07c-4ac8-969c-8eb6537f15db' title='Show/Hide attributes'><svg class='icon xr-icon-file-text2'><use xlink:href='#icon-file-text2'></use></svg></label><input id='data-65dfa09d-9a2f-4fb1-a7e4-aceddeb88f11' class='xr-var-data-in' type='checkbox'><label for='data-65dfa09d-9a2f-4fb1-a7e4-aceddeb88f11' title='Show/Hide data repr'><svg class='icon xr-icon-database'><use xlink:href='#icon-database'></use></svg></label><div class='xr-var-attrs'><dl class='xr-attrs'></dl></div><div class='xr-var-data'><pre>array([  5.,  15.,  25.,  35.,  45.,  55.,  65.,  75.,  85.,  95., 105., 115.,\n",
       "       125., 135., 145., 155., 165., 175., 185., 195., 205., 215., 225., 235.,\n",
       "       245., 255., 265., 275., 285., 295., 305., 315., 325., 335., 345., 355.,\n",
       "       365., 375., 385., 395., 405., 415., 425., 435., 445., 455., 465., 475.,\n",
       "       485., 495., 505., 515., 525., 535., 545., 555., 565., 575., 585., 595.,\n",
       "       605., 615., 625., 635., 645., 655., 665., 675., 685., 695., 705., 715.,\n",
       "       725., 735., 745., 755., 765., 775., 785., 795., 805., 815., 825., 835.,\n",
       "       845., 855., 865., 875., 885., 895., 905., 915., 925., 935., 945., 955.,\n",
       "       965., 975., 985., 995.])</pre></div></li></ul></div></li><li class='xr-section-item'><input id='section-f66bc8e3-e564-45c2-8d93-dd816f98df56' class='xr-section-summary-in' type='checkbox'  checked><label for='section-f66bc8e3-e564-45c2-8d93-dd816f98df56' class='xr-section-summary' >Data variables: <span>(10)</span></label><div class='xr-section-inline-details'></div><div class='xr-section-details'><ul class='xr-var-list'><li class='xr-var-item'><div class='xr-var-name'><span>u_grid</span></div><div class='xr-var-dims'>(depth, time)</div><div class='xr-var-dtype'>float64</div><div class='xr-var-preview xr-preview'>-0.04912 0.03099 ... nan nan</div><input id='attrs-95b983e0-9ad5-4d06-82a7-e12662b2e37b' class='xr-var-attrs-in' type='checkbox' disabled><label for='attrs-95b983e0-9ad5-4d06-82a7-e12662b2e37b' title='Show/Hide attributes'><svg class='icon xr-icon-file-text2'><use xlink:href='#icon-file-text2'></use></svg></label><input id='data-89986f21-9237-4215-b3d7-c89df3ccc61a' class='xr-var-data-in' type='checkbox'><label for='data-89986f21-9237-4215-b3d7-c89df3ccc61a' title='Show/Hide data repr'><svg class='icon xr-icon-database'><use xlink:href='#icon-database'></use></svg></label><div class='xr-var-attrs'><dl class='xr-attrs'></dl></div><div class='xr-var-data'><pre>array([[-0.04911823,  0.03098958,  0.0017225 , ..., -0.05390686,\n",
       "         0.04452074,  0.16538258],\n",
       "       [-0.04729412,  0.04082246,  0.00615194, ..., -0.06188871,\n",
       "        -0.01692693,  0.10689605],\n",
       "       [-0.04623935,  0.04417387,  0.00957553, ..., -0.06090597,\n",
       "        -0.03075975,  0.07672742],\n",
       "       ...,\n",
       "       [        nan,         nan,         nan, ...,         nan,\n",
       "                nan,         nan],\n",
       "       [        nan,         nan,         nan, ...,         nan,\n",
       "                nan,         nan],\n",
       "       [        nan,         nan,         nan, ...,         nan,\n",
       "                nan,         nan]])</pre></div></li><li class='xr-var-item'><div class='xr-var-name'><span>v_grid</span></div><div class='xr-var-dims'>(depth, time)</div><div class='xr-var-dtype'>float64</div><div class='xr-var-preview xr-preview'>0.05382 -0.01673 ... nan nan</div><input id='attrs-284ed8e6-c47e-46cd-9b3a-1b0272762710' class='xr-var-attrs-in' type='checkbox' disabled><label for='attrs-284ed8e6-c47e-46cd-9b3a-1b0272762710' title='Show/Hide attributes'><svg class='icon xr-icon-file-text2'><use xlink:href='#icon-file-text2'></use></svg></label><input id='data-b5c662c8-8229-427d-8728-9ac52d22c556' class='xr-var-data-in' type='checkbox'><label for='data-b5c662c8-8229-427d-8728-9ac52d22c556' title='Show/Hide data repr'><svg class='icon xr-icon-database'><use xlink:href='#icon-database'></use></svg></label><div class='xr-var-attrs'><dl class='xr-attrs'></dl></div><div class='xr-var-data'><pre>array([[ 0.05381816, -0.01672603,  0.03205995, ..., -0.02610705,\n",
       "        -0.07529756, -0.09697714],\n",
       "       [ 0.04588423, -0.01595651,  0.01798992, ..., -0.05172119,\n",
       "        -0.0754647 , -0.08354443],\n",
       "       [ 0.04554505, -0.01614627,  0.01511956, ..., -0.06185025,\n",
       "        -0.07713376, -0.07322489],\n",
       "       ...,\n",
       "       [        nan,         nan,         nan, ...,         nan,\n",
       "                nan,         nan],\n",
       "       [        nan,         nan,         nan, ...,         nan,\n",
       "                nan,         nan],\n",
       "       [        nan,         nan,         nan, ...,         nan,\n",
       "                nan,         nan]])</pre></div></li><li class='xr-var-item'><div class='xr-var-name'><span>latitude</span></div><div class='xr-var-dims'>(time)</div><div class='xr-var-dtype'>float64</div><div class='xr-var-preview xr-preview'>17.78 17.78 17.78 ... 16.13 16.13</div><input id='attrs-aeecc2b2-b7c8-4ef0-8670-078fcff73b2d' class='xr-var-attrs-in' type='checkbox' disabled><label for='attrs-aeecc2b2-b7c8-4ef0-8670-078fcff73b2d' title='Show/Hide attributes'><svg class='icon xr-icon-file-text2'><use xlink:href='#icon-file-text2'></use></svg></label><input id='data-01289920-6df2-4edc-b973-2e8d14b09e6f' class='xr-var-data-in' type='checkbox'><label for='data-01289920-6df2-4edc-b973-2e8d14b09e6f' title='Show/Hide data repr'><svg class='icon xr-icon-database'><use xlink:href='#icon-database'></use></svg></label><div class='xr-var-attrs'><dl class='xr-attrs'></dl></div><div class='xr-var-data'><pre>array([17.77968083, 17.778245  , 17.7762875 , 17.776785  , 17.778565  ,\n",
       "       17.77859167, 17.777155  , 17.77608583, 17.774485  , 17.77323333,\n",
       "       17.77462583, 17.77725   , 17.77724833, 17.77719917, 17.78069167,\n",
       "       17.7829725 , 17.78284   , 17.786345  , 17.79184167, 17.79319667,\n",
       "       17.7950425 , 17.80153167, 17.8053475 , 17.80528083, 17.805335  ,\n",
       "       17.8066475 , 17.80717417, 17.8054225 , 17.80431167, 17.8045525 ,\n",
       "       17.80274583, 17.797445  , 17.7931225 , 17.78950083, 17.7846675 ,\n",
       "       17.77872333, 17.77123583, 17.7649025 , 17.76200917, 17.75861083,\n",
       "       17.76363583, 17.76495917, 17.757475  , 17.758745  , 17.75612167,\n",
       "       17.74986417, 17.74942167, 17.75216   , 17.7519225 , 17.74810333,\n",
       "       17.745505  , 17.74576083, 17.74436917, 17.741265  , 17.74149167,\n",
       "       17.74293083, 17.74150333, 17.73808   , 17.7362875 , 17.7370225 ,\n",
       "       17.73895083, 17.7391775 , 17.7168175 , 17.67372167, 17.62998   ,\n",
       "       17.58518417, 17.53962583, 17.49321083, 17.44614083, 17.40018   ,\n",
       "       17.35545833, 17.31051917, 17.26525   , 17.22082083, 17.1773225 ,\n",
       "       17.13556667, 17.09577583, 17.057075  , 17.02140417, 16.986765  ,\n",
       "       16.94935917, 16.9093625 , 16.87062917, 16.83440667, 16.79701667,\n",
       "       16.76052583, 16.72741917, 16.6950025 , 16.66146667, 16.62669   ,\n",
       "       16.59193167, 16.55719   , 16.52138417, 16.48529333, 16.44950583,\n",
       "       16.4139825 , 16.37765917, 16.34043083, 16.30407917, 16.26762417,\n",
       "...\n",
       "       15.74989167, 15.719915  , 15.69023333, 15.65949583, 15.6276675 ,\n",
       "       15.59604917, 15.56256   , 15.5283075 , 15.49606583, 15.46333917,\n",
       "       15.42876083, 15.39422167, 15.35985   , 15.32370333, 15.28653417,\n",
       "       15.24885667, 15.2102425 , 15.17041167, 15.12893583, 15.08635583,\n",
       "       15.04358   , 14.9995525 , 14.953285  , 14.92909667, 14.91122667,\n",
       "       14.9297325 , 14.95120667, 14.97415083, 14.99658167, 15.0203925 ,\n",
       "       15.046175  , 15.07243083, 15.1006525 , 15.13023083, 15.1589125 ,\n",
       "       15.18794833, 15.21752667, 15.24717333, 15.277465  , 15.30790167,\n",
       "       15.3366725 , 15.3681375 , 15.39894833, 15.4297225 , 15.46280583,\n",
       "       15.49589   , 15.52710083, 15.55997333, 15.59415833, 15.6257925 ,\n",
       "       15.65708333, 15.69013833, 15.72177417, 15.75207917, 15.78223083,\n",
       "       15.8126625 , 15.84465167, 15.87614583, 15.906665  , 15.93775833,\n",
       "       15.96825417, 15.99960083, 16.0332725 , 16.06626083, 16.06336   ,\n",
       "       16.02821833, 16.01277833, 16.01455917, 16.01732333, 16.01941333,\n",
       "       16.02250167, 16.02224917, 16.0191025 , 16.01509417, 16.01159083,\n",
       "       16.00866417, 16.0052575 , 16.0030525 , 16.00097333, 16.00405583,\n",
       "       16.01065833, 16.02743417, 16.059145  , 16.09089833, 16.12092833,\n",
       "       16.1324275 , 16.12521917, 16.125495  , 16.12329167, 16.12351167,\n",
       "       16.12361083, 16.12207917, 16.12623   , 16.12568833, 16.1258375 ,\n",
       "       16.12611667])</pre></div></li><li class='xr-var-item'><div class='xr-var-name'><span>longitude</span></div><div class='xr-var-dims'>(time)</div><div class='xr-var-dtype'>float64</div><div class='xr-var-preview xr-preview'>-67.06 -67.07 ... -69.0 -69.0</div><input id='attrs-548a2557-d411-4efe-867f-ea0b2d926149' class='xr-var-attrs-in' type='checkbox' disabled><label for='attrs-548a2557-d411-4efe-867f-ea0b2d926149' title='Show/Hide attributes'><svg class='icon xr-icon-file-text2'><use xlink:href='#icon-file-text2'></use></svg></label><input id='data-d76cb7c5-66d3-48c9-abe7-68b52703c67a' class='xr-var-data-in' type='checkbox'><label for='data-d76cb7c5-66d3-48c9-abe7-68b52703c67a' title='Show/Hide data repr'><svg class='icon xr-icon-database'><use xlink:href='#icon-database'></use></svg></label><div class='xr-var-attrs'><dl class='xr-attrs'></dl></div><div class='xr-var-data'><pre>array([-67.0589075 , -67.06537833, -67.07947   , -67.09995417,\n",
       "       -67.12641   , -67.15524   , -67.18426167, -67.21496833,\n",
       "       -67.2466125 , -67.27792833, -67.31017583, -67.34360833,\n",
       "       -67.37665167, -67.410325  , -67.44503667, -67.47911917,\n",
       "       -67.5131575 , -67.54833333, -67.58326417, -67.61616   ,\n",
       "       -67.64936667, -67.68334583, -67.71399   , -67.7438925 ,\n",
       "       -67.77660417, -67.810165  , -67.84418   , -67.87776833,\n",
       "       -67.91291833, -67.95085167, -67.98582   , -68.01712   ,\n",
       "       -68.05155   , -68.08844917, -68.1230775 , -68.15712667,\n",
       "       -68.19318417, -68.2318575 , -68.27050833, -68.29294   ,\n",
       "       -68.30903917, -68.3398125 , -68.377005  , -68.4107825 ,\n",
       "       -68.4418325 , -68.47493   , -68.51051167, -68.54521583,\n",
       "       -68.57737917, -68.61001917, -68.64384083, -68.6767325 ,\n",
       "       -68.70934   , -68.74460667, -68.77936   , -68.81002083,\n",
       "       -68.83977917, -68.87079333, -68.90084167, -68.9290925 ,\n",
       "       -68.95669917, -68.98102   , -68.99515   , -68.99981   ,\n",
       "       -69.00223417, -69.00438083, -69.0051875 , -69.0058975 ,\n",
       "       -69.0083975 , -69.01084167, -69.01224083, -69.01279417,\n",
       "       -69.01162667, -69.01024583, -69.01077667, -69.011985  ,\n",
       "       -69.0105825 , -69.0079775 , -69.00448   , -68.99995417,\n",
       "...\n",
       "       -68.99605833, -68.9971375 , -69.00150417, -69.00480667,\n",
       "       -69.00427583, -69.00494   , -69.0096475 , -69.00701167,\n",
       "       -69.0088975 , -69.01280167, -69.01570583, -69.01692917,\n",
       "       -69.0184575 , -69.01813667, -69.01609833, -69.01643667,\n",
       "       -69.0176175 , -69.01574583, -69.01379917, -69.01255083,\n",
       "       -69.00938333, -69.00705167, -69.00760833, -69.00863   ,\n",
       "       -69.00758667, -69.00566083, -69.00400417, -69.0022775 ,\n",
       "       -69.00144167, -69.003135  , -69.0041575 , -69.0029575 ,\n",
       "       -69.002075  , -69.00172083, -69.00016167, -68.9986925 ,\n",
       "       -68.99923083, -68.9978875 , -68.99450917, -68.99339917,\n",
       "       -68.99394167, -68.99430417, -68.99629167, -68.9990075 ,\n",
       "       -68.99809167, -68.99731083, -68.99661417, -68.99605417,\n",
       "       -68.97278333, -68.9249575 , -68.878935  , -68.83295583,\n",
       "       -68.78731917, -68.7977125 , -68.82601417, -68.85235417,\n",
       "       -68.8774925 , -68.90160583, -68.92445   , -68.94628417,\n",
       "       -68.95289417, -68.962065  , -68.98247833, -68.98981917,\n",
       "       -68.9904325 , -68.9908325 , -68.990015  , -68.99549667,\n",
       "       -69.00106333, -68.99988167, -68.99881833, -68.99851667,\n",
       "       -68.99847417, -68.99975167, -69.00120167, -69.00045417,\n",
       "       -68.99958333, -68.9987925 ])</pre></div></li><li class='xr-var-item'><div class='xr-var-name'><span>start_lat</span></div><div class='xr-var-dims'>(time)</div><div class='xr-var-dtype'>float64</div><div class='xr-var-preview xr-preview'>17.78 17.78 17.78 ... 16.13 16.13</div><input id='attrs-bf737ba8-5fbc-4e48-a97c-3043f708d1d9' class='xr-var-attrs-in' type='checkbox' disabled><label for='attrs-bf737ba8-5fbc-4e48-a97c-3043f708d1d9' title='Show/Hide attributes'><svg class='icon xr-icon-file-text2'><use xlink:href='#icon-file-text2'></use></svg></label><input id='data-90dbb15c-e8e6-4ce2-85b5-ae969ffe21a6' class='xr-var-data-in' type='checkbox'><label for='data-90dbb15c-e8e6-4ce2-85b5-ae969ffe21a6' title='Show/Hide data repr'><svg class='icon xr-icon-database'><use xlink:href='#icon-database'></use></svg></label><div class='xr-var-attrs'><dl class='xr-attrs'></dl></div><div class='xr-var-data'><pre>array([17.77926167, 17.78011167, 17.77638167, 17.77622667, 17.77738   ,\n",
       "       17.77971667, 17.77743667, 17.77689667, 17.77528   , 17.77366833,\n",
       "       17.77282333, 17.77647667, 17.7781    , 17.776405  , 17.77800167,\n",
       "       17.78346   , 17.78251667, 17.78324833, 17.78952167, 17.79426333,\n",
       "       17.79225   , 17.79793   , 17.80525167, 17.80556667, 17.80509333,\n",
       "       17.80563333, 17.80775667, 17.80665667, 17.80424333, 17.80445833,\n",
       "       17.80474833, 17.80081667, 17.79411833, 17.79217   , 17.78684167,\n",
       "       17.78247667, 17.774915  , 17.76753   , 17.76226333, 17.76171333,\n",
       "       17.75542333, 17.77179667, 17.75809167, 17.75685667, 17.760545  ,\n",
       "       17.75166333, 17.74806167, 17.75076167, 17.75355333, 17.75017833,\n",
       "       17.74592667, 17.74500167, 17.74640667, 17.74226   , 17.74028167,\n",
       "       17.74267833, 17.74307333, 17.73980833, 17.73624667, 17.73618833,\n",
       "       17.737745  , 17.74005333, 17.73821833, 17.6953    , 17.65204833,\n",
       "       17.60779167, 17.56244833, 17.51669833, 17.46962333, 17.42257   ,\n",
       "       17.37768667, 17.33312667, 17.28784167, 17.24253833, 17.19901167,\n",
       "       17.15560167, 17.11550667, 17.07604333, 17.038065  , 17.00474667,\n",
       "       16.96877333, 16.92989333, 16.888755  , 16.852485  , 16.81632833,\n",
       "       16.777705  , 16.74341167, 16.71147   , 16.67852167, 16.64445   ,\n",
       "       16.60896667, 16.574885  , 16.53946333, 16.50333167, 16.46727667,\n",
       "       16.43173833, 16.39623333, 16.35909667, 16.32175833, 16.28638   ,\n",
       "...\n",
       "       15.765045  , 15.73475833, 15.705145  , 15.67535333, 15.64362333,\n",
       "       15.61170667, 15.58036833, 15.54475667, 15.51185667, 15.480265  ,\n",
       "       15.44639667, 15.411115  , 15.37729833, 15.34238833, 15.305005  ,\n",
       "       15.268055  , 15.22965833, 15.190805  , 15.15000833, 15.10785833,\n",
       "       15.06481667, 15.02234333, 14.97671833, 14.92979667, 14.902375  ,\n",
       "       14.91997   , 14.93943667, 14.96290667, 14.98536   , 15.00772333,\n",
       "       15.03296333, 15.05937667, 15.08548167, 15.11577167, 15.14464   ,\n",
       "       15.17311833, 15.202745  , 15.23230833, 15.26198667, 15.29292833,\n",
       "       15.322875  , 15.35241833, 15.38386   , 15.41401333, 15.445395  ,\n",
       "       15.48020833, 15.51156333, 15.54263833, 15.577315  , 15.610985  ,\n",
       "       15.64059333, 15.673585  , 15.70667667, 15.73686167, 15.76729667,\n",
       "       15.797165  , 15.82813   , 15.861185  , 15.89111   , 15.922195  ,\n",
       "       15.95330667, 15.98321167, 16.016015  , 16.05055667, 16.08201167,\n",
       "       16.04474333, 16.01168333, 16.01385   , 16.01519167, 16.01942   ,\n",
       "       16.02168167, 16.02333   , 16.02115333, 16.01705333, 16.01314   ,\n",
       "       16.01002667, 16.00730833, 16.00320667, 16.00288833, 15.99905167,\n",
       "       16.00899333, 16.01231333, 16.04256667, 16.07572333, 16.10606   ,\n",
       "       16.1358    , 16.12905833, 16.12137333, 16.12963833, 16.11694667,\n",
       "       16.13007667, 16.11714   , 16.12702   , 16.12544   , 16.12592833,\n",
       "       16.125735  ])</pre></div></li><li class='xr-var-item'><div class='xr-var-name'><span>start_lon</span></div><div class='xr-var-dims'>(time)</div><div class='xr-var-dtype'>float64</div><div class='xr-var-preview xr-preview'>-67.06 -67.06 ... -69.0 -69.0</div><input id='attrs-4dbafe60-0fe1-4147-a4b7-89cc1575d8e5' class='xr-var-attrs-in' type='checkbox' disabled><label for='attrs-4dbafe60-0fe1-4147-a4b7-89cc1575d8e5' title='Show/Hide attributes'><svg class='icon xr-icon-file-text2'><use xlink:href='#icon-file-text2'></use></svg></label><input id='data-8ea2e0f8-5c0c-49fd-b953-54de83131a78' class='xr-var-data-in' type='checkbox'><label for='data-8ea2e0f8-5c0c-49fd-b953-54de83131a78' title='Show/Hide data repr'><svg class='icon xr-icon-database'><use xlink:href='#icon-database'></use></svg></label><div class='xr-var-attrs'><dl class='xr-attrs'></dl></div><div class='xr-var-data'><pre>array([-67.05794833, -67.059925  , -67.07087667, -67.0881    ,\n",
       "       -67.11184   , -67.14096333, -67.16951   , -67.199025  ,\n",
       "       -67.23094833, -67.26233333, -67.29357   , -67.32681   ,\n",
       "       -67.36047   , -67.392865  , -67.42779667, -67.46227667,\n",
       "       -67.49600167, -67.530365  , -67.56634833, -67.60026167,\n",
       "       -67.6321    , -67.66667   , -67.70003   , -67.72797   ,\n",
       "       -67.75984667, -67.79339333, -67.82698   , -67.86140167,\n",
       "       -67.89416333, -67.93171   , -67.97002667, -68.00164667,\n",
       "       -68.03258333, -68.07053167, -68.10637833, -68.13982333,\n",
       "       -68.174445  , -68.21199167, -68.25178333, -68.28929333,\n",
       "       -68.29665167, -68.32149833, -68.3582    , -68.39583333,\n",
       "       -68.42579167, -68.45790167, -68.491995  , -68.52905167,\n",
       "       -68.561405  , -68.593385  , -68.62667833, -68.661005  ,\n",
       "       -68.6925    , -68.72629167, -68.76297167, -68.7957    ,\n",
       "       -68.82428667, -68.85528   , -68.88632333, -68.91538333,\n",
       "       -68.94284667, -68.97059833, -68.99152   , -68.99881667,\n",
       "       -69.000815  , -69.003725  , -69.00509   , -69.00535167,\n",
       "       -69.00648167, -69.01037   , -69.0114    , -69.0131    ,\n",
       "       -69.01251833, -69.01081667, -69.00977667, -69.01187667,\n",
       "       -69.01214167, -69.00911833, -69.00690833, -69.00206333,\n",
       "...\n",
       "       -68.99528667, -68.99683167, -68.997475  , -69.00553333,\n",
       "       -69.00409833, -69.00448833, -69.01242833, -69.00691667,\n",
       "       -69.007175  , -69.01070667, -69.01501167, -69.01644   ,\n",
       "       -69.01747667, -69.019435  , -69.01683833, -69.015385  ,\n",
       "       -69.0175    , -69.01774167, -69.01375833, -69.01384   ,\n",
       "       -69.011255  , -69.00751333, -69.0066    , -69.00864833,\n",
       "       -69.008595  , -69.00655167, -69.004765  , -69.00325333,\n",
       "       -69.00130167, -69.00158167, -69.00469167, -69.003635  ,\n",
       "       -69.00228333, -69.00185667, -69.00157167, -68.998745  ,\n",
       "       -68.99864   , -68.99982167, -68.99594   , -68.99303167,\n",
       "       -68.99371333, -68.994105  , -68.99445667, -68.99810167,\n",
       "       -68.999895  , -68.99621333, -68.99832833, -68.994795  ,\n",
       "       -68.99718833, -68.948215  , -68.90162333, -68.85616667,\n",
       "       -68.79165333, -68.78297167, -68.81241667, -68.83959833,\n",
       "       -68.86509167, -68.889805  , -68.91338333, -68.93551667,\n",
       "       -68.95695333, -68.94881333, -68.97523667, -68.98965833,\n",
       "       -68.99000833, -68.99085667, -68.99082667, -68.98923667,\n",
       "       -69.00176833, -69.000365  , -68.99937333, -68.99826833,\n",
       "       -68.998765  , -68.998195  , -69.00130167, -69.00110167,\n",
       "       -68.99979167, -68.99936   ])</pre></div></li><li class='xr-var-item'><div class='xr-var-name'><span>end_lat</span></div><div class='xr-var-dims'>(time)</div><div class='xr-var-dtype'>float64</div><div class='xr-var-preview xr-preview'>17.78 17.78 17.78 ... 16.13 16.13</div><input id='attrs-902019b7-5d5b-4a9a-b511-6394479b6f6c' class='xr-var-attrs-in' type='checkbox' disabled><label for='attrs-902019b7-5d5b-4a9a-b511-6394479b6f6c' title='Show/Hide attributes'><svg class='icon xr-icon-file-text2'><use xlink:href='#icon-file-text2'></use></svg></label><input id='data-a1e1f514-d7ee-42e8-a3eb-8087d95bee03' class='xr-var-data-in' type='checkbox'><label for='data-a1e1f514-d7ee-42e8-a3eb-8087d95bee03' title='Show/Hide data repr'><svg class='icon xr-icon-database'><use xlink:href='#icon-database'></use></svg></label><div class='xr-var-attrs'><dl class='xr-attrs'></dl></div><div class='xr-var-data'><pre>array([17.7801    , 17.77637833, 17.77619333, 17.77734333, 17.77975   ,\n",
       "       17.77746667, 17.77687333, 17.775275  , 17.77369   , 17.77279833,\n",
       "       17.77642833, 17.77802333, 17.77639667, 17.77799333, 17.78338167,\n",
       "       17.782485  , 17.78316333, 17.78944167, 17.79416167, 17.79213   ,\n",
       "       17.797835  , 17.80513333, 17.80544333, 17.804995  , 17.80557667,\n",
       "       17.80766167, 17.80659167, 17.80418833, 17.80438   , 17.80464667,\n",
       "       17.80074333, 17.79407333, 17.79212667, 17.78683167, 17.78249333,\n",
       "       17.77497   , 17.76755667, 17.762275  , 17.761755  , 17.75550833,\n",
       "       17.77184833, 17.75812167, 17.75685833, 17.76063333, 17.75169833,\n",
       "       17.748065  , 17.75078167, 17.75355833, 17.75029167, 17.74602833,\n",
       "       17.74508333, 17.74652   , 17.74233167, 17.74027   , 17.74270167,\n",
       "       17.74318333, 17.73993333, 17.73635167, 17.73632833, 17.73785667,\n",
       "       17.74015667, 17.73830167, 17.69541667, 17.65214333, 17.60791167,\n",
       "       17.56257667, 17.51680333, 17.46972333, 17.42265833, 17.37779   ,\n",
       "       17.33323   , 17.28791167, 17.24265833, 17.19910333, 17.15563333,\n",
       "       17.11553167, 17.076045  , 17.03810667, 17.00474333, 16.96878333,\n",
       "       16.929945  , 16.88883167, 16.85250333, 16.81632833, 16.777705  ,\n",
       "       16.74334667, 16.71142667, 16.678535  , 16.64441167, 16.60893   ,\n",
       "       16.57489667, 16.539495  , 16.503305  , 16.467255  , 16.431735  ,\n",
       "       16.39622667, 16.359085  , 16.321765  , 16.2864    , 16.24886833,\n",
       "...\n",
       "       15.73473833, 15.70507167, 15.67532167, 15.64363833, 15.61171167,\n",
       "       15.58039167, 15.54475167, 15.51185833, 15.480275  , 15.44641333,\n",
       "       15.411125  , 15.37732833, 15.34240167, 15.30501833, 15.26806333,\n",
       "       15.22965833, 15.19082667, 15.15001833, 15.10786333, 15.06485333,\n",
       "       15.02234333, 14.97676167, 14.92985167, 14.92839667, 14.92007833,\n",
       "       14.939495  , 14.96297667, 14.985395  , 15.00780333, 15.03306167,\n",
       "       15.05938667, 15.085485  , 15.11582333, 15.14469   , 15.173185  ,\n",
       "       15.20277833, 15.23230833, 15.26203833, 15.29294333, 15.322875  ,\n",
       "       15.35047   , 15.38385667, 15.41403667, 15.44543167, 15.48021667,\n",
       "       15.51157167, 15.54263833, 15.57730833, 15.61100167, 15.6406    ,\n",
       "       15.67357333, 15.70669167, 15.73687167, 15.76729667, 15.797165  ,\n",
       "       15.82816   , 15.86117333, 15.89110667, 15.92222   , 15.95332167,\n",
       "       15.98320167, 16.01599   , 16.05053   , 16.081965  , 16.04470833,\n",
       "       16.01169333, 16.01387333, 16.01526833, 16.019455  , 16.01940667,\n",
       "       16.02332167, 16.02116833, 16.01705167, 16.013135  , 16.01004167,\n",
       "       16.00730167, 16.00320667, 16.00289833, 15.99905833, 16.00906   ,\n",
       "       16.01232333, 16.042555  , 16.07572333, 16.10607333, 16.13579667,\n",
       "       16.129055  , 16.12138   , 16.12961667, 16.116945  , 16.13007667,\n",
       "       16.117145  , 16.12701833, 16.12544   , 16.12593667, 16.12574667,\n",
       "       16.12649833])</pre></div></li><li class='xr-var-item'><div class='xr-var-name'><span>end_lon</span></div><div class='xr-var-dims'>(time)</div><div class='xr-var-dtype'>float64</div><div class='xr-var-preview xr-preview'>-67.06 -67.07 ... -69.0 -69.0</div><input id='attrs-5b1e62bb-96d7-43a4-bfd3-c0680f20f283' class='xr-var-attrs-in' type='checkbox' disabled><label for='attrs-5b1e62bb-96d7-43a4-bfd3-c0680f20f283' title='Show/Hide attributes'><svg class='icon xr-icon-file-text2'><use xlink:href='#icon-file-text2'></use></svg></label><input id='data-2260e385-7165-4bcc-bd7f-3bc85478521f' class='xr-var-data-in' type='checkbox'><label for='data-2260e385-7165-4bcc-bd7f-3bc85478521f' title='Show/Hide data repr'><svg class='icon xr-icon-database'><use xlink:href='#icon-database'></use></svg></label><div class='xr-var-attrs'><dl class='xr-attrs'></dl></div><div class='xr-var-data'><pre>array([-67.05986667, -67.07083167, -67.08806333, -67.11180833,\n",
       "       -67.14098   , -67.16951667, -67.19901333, -67.23091167,\n",
       "       -67.26227667, -67.29352333, -67.32678167, -67.36040667,\n",
       "       -67.39283333, -67.427785  , -67.46227667, -67.49596167,\n",
       "       -67.53031333, -67.56630167, -67.60018   , -67.63205833,\n",
       "       -67.66663333, -67.70002167, -67.72795   , -67.759815  ,\n",
       "       -67.79336167, -67.82693667, -67.86138   , -67.894135  ,\n",
       "       -67.93167333, -67.96999333, -68.00161333, -68.03259333,\n",
       "       -68.07051667, -68.10636667, -68.13977667, -68.17443   ,\n",
       "       -68.21192333, -68.25172333, -68.28923333, -68.29658667,\n",
       "       -68.32142667, -68.35812667, -68.39581   , -68.42573167,\n",
       "       -68.45787333, -68.49195833, -68.52902833, -68.56138   ,\n",
       "       -68.59335333, -68.62665333, -68.66100333, -68.69246   ,\n",
       "       -68.72618   , -68.76292167, -68.79574833, -68.82434167,\n",
       "       -68.85527167, -68.88630667, -68.91536   , -68.94280167,\n",
       "       -68.97055167, -68.99144167, -68.99878   , -69.00080333,\n",
       "       -69.00365333, -69.00503667, -69.005285  , -69.00644333,\n",
       "       -69.01031333, -69.01131333, -69.01308167, -69.01248833,\n",
       "       -69.010735  , -69.009675  , -69.01177667, -69.01209333,\n",
       "       -69.00902333, -69.00683667, -69.00205167, -68.997845  ,\n",
       "...\n",
       "       -68.99683   , -68.99744333, -69.00553333, -69.00408   ,\n",
       "       -69.00445333, -69.00539167, -69.00686667, -69.00710667,\n",
       "       -69.01062   , -69.01489667, -69.0164    , -69.01741833,\n",
       "       -69.01943833, -69.01683833, -69.01535833, -69.01748833,\n",
       "       -69.017735  , -69.01375   , -69.01384   , -69.01126167,\n",
       "       -69.00751167, -69.00659   , -69.00861667, -69.00861167,\n",
       "       -69.00657833, -69.00477   , -69.00324333, -69.00130167,\n",
       "       -69.00158167, -69.00468833, -69.00362333, -69.00228   ,\n",
       "       -69.00186667, -69.001585  , -68.99875167, -68.99864   ,\n",
       "       -68.99982167, -68.99595333, -68.99307833, -68.99376667,\n",
       "       -68.99417   , -68.99450333, -68.99812667, -68.99991333,\n",
       "       -68.99628833, -68.99840833, -68.9949    , -68.99731333,\n",
       "       -68.94837833, -68.9017    , -68.85624667, -68.809745  ,\n",
       "       -68.782985  , -68.81245333, -68.83961167, -68.86511   ,\n",
       "       -68.88989333, -68.91340667, -68.93551667, -68.95705167,\n",
       "       -68.948835  , -68.97531667, -68.98972   , -68.98998   ,\n",
       "       -68.99085667, -68.99080833, -68.98920333, -69.00175667,\n",
       "       -69.00035833, -68.99939833, -68.99826333, -68.998765  ,\n",
       "       -68.99818333, -69.00130833, -69.00110167, -68.99980667,\n",
       "       -68.999375  , -68.998225  ])</pre></div></li><li class='xr-var-item'><div class='xr-var-name'><span>start_time</span></div><div class='xr-var-dims'>(time)</div><div class='xr-var-dtype'>datetime64[ns]</div><div class='xr-var-preview xr-preview'>2024-04-19T14:30:28 ... 2024-06-...</div><input id='attrs-cfcd963c-45a4-4e1f-bfe1-bf87763b8497' class='xr-var-attrs-in' type='checkbox' disabled><label for='attrs-cfcd963c-45a4-4e1f-bfe1-bf87763b8497' title='Show/Hide attributes'><svg class='icon xr-icon-file-text2'><use xlink:href='#icon-file-text2'></use></svg></label><input id='data-062674b0-dd84-47c0-b363-a77482c9a132' class='xr-var-data-in' type='checkbox'><label for='data-062674b0-dd84-47c0-b363-a77482c9a132' title='Show/Hide data repr'><svg class='icon xr-icon-database'><use xlink:href='#icon-database'></use></svg></label><div class='xr-var-attrs'><dl class='xr-attrs'></dl></div><div class='xr-var-data'><pre>array([&#x27;2024-04-19T14:30:28.000000000&#x27;, &#x27;2024-04-19T15:14:26.000000000&#x27;,\n",
       "       &#x27;2024-04-19T16:31:46.000000000&#x27;, &#x27;2024-04-19T18:31:35.000000000&#x27;,\n",
       "       &#x27;2024-04-19T21:21:40.000000000&#x27;, &#x27;2024-04-20T00:59:13.000000000&#x27;,\n",
       "       &#x27;2024-04-20T04:27:21.000000000&#x27;, &#x27;2024-04-20T07:37:57.000000000&#x27;,\n",
       "       &#x27;2024-04-20T10:51:48.000000000&#x27;, &#x27;2024-04-20T14:05:55.000000000&#x27;,\n",
       "       &#x27;2024-04-20T17:17:03.000000000&#x27;, &#x27;2024-04-20T20:27:23.000000000&#x27;,\n",
       "       &#x27;2024-04-20T23:57:21.000000000&#x27;, &#x27;2024-04-21T03:25:21.000000000&#x27;,\n",
       "       &#x27;2024-04-21T06:48:52.000000000&#x27;, &#x27;2024-04-21T10:11:14.000000000&#x27;,\n",
       "       &#x27;2024-04-21T13:44:51.000000000&#x27;, &#x27;2024-04-21T17:08:17.000000000&#x27;,\n",
       "       &#x27;2024-04-21T20:28:23.000000000&#x27;, &#x27;2024-04-21T23:47:16.000000000&#x27;,\n",
       "       &#x27;2024-04-22T03:10:22.000000000&#x27;, &#x27;2024-04-22T06:25:33.000000000&#x27;,\n",
       "       &#x27;2024-04-22T09:36:39.000000000&#x27;, &#x27;2024-04-22T12:57:51.000000000&#x27;,\n",
       "       &#x27;2024-04-22T16:19:40.000000000&#x27;, &#x27;2024-04-22T19:39:15.000000000&#x27;,\n",
       "       &#x27;2024-04-22T22:55:18.000000000&#x27;, &#x27;2024-04-23T02:21:10.000000000&#x27;,\n",
       "       &#x27;2024-04-23T05:47:00.000000000&#x27;, &#x27;2024-04-23T09:03:52.000000000&#x27;,\n",
       "       &#x27;2024-04-23T12:22:29.000000000&#x27;, &#x27;2024-04-23T15:39:56.000000000&#x27;,\n",
       "       &#x27;2024-04-23T18:51:21.000000000&#x27;, &#x27;2024-04-23T22:00:04.000000000&#x27;,\n",
       "       &#x27;2024-04-24T01:05:13.000000000&#x27;, &#x27;2024-04-24T04:13:57.000000000&#x27;,\n",
       "       &#x27;2024-04-24T07:31:47.000000000&#x27;, &#x27;2024-04-24T10:49:44.000000000&#x27;,\n",
       "       &#x27;2024-04-24T14:14:10.000000000&#x27;, &#x27;2024-04-24T17:52:06.000000000&#x27;,\n",
       "...\n",
       "       &#x27;2024-06-25T17:34:49.000000000&#x27;, &#x27;2024-06-25T21:12:17.000000000&#x27;,\n",
       "       &#x27;2024-06-26T01:11:01.000000000&#x27;, &#x27;2024-06-26T04:52:25.000000000&#x27;,\n",
       "       &#x27;2024-06-26T08:40:50.000000000&#x27;, &#x27;2024-06-26T12:26:12.000000000&#x27;,\n",
       "       &#x27;2024-06-26T16:20:31.000000000&#x27;, &#x27;2024-06-26T20:10:04.000000000&#x27;,\n",
       "       &#x27;2024-06-26T23:55:39.000000000&#x27;, &#x27;2024-06-27T03:43:40.000000000&#x27;,\n",
       "       &#x27;2024-06-27T07:32:27.000000000&#x27;, &#x27;2024-06-27T11:15:43.000000000&#x27;,\n",
       "       &#x27;2024-06-27T16:37:35.000000000&#x27;, &#x27;2024-06-27T17:14:09.000000000&#x27;,\n",
       "       &#x27;2024-06-27T21:01:40.000000000&#x27;, &#x27;2024-06-28T00:42:07.000000000&#x27;,\n",
       "       &#x27;2024-06-28T04:31:18.000000000&#x27;, &#x27;2024-06-28T08:18:29.000000000&#x27;,\n",
       "       &#x27;2024-06-28T12:04:22.000000000&#x27;, &#x27;2024-06-28T15:53:22.000000000&#x27;,\n",
       "       &#x27;2024-06-28T19:49:49.000000000&#x27;, &#x27;2024-06-28T20:19:13.000000000&#x27;,\n",
       "       &#x27;2024-06-28T23:59:54.000000000&#x27;, &#x27;2024-06-29T03:42:35.000000000&#x27;,\n",
       "       &#x27;2024-06-29T07:29:03.000000000&#x27;, &#x27;2024-06-29T11:16:36.000000000&#x27;,\n",
       "       &#x27;2024-06-29T15:06:50.000000000&#x27;, &#x27;2024-06-29T18:56:10.000000000&#x27;,\n",
       "       &#x27;2024-06-29T21:01:06.000000000&#x27;, &#x27;2024-06-29T23:02:38.000000000&#x27;,\n",
       "       &#x27;2024-06-30T01:00:34.000000000&#x27;, &#x27;2024-06-30T02:57:19.000000000&#x27;,\n",
       "       &#x27;2024-06-30T04:55:03.000000000&#x27;, &#x27;2024-06-30T06:57:54.000000000&#x27;,\n",
       "       &#x27;2024-06-30T08:58:12.000000000&#x27;, &#x27;2024-06-30T10:57:30.000000000&#x27;,\n",
       "       &#x27;2024-06-30T12:54:47.000000000&#x27;, &#x27;2024-06-30T14:56:17.000000000&#x27;],\n",
       "      dtype=&#x27;datetime64[ns]&#x27;)</pre></div></li><li class='xr-var-item'><div class='xr-var-name'><span>end_time</span></div><div class='xr-var-dims'>(time)</div><div class='xr-var-dtype'>datetime64[ns]</div><div class='xr-var-preview xr-preview'>2024-04-19T14:50:04 ... 2024-06-...</div><input id='attrs-aaf9716e-ef7c-4f6f-aad5-ec5552624d60' class='xr-var-attrs-in' type='checkbox' disabled><label for='attrs-aaf9716e-ef7c-4f6f-aad5-ec5552624d60' title='Show/Hide attributes'><svg class='icon xr-icon-file-text2'><use xlink:href='#icon-file-text2'></use></svg></label><input id='data-b933557d-5c5b-472f-a0d5-70cd37164834' class='xr-var-data-in' type='checkbox'><label for='data-b933557d-5c5b-472f-a0d5-70cd37164834' title='Show/Hide data repr'><svg class='icon xr-icon-database'><use xlink:href='#icon-database'></use></svg></label><div class='xr-var-attrs'><dl class='xr-attrs'></dl></div><div class='xr-var-data'><pre>array([&#x27;2024-04-19T14:50:04.000000000&#x27;, &#x27;2024-04-19T16:22:57.000000000&#x27;,\n",
       "       &#x27;2024-04-19T18:23:13.000000000&#x27;, &#x27;2024-04-19T21:10:52.000000000&#x27;,\n",
       "       &#x27;2024-04-20T00:42:09.000000000&#x27;, &#x27;2024-04-20T04:14:19.000000000&#x27;,\n",
       "       &#x27;2024-04-20T07:30:06.000000000&#x27;, &#x27;2024-04-20T10:44:02.000000000&#x27;,\n",
       "       &#x27;2024-04-20T13:58:11.000000000&#x27;, &#x27;2024-04-20T17:09:25.000000000&#x27;,\n",
       "       &#x27;2024-04-20T20:19:37.000000000&#x27;, &#x27;2024-04-20T23:49:05.000000000&#x27;,\n",
       "       &#x27;2024-04-21T03:16:42.000000000&#x27;, &#x27;2024-04-21T06:45:37.000000000&#x27;,\n",
       "       &#x27;2024-04-21T10:01:45.000000000&#x27;, &#x27;2024-04-21T13:30:12.000000000&#x27;,\n",
       "       &#x27;2024-04-21T17:00:16.000000000&#x27;, &#x27;2024-04-21T20:19:29.000000000&#x27;,\n",
       "       &#x27;2024-04-21T23:39:00.000000000&#x27;, &#x27;2024-04-22T03:01:59.000000000&#x27;,\n",
       "       &#x27;2024-04-22T06:17:29.000000000&#x27;, &#x27;2024-04-22T09:29:02.000000000&#x27;,\n",
       "       &#x27;2024-04-22T12:44:42.000000000&#x27;, &#x27;2024-04-22T16:11:47.000000000&#x27;,\n",
       "       &#x27;2024-04-22T19:31:05.000000000&#x27;, &#x27;2024-04-22T22:52:32.000000000&#x27;,\n",
       "       &#x27;2024-04-23T02:14:45.000000000&#x27;, &#x27;2024-04-23T05:33:58.000000000&#x27;,\n",
       "       &#x27;2024-04-23T08:55:51.000000000&#x27;, &#x27;2024-04-23T12:14:27.000000000&#x27;,\n",
       "       &#x27;2024-04-23T15:31:55.000000000&#x27;, &#x27;2024-04-23T18:43:27.000000000&#x27;,\n",
       "       &#x27;2024-04-23T21:51:48.000000000&#x27;, &#x27;2024-04-24T00:56:52.000000000&#x27;,\n",
       "       &#x27;2024-04-24T04:05:37.000000000&#x27;, &#x27;2024-04-24T07:23:46.000000000&#x27;,\n",
       "       &#x27;2024-04-24T10:39:29.000000000&#x27;, &#x27;2024-04-24T13:59:42.000000000&#x27;,\n",
       "       &#x27;2024-04-24T17:43:40.000000000&#x27;, &#x27;2024-04-24T18:30:02.000000000&#x27;,\n",
       "...\n",
       "       &#x27;2024-06-25T21:10:21.000000000&#x27;, &#x27;2024-06-26T00:55:20.000000000&#x27;,\n",
       "       &#x27;2024-06-26T04:46:05.000000000&#x27;, &#x27;2024-06-26T08:29:22.000000000&#x27;,\n",
       "       &#x27;2024-06-26T12:16:13.000000000&#x27;, &#x27;2024-06-26T16:11:19.000000000&#x27;,\n",
       "       &#x27;2024-06-26T19:59:56.000000000&#x27;, &#x27;2024-06-26T23:46:06.000000000&#x27;,\n",
       "       &#x27;2024-06-27T03:33:55.000000000&#x27;, &#x27;2024-06-27T07:22:09.000000000&#x27;,\n",
       "       &#x27;2024-06-27T11:08:29.000000000&#x27;, &#x27;2024-06-27T14:56:55.000000000&#x27;,\n",
       "       &#x27;2024-06-27T17:07:23.000000000&#x27;, &#x27;2024-06-27T20:52:09.000000000&#x27;,\n",
       "       &#x27;2024-06-28T00:39:34.000000000&#x27;, &#x27;2024-06-28T04:15:23.000000000&#x27;,\n",
       "       &#x27;2024-06-28T08:08:34.000000000&#x27;, &#x27;2024-06-28T11:54:59.000000000&#x27;,\n",
       "       &#x27;2024-06-28T15:29:53.000000000&#x27;, &#x27;2024-06-28T19:29:16.000000000&#x27;,\n",
       "       &#x27;2024-06-28T20:17:55.000000000&#x27;, &#x27;2024-06-28T23:50:00.000000000&#x27;,\n",
       "       &#x27;2024-06-29T03:32:49.000000000&#x27;, &#x27;2024-06-29T07:19:31.000000000&#x27;,\n",
       "       &#x27;2024-06-29T11:08:37.000000000&#x27;, &#x27;2024-06-29T14:54:17.000000000&#x27;,\n",
       "       &#x27;2024-06-29T18:45:15.000000000&#x27;, &#x27;2024-06-29T20:48:20.000000000&#x27;,\n",
       "       &#x27;2024-06-29T22:55:10.000000000&#x27;, &#x27;2024-06-30T00:53:15.000000000&#x27;,\n",
       "       &#x27;2024-06-30T02:49:27.000000000&#x27;, &#x27;2024-06-30T04:47:53.000000000&#x27;,\n",
       "       &#x27;2024-06-30T06:50:17.000000000&#x27;, &#x27;2024-06-30T08:50:11.000000000&#x27;,\n",
       "       &#x27;2024-06-30T10:49:19.000000000&#x27;, &#x27;2024-06-30T12:47:36.000000000&#x27;,\n",
       "       &#x27;2024-06-30T14:48:42.000000000&#x27;, &#x27;2024-06-30T16:54:09.000000000&#x27;],\n",
       "      dtype=&#x27;datetime64[ns]&#x27;)</pre></div></li></ul></div></li><li class='xr-section-item'><input id='section-e5f3f6b2-d916-4659-9af7-7dc60f9c245c' class='xr-section-summary-in' type='checkbox'  ><label for='section-e5f3f6b2-d916-4659-9af7-7dc60f9c245c' class='xr-section-summary' >Indexes: <span>(2)</span></label><div class='xr-section-inline-details'></div><div class='xr-section-details'><ul class='xr-var-list'><li class='xr-var-item'><div class='xr-index-name'><div>time</div></div><div class='xr-index-preview'>PandasIndex</div><input type='checkbox' disabled/><label></label><input id='index-13da6e6b-6156-4cf3-9792-6a4381a92ee2' class='xr-index-data-in' type='checkbox'/><label for='index-13da6e6b-6156-4cf3-9792-6a4381a92ee2' title='Show/Hide index repr'><svg class='icon xr-icon-database'><use xlink:href='#icon-database'></use></svg></label><div class='xr-index-data'><pre>PandasIndex(DatetimeIndex([&#x27;2024-04-19 14:50:04&#x27;, &#x27;2024-04-19 16:22:57&#x27;,\n",
       "               &#x27;2024-04-19 18:23:13&#x27;, &#x27;2024-04-19 21:10:52&#x27;,\n",
       "               &#x27;2024-04-20 00:42:09&#x27;, &#x27;2024-04-20 04:14:19&#x27;,\n",
       "               &#x27;2024-04-20 07:30:06&#x27;, &#x27;2024-04-20 10:44:02&#x27;,\n",
       "               &#x27;2024-04-20 13:58:11&#x27;, &#x27;2024-04-20 17:09:25&#x27;,\n",
       "               ...\n",
       "               &#x27;2024-06-29 22:55:10&#x27;, &#x27;2024-06-30 00:53:15&#x27;,\n",
       "               &#x27;2024-06-30 02:49:27&#x27;, &#x27;2024-06-30 04:47:53&#x27;,\n",
       "               &#x27;2024-06-30 06:50:17&#x27;, &#x27;2024-06-30 08:50:11&#x27;,\n",
       "               &#x27;2024-06-30 10:49:19&#x27;, &#x27;2024-06-30 12:47:36&#x27;,\n",
       "               &#x27;2024-06-30 14:48:42&#x27;, &#x27;2024-06-30 16:54:09&#x27;],\n",
       "              dtype=&#x27;datetime64[ns]&#x27;, name=&#x27;time&#x27;, length=486, freq=None))</pre></div></li><li class='xr-var-item'><div class='xr-index-name'><div>depth</div></div><div class='xr-index-preview'>PandasIndex</div><input type='checkbox' disabled/><label></label><input id='index-6956a6e5-1076-4f6a-8dd9-b6a6d10cf04d' class='xr-index-data-in' type='checkbox'/><label for='index-6956a6e5-1076-4f6a-8dd9-b6a6d10cf04d' title='Show/Hide index repr'><svg class='icon xr-icon-database'><use xlink:href='#icon-database'></use></svg></label><div class='xr-index-data'><pre>PandasIndex(Index([  5.0,  15.0,  25.0,  35.0,  45.0,  55.0,  65.0,  75.0,  85.0,  95.0,\n",
       "       105.0, 115.0, 125.0, 135.0, 145.0, 155.0, 165.0, 175.0, 185.0, 195.0,\n",
       "       205.0, 215.0, 225.0, 235.0, 245.0, 255.0, 265.0, 275.0, 285.0, 295.0,\n",
       "       305.0, 315.0, 325.0, 335.0, 345.0, 355.0, 365.0, 375.0, 385.0, 395.0,\n",
       "       405.0, 415.0, 425.0, 435.0, 445.0, 455.0, 465.0, 475.0, 485.0, 495.0,\n",
       "       505.0, 515.0, 525.0, 535.0, 545.0, 555.0, 565.0, 575.0, 585.0, 595.0,\n",
       "       605.0, 615.0, 625.0, 635.0, 645.0, 655.0, 665.0, 675.0, 685.0, 695.0,\n",
       "       705.0, 715.0, 725.0, 735.0, 745.0, 755.0, 765.0, 775.0, 785.0, 795.0,\n",
       "       805.0, 815.0, 825.0, 835.0, 845.0, 855.0, 865.0, 875.0, 885.0, 895.0,\n",
       "       905.0, 915.0, 925.0, 935.0, 945.0, 955.0, 965.0, 975.0, 985.0, 995.0],\n",
       "      dtype=&#x27;float64&#x27;, name=&#x27;depth&#x27;))</pre></div></li></ul></div></li><li class='xr-section-item'><input id='section-e1c130b6-71c3-4f8e-89ac-1c10813458a2' class='xr-section-summary-in' type='checkbox'  checked><label for='section-e1c130b6-71c3-4f8e-89ac-1c10813458a2' class='xr-section-summary' >Attributes: <span>(1)</span></label><div class='xr-section-inline-details'></div><div class='xr-section-details'><dl class='xr-attrs'><dt><span>description :</span></dt><dd>RU29 Nortek AD2CP least-squares inversion velocity profile dataset \n",
       "G. Unger Vetlesen Foundation Funded Challenger Mission: ABC2DR Line\n",
       "https://slocum-data.marine.rutgers.edu/erddap/tabledap/ru29-20240419T1430-trajectory-raw-delayed.html</dd></dl></div></li></ul></div></div>"
      ],
      "text/plain": [
       "<xarray.Dataset> Size: 813kB\n",
       "Dimensions:     (depth: 100, time: 486)\n",
       "Coordinates:\n",
       "  * time        (time) datetime64[ns] 4kB 2024-04-19T14:50:04 ... 2024-06-30T...\n",
       "  * depth       (depth) float64 800B 5.0 15.0 25.0 35.0 ... 975.0 985.0 995.0\n",
       "Data variables:\n",
       "    u_grid      (depth, time) float64 389kB -0.04912 0.03099 ... nan nan\n",
       "    v_grid      (depth, time) float64 389kB 0.05382 -0.01673 0.03206 ... nan nan\n",
       "    latitude    (time) float64 4kB 17.78 17.78 17.78 17.78 ... 16.13 16.13 16.13\n",
       "    longitude   (time) float64 4kB -67.06 -67.07 -67.08 ... -69.0 -69.0 -69.0\n",
       "    start_lat   (time) float64 4kB 17.78 17.78 17.78 17.78 ... 16.13 16.13 16.13\n",
       "    start_lon   (time) float64 4kB -67.06 -67.06 -67.07 ... -69.0 -69.0 -69.0\n",
       "    end_lat     (time) float64 4kB 17.78 17.78 17.78 17.78 ... 16.13 16.13 16.13\n",
       "    end_lon     (time) float64 4kB -67.06 -67.07 -67.09 ... -69.0 -69.0 -69.0\n",
       "    start_time  (time) datetime64[ns] 4kB 2024-04-19T14:30:28 ... 2024-06-30T...\n",
       "    end_time    (time) datetime64[ns] 4kB 2024-04-19T14:50:04 ... 2024-06-30T...\n",
       "Attributes:\n",
       "    description:  RU29 Nortek AD2CP least-squares inversion velocity profile ..."
      ]
     },
     "execution_count": 7,
     "metadata": {},
     "output_type": "execute_result"
    }
   ],
   "source": [
    "path ='../processed_data/'\n",
    "fname='../processed_data/RU29_2024_Processed_AD2CP.nc'\n",
    "files = np.sort(glob.glob(path+'*.csv'))\n",
    "df = pd.concat(map(pd.read_csv, files))\n",
    "\n",
    "inversion_dz = np.diff(df.inversion_depth)[0].astype(int)\n",
    "inversion_depth         = np.arange(np.min(df.inversion_depth),np.max(df.inversion_depth)+inversion_dz,inversion_dz)\n",
    "inversion_time          = np.empty(len(files))\n",
    "inversion_time[:]       = np.nan\n",
    "inversion_time          = inversion_time.astype(pd.Timestamp)\n",
    "inversion_start_time    = np.empty(len(files))\n",
    "inversion_start_time[:] = np.nan\n",
    "inversion_start_time    = inversion_time.astype(pd.Timestamp)\n",
    "inversion_end_time      = np.empty(len(files))\n",
    "inversion_end_time[:]   = np.nan\n",
    "inversion_end_time      = inversion_time.astype(pd.Timestamp)\n",
    "inversion_lat           = np.empty(len(files))\n",
    "inversion_lat[:]        = np.nan\n",
    "inversion_lon           = np.empty(len(files))\n",
    "inversion_lon[:]        = np.nan\n",
    "inversion_start_lat     = np.empty(len(files))\n",
    "inversion_start_lat[:]  = np.nan\n",
    "inversion_start_lon     = np.empty(len(files))\n",
    "inversion_start_lon[:]  = np.nan\n",
    "inversion_end_lat       = np.empty(len(files))\n",
    "inversion_end_lat[:]    = np.nan\n",
    "inversion_end_lon       = np.empty(len(files))\n",
    "inversion_end_lon[:]    = np.nan\n",
    "u_grid = np.empty((len(inversion_depth),len(files)))\n",
    "u_grid[:] = np.nan\n",
    "v_grid = np.empty((len(inversion_depth),len(files)))\n",
    "v_grid[:] = np.nan\n",
    "\n",
    "\n",
    "## Loop through by file, load in each file\n",
    "for x in np.arange(0,len(files)):\n",
    "    \n",
    "    df = pd.read_csv(files[x])\n",
    "    \n",
    "    u_grid[np.arange(0,len(df.inversion_u.values)),x] = df.inversion_u.values\n",
    "    v_grid[np.arange(0,len(df.inversion_v.values)),x] = df.inversion_v.values\n",
    "    \n",
    "    inversion_start_time[x] = pd.to_datetime(df.start_tm[0]).tz_localize(None)\n",
    "    inversion_end_time[x] = pd.to_datetime(df.end_tm[0]).tz_localize(None)\n",
    "    mid_time = inversion_end_time[x]-inversion_start_time[x]\n",
    "    \n",
    "    inversion_time[x] = inversion_start_time[x]+mid_time\n",
    "\n",
    "    inversion_start_lat[x] = df.start_lat[0]\n",
    "    inversion_start_lon[x] = df.start_lon[0]\n",
    "    inversion_end_lat[x]   = df.end_lat[0]\n",
    "    inversion_end_lon[x]   = df.end_lon[0]\n",
    "    ## Lat/lon mid point\n",
    "    inversion_lat[x]   = (df.start_lat[0]+df.end_lat[0])/2\n",
    "    inversion_lon[x]   = (df.start_lon[0]+df.end_lon[0])/2\n",
    "\n",
    "\n",
    "    \n",
    "## Now stuff into an organized xarray dataset    \n",
    "ds = xr.Dataset(\n",
    "    data_vars=dict(\n",
    "        u_grid     = ([\"depth\", \"time\"], u_grid),\n",
    "        v_grid     = ([\"depth\", \"time\"], v_grid),\n",
    "        latitude   = ([\"time\"], inversion_lat),\n",
    "        longitude  = ([\"time\"], inversion_lon),\n",
    "        start_lat  = ([\"time\"], inversion_start_lat),\n",
    "        start_lon  = ([\"time\"], inversion_start_lon),\n",
    "        end_lat    = ([\"time\"], inversion_end_lat),\n",
    "        end_lon    = ([\"time\"], inversion_end_lon),\n",
    "        start_time = ([\"time\"], inversion_start_time),\n",
    "        end_time   = ([\"time\"], inversion_end_time)\n",
    "    ),\n",
    "    coords=dict(\n",
    "        time  = inversion_time,\n",
    "        depth = inversion_depth\n",
    "    ),\n",
    "    attrs=dict(description=\"RU29 Nortek AD2CP least-squares inversion velocity profile dataset \\nG. Unger Vetlesen Foundation Funded Challenger Mission: ABC2DR Line\\nhttps://slocum-data.marine.rutgers.edu/erddap/tabledap/ru29-20240419T1430-trajectory-raw-delayed.html\"),\n",
    ")\n",
    "\n",
    "## Sort by time because files may not have in read in chronological order\n",
    "ds = ds.sortby(ds.time)\n",
    "#save output to netcdf\n",
    "ds.to_netcdf(fname)\n",
    "ds"
   ]
  },
  {
   "cell_type": "markdown",
   "id": "2cd77dca-1db7-4e3b-acce-3557c6534065",
   "metadata": {},
   "source": [
    "## Take a quick peak at full dataset"
   ]
  },
  {
   "cell_type": "code",
   "execution_count": 8,
   "id": "51564226-6060-4577-ac38-901d67cf545f",
   "metadata": {},
   "outputs": [
    {
     "data": {
      "text/html": [
       "<div><svg style=\"position: absolute; width: 0; height: 0; overflow: hidden\">\n",
       "<defs>\n",
       "<symbol id=\"icon-database\" viewBox=\"0 0 32 32\">\n",
       "<path d=\"M16 0c-8.837 0-16 2.239-16 5v4c0 2.761 7.163 5 16 5s16-2.239 16-5v-4c0-2.761-7.163-5-16-5z\"></path>\n",
       "<path d=\"M16 17c-8.837 0-16-2.239-16-5v6c0 2.761 7.163 5 16 5s16-2.239 16-5v-6c0 2.761-7.163 5-16 5z\"></path>\n",
       "<path d=\"M16 26c-8.837 0-16-2.239-16-5v6c0 2.761 7.163 5 16 5s16-2.239 16-5v-6c0 2.761-7.163 5-16 5z\"></path>\n",
       "</symbol>\n",
       "<symbol id=\"icon-file-text2\" viewBox=\"0 0 32 32\">\n",
       "<path d=\"M28.681 7.159c-0.694-0.947-1.662-2.053-2.724-3.116s-2.169-2.030-3.116-2.724c-1.612-1.182-2.393-1.319-2.841-1.319h-15.5c-1.378 0-2.5 1.121-2.5 2.5v27c0 1.378 1.122 2.5 2.5 2.5h23c1.378 0 2.5-1.122 2.5-2.5v-19.5c0-0.448-0.137-1.23-1.319-2.841zM24.543 5.457c0.959 0.959 1.712 1.825 2.268 2.543h-4.811v-4.811c0.718 0.556 1.584 1.309 2.543 2.268zM28 29.5c0 0.271-0.229 0.5-0.5 0.5h-23c-0.271 0-0.5-0.229-0.5-0.5v-27c0-0.271 0.229-0.5 0.5-0.5 0 0 15.499-0 15.5 0v7c0 0.552 0.448 1 1 1h7v19.5z\"></path>\n",
       "<path d=\"M23 26h-14c-0.552 0-1-0.448-1-1s0.448-1 1-1h14c0.552 0 1 0.448 1 1s-0.448 1-1 1z\"></path>\n",
       "<path d=\"M23 22h-14c-0.552 0-1-0.448-1-1s0.448-1 1-1h14c0.552 0 1 0.448 1 1s-0.448 1-1 1z\"></path>\n",
       "<path d=\"M23 18h-14c-0.552 0-1-0.448-1-1s0.448-1 1-1h14c0.552 0 1 0.448 1 1s-0.448 1-1 1z\"></path>\n",
       "</symbol>\n",
       "</defs>\n",
       "</svg>\n",
       "<style>/* CSS stylesheet for displaying xarray objects in jupyterlab.\n",
       " *\n",
       " */\n",
       "\n",
       ":root {\n",
       "  --xr-font-color0: var(--jp-content-font-color0, rgba(0, 0, 0, 1));\n",
       "  --xr-font-color2: var(--jp-content-font-color2, rgba(0, 0, 0, 0.54));\n",
       "  --xr-font-color3: var(--jp-content-font-color3, rgba(0, 0, 0, 0.38));\n",
       "  --xr-border-color: var(--jp-border-color2, #e0e0e0);\n",
       "  --xr-disabled-color: var(--jp-layout-color3, #bdbdbd);\n",
       "  --xr-background-color: var(--jp-layout-color0, white);\n",
       "  --xr-background-color-row-even: var(--jp-layout-color1, white);\n",
       "  --xr-background-color-row-odd: var(--jp-layout-color2, #eeeeee);\n",
       "}\n",
       "\n",
       "html[theme=\"dark\"],\n",
       "html[data-theme=\"dark\"],\n",
       "body[data-theme=\"dark\"],\n",
       "body.vscode-dark {\n",
       "  --xr-font-color0: rgba(255, 255, 255, 1);\n",
       "  --xr-font-color2: rgba(255, 255, 255, 0.54);\n",
       "  --xr-font-color3: rgba(255, 255, 255, 0.38);\n",
       "  --xr-border-color: #1f1f1f;\n",
       "  --xr-disabled-color: #515151;\n",
       "  --xr-background-color: #111111;\n",
       "  --xr-background-color-row-even: #111111;\n",
       "  --xr-background-color-row-odd: #313131;\n",
       "}\n",
       "\n",
       ".xr-wrap {\n",
       "  display: block !important;\n",
       "  min-width: 300px;\n",
       "  max-width: 700px;\n",
       "}\n",
       "\n",
       ".xr-text-repr-fallback {\n",
       "  /* fallback to plain text repr when CSS is not injected (untrusted notebook) */\n",
       "  display: none;\n",
       "}\n",
       "\n",
       ".xr-header {\n",
       "  padding-top: 6px;\n",
       "  padding-bottom: 6px;\n",
       "  margin-bottom: 4px;\n",
       "  border-bottom: solid 1px var(--xr-border-color);\n",
       "}\n",
       "\n",
       ".xr-header > div,\n",
       ".xr-header > ul {\n",
       "  display: inline;\n",
       "  margin-top: 0;\n",
       "  margin-bottom: 0;\n",
       "}\n",
       "\n",
       ".xr-obj-type,\n",
       ".xr-array-name {\n",
       "  margin-left: 2px;\n",
       "  margin-right: 10px;\n",
       "}\n",
       "\n",
       ".xr-obj-type {\n",
       "  color: var(--xr-font-color2);\n",
       "}\n",
       "\n",
       ".xr-sections {\n",
       "  padding-left: 0 !important;\n",
       "  display: grid;\n",
       "  grid-template-columns: 150px auto auto 1fr 0 20px 0 20px;\n",
       "}\n",
       "\n",
       ".xr-section-item {\n",
       "  display: contents;\n",
       "}\n",
       "\n",
       ".xr-section-item input {\n",
       "  display: inline-block;\n",
       "  opacity: 0;\n",
       "  height: 0;\n",
       "}\n",
       "\n",
       ".xr-section-item input + label {\n",
       "  color: var(--xr-disabled-color);\n",
       "}\n",
       "\n",
       ".xr-section-item input:enabled + label {\n",
       "  cursor: pointer;\n",
       "  color: var(--xr-font-color2);\n",
       "}\n",
       "\n",
       ".xr-section-item input:focus + label {\n",
       "  border: 2px solid var(--xr-font-color0);\n",
       "}\n",
       "\n",
       ".xr-section-item input:enabled + label:hover {\n",
       "  color: var(--xr-font-color0);\n",
       "}\n",
       "\n",
       ".xr-section-summary {\n",
       "  grid-column: 1;\n",
       "  color: var(--xr-font-color2);\n",
       "  font-weight: 500;\n",
       "}\n",
       "\n",
       ".xr-section-summary > span {\n",
       "  display: inline-block;\n",
       "  padding-left: 0.5em;\n",
       "}\n",
       "\n",
       ".xr-section-summary-in:disabled + label {\n",
       "  color: var(--xr-font-color2);\n",
       "}\n",
       "\n",
       ".xr-section-summary-in + label:before {\n",
       "  display: inline-block;\n",
       "  content: \"►\";\n",
       "  font-size: 11px;\n",
       "  width: 15px;\n",
       "  text-align: center;\n",
       "}\n",
       "\n",
       ".xr-section-summary-in:disabled + label:before {\n",
       "  color: var(--xr-disabled-color);\n",
       "}\n",
       "\n",
       ".xr-section-summary-in:checked + label:before {\n",
       "  content: \"▼\";\n",
       "}\n",
       "\n",
       ".xr-section-summary-in:checked + label > span {\n",
       "  display: none;\n",
       "}\n",
       "\n",
       ".xr-section-summary,\n",
       ".xr-section-inline-details {\n",
       "  padding-top: 4px;\n",
       "  padding-bottom: 4px;\n",
       "}\n",
       "\n",
       ".xr-section-inline-details {\n",
       "  grid-column: 2 / -1;\n",
       "}\n",
       "\n",
       ".xr-section-details {\n",
       "  display: none;\n",
       "  grid-column: 1 / -1;\n",
       "  margin-bottom: 5px;\n",
       "}\n",
       "\n",
       ".xr-section-summary-in:checked ~ .xr-section-details {\n",
       "  display: contents;\n",
       "}\n",
       "\n",
       ".xr-array-wrap {\n",
       "  grid-column: 1 / -1;\n",
       "  display: grid;\n",
       "  grid-template-columns: 20px auto;\n",
       "}\n",
       "\n",
       ".xr-array-wrap > label {\n",
       "  grid-column: 1;\n",
       "  vertical-align: top;\n",
       "}\n",
       "\n",
       ".xr-preview {\n",
       "  color: var(--xr-font-color3);\n",
       "}\n",
       "\n",
       ".xr-array-preview,\n",
       ".xr-array-data {\n",
       "  padding: 0 5px !important;\n",
       "  grid-column: 2;\n",
       "}\n",
       "\n",
       ".xr-array-data,\n",
       ".xr-array-in:checked ~ .xr-array-preview {\n",
       "  display: none;\n",
       "}\n",
       "\n",
       ".xr-array-in:checked ~ .xr-array-data,\n",
       ".xr-array-preview {\n",
       "  display: inline-block;\n",
       "}\n",
       "\n",
       ".xr-dim-list {\n",
       "  display: inline-block !important;\n",
       "  list-style: none;\n",
       "  padding: 0 !important;\n",
       "  margin: 0;\n",
       "}\n",
       "\n",
       ".xr-dim-list li {\n",
       "  display: inline-block;\n",
       "  padding: 0;\n",
       "  margin: 0;\n",
       "}\n",
       "\n",
       ".xr-dim-list:before {\n",
       "  content: \"(\";\n",
       "}\n",
       "\n",
       ".xr-dim-list:after {\n",
       "  content: \")\";\n",
       "}\n",
       "\n",
       ".xr-dim-list li:not(:last-child):after {\n",
       "  content: \",\";\n",
       "  padding-right: 5px;\n",
       "}\n",
       "\n",
       ".xr-has-index {\n",
       "  font-weight: bold;\n",
       "}\n",
       "\n",
       ".xr-var-list,\n",
       ".xr-var-item {\n",
       "  display: contents;\n",
       "}\n",
       "\n",
       ".xr-var-item > div,\n",
       ".xr-var-item label,\n",
       ".xr-var-item > .xr-var-name span {\n",
       "  background-color: var(--xr-background-color-row-even);\n",
       "  margin-bottom: 0;\n",
       "}\n",
       "\n",
       ".xr-var-item > .xr-var-name:hover span {\n",
       "  padding-right: 5px;\n",
       "}\n",
       "\n",
       ".xr-var-list > li:nth-child(odd) > div,\n",
       ".xr-var-list > li:nth-child(odd) > label,\n",
       ".xr-var-list > li:nth-child(odd) > .xr-var-name span {\n",
       "  background-color: var(--xr-background-color-row-odd);\n",
       "}\n",
       "\n",
       ".xr-var-name {\n",
       "  grid-column: 1;\n",
       "}\n",
       "\n",
       ".xr-var-dims {\n",
       "  grid-column: 2;\n",
       "}\n",
       "\n",
       ".xr-var-dtype {\n",
       "  grid-column: 3;\n",
       "  text-align: right;\n",
       "  color: var(--xr-font-color2);\n",
       "}\n",
       "\n",
       ".xr-var-preview {\n",
       "  grid-column: 4;\n",
       "}\n",
       "\n",
       ".xr-index-preview {\n",
       "  grid-column: 2 / 5;\n",
       "  color: var(--xr-font-color2);\n",
       "}\n",
       "\n",
       ".xr-var-name,\n",
       ".xr-var-dims,\n",
       ".xr-var-dtype,\n",
       ".xr-preview,\n",
       ".xr-attrs dt {\n",
       "  white-space: nowrap;\n",
       "  overflow: hidden;\n",
       "  text-overflow: ellipsis;\n",
       "  padding-right: 10px;\n",
       "}\n",
       "\n",
       ".xr-var-name:hover,\n",
       ".xr-var-dims:hover,\n",
       ".xr-var-dtype:hover,\n",
       ".xr-attrs dt:hover {\n",
       "  overflow: visible;\n",
       "  width: auto;\n",
       "  z-index: 1;\n",
       "}\n",
       "\n",
       ".xr-var-attrs,\n",
       ".xr-var-data,\n",
       ".xr-index-data {\n",
       "  display: none;\n",
       "  background-color: var(--xr-background-color) !important;\n",
       "  padding-bottom: 5px !important;\n",
       "}\n",
       "\n",
       ".xr-var-attrs-in:checked ~ .xr-var-attrs,\n",
       ".xr-var-data-in:checked ~ .xr-var-data,\n",
       ".xr-index-data-in:checked ~ .xr-index-data {\n",
       "  display: block;\n",
       "}\n",
       "\n",
       ".xr-var-data > table {\n",
       "  float: right;\n",
       "}\n",
       "\n",
       ".xr-var-name span,\n",
       ".xr-var-data,\n",
       ".xr-index-name div,\n",
       ".xr-index-data,\n",
       ".xr-attrs {\n",
       "  padding-left: 25px !important;\n",
       "}\n",
       "\n",
       ".xr-attrs,\n",
       ".xr-var-attrs,\n",
       ".xr-var-data,\n",
       ".xr-index-data {\n",
       "  grid-column: 1 / -1;\n",
       "}\n",
       "\n",
       "dl.xr-attrs {\n",
       "  padding: 0;\n",
       "  margin: 0;\n",
       "  display: grid;\n",
       "  grid-template-columns: 125px auto;\n",
       "}\n",
       "\n",
       ".xr-attrs dt,\n",
       ".xr-attrs dd {\n",
       "  padding: 0;\n",
       "  margin: 0;\n",
       "  float: left;\n",
       "  padding-right: 10px;\n",
       "  width: auto;\n",
       "}\n",
       "\n",
       ".xr-attrs dt {\n",
       "  font-weight: normal;\n",
       "  grid-column: 1;\n",
       "}\n",
       "\n",
       ".xr-attrs dt:hover span {\n",
       "  display: inline-block;\n",
       "  background: var(--xr-background-color);\n",
       "  padding-right: 10px;\n",
       "}\n",
       "\n",
       ".xr-attrs dd {\n",
       "  grid-column: 2;\n",
       "  white-space: pre-wrap;\n",
       "  word-break: break-all;\n",
       "}\n",
       "\n",
       ".xr-icon-database,\n",
       ".xr-icon-file-text2,\n",
       ".xr-no-icon {\n",
       "  display: inline-block;\n",
       "  vertical-align: middle;\n",
       "  width: 1em;\n",
       "  height: 1.5em !important;\n",
       "  stroke-width: 0;\n",
       "  stroke: currentColor;\n",
       "  fill: currentColor;\n",
       "}\n",
       "</style><pre class='xr-text-repr-fallback'>&lt;xarray.Dataset&gt; Size: 813kB\n",
       "Dimensions:     (depth: 100, time: 486)\n",
       "Coordinates:\n",
       "  * time        (time) datetime64[ns] 4kB 2024-04-19T14:50:04 ... 2024-06-30T...\n",
       "  * depth       (depth) float64 800B 5.0 15.0 25.0 35.0 ... 975.0 985.0 995.0\n",
       "Data variables:\n",
       "    u_grid      (depth, time) float64 389kB ...\n",
       "    v_grid      (depth, time) float64 389kB ...\n",
       "    latitude    (time) float64 4kB ...\n",
       "    longitude   (time) float64 4kB ...\n",
       "    start_lat   (time) float64 4kB ...\n",
       "    start_lon   (time) float64 4kB ...\n",
       "    end_lat     (time) float64 4kB ...\n",
       "    end_lon     (time) float64 4kB ...\n",
       "    start_time  (time) datetime64[ns] 4kB ...\n",
       "    end_time    (time) datetime64[ns] 4kB ...\n",
       "Attributes:\n",
       "    description:  RU29 Nortek AD2CP least-squares inversion velocity profile ...</pre><div class='xr-wrap' style='display:none'><div class='xr-header'><div class='xr-obj-type'>xarray.Dataset</div></div><ul class='xr-sections'><li class='xr-section-item'><input id='section-0fa1c3d9-091d-4a20-8c8f-040d36324119' class='xr-section-summary-in' type='checkbox' disabled ><label for='section-0fa1c3d9-091d-4a20-8c8f-040d36324119' class='xr-section-summary'  title='Expand/collapse section'>Dimensions:</label><div class='xr-section-inline-details'><ul class='xr-dim-list'><li><span class='xr-has-index'>depth</span>: 100</li><li><span class='xr-has-index'>time</span>: 486</li></ul></div><div class='xr-section-details'></div></li><li class='xr-section-item'><input id='section-08d10b1b-23e2-4229-8666-b5efea6defe0' class='xr-section-summary-in' type='checkbox'  checked><label for='section-08d10b1b-23e2-4229-8666-b5efea6defe0' class='xr-section-summary' >Coordinates: <span>(2)</span></label><div class='xr-section-inline-details'></div><div class='xr-section-details'><ul class='xr-var-list'><li class='xr-var-item'><div class='xr-var-name'><span class='xr-has-index'>time</span></div><div class='xr-var-dims'>(time)</div><div class='xr-var-dtype'>datetime64[ns]</div><div class='xr-var-preview xr-preview'>2024-04-19T14:50:04 ... 2024-06-...</div><input id='attrs-b7b42c54-3b7d-4a9a-8beb-24b9febfb0f6' class='xr-var-attrs-in' type='checkbox' disabled><label for='attrs-b7b42c54-3b7d-4a9a-8beb-24b9febfb0f6' title='Show/Hide attributes'><svg class='icon xr-icon-file-text2'><use xlink:href='#icon-file-text2'></use></svg></label><input id='data-6d125a2d-b707-4ad7-92e3-afcf46b0fb6e' class='xr-var-data-in' type='checkbox'><label for='data-6d125a2d-b707-4ad7-92e3-afcf46b0fb6e' title='Show/Hide data repr'><svg class='icon xr-icon-database'><use xlink:href='#icon-database'></use></svg></label><div class='xr-var-attrs'><dl class='xr-attrs'></dl></div><div class='xr-var-data'><pre>array([&#x27;2024-04-19T14:50:04.000000000&#x27;, &#x27;2024-04-19T16:22:57.000000000&#x27;,\n",
       "       &#x27;2024-04-19T18:23:13.000000000&#x27;, ..., &#x27;2024-06-30T12:47:36.000000000&#x27;,\n",
       "       &#x27;2024-06-30T14:48:42.000000000&#x27;, &#x27;2024-06-30T16:54:09.000000000&#x27;],\n",
       "      dtype=&#x27;datetime64[ns]&#x27;)</pre></div></li><li class='xr-var-item'><div class='xr-var-name'><span class='xr-has-index'>depth</span></div><div class='xr-var-dims'>(depth)</div><div class='xr-var-dtype'>float64</div><div class='xr-var-preview xr-preview'>5.0 15.0 25.0 ... 975.0 985.0 995.0</div><input id='attrs-489bd17d-8a6f-441e-aaf0-80b55938d28b' class='xr-var-attrs-in' type='checkbox' disabled><label for='attrs-489bd17d-8a6f-441e-aaf0-80b55938d28b' title='Show/Hide attributes'><svg class='icon xr-icon-file-text2'><use xlink:href='#icon-file-text2'></use></svg></label><input id='data-9c9ccbf2-23a1-4075-8949-cdc1efabb5ea' class='xr-var-data-in' type='checkbox'><label for='data-9c9ccbf2-23a1-4075-8949-cdc1efabb5ea' title='Show/Hide data repr'><svg class='icon xr-icon-database'><use xlink:href='#icon-database'></use></svg></label><div class='xr-var-attrs'><dl class='xr-attrs'></dl></div><div class='xr-var-data'><pre>array([  5.,  15.,  25.,  35.,  45.,  55.,  65.,  75.,  85.,  95., 105., 115.,\n",
       "       125., 135., 145., 155., 165., 175., 185., 195., 205., 215., 225., 235.,\n",
       "       245., 255., 265., 275., 285., 295., 305., 315., 325., 335., 345., 355.,\n",
       "       365., 375., 385., 395., 405., 415., 425., 435., 445., 455., 465., 475.,\n",
       "       485., 495., 505., 515., 525., 535., 545., 555., 565., 575., 585., 595.,\n",
       "       605., 615., 625., 635., 645., 655., 665., 675., 685., 695., 705., 715.,\n",
       "       725., 735., 745., 755., 765., 775., 785., 795., 805., 815., 825., 835.,\n",
       "       845., 855., 865., 875., 885., 895., 905., 915., 925., 935., 945., 955.,\n",
       "       965., 975., 985., 995.])</pre></div></li></ul></div></li><li class='xr-section-item'><input id='section-dee4cb83-e5ac-4fe9-a18f-9e69d85de65e' class='xr-section-summary-in' type='checkbox'  checked><label for='section-dee4cb83-e5ac-4fe9-a18f-9e69d85de65e' class='xr-section-summary' >Data variables: <span>(10)</span></label><div class='xr-section-inline-details'></div><div class='xr-section-details'><ul class='xr-var-list'><li class='xr-var-item'><div class='xr-var-name'><span>u_grid</span></div><div class='xr-var-dims'>(depth, time)</div><div class='xr-var-dtype'>float64</div><div class='xr-var-preview xr-preview'>...</div><input id='attrs-097ed25a-05f8-4d6a-b7d1-fde351911a19' class='xr-var-attrs-in' type='checkbox' disabled><label for='attrs-097ed25a-05f8-4d6a-b7d1-fde351911a19' title='Show/Hide attributes'><svg class='icon xr-icon-file-text2'><use xlink:href='#icon-file-text2'></use></svg></label><input id='data-bdf5de64-f1f2-432d-a181-4f3c071afa1c' class='xr-var-data-in' type='checkbox'><label for='data-bdf5de64-f1f2-432d-a181-4f3c071afa1c' title='Show/Hide data repr'><svg class='icon xr-icon-database'><use xlink:href='#icon-database'></use></svg></label><div class='xr-var-attrs'><dl class='xr-attrs'></dl></div><div class='xr-var-data'><pre>[48600 values with dtype=float64]</pre></div></li><li class='xr-var-item'><div class='xr-var-name'><span>v_grid</span></div><div class='xr-var-dims'>(depth, time)</div><div class='xr-var-dtype'>float64</div><div class='xr-var-preview xr-preview'>...</div><input id='attrs-cfaebaa8-d861-410c-8df0-1264965766fb' class='xr-var-attrs-in' type='checkbox' disabled><label for='attrs-cfaebaa8-d861-410c-8df0-1264965766fb' title='Show/Hide attributes'><svg class='icon xr-icon-file-text2'><use xlink:href='#icon-file-text2'></use></svg></label><input id='data-3477cf19-27cf-44a4-9f8b-22e03b3c1981' class='xr-var-data-in' type='checkbox'><label for='data-3477cf19-27cf-44a4-9f8b-22e03b3c1981' title='Show/Hide data repr'><svg class='icon xr-icon-database'><use xlink:href='#icon-database'></use></svg></label><div class='xr-var-attrs'><dl class='xr-attrs'></dl></div><div class='xr-var-data'><pre>[48600 values with dtype=float64]</pre></div></li><li class='xr-var-item'><div class='xr-var-name'><span>latitude</span></div><div class='xr-var-dims'>(time)</div><div class='xr-var-dtype'>float64</div><div class='xr-var-preview xr-preview'>...</div><input id='attrs-9a8b8c49-ea4d-4f0b-abee-36f5edd43b28' class='xr-var-attrs-in' type='checkbox' disabled><label for='attrs-9a8b8c49-ea4d-4f0b-abee-36f5edd43b28' title='Show/Hide attributes'><svg class='icon xr-icon-file-text2'><use xlink:href='#icon-file-text2'></use></svg></label><input id='data-64e4f4c1-f3d6-4f9f-9aca-0ca7e2d4cd48' class='xr-var-data-in' type='checkbox'><label for='data-64e4f4c1-f3d6-4f9f-9aca-0ca7e2d4cd48' title='Show/Hide data repr'><svg class='icon xr-icon-database'><use xlink:href='#icon-database'></use></svg></label><div class='xr-var-attrs'><dl class='xr-attrs'></dl></div><div class='xr-var-data'><pre>[486 values with dtype=float64]</pre></div></li><li class='xr-var-item'><div class='xr-var-name'><span>longitude</span></div><div class='xr-var-dims'>(time)</div><div class='xr-var-dtype'>float64</div><div class='xr-var-preview xr-preview'>...</div><input id='attrs-4d76ed37-c72b-436c-9f7a-1c0f92a97326' class='xr-var-attrs-in' type='checkbox' disabled><label for='attrs-4d76ed37-c72b-436c-9f7a-1c0f92a97326' title='Show/Hide attributes'><svg class='icon xr-icon-file-text2'><use xlink:href='#icon-file-text2'></use></svg></label><input id='data-06056362-1486-4570-8455-c897a6399f99' class='xr-var-data-in' type='checkbox'><label for='data-06056362-1486-4570-8455-c897a6399f99' title='Show/Hide data repr'><svg class='icon xr-icon-database'><use xlink:href='#icon-database'></use></svg></label><div class='xr-var-attrs'><dl class='xr-attrs'></dl></div><div class='xr-var-data'><pre>[486 values with dtype=float64]</pre></div></li><li class='xr-var-item'><div class='xr-var-name'><span>start_lat</span></div><div class='xr-var-dims'>(time)</div><div class='xr-var-dtype'>float64</div><div class='xr-var-preview xr-preview'>...</div><input id='attrs-e4bc8bf7-efe3-4a73-ba79-7ad6b8653840' class='xr-var-attrs-in' type='checkbox' disabled><label for='attrs-e4bc8bf7-efe3-4a73-ba79-7ad6b8653840' title='Show/Hide attributes'><svg class='icon xr-icon-file-text2'><use xlink:href='#icon-file-text2'></use></svg></label><input id='data-83d1734c-ea90-489d-9b69-5783a5491142' class='xr-var-data-in' type='checkbox'><label for='data-83d1734c-ea90-489d-9b69-5783a5491142' title='Show/Hide data repr'><svg class='icon xr-icon-database'><use xlink:href='#icon-database'></use></svg></label><div class='xr-var-attrs'><dl class='xr-attrs'></dl></div><div class='xr-var-data'><pre>[486 values with dtype=float64]</pre></div></li><li class='xr-var-item'><div class='xr-var-name'><span>start_lon</span></div><div class='xr-var-dims'>(time)</div><div class='xr-var-dtype'>float64</div><div class='xr-var-preview xr-preview'>...</div><input id='attrs-568d8f6f-7495-40b8-95e7-1aaf18053867' class='xr-var-attrs-in' type='checkbox' disabled><label for='attrs-568d8f6f-7495-40b8-95e7-1aaf18053867' title='Show/Hide attributes'><svg class='icon xr-icon-file-text2'><use xlink:href='#icon-file-text2'></use></svg></label><input id='data-5dc1be2c-9fbc-4f92-ad73-7336a599bcaa' class='xr-var-data-in' type='checkbox'><label for='data-5dc1be2c-9fbc-4f92-ad73-7336a599bcaa' title='Show/Hide data repr'><svg class='icon xr-icon-database'><use xlink:href='#icon-database'></use></svg></label><div class='xr-var-attrs'><dl class='xr-attrs'></dl></div><div class='xr-var-data'><pre>[486 values with dtype=float64]</pre></div></li><li class='xr-var-item'><div class='xr-var-name'><span>end_lat</span></div><div class='xr-var-dims'>(time)</div><div class='xr-var-dtype'>float64</div><div class='xr-var-preview xr-preview'>...</div><input id='attrs-c2ab5fc9-35b5-485a-b63e-e5c196d6a1af' class='xr-var-attrs-in' type='checkbox' disabled><label for='attrs-c2ab5fc9-35b5-485a-b63e-e5c196d6a1af' title='Show/Hide attributes'><svg class='icon xr-icon-file-text2'><use xlink:href='#icon-file-text2'></use></svg></label><input id='data-2429804d-efaa-4be7-8905-705be9c613fe' class='xr-var-data-in' type='checkbox'><label for='data-2429804d-efaa-4be7-8905-705be9c613fe' title='Show/Hide data repr'><svg class='icon xr-icon-database'><use xlink:href='#icon-database'></use></svg></label><div class='xr-var-attrs'><dl class='xr-attrs'></dl></div><div class='xr-var-data'><pre>[486 values with dtype=float64]</pre></div></li><li class='xr-var-item'><div class='xr-var-name'><span>end_lon</span></div><div class='xr-var-dims'>(time)</div><div class='xr-var-dtype'>float64</div><div class='xr-var-preview xr-preview'>...</div><input id='attrs-0413a0ba-a655-4c24-88da-e654e984bab2' class='xr-var-attrs-in' type='checkbox' disabled><label for='attrs-0413a0ba-a655-4c24-88da-e654e984bab2' title='Show/Hide attributes'><svg class='icon xr-icon-file-text2'><use xlink:href='#icon-file-text2'></use></svg></label><input id='data-024990be-71a3-441d-8571-5ef029accca0' class='xr-var-data-in' type='checkbox'><label for='data-024990be-71a3-441d-8571-5ef029accca0' title='Show/Hide data repr'><svg class='icon xr-icon-database'><use xlink:href='#icon-database'></use></svg></label><div class='xr-var-attrs'><dl class='xr-attrs'></dl></div><div class='xr-var-data'><pre>[486 values with dtype=float64]</pre></div></li><li class='xr-var-item'><div class='xr-var-name'><span>start_time</span></div><div class='xr-var-dims'>(time)</div><div class='xr-var-dtype'>datetime64[ns]</div><div class='xr-var-preview xr-preview'>...</div><input id='attrs-06ce9b5f-3bc3-4a76-b0a7-6e0d4221ab41' class='xr-var-attrs-in' type='checkbox' disabled><label for='attrs-06ce9b5f-3bc3-4a76-b0a7-6e0d4221ab41' title='Show/Hide attributes'><svg class='icon xr-icon-file-text2'><use xlink:href='#icon-file-text2'></use></svg></label><input id='data-b09af0f7-7e9b-49f4-96a6-f92bb3c8ea74' class='xr-var-data-in' type='checkbox'><label for='data-b09af0f7-7e9b-49f4-96a6-f92bb3c8ea74' title='Show/Hide data repr'><svg class='icon xr-icon-database'><use xlink:href='#icon-database'></use></svg></label><div class='xr-var-attrs'><dl class='xr-attrs'></dl></div><div class='xr-var-data'><pre>[486 values with dtype=datetime64[ns]]</pre></div></li><li class='xr-var-item'><div class='xr-var-name'><span>end_time</span></div><div class='xr-var-dims'>(time)</div><div class='xr-var-dtype'>datetime64[ns]</div><div class='xr-var-preview xr-preview'>...</div><input id='attrs-c0380c0b-0f1b-4f2d-8447-781cb3fae359' class='xr-var-attrs-in' type='checkbox' disabled><label for='attrs-c0380c0b-0f1b-4f2d-8447-781cb3fae359' title='Show/Hide attributes'><svg class='icon xr-icon-file-text2'><use xlink:href='#icon-file-text2'></use></svg></label><input id='data-2ad08133-86bd-4398-a516-f04115264887' class='xr-var-data-in' type='checkbox'><label for='data-2ad08133-86bd-4398-a516-f04115264887' title='Show/Hide data repr'><svg class='icon xr-icon-database'><use xlink:href='#icon-database'></use></svg></label><div class='xr-var-attrs'><dl class='xr-attrs'></dl></div><div class='xr-var-data'><pre>[486 values with dtype=datetime64[ns]]</pre></div></li></ul></div></li><li class='xr-section-item'><input id='section-243b9d49-e9ce-431d-9597-0628e143c175' class='xr-section-summary-in' type='checkbox'  ><label for='section-243b9d49-e9ce-431d-9597-0628e143c175' class='xr-section-summary' >Indexes: <span>(2)</span></label><div class='xr-section-inline-details'></div><div class='xr-section-details'><ul class='xr-var-list'><li class='xr-var-item'><div class='xr-index-name'><div>time</div></div><div class='xr-index-preview'>PandasIndex</div><input type='checkbox' disabled/><label></label><input id='index-833723d8-ba7f-487e-addb-a9e3cedd2927' class='xr-index-data-in' type='checkbox'/><label for='index-833723d8-ba7f-487e-addb-a9e3cedd2927' title='Show/Hide index repr'><svg class='icon xr-icon-database'><use xlink:href='#icon-database'></use></svg></label><div class='xr-index-data'><pre>PandasIndex(DatetimeIndex([&#x27;2024-04-19 14:50:04&#x27;, &#x27;2024-04-19 16:22:57&#x27;,\n",
       "               &#x27;2024-04-19 18:23:13&#x27;, &#x27;2024-04-19 21:10:52&#x27;,\n",
       "               &#x27;2024-04-20 00:42:09&#x27;, &#x27;2024-04-20 04:14:19&#x27;,\n",
       "               &#x27;2024-04-20 07:30:06&#x27;, &#x27;2024-04-20 10:44:02&#x27;,\n",
       "               &#x27;2024-04-20 13:58:11&#x27;, &#x27;2024-04-20 17:09:25&#x27;,\n",
       "               ...\n",
       "               &#x27;2024-06-29 22:55:10&#x27;, &#x27;2024-06-30 00:53:15&#x27;,\n",
       "               &#x27;2024-06-30 02:49:27&#x27;, &#x27;2024-06-30 04:47:53&#x27;,\n",
       "               &#x27;2024-06-30 06:50:17&#x27;, &#x27;2024-06-30 08:50:11&#x27;,\n",
       "               &#x27;2024-06-30 10:49:19&#x27;, &#x27;2024-06-30 12:47:36&#x27;,\n",
       "               &#x27;2024-06-30 14:48:42&#x27;, &#x27;2024-06-30 16:54:09&#x27;],\n",
       "              dtype=&#x27;datetime64[ns]&#x27;, name=&#x27;time&#x27;, length=486, freq=None))</pre></div></li><li class='xr-var-item'><div class='xr-index-name'><div>depth</div></div><div class='xr-index-preview'>PandasIndex</div><input type='checkbox' disabled/><label></label><input id='index-f65a6e3b-4a10-4379-93fa-fcb38fb7afe2' class='xr-index-data-in' type='checkbox'/><label for='index-f65a6e3b-4a10-4379-93fa-fcb38fb7afe2' title='Show/Hide index repr'><svg class='icon xr-icon-database'><use xlink:href='#icon-database'></use></svg></label><div class='xr-index-data'><pre>PandasIndex(Index([  5.0,  15.0,  25.0,  35.0,  45.0,  55.0,  65.0,  75.0,  85.0,  95.0,\n",
       "       105.0, 115.0, 125.0, 135.0, 145.0, 155.0, 165.0, 175.0, 185.0, 195.0,\n",
       "       205.0, 215.0, 225.0, 235.0, 245.0, 255.0, 265.0, 275.0, 285.0, 295.0,\n",
       "       305.0, 315.0, 325.0, 335.0, 345.0, 355.0, 365.0, 375.0, 385.0, 395.0,\n",
       "       405.0, 415.0, 425.0, 435.0, 445.0, 455.0, 465.0, 475.0, 485.0, 495.0,\n",
       "       505.0, 515.0, 525.0, 535.0, 545.0, 555.0, 565.0, 575.0, 585.0, 595.0,\n",
       "       605.0, 615.0, 625.0, 635.0, 645.0, 655.0, 665.0, 675.0, 685.0, 695.0,\n",
       "       705.0, 715.0, 725.0, 735.0, 745.0, 755.0, 765.0, 775.0, 785.0, 795.0,\n",
       "       805.0, 815.0, 825.0, 835.0, 845.0, 855.0, 865.0, 875.0, 885.0, 895.0,\n",
       "       905.0, 915.0, 925.0, 935.0, 945.0, 955.0, 965.0, 975.0, 985.0, 995.0],\n",
       "      dtype=&#x27;float64&#x27;, name=&#x27;depth&#x27;))</pre></div></li></ul></div></li><li class='xr-section-item'><input id='section-12cad3a3-93cd-4ba0-a608-818339bcb5f5' class='xr-section-summary-in' type='checkbox'  checked><label for='section-12cad3a3-93cd-4ba0-a608-818339bcb5f5' class='xr-section-summary' >Attributes: <span>(1)</span></label><div class='xr-section-inline-details'></div><div class='xr-section-details'><dl class='xr-attrs'><dt><span>description :</span></dt><dd>RU29 Nortek AD2CP least-squares inversion velocity profile dataset \n",
       "G. Unger Vetlesen Foundation Funded Challenger Mission: ABC2DR Line\n",
       "https://slocum-data.marine.rutgers.edu/erddap/tabledap/ru29-20240419T1430-trajectory-raw-delayed.html</dd></dl></div></li></ul></div></div>"
      ],
      "text/plain": [
       "<xarray.Dataset> Size: 813kB\n",
       "Dimensions:     (depth: 100, time: 486)\n",
       "Coordinates:\n",
       "  * time        (time) datetime64[ns] 4kB 2024-04-19T14:50:04 ... 2024-06-30T...\n",
       "  * depth       (depth) float64 800B 5.0 15.0 25.0 35.0 ... 975.0 985.0 995.0\n",
       "Data variables:\n",
       "    u_grid      (depth, time) float64 389kB ...\n",
       "    v_grid      (depth, time) float64 389kB ...\n",
       "    latitude    (time) float64 4kB ...\n",
       "    longitude   (time) float64 4kB ...\n",
       "    start_lat   (time) float64 4kB ...\n",
       "    start_lon   (time) float64 4kB ...\n",
       "    end_lat     (time) float64 4kB ...\n",
       "    end_lon     (time) float64 4kB ...\n",
       "    start_time  (time) datetime64[ns] 4kB ...\n",
       "    end_time    (time) datetime64[ns] 4kB ...\n",
       "Attributes:\n",
       "    description:  RU29 Nortek AD2CP least-squares inversion velocity profile ..."
      ]
     },
     "execution_count": 8,
     "metadata": {},
     "output_type": "execute_result"
    }
   ],
   "source": [
    "ds = xr.open_dataset('../processed_data/RU29_2024_Processed_AD2CP.nc')\n",
    "ds"
   ]
  },
  {
   "cell_type": "code",
   "execution_count": 9,
   "id": "f7a4d624-97b4-44ed-8127-d96e895a39c8",
   "metadata": {},
   "outputs": [
    {
     "data": {
      "text/plain": [
       "<matplotlib.colorbar.Colorbar at 0x41085b6d0>"
      ]
     },
     "execution_count": 9,
     "metadata": {},
     "output_type": "execute_result"
    },
    {
     "data": {
      "image/png": "[encoded data removed]",
      "text/plain": [
       "<Figure size 1200x600 with 2 Axes>"
      ]
     },
     "metadata": {},
     "output_type": "display_data"
    }
   ],
   "source": [
    "plt.figure(figsize=(12,6))\n",
    "plt.pcolormesh(ds.time,ds.depth,ds.u_grid,vmin=-0.25,vmax=0.25,cmap='RdBu')\n",
    "plt.ylim(1000,0)\n",
    "plt.colorbar()"
   ]
  },
  {
   "cell_type": "code",
   "execution_count": 10,
   "id": "2d44e9c7-85a3-4cc7-b5fa-b73297d22e63",
   "metadata": {},
   "outputs": [
    {
     "data": {
      "text/plain": [
       "<matplotlib.colorbar.Colorbar at 0x4108edf90>"
      ]
     },
     "execution_count": 10,
     "metadata": {},
     "output_type": "execute_result"
    },
    {
     "data": {
      "image/png": "[encoded data removed]",
      "text/plain": [
       "<Figure size 1200x600 with 2 Axes>"
      ]
     },
     "metadata": {},
     "output_type": "display_data"
    }
   ],
   "source": [
    "plt.figure(figsize=(12,6))\n",
    "plt.pcolormesh(ds.time,ds.depth,ds.v_grid,vmin=-0.25,vmax=0.25,cmap='RdBu')\n",
    "plt.ylim(1000,0)\n",
    "plt.colorbar()\n"
   ]
  },
  {
   "cell_type": "markdown",
   "id": "6d24aa8f-a6f9-4d0b-a63f-c391b49255e2",
   "metadata": {},
   "source": [
    "## Testing complex velocity variance"
   ]
  },
  {
   "cell_type": "code",
   "execution_count": 15,
   "id": "125500bd-1ac9-4324-8b71-585dd3941899",
   "metadata": {},
   "outputs": [],
   "source": [
    "# Assuming ds has dimensions ('depth', 'time') for u_grid and v_grid\n",
    "complex_vel = ds.u_grid + 1j * ds.v_grid  # Element-wise complex velocity\n",
    "\n",
    "# Compute variance over time for each depth\n",
    "complex_vel_variance = complex_vel.var(dim=\"time\")\n"
   ]
  },
  {
   "cell_type": "code",
   "execution_count": 14,
   "id": "6121ed30-9848-4f40-b49a-81a15340f8d2",
   "metadata": {},
   "outputs": [
    {
     "data": {
      "image/png": "[encoded data removed]",
      "text/plain": [
       "<Figure size 640x480 with 1 Axes>"
      ]
     },
     "metadata": {},
     "output_type": "display_data"
    }
   ],
   "source": [
    "plt.plot(complex_vel_variance,complex_vel_variance.depth)\n",
    "plt.ylim(1000,0)\n",
    "plt.grid()"
   ]
  },
  {
   "cell_type": "code",
   "execution_count": null,
   "id": "539b698d",
   "metadata": {},
   "outputs": [],
   "source": []
  }
 ],
 "metadata": {
  "kernelspec": {
   "display_name": "slocum_ad2cp",
   "language": "python",
   "name": "python3"
  },
  "language_info": {
   "codemirror_mode": {
    "name": "ipython",
    "version": 3
   },
   "file_extension": ".py",
   "mimetype": "text/x-python",
   "name": "python",
   "nbconvert_exporter": "python",
   "pygments_lexer": "ipython3",
   "version": "3.11.13"
  }
 },
 "nbformat": 4,
 "nbformat_minor": 5
}
